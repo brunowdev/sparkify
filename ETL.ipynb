{
 "cells": [
  {
   "cell_type": "code",
   "execution_count": 2,
   "metadata": {},
   "outputs": [],
   "source": [
    "import pandas as pd"
   ]
  },
  {
   "cell_type": "code",
   "execution_count": 4,
   "metadata": {},
   "outputs": [],
   "source": [
    "from pyspark.sql import SparkSession"
   ]
  },
  {
   "cell_type": "code",
   "execution_count": 12,
   "metadata": {},
   "outputs": [
    {
     "name": "stdout",
     "output_type": "stream",
     "text": [
      "--2020-02-17 00:24:47--  https://s3-us-west-2.amazonaws.com/udacity-dsnd/sparkify/sparkify_event_data.json\n",
      "Resolving s3-us-west-2.amazonaws.com (s3-us-west-2.amazonaws.com)... 52.218.192.248\n",
      "Connecting to s3-us-west-2.amazonaws.com (s3-us-west-2.amazonaws.com)|52.218.192.248|:443... connected.\n",
      "HTTP request sent, awaiting response... 200 OK\n",
      "Length: 12756856160 (12G) [application/json]\n",
      "Saving to: ‘sparkify_event_data.json’\n",
      "\n",
      "sparkify_event_data   0%[                    ]  36,99M   169KB/s    eta 17h 46m^C\n"
     ]
    }
   ],
   "source": [
    "!wget -O sparkify_event_data.json https://s3-us-west-2.amazonaws.com/udacity-dsnd/sparkify/sparkify_event_data.json"
   ]
  },
  {
   "cell_type": "code",
   "execution_count": null,
   "metadata": {},
   "outputs": [],
   "source": [
    "!axel -n 10 --output=full_sparkify_event_data.json https://s3-us-west-2.amazonaws.com/udacity-dsnd/sparkify/sparkify_event_data.json"
   ]
  },
  {
   "cell_type": "code",
   "execution_count": 5,
   "metadata": {},
   "outputs": [],
   "source": [
    "# Create spark session\n",
    "spark = SparkSession \\\n",
    "    .builder \\\n",
    "    .appName(\"Sparkify\") \\\n",
    "    .getOrCreate()"
   ]
  },
  {
   "cell_type": "code",
   "execution_count": 7,
   "metadata": {},
   "outputs": [],
   "source": [
    "spark.sparkContext.setLogLevel('DEBUG')"
   ]
  },
  {
   "cell_type": "code",
   "execution_count": null,
   "metadata": {},
   "outputs": [],
   "source": [
    "event_data = \"s3n://udacity-dsnd/sparkify/sparkify_event_data.json\"\n",
    "df = spark.read.json(event_data)"
   ]
  },
  {
   "cell_type": "code",
   "execution_count": null,
   "metadata": {},
   "outputs": [],
   "source": [
    "df.head()"
   ]
  },
  {
   "cell_type": "code",
   "execution_count": 4,
   "metadata": {},
   "outputs": [],
   "source": [
    "df = pd.read_json('full_sparkify_event_data.json', lines=True, chunksize = 1000000 * 2)"
   ]
  },
  {
   "cell_type": "code",
   "execution_count": 5,
   "metadata": {},
   "outputs": [],
   "source": [
    "df_tmp = None\n",
    "for chunk in df:\n",
    "    df_tmp = chunk\n",
    "    break"
   ]
  },
  {
   "cell_type": "code",
   "execution_count": 6,
   "metadata": {},
   "outputs": [
    {
     "data": {
      "text/html": [
       "<div>\n",
       "<style scoped>\n",
       "    .dataframe tbody tr th:only-of-type {\n",
       "        vertical-align: middle;\n",
       "    }\n",
       "\n",
       "    .dataframe tbody tr th {\n",
       "        vertical-align: top;\n",
       "    }\n",
       "\n",
       "    .dataframe thead th {\n",
       "        text-align: right;\n",
       "    }\n",
       "</style>\n",
       "<table border=\"1\" class=\"dataframe\">\n",
       "  <thead>\n",
       "    <tr style=\"text-align: right;\">\n",
       "      <th></th>\n",
       "      <th>status</th>\n",
       "      <th>gender</th>\n",
       "      <th>length</th>\n",
       "      <th>firstName</th>\n",
       "      <th>level</th>\n",
       "      <th>lastName</th>\n",
       "      <th>registration</th>\n",
       "      <th>userId</th>\n",
       "      <th>ts</th>\n",
       "      <th>auth</th>\n",
       "      <th>page</th>\n",
       "      <th>sessionId</th>\n",
       "      <th>location</th>\n",
       "      <th>itemInSession</th>\n",
       "      <th>userAgent</th>\n",
       "      <th>song</th>\n",
       "      <th>artist</th>\n",
       "      <th>method</th>\n",
       "    </tr>\n",
       "  </thead>\n",
       "  <tbody>\n",
       "    <tr>\n",
       "      <th>0</th>\n",
       "      <td>200</td>\n",
       "      <td>M</td>\n",
       "      <td>524.32934</td>\n",
       "      <td>Shlok</td>\n",
       "      <td>paid</td>\n",
       "      <td>Johnson</td>\n",
       "      <td>1.533735e+12</td>\n",
       "      <td>1749042</td>\n",
       "      <td>1538352001000</td>\n",
       "      <td>Logged In</td>\n",
       "      <td>NextSong</td>\n",
       "      <td>22683</td>\n",
       "      <td>Dallas-Fort Worth-Arlington, TX</td>\n",
       "      <td>278</td>\n",
       "      <td>\"Mozilla/5.0 (Windows NT 6.1; WOW64) AppleWebK...</td>\n",
       "      <td>Ich mache einen Spiegel - Dream Part 4</td>\n",
       "      <td>Popol Vuh</td>\n",
       "      <td>PUT</td>\n",
       "    </tr>\n",
       "    <tr>\n",
       "      <th>1</th>\n",
       "      <td>200</td>\n",
       "      <td>F</td>\n",
       "      <td>238.39302</td>\n",
       "      <td>Vianney</td>\n",
       "      <td>paid</td>\n",
       "      <td>Miller</td>\n",
       "      <td>1.537500e+12</td>\n",
       "      <td>1563081</td>\n",
       "      <td>1538352002000</td>\n",
       "      <td>Logged In</td>\n",
       "      <td>NextSong</td>\n",
       "      <td>20836</td>\n",
       "      <td>San Francisco-Oakland-Hayward, CA</td>\n",
       "      <td>9</td>\n",
       "      <td>\"Mozilla/5.0 (Macintosh; Intel Mac OS X 10_9_4...</td>\n",
       "      <td>MiÃÂ©ntele</td>\n",
       "      <td>Los Bunkers</td>\n",
       "      <td>PUT</td>\n",
       "    </tr>\n",
       "    <tr>\n",
       "      <th>2</th>\n",
       "      <td>200</td>\n",
       "      <td>F</td>\n",
       "      <td>140.35546</td>\n",
       "      <td>Vina</td>\n",
       "      <td>paid</td>\n",
       "      <td>Bailey</td>\n",
       "      <td>1.536415e+12</td>\n",
       "      <td>1697168</td>\n",
       "      <td>1538352002000</td>\n",
       "      <td>Logged In</td>\n",
       "      <td>NextSong</td>\n",
       "      <td>4593</td>\n",
       "      <td>Hilo, HI</td>\n",
       "      <td>109</td>\n",
       "      <td>Mozilla/5.0 (Macintosh; Intel Mac OS X 10.9; r...</td>\n",
       "      <td>Baby Talk</td>\n",
       "      <td>Lush</td>\n",
       "      <td>PUT</td>\n",
       "    </tr>\n",
       "    <tr>\n",
       "      <th>3</th>\n",
       "      <td>200</td>\n",
       "      <td>M</td>\n",
       "      <td>277.15873</td>\n",
       "      <td>Andres</td>\n",
       "      <td>paid</td>\n",
       "      <td>Foley</td>\n",
       "      <td>1.534387e+12</td>\n",
       "      <td>1222580</td>\n",
       "      <td>1538352003000</td>\n",
       "      <td>Logged In</td>\n",
       "      <td>NextSong</td>\n",
       "      <td>6370</td>\n",
       "      <td>Watertown, SD</td>\n",
       "      <td>71</td>\n",
       "      <td>\"Mozilla/5.0 (Macintosh; Intel Mac OS X 10_9_4...</td>\n",
       "      <td>Horn Concerto No. 4 in E flat K495: II. Romanc...</td>\n",
       "      <td>Barry Tuckwell/Academy of St Martin-in-the-Fie...</td>\n",
       "      <td>PUT</td>\n",
       "    </tr>\n",
       "    <tr>\n",
       "      <th>4</th>\n",
       "      <td>200</td>\n",
       "      <td>F</td>\n",
       "      <td>1121.25342</td>\n",
       "      <td>Aaliyah</td>\n",
       "      <td>paid</td>\n",
       "      <td>Ramirez</td>\n",
       "      <td>1.537381e+12</td>\n",
       "      <td>1714398</td>\n",
       "      <td>1538352003000</td>\n",
       "      <td>Logged In</td>\n",
       "      <td>NextSong</td>\n",
       "      <td>22316</td>\n",
       "      <td>Baltimore-Columbia-Towson, MD</td>\n",
       "      <td>21</td>\n",
       "      <td>\"Mozilla/5.0 (Windows NT 6.1; WOW64) AppleWebK...</td>\n",
       "      <td>Close To The Edge (I. The Solid Time Of Change...</td>\n",
       "      <td>Yes</td>\n",
       "      <td>PUT</td>\n",
       "    </tr>\n",
       "  </tbody>\n",
       "</table>\n",
       "</div>"
      ],
      "text/plain": [
       "   status gender      length firstName level lastName  registration   userId  \\\n",
       "0     200      M   524.32934     Shlok  paid  Johnson  1.533735e+12  1749042   \n",
       "1     200      F   238.39302   Vianney  paid   Miller  1.537500e+12  1563081   \n",
       "2     200      F   140.35546      Vina  paid   Bailey  1.536415e+12  1697168   \n",
       "3     200      M   277.15873    Andres  paid    Foley  1.534387e+12  1222580   \n",
       "4     200      F  1121.25342   Aaliyah  paid  Ramirez  1.537381e+12  1714398   \n",
       "\n",
       "              ts       auth      page  sessionId  \\\n",
       "0  1538352001000  Logged In  NextSong      22683   \n",
       "1  1538352002000  Logged In  NextSong      20836   \n",
       "2  1538352002000  Logged In  NextSong       4593   \n",
       "3  1538352003000  Logged In  NextSong       6370   \n",
       "4  1538352003000  Logged In  NextSong      22316   \n",
       "\n",
       "                            location  itemInSession  \\\n",
       "0    Dallas-Fort Worth-Arlington, TX            278   \n",
       "1  San Francisco-Oakland-Hayward, CA              9   \n",
       "2                           Hilo, HI            109   \n",
       "3                      Watertown, SD             71   \n",
       "4      Baltimore-Columbia-Towson, MD             21   \n",
       "\n",
       "                                           userAgent  \\\n",
       "0  \"Mozilla/5.0 (Windows NT 6.1; WOW64) AppleWebK...   \n",
       "1  \"Mozilla/5.0 (Macintosh; Intel Mac OS X 10_9_4...   \n",
       "2  Mozilla/5.0 (Macintosh; Intel Mac OS X 10.9; r...   \n",
       "3  \"Mozilla/5.0 (Macintosh; Intel Mac OS X 10_9_4...   \n",
       "4  \"Mozilla/5.0 (Windows NT 6.1; WOW64) AppleWebK...   \n",
       "\n",
       "                                                song  \\\n",
       "0             Ich mache einen Spiegel - Dream Part 4   \n",
       "1                                        MiÃÂ©ntele   \n",
       "2                                          Baby Talk   \n",
       "3  Horn Concerto No. 4 in E flat K495: II. Romanc...   \n",
       "4  Close To The Edge (I. The Solid Time Of Change...   \n",
       "\n",
       "                                              artist method  \n",
       "0                                          Popol Vuh    PUT  \n",
       "1                                        Los Bunkers    PUT  \n",
       "2                                               Lush    PUT  \n",
       "3  Barry Tuckwell/Academy of St Martin-in-the-Fie...    PUT  \n",
       "4                                                Yes    PUT  "
      ]
     },
     "execution_count": 6,
     "metadata": {},
     "output_type": "execute_result"
    }
   ],
   "source": [
    "df_tmp.head(5)"
   ]
  },
  {
   "cell_type": "code",
   "execution_count": 8,
   "metadata": {},
   "outputs": [],
   "source": [
    "from csv import QUOTE_NONNUMERIC\n",
    "\n",
    "df_tmp.to_csv('2m_rows_sparkify_event_data.csv', index = False)"
   ]
  },
  {
   "cell_type": "code",
   "execution_count": 7,
   "metadata": {},
   "outputs": [
    {
     "data": {
      "text/plain": [
       "2000000"
      ]
     },
     "execution_count": 7,
     "metadata": {},
     "output_type": "execute_result"
    }
   ],
   "source": [
    "len(df_tmp)"
   ]
  },
  {
   "cell_type": "code",
   "execution_count": 7,
   "metadata": {},
   "outputs": [],
   "source": [
    "from csv import QUOTE_NONNUMERIC\n",
    "\n",
    "df.to_csv('medium_sparkify_event_data.csv', index = False, quoting = QUOTE_NONNUMERIC)"
   ]
  }
 ],
 "metadata": {
  "kernelspec": {
   "display_name": "Python 3",
   "language": "python",
   "name": "python3"
  },
  "language_info": {
   "codemirror_mode": {
    "name": "ipython",
    "version": 3
   },
   "file_extension": ".py",
   "mimetype": "text/x-python",
   "name": "python",
   "nbconvert_exporter": "python",
   "pygments_lexer": "ipython3",
   "version": "3.7.3"
  }
 },
 "nbformat": 4,
 "nbformat_minor": 4
}
