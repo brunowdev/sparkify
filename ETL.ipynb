{
 "cells": [
  {
   "cell_type": "code",
   "execution_count": 2,
   "metadata": {},
   "outputs": [],
   "source": [
    "import pandas as pd"
   ]
  },
  {
   "cell_type": "code",
   "execution_count": 5,
   "metadata": {},
   "outputs": [],
   "source": [
    "df = pd.read_json('medium_sparkify_event_data.json', lines=True)"
   ]
  },
  {
   "cell_type": "code",
   "execution_count": 6,
   "metadata": {},
   "outputs": [
    {
     "data": {
      "text/html": [
       "<div>\n",
       "<style scoped>\n",
       "    .dataframe tbody tr th:only-of-type {\n",
       "        vertical-align: middle;\n",
       "    }\n",
       "\n",
       "    .dataframe tbody tr th {\n",
       "        vertical-align: top;\n",
       "    }\n",
       "\n",
       "    .dataframe thead th {\n",
       "        text-align: right;\n",
       "    }\n",
       "</style>\n",
       "<table border=\"1\" class=\"dataframe\">\n",
       "  <thead>\n",
       "    <tr style=\"text-align: right;\">\n",
       "      <th></th>\n",
       "      <th>ts</th>\n",
       "      <th>userId</th>\n",
       "      <th>sessionId</th>\n",
       "      <th>page</th>\n",
       "      <th>auth</th>\n",
       "      <th>method</th>\n",
       "      <th>status</th>\n",
       "      <th>level</th>\n",
       "      <th>itemInSession</th>\n",
       "      <th>location</th>\n",
       "      <th>userAgent</th>\n",
       "      <th>lastName</th>\n",
       "      <th>firstName</th>\n",
       "      <th>registration</th>\n",
       "      <th>gender</th>\n",
       "      <th>artist</th>\n",
       "      <th>song</th>\n",
       "      <th>length</th>\n",
       "    </tr>\n",
       "  </thead>\n",
       "  <tbody>\n",
       "    <tr>\n",
       "      <td>0</td>\n",
       "      <td>1538352011000</td>\n",
       "      <td>293</td>\n",
       "      <td>292</td>\n",
       "      <td>NextSong</td>\n",
       "      <td>Logged In</td>\n",
       "      <td>PUT</td>\n",
       "      <td>200</td>\n",
       "      <td>free</td>\n",
       "      <td>20</td>\n",
       "      <td>Corpus Christi, TX</td>\n",
       "      <td>\"Mozilla/5.0 (Macintosh; Intel Mac OS X 10_9_4...</td>\n",
       "      <td>Morales</td>\n",
       "      <td>Joseph</td>\n",
       "      <td>1.532064e+12</td>\n",
       "      <td>M</td>\n",
       "      <td>Martin Orford</td>\n",
       "      <td>Grand Designs</td>\n",
       "      <td>597.55057</td>\n",
       "    </tr>\n",
       "    <tr>\n",
       "      <td>1</td>\n",
       "      <td>1538352025000</td>\n",
       "      <td>98</td>\n",
       "      <td>97</td>\n",
       "      <td>NextSong</td>\n",
       "      <td>Logged In</td>\n",
       "      <td>PUT</td>\n",
       "      <td>200</td>\n",
       "      <td>free</td>\n",
       "      <td>74</td>\n",
       "      <td>Houston-The Woodlands-Sugar Land, TX</td>\n",
       "      <td>\"Mozilla/5.0 (Macintosh; Intel Mac OS X 10_9_4...</td>\n",
       "      <td>Larson</td>\n",
       "      <td>Sawyer</td>\n",
       "      <td>1.538070e+12</td>\n",
       "      <td>M</td>\n",
       "      <td>John Brown's Body</td>\n",
       "      <td>Bulls</td>\n",
       "      <td>380.21179</td>\n",
       "    </tr>\n",
       "    <tr>\n",
       "      <td>2</td>\n",
       "      <td>1538352118000</td>\n",
       "      <td>179</td>\n",
       "      <td>178</td>\n",
       "      <td>NextSong</td>\n",
       "      <td>Logged In</td>\n",
       "      <td>PUT</td>\n",
       "      <td>200</td>\n",
       "      <td>paid</td>\n",
       "      <td>184</td>\n",
       "      <td>Orlando-Kissimmee-Sanford, FL</td>\n",
       "      <td>\"Mozilla/5.0 (Macintosh; Intel Mac OS X 10_9_4...</td>\n",
       "      <td>Santiago</td>\n",
       "      <td>Maverick</td>\n",
       "      <td>1.535953e+12</td>\n",
       "      <td>M</td>\n",
       "      <td>Afroman</td>\n",
       "      <td>Because I Got High</td>\n",
       "      <td>202.37016</td>\n",
       "    </tr>\n",
       "    <tr>\n",
       "      <td>3</td>\n",
       "      <td>1538352119000</td>\n",
       "      <td>179</td>\n",
       "      <td>178</td>\n",
       "      <td>Logout</td>\n",
       "      <td>Logged In</td>\n",
       "      <td>PUT</td>\n",
       "      <td>307</td>\n",
       "      <td>paid</td>\n",
       "      <td>185</td>\n",
       "      <td>Orlando-Kissimmee-Sanford, FL</td>\n",
       "      <td>\"Mozilla/5.0 (Macintosh; Intel Mac OS X 10_9_4...</td>\n",
       "      <td>Santiago</td>\n",
       "      <td>Maverick</td>\n",
       "      <td>1.535953e+12</td>\n",
       "      <td>M</td>\n",
       "      <td>NaN</td>\n",
       "      <td>NaN</td>\n",
       "      <td>NaN</td>\n",
       "    </tr>\n",
       "    <tr>\n",
       "      <td>4</td>\n",
       "      <td>1538352124000</td>\n",
       "      <td>246</td>\n",
       "      <td>245</td>\n",
       "      <td>NextSong</td>\n",
       "      <td>Logged In</td>\n",
       "      <td>PUT</td>\n",
       "      <td>200</td>\n",
       "      <td>paid</td>\n",
       "      <td>22</td>\n",
       "      <td>Mobile, AL</td>\n",
       "      <td>Mozilla/5.0 (Windows NT 6.1; WOW64; rv:31.0) G...</td>\n",
       "      <td>Campos</td>\n",
       "      <td>Gianna</td>\n",
       "      <td>1.535931e+12</td>\n",
       "      <td>F</td>\n",
       "      <td>Lily Allen</td>\n",
       "      <td>Smile (Radio Edit)</td>\n",
       "      <td>194.53342</td>\n",
       "    </tr>\n",
       "  </tbody>\n",
       "</table>\n",
       "</div>"
      ],
      "text/plain": [
       "              ts userId  sessionId      page       auth method  status level  \\\n",
       "0  1538352011000    293        292  NextSong  Logged In    PUT     200  free   \n",
       "1  1538352025000     98         97  NextSong  Logged In    PUT     200  free   \n",
       "2  1538352118000    179        178  NextSong  Logged In    PUT     200  paid   \n",
       "3  1538352119000    179        178    Logout  Logged In    PUT     307  paid   \n",
       "4  1538352124000    246        245  NextSong  Logged In    PUT     200  paid   \n",
       "\n",
       "   itemInSession                              location  \\\n",
       "0             20                    Corpus Christi, TX   \n",
       "1             74  Houston-The Woodlands-Sugar Land, TX   \n",
       "2            184         Orlando-Kissimmee-Sanford, FL   \n",
       "3            185         Orlando-Kissimmee-Sanford, FL   \n",
       "4             22                            Mobile, AL   \n",
       "\n",
       "                                           userAgent  lastName firstName  \\\n",
       "0  \"Mozilla/5.0 (Macintosh; Intel Mac OS X 10_9_4...   Morales    Joseph   \n",
       "1  \"Mozilla/5.0 (Macintosh; Intel Mac OS X 10_9_4...    Larson    Sawyer   \n",
       "2  \"Mozilla/5.0 (Macintosh; Intel Mac OS X 10_9_4...  Santiago  Maverick   \n",
       "3  \"Mozilla/5.0 (Macintosh; Intel Mac OS X 10_9_4...  Santiago  Maverick   \n",
       "4  Mozilla/5.0 (Windows NT 6.1; WOW64; rv:31.0) G...    Campos    Gianna   \n",
       "\n",
       "   registration gender             artist                song     length  \n",
       "0  1.532064e+12      M      Martin Orford       Grand Designs  597.55057  \n",
       "1  1.538070e+12      M  John Brown's Body               Bulls  380.21179  \n",
       "2  1.535953e+12      M            Afroman  Because I Got High  202.37016  \n",
       "3  1.535953e+12      M                NaN                 NaN        NaN  \n",
       "4  1.535931e+12      F         Lily Allen  Smile (Radio Edit)  194.53342  "
      ]
     },
     "execution_count": 6,
     "metadata": {},
     "output_type": "execute_result"
    }
   ],
   "source": [
    "df.head(5)"
   ]
  },
  {
   "cell_type": "code",
   "execution_count": 6,
   "metadata": {},
   "outputs": [
    {
     "data": {
      "text/plain": [
       "ts                 int64\n",
       "userId            object\n",
       "sessionId          int64\n",
       "page              object\n",
       "auth              object\n",
       "method            object\n",
       "status             int64\n",
       "level             object\n",
       "itemInSession      int64\n",
       "location          object\n",
       "userAgent         object\n",
       "lastName          object\n",
       "firstName         object\n",
       "registration     float64\n",
       "gender            object\n",
       "artist            object\n",
       "song              object\n",
       "length           float64\n",
       "dtype: object"
      ]
     },
     "execution_count": 6,
     "metadata": {},
     "output_type": "execute_result"
    }
   ],
   "source": [
    "df.dtypes"
   ]
  },
  {
   "cell_type": "code",
   "execution_count": 7,
   "metadata": {},
   "outputs": [
    {
     "data": {
      "text/plain": [
       "Index(['ts', 'userId', 'sessionId', 'page', 'auth', 'method', 'status',\n",
       "       'level', 'itemInSession', 'location', 'userAgent', 'lastName',\n",
       "       'firstName', 'registration', 'gender', 'artist', 'song', 'length'],\n",
       "      dtype='object')"
      ]
     },
     "execution_count": 7,
     "metadata": {},
     "output_type": "execute_result"
    }
   ],
   "source": [
    "df.columns"
   ]
  },
  {
   "cell_type": "code",
   "execution_count": 7,
   "metadata": {},
   "outputs": [],
   "source": [
    "from csv import QUOTE_NONNUMERIC\n",
    "\n",
    "df.to_csv('medium_sparkify_event_data.csv', index = False, quoting = QUOTE_NONNUMERIC)"
   ]
  }
 ],
 "metadata": {
  "kernelspec": {
   "display_name": "Python 3",
   "language": "python",
   "name": "python3"
  },
  "language_info": {
   "codemirror_mode": {
    "name": "ipython",
    "version": 3
   },
   "file_extension": ".py",
   "mimetype": "text/x-python",
   "name": "python",
   "nbconvert_exporter": "python",
   "pygments_lexer": "ipython3",
   "version": "3.7.4"
  }
 },
 "nbformat": 4,
 "nbformat_minor": 4
}
