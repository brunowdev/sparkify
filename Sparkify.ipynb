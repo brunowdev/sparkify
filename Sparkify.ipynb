{
 "cells": [
  {
   "cell_type": "markdown",
   "metadata": {},
   "source": [
    "# Sparkify Project Workspace\n",
    "This workspace contains a tiny subset (128MB) of the full dataset available (12GB). Feel free to use this workspace to build your project, or to explore a smaller subset with Spark before deploying your cluster on the cloud. Instructions for setting up your Spark cluster is included in the last lesson of the Extracurricular Spark Course content.\n",
    "\n",
    "You can follow the steps below to guide your data analysis and model building portion of this project."
   ]
  },
  {
   "cell_type": "code",
   "execution_count": 625,
   "metadata": {},
   "outputs": [],
   "source": [
    "from datetime import datetime\n",
    "\n",
    "from pyspark.sql import SparkSession\n",
    "\n",
    "from pyspark.sql.functions import isnan, when, first, avg, last, count, countDistinct, col, min as smin, max as smax, sum as ssum, lag, lead, coalesce, lit, round as sround\n",
    "\n",
    "from pyspark.sql.window import Window"
   ]
  },
  {
   "cell_type": "code",
   "execution_count": 2,
   "metadata": {},
   "outputs": [
    {
     "name": "stdout",
     "output_type": "stream",
     "text": [
      "2m_rows_sparkify_event_data.csv  README.MD\n",
      "b_1_sparkify_event_data.csv\t requirements.txt\n",
      "ETL.ipynb\t\t\t sparkify_event_data.json\n",
      "full_sparkify_event_data.json\t Sparkify.ipynb\n",
      "medium_sparkify_event_data.csv\n"
     ]
    }
   ],
   "source": [
    "!ls"
   ]
  },
  {
   "cell_type": "code",
   "execution_count": 140,
   "metadata": {},
   "outputs": [],
   "source": [
    "filepath = 'medium_sparkify_event_data.json'"
   ]
  },
  {
   "cell_type": "code",
   "execution_count": 3,
   "metadata": {},
   "outputs": [],
   "source": [
    "spark = SparkSession \\\n",
    "    .builder \\\n",
    "    .appName(\"Sparkify\") \\\n",
    "    .getOrCreate()\n",
    "\n",
    "spark.sparkContext.setLogLevel('DEBUG')"
   ]
  },
  {
   "cell_type": "markdown",
   "metadata": {},
   "source": [
    "# Load and Clean Dataset\n",
    "In this workspace, the mini-dataset file is `mini_sparkify_event_data.json`. Load and clean the dataset, checking for invalid or missing data - for example, records without userids or sessionids. "
   ]
  },
  {
   "cell_type": "code",
   "execution_count": 551,
   "metadata": {},
   "outputs": [],
   "source": [
    "# df = spark.read.option(\"inferSchema\", \"true\").option(\"header\", \"true\").option(\"encoding\", \"utf-8\").csv(filepath)\n",
    "df = spark.read.option(\"inferSchema\", \"true\").option(\"header\", \"true\").option(\"encoding\", \"utf-8\").json(filepath)"
   ]
  },
  {
   "cell_type": "code",
   "execution_count": 142,
   "metadata": {},
   "outputs": [
    {
     "data": {
      "text/plain": [
       "[('artist', 'string'),\n",
       " ('auth', 'string'),\n",
       " ('firstName', 'string'),\n",
       " ('gender', 'string'),\n",
       " ('itemInSession', 'bigint'),\n",
       " ('lastName', 'string'),\n",
       " ('length', 'double'),\n",
       " ('level', 'string'),\n",
       " ('location', 'string'),\n",
       " ('method', 'string'),\n",
       " ('page', 'string'),\n",
       " ('registration', 'bigint'),\n",
       " ('sessionId', 'bigint'),\n",
       " ('song', 'string'),\n",
       " ('status', 'bigint'),\n",
       " ('ts', 'bigint'),\n",
       " ('userAgent', 'string'),\n",
       " ('userId', 'string')]"
      ]
     },
     "execution_count": 142,
     "metadata": {},
     "output_type": "execute_result"
    }
   ],
   "source": [
    "df.dtypes"
   ]
  },
  {
   "cell_type": "code",
   "execution_count": 143,
   "metadata": {},
   "outputs": [
    {
     "name": "stdout",
     "output_type": "stream",
     "text": [
      "-RECORD 0-----------------------------------------------------------------------------------------------------------------------------------\n",
      " artist        | Martin Orford                                                                                                              \n",
      " auth          | Logged In                                                                                                                  \n",
      " firstName     | Joseph                                                                                                                     \n",
      " gender        | M                                                                                                                          \n",
      " itemInSession | 20                                                                                                                         \n",
      " lastName      | Morales                                                                                                                    \n",
      " length        | 597.55057                                                                                                                  \n",
      " level         | free                                                                                                                       \n",
      " location      | Corpus Christi, TX                                                                                                         \n",
      " method        | PUT                                                                                                                        \n",
      " page          | NextSong                                                                                                                   \n",
      " registration  | 1532063507000                                                                                                              \n",
      " sessionId     | 292                                                                                                                        \n",
      " song          | Grand Designs                                                                                                              \n",
      " status        | 200                                                                                                                        \n",
      " ts            | 1538352011000                                                                                                              \n",
      " userAgent     | \"Mozilla/5.0 (Macintosh; Intel Mac OS X 10_9_4) AppleWebKit/537.36 (KHTML, like Gecko) Chrome/36.0.1985.125 Safari/537.36\" \n",
      " userId        | 293                                                                                                                        \n",
      "-RECORD 1-----------------------------------------------------------------------------------------------------------------------------------\n",
      " artist        | John Brown's Body                                                                                                          \n",
      " auth          | Logged In                                                                                                                  \n",
      " firstName     | Sawyer                                                                                                                     \n",
      " gender        | M                                                                                                                          \n",
      " itemInSession | 74                                                                                                                         \n",
      " lastName      | Larson                                                                                                                     \n",
      " length        | 380.21179                                                                                                                  \n",
      " level         | free                                                                                                                       \n",
      " location      | Houston-The Woodlands-Sugar Land, TX                                                                                       \n",
      " method        | PUT                                                                                                                        \n",
      " page          | NextSong                                                                                                                   \n",
      " registration  | 1538069638000                                                                                                              \n",
      " sessionId     | 97                                                                                                                         \n",
      " song          | Bulls                                                                                                                      \n",
      " status        | 200                                                                                                                        \n",
      " ts            | 1538352025000                                                                                                              \n",
      " userAgent     | \"Mozilla/5.0 (Macintosh; Intel Mac OS X 10_9_4) AppleWebKit/537.36 (KHTML, like Gecko) Chrome/36.0.1985.143 Safari/537.36\" \n",
      " userId        | 98                                                                                                                         \n",
      "only showing top 2 rows\n",
      "\n"
     ]
    }
   ],
   "source": [
    "df.show(n=2, truncate=False, vertical=True)"
   ]
  },
  {
   "cell_type": "code",
   "execution_count": 144,
   "metadata": {},
   "outputs": [
    {
     "data": {
      "text/plain": [
       "['artist',\n",
       " 'auth',\n",
       " 'firstName',\n",
       " 'gender',\n",
       " 'itemInSession',\n",
       " 'lastName',\n",
       " 'length',\n",
       " 'level',\n",
       " 'location',\n",
       " 'method',\n",
       " 'page',\n",
       " 'registration',\n",
       " 'sessionId',\n",
       " 'song',\n",
       " 'status',\n",
       " 'ts',\n",
       " 'userAgent',\n",
       " 'userId']"
      ]
     },
     "execution_count": 144,
     "metadata": {},
     "output_type": "execute_result"
    }
   ],
   "source": [
    "df.columns"
   ]
  },
  {
   "cell_type": "code",
   "execution_count": 19,
   "metadata": {},
   "outputs": [],
   "source": [
    "not_na_columns = [ 'userId', 'sessionId' ]"
   ]
  },
  {
   "cell_type": "code",
   "execution_count": 145,
   "metadata": {},
   "outputs": [
    {
     "name": "stdout",
     "output_type": "stream",
     "text": [
      "+------+----+---------+------+-------------+--------+------+-----+--------+------+----+------------+---------+----+------+---+---------+------+\n",
      "|artist|auth|firstName|gender|itemInSession|lastName|length|level|location|method|page|registration|sessionId|song|status| ts|userAgent|userId|\n",
      "+------+----+---------+------+-------------+--------+------+-----+--------+------+----+------------+---------+----+------+---+---------+------+\n",
      "|     0|   0|        0|     0|            0|       0|     0|    0|       0|     0|   0|           0|        0|   0|     0|  0|        0|     0|\n",
      "+------+----+---------+------+-------------+--------+------+-----+--------+------+----+------------+---------+----+------+---+---------+------+\n",
      "\n"
     ]
    }
   ],
   "source": [
    "df.select([count(when(isnan(c), c)).alias(c) for c in df.columns]).show()"
   ]
  },
  {
   "cell_type": "code",
   "execution_count": 146,
   "metadata": {},
   "outputs": [
    {
     "name": "stdout",
     "output_type": "stream",
     "text": [
      "+------+-----+\n",
      "|userId|count|\n",
      "+------+-----+\n",
      "|      |15700|\n",
      "|    92| 9767|\n",
      "|   140| 7448|\n",
      "|300049| 7309|\n",
      "|   101| 6842|\n",
      "|300035| 6810|\n",
      "|   195| 6184|\n",
      "|   230| 6019|\n",
      "|   163| 5965|\n",
      "|   250| 5678|\n",
      "|    18| 5511|\n",
      "|   276| 5346|\n",
      "|300017| 5266|\n",
      "|    87| 5243|\n",
      "|   293| 5125|\n",
      "|300021| 5076|\n",
      "|    42| 4952|\n",
      "|300011| 4816|\n",
      "|    30| 4737|\n",
      "|    12| 4232|\n",
      "|300031| 4194|\n",
      "|   126| 4190|\n",
      "|   283| 4181|\n",
      "|   228| 4092|\n",
      "|   100| 3999|\n",
      "|   259| 3633|\n",
      "|   105| 3597|\n",
      "|   246| 3566|\n",
      "|   121| 3541|\n",
      "|   269| 3511|\n",
      "|   292| 3504|\n",
      "|    70| 3465|\n",
      "|    35| 3456|\n",
      "|    38| 3211|\n",
      "|    98| 3206|\n",
      "|   282| 3191|\n",
      "|   185| 3088|\n",
      "|300023| 3018|\n",
      "|100009| 2987|\n",
      "|   157| 2966|\n",
      "|200023| 2955|\n",
      "|   104| 2950|\n",
      "|   174| 2917|\n",
      "|   225| 2849|\n",
      "|300038| 2829|\n",
      "|   172| 2728|\n",
      "|    85| 2696|\n",
      "|   258| 2684|\n",
      "|200020| 2654|\n",
      "|   179| 2639|\n",
      "+------+-----+\n",
      "only showing top 50 rows\n",
      "\n"
     ]
    }
   ],
   "source": [
    "df.groupBy('userId').count().orderBy('count', ascending = False).show(50)"
   ]
  },
  {
   "cell_type": "code",
   "execution_count": 147,
   "metadata": {},
   "outputs": [
    {
     "data": {
      "text/plain": [
       "21248"
      ]
     },
     "execution_count": 147,
     "metadata": {},
     "output_type": "execute_result"
    }
   ],
   "source": [
    "df.select(\"artist\").distinct().count()"
   ]
  },
  {
   "cell_type": "code",
   "execution_count": 148,
   "metadata": {},
   "outputs": [
    {
     "name": "stdout",
     "output_type": "stream",
     "text": [
      "+-------+------------------+\n",
      "|summary|            length|\n",
      "+-------+------------------+\n",
      "|  count|            432877|\n",
      "|   mean|248.66459278007508|\n",
      "| stddev| 98.41266955052019|\n",
      "|    min|           0.78322|\n",
      "|    max|        3024.66567|\n",
      "+-------+------------------+\n",
      "\n"
     ]
    }
   ],
   "source": [
    "df.select('length').describe().show()"
   ]
  },
  {
   "cell_type": "code",
   "execution_count": 149,
   "metadata": {},
   "outputs": [
    {
     "name": "stdout",
     "output_type": "stream",
     "text": [
      "Rows before: 543705\n",
      "Rows after: 528005\n"
     ]
    }
   ],
   "source": [
    "print(f'Rows before: {df.count()}')\n",
    "\n",
    "df = df.where(df.userId != '')\n",
    "\n",
    "print(f'Rows after: {df.count()}')"
   ]
  },
  {
   "cell_type": "markdown",
   "metadata": {},
   "source": [
    "# Exploratory Data Analysis\n",
    "When you're working with the full dataset, perform EDA by loading a small subset of the data and doing basic manipulations within Spark. In this workspace, you are already provided a small subset of data you can explore.\n",
    "\n",
    "### Define Churn\n",
    "\n",
    "Once you've done some preliminary analysis, create a column `Churn` to use as the label for your model. I suggest using the `Cancellation Confirmation` events to define your churn, which happen for both paid and free users. As a bonus task, you can also look into the `Downgrade` events.\n",
    "\n",
    "### Explore Data\n",
    "Once you've defined churn, perform some exploratory data analysis to observe the behavior for users who stayed vs users who churned. You can start by exploring aggregates on these two groups of users, observing how much of a specific action they experienced per a certain time unit or number of songs played."
   ]
  },
  {
   "cell_type": "code",
   "execution_count": 150,
   "metadata": {},
   "outputs": [
    {
     "name": "stdout",
     "output_type": "stream",
     "text": [
      "+--------------------+------+\n",
      "|                page| count|\n",
      "+--------------------+------+\n",
      "|            NextSong|432877|\n",
      "|           Thumbs Up| 23826|\n",
      "|                Home| 19089|\n",
      "|     Add to Playlist| 12349|\n",
      "|          Add Friend|  8087|\n",
      "|         Roll Advert|  7773|\n",
      "|              Logout|  5990|\n",
      "|         Thumbs Down|  4911|\n",
      "|           Downgrade|  3811|\n",
      "|            Settings|  2964|\n",
      "|                Help|  2644|\n",
      "|               About|  1026|\n",
      "|             Upgrade|   968|\n",
      "|       Save Settings|   585|\n",
      "|               Error|   503|\n",
      "|      Submit Upgrade|   287|\n",
      "|    Submit Downgrade|   117|\n",
      "|              Cancel|    99|\n",
      "|Cancellation Conf...|    99|\n",
      "+--------------------+------+\n",
      "\n"
     ]
    }
   ],
   "source": [
    "df.groupBy('page').count().orderBy('count', ascending = False).show(50)"
   ]
  },
  {
   "cell_type": "markdown",
   "metadata": {},
   "source": [
    "Some questions about the data:\n",
    "\n",
    "- Are errors related to downgrading canceling the service?\n",
    "- Having a certain number of friends or a sense of community can decrease the churn?\n",
    "- Thumbs down are related to churn? (could the quality of the songs catalog affect the churn)\n",
    "- The advertising is not annoying the users?\n",
    "- Users with stay connected for more time have less change to churn?\n",
    "- Is the home page relevant?\n",
    "- Users, who access the downgrade page are how much more willing to churn?"
   ]
  },
  {
   "cell_type": "code",
   "execution_count": 151,
   "metadata": {},
   "outputs": [
    {
     "name": "stdout",
     "output_type": "stream",
     "text": [
      "+------+------+\n",
      "|status| count|\n",
      "+------+------+\n",
      "|   200|483600|\n",
      "|   307| 43902|\n",
      "|   404|   503|\n",
      "+------+------+\n",
      "\n"
     ]
    }
   ],
   "source": [
    "df.groupBy('status').count().orderBy('count', ascending = False).show(20)"
   ]
  },
  {
   "cell_type": "code",
   "execution_count": 152,
   "metadata": {},
   "outputs": [
    {
     "name": "stdout",
     "output_type": "stream",
     "text": [
      "+----------------+-----+\n",
      "|            page|count|\n",
      "+----------------+-----+\n",
      "|        NextSong| 8177|\n",
      "|       Thumbs Up|  400|\n",
      "|            Home|  308|\n",
      "| Add to Playlist|  248|\n",
      "|      Add Friend|  158|\n",
      "|          Logout|   96|\n",
      "|       Downgrade|   85|\n",
      "|     Thumbs Down|   80|\n",
      "|            Help|   62|\n",
      "|     Roll Advert|   60|\n",
      "|        Settings|   48|\n",
      "|           About|   17|\n",
      "|           Error|   13|\n",
      "|         Upgrade|    7|\n",
      "|   Save Settings|    5|\n",
      "|  Submit Upgrade|    2|\n",
      "|Submit Downgrade|    1|\n",
      "+----------------+-----+\n",
      "\n"
     ]
    }
   ],
   "source": [
    "df.filter('userId = 92').groupBy('page').count().orderBy('count', ascending = False).show(50)"
   ]
  },
  {
   "cell_type": "code",
   "execution_count": 154,
   "metadata": {},
   "outputs": [
    {
     "name": "stdout",
     "output_type": "stream",
     "text": [
      "+----------------+-----+\n",
      "|            page|count|\n",
      "+----------------+-----+\n",
      "|        NextSong| 8177|\n",
      "|       Thumbs Up|  400|\n",
      "|            Home|  308|\n",
      "| Add to Playlist|  248|\n",
      "|      Add Friend|  158|\n",
      "|          Logout|   96|\n",
      "|       Downgrade|   85|\n",
      "|     Thumbs Down|   80|\n",
      "|            Help|   62|\n",
      "|     Roll Advert|   60|\n",
      "|        Settings|   48|\n",
      "|           About|   17|\n",
      "|           Error|   13|\n",
      "|         Upgrade|    7|\n",
      "|   Save Settings|    5|\n",
      "|  Submit Upgrade|    2|\n",
      "|Submit Downgrade|    1|\n",
      "+----------------+-----+\n",
      "\n"
     ]
    }
   ],
   "source": [
    "df.filter('userId = 92').groupBy('page').count().orderBy('count', ascending = False).show(50)"
   ]
  },
  {
   "cell_type": "code",
   "execution_count": 155,
   "metadata": {},
   "outputs": [
    {
     "name": "stdout",
     "output_type": "stream",
     "text": [
      "+--------------------+-----+\n",
      "|           userAgent|count|\n",
      "+--------------------+-----+\n",
      "|\"Mozilla/5.0 (iPa...| 9767|\n",
      "+--------------------+-----+\n",
      "\n"
     ]
    }
   ],
   "source": [
    "df.filter('userId = 92').groupBy('userAgent').count().orderBy('count', ascending = False).show(50)"
   ]
  },
  {
   "cell_type": "code",
   "execution_count": 156,
   "metadata": {},
   "outputs": [
    {
     "name": "stdout",
     "output_type": "stream",
     "text": [
      "+--------------------+-----+\n",
      "|                song|count|\n",
      "+--------------------+-----+\n",
      "|      You're The One|   49|\n",
      "|                Undo|   34|\n",
      "|             Revelry|   28|\n",
      "|Horn Concerto No....|   27|\n",
      "|    Ain't Misbehavin|   23|\n",
      "|             Secrets|   20|\n",
      "|             Invalid|   20|\n",
      "|Dog Days Are Over...|   19|\n",
      "|            Tive Sim|   18|\n",
      "|            Marry Me|   16|\n",
      "|              Canada|   16|\n",
      "|        Use Somebody|   16|\n",
      "|       ReprÃÂ©sente|   15|\n",
      "|    Bring Me To Life|   14|\n",
      "|  Sayonara-Nostalgia|   14|\n",
      "|       Sehr kosmisch|   14|\n",
      "|         Bulletproof|   13|\n",
      "|Catch You Baby (S...|   13|\n",
      "| I CAN'T GET STARTED|   12|\n",
      "|                Home|   11|\n",
      "|              Yellow|   10|\n",
      "|Don't Stop The Music|   10|\n",
      "|    Hey_ Soul Sister|   10|\n",
      "|         The Maestro|   10|\n",
      "|          Kryptonite|   10|\n",
      "|Make Love To Your...|   10|\n",
      "|           Fireflies|   10|\n",
      "|SinceritÃÂ© Et J...|    9|\n",
      "|    Times Like These|    9|\n",
      "|      Drop The World|    9|\n",
      "|        Day 'N' Nite|    9|\n",
      "|         Bubble Toes|    9|\n",
      "|         Greece 2000|    8|\n",
      "| Party In The U.S.A.|    8|\n",
      "|    Hotel California|    8|\n",
      "|Bleed It Out [Liv...|    8|\n",
      "|            The Gift|    8|\n",
      "|          Fuck Kitty|    8|\n",
      "|Nothin' On You [f...|    8|\n",
      "|     Who Can Compare|    8|\n",
      "| The Real Slim Shady|    8|\n",
      "|Sugar Ray (LP Ver...|    8|\n",
      "|Mercy:The Laundromat|    8|\n",
      "|          Tighten Up|    8|\n",
      "| Hochmah (Interlude)|    8|\n",
      "|            Everlong|    7|\n",
      "|                 OMG|    7|\n",
      "|          16 Candles|    7|\n",
      "|        Karma Police|    7|\n",
      "|Sinisten tÃÂ¤hti...|    7|\n",
      "+--------------------+-----+\n",
      "only showing top 50 rows\n",
      "\n"
     ]
    }
   ],
   "source": [
    "df.filter('userId = 92 and song != \\'null\\' ').groupBy('song').count().orderBy('count', ascending = False).show(50)"
   ]
  },
  {
   "cell_type": "code",
   "execution_count": 257,
   "metadata": {},
   "outputs": [
    {
     "name": "stdout",
     "output_type": "stream",
     "text": [
      "+-------------+---------+-------------+------+--------------------+--------------------+\n",
      "|           ts|sessionId|itemInSession|userId|last_page_on_session|                page|\n",
      "+-------------+---------+-------------+------+--------------------+--------------------+\n",
      "|1538987586000|     1010|            7|    54|              Cancel|Cancellation Conf...|\n",
      "|1543297283000|     4473|            5|   167|              Cancel|Cancellation Conf...|\n",
      "|1540103857000|      237|          239|100014|              Cancel|Cancellation Conf...|\n",
      "|1542055421000|     3368|           59|   162|              Cancel|Cancellation Conf...|\n",
      "|1538678296000|      130|           55|100044|              Cancel|Cancellation Conf...|\n",
      "|1541147487000|     2575|           41|    16|              Cancel|Cancellation Conf...|\n",
      "|1540809016000|     2643|           83|   172|              Cancel|Cancellation Conf...|\n",
      "|1542443637000|     3791|           47|   120|              Cancel|Cancellation Conf...|\n",
      "|1543440994000|     4210|           53|    81|              Cancel|Cancellation Conf...|\n",
      "|1538647095000|       32|           12|100032|              Cancel|Cancellation Conf...|\n",
      "|1542360575000|      516|           28|200039|              Cancel|Cancellation Conf...|\n",
      "|1542952212000|     4069|          125|   164|              Cancel|Cancellation Conf...|\n",
      "|1538770077000|      395|          227|   271|              Cancel|Cancellation Conf...|\n",
      "|1542268661000|     3808|          103|   265|              Cancel|Cancellation Conf...|\n",
      "|1539511980000|      201|           18|100004|              Cancel|Cancellation Conf...|\n",
      "|1541087401000|     2922|          218|   234|              Cancel|Cancellation Conf...|\n",
      "|1541302069000|     3050|          245|   214|              Cancel|Cancellation Conf...|\n",
      "|1541939290000|     3507|           17|    61|              Cancel|Cancellation Conf...|\n",
      "|1542206187000|      589|           11|200023|              Cancel|Cancellation Conf...|\n",
      "|1538758470000|      143|           54|100036|              Cancel|Cancellation Conf...|\n",
      "+-------------+---------+-------------+------+--------------------+--------------------+\n",
      "only showing top 20 rows\n",
      "\n"
     ]
    }
   ],
   "source": [
    "w_session = Window.partitionBy('sessionId').orderBy('ts')\n",
    "\n",
    "df.filter('page = \"Cancellation Confirmation\"').select('ts', 'sessionId', 'itemInSession', 'userId', 'last_page_on_session', 'page').show() "
   ]
  },
  {
   "cell_type": "code",
   "execution_count": 157,
   "metadata": {},
   "outputs": [
    {
     "name": "stdout",
     "output_type": "stream",
     "text": [
      "+-------------+---------------+---------+-------------+--------------------+--------------------+\n",
      "|           ts|           page|sessionId|itemInSession|                song|              artist|\n",
      "+-------------+---------------+---------+-------------+--------------------+--------------------+\n",
      "|1543615837000|     Add Friend|     4790|           86|                null|                null|\n",
      "|1543615836000|           Home|     4790|           85|                null|                null|\n",
      "|1543615832000|       NextSong|     4790|           84|           Fireflies|  Charttraxx Karaoke|\n",
      "|1543615597000|       NextSong|     4790|           83|    Music Of The Sun|             Rihanna|\n",
      "|1543615053000|       NextSong|     4790|           82|Kun Puut Tekee Se...|Scandinavian Musi...|\n",
      "|1543614872000|       NextSong|     4790|           81|             The Sun|   Portugal. The Man|\n",
      "|1543614674000|       NextSong|     4790|           80|             Banquet|          Bloc Party|\n",
      "|1543614504000|       NextSong|     4790|           79|         These Girls|          Ryan Adams|\n",
      "|1543614192000|       NextSong|     4790|           78|   Falling To Pieces|       Faith No More|\n",
      "|1543613946000|       NextSong|     4790|           77|   Same Song & Dance|              Eminem|\n",
      "|1543613735000|       NextSong|     4790|           76|      Coming For You|                JoJo|\n",
      "|1543613560000|      Thumbs Up|     4790|           75|                null|                null|\n",
      "|1543613559000|       NextSong|     4790|           74|   Partners In Crime|        Comeback Kid|\n",
      "|1543613294000|       NextSong|     4790|           73|Under The Bridge ...|Red Hot Chili Pep...|\n",
      "|1543612815000|       NextSong|     4790|           72|      When I Grow Up|           Fever Ray|\n",
      "|1543612619000|       NextSong|     4790|           71|All Hands Against...|      The Black Keys|\n",
      "|1543612272000|      Thumbs Up|     4790|           70|                null|                null|\n",
      "|1543612271000|       NextSong|     4790|           69|                Undo|            BjÃÂ¶rk|\n",
      "|1543612079000|       NextSong|     4790|           68|   The World Is Mine|        David Guetta|\n",
      "|1543611840000|       NextSong|     4790|           67|                Zero|  The Pain Machinery|\n",
      "|1543611570000|     Add Friend|     4790|           66|                null|                null|\n",
      "|1543611569000|     Add Friend|     4790|           65|                null|                null|\n",
      "|1543611568000|       NextSong|     4790|           64|              Grillz|Nelly / Paul Wall...|\n",
      "|1543611235000|       NextSong|     4790|           63|              Noc...| Justyna Steczkowska|\n",
      "|1543611078000|       NextSong|     4790|           62|     Tu Solamente Tu|              Selena|\n",
      "|1543610870000|    Thumbs Down|     4790|           61|                null|                null|\n",
      "|1543610869000|       NextSong|     4790|           60|            Float On|        Modest Mouse|\n",
      "|1543610825000|           Home|     4790|           59|                null|                null|\n",
      "|1543610649000|         Logout|     4790|           55|                null|                null|\n",
      "|1543610648000|       NextSong|     4790|           54|Cold Reader (Albu...|          Stone Sour|\n",
      "|1543610519000|       NextSong|     4790|           53|           Black Mud|      The Black Keys|\n",
      "|1543610303000|       NextSong|     4790|           52|      Time's Ticking|             Isbells|\n",
      "|1543610118000|Add to Playlist|     4790|           51|                null|                null|\n",
      "|1543610105000|       NextSong|     4790|           50|Video Killed The ...|         The Buggles|\n",
      "|1543609987000|           Home|     4790|           49|                null|                null|\n",
      "|1543609980000|      Downgrade|     4790|           48|                null|                null|\n",
      "|1543609964000|       NextSong|     4790|           47|     Some Unholy War|       Amy Winehouse|\n",
      "|1543609807000|      Thumbs Up|     4790|           46|                null|                null|\n",
      "|1543609806000|       NextSong|     4790|           45|              Navajo|          Black Lips|\n",
      "|1543609598000|       NextSong|     4790|           44|       Fallen Leaves|        Billy Talent|\n",
      "|1543609433000|       NextSong|     4790|           43|       I Love London|    Crystal Fighters|\n",
      "|1543608876000|      Downgrade|     4790|           42|                null|                null|\n",
      "|1543608876000|       NextSong|     4790|           41|Love And Only Lov...|          Neil Young|\n",
      "|1543608674000|          About|     4790|           40|                null|                null|\n",
      "|1543608655000|       NextSong|     4790|           39|               Roses|Mos Def / Georgia...|\n",
      "|1543608495000|       NextSong|     4790|           38|Always A Use  (LP...|   Madeleine Peyroux|\n",
      "|1543608297000|       NextSong|     4790|           37|           Next Girl|      The Black Keys|\n",
      "|1543608082000|       NextSong|     4790|           36|Please Do Not Let...|          Ryan Adams|\n",
      "|1543607840000|       NextSong|     4790|           35|There Is A Light ...|          The Smiths|\n",
      "|1543607546000|       NextSong|     4790|           34|Northern Downpour...|  Panic At The Disco|\n",
      "|1543607368000|       NextSong|     4790|           33|       Ghosts (Demo)|Florence + The Ma...|\n",
      "|1543607089000|       NextSong|     4790|           32|Poison Oak (Album...|         Bright Eyes|\n",
      "|1543606974000|       NextSong|     4790|           31|Football Season I...|Bring Me The Horizon|\n",
      "|1543606773000|       NextSong|     4790|           30|        BÃÂ¼ck Dich|           Rammstein|\n",
      "|1543606515000|       NextSong|     4790|           29|   Always Be My Baby|        Mariah Carey|\n",
      "|1543606245000|       NextSong|     4790|           28|               Angie|  The Rolling Stones|\n",
      "|1543605979000|       NextSong|     4790|           27|Clara meets Slope...|          Clara Hill|\n",
      "|1543605638000|       NextSong|     4790|           26|       Rikkalicious |HervÃÂ© & Kissy ...|\n",
      "|1543605387000|       NextSong|     4790|           25|    Body Of Conflict|         Cosmic Gate|\n",
      "|1543605333000|       NextSong|     4790|           24|Act Won (Things F...|           The Roots|\n",
      "|1543604973000|       NextSong|     4790|           23|           Crumpshit|    Philippe Rochard|\n",
      "|1543604657000|       NextSong|     4790|           22|  Ze Rook Naar Rozen|         Rob De Nijs|\n",
      "|1543604454000|       NextSong|     4790|           21|    Spin That Bottle|      Rachel Stevens|\n",
      "|1543604162000|       NextSong|     4790|           20|You're Gonna Miss...|       Brooks & Dunn|\n",
      "|1543603953000|           Home|     4790|           19|                null|                null|\n",
      "|1543603948000|       NextSong|     4790|           18|           No Lo Ves|     No Te Va Gustar|\n",
      "|1543603717000|       NextSong|     4790|           17|Where Do The Chil...|         Cat Stevens|\n",
      "|1543603518000|       NextSong|     4790|           16|      Feel That Fire|      Dierks Bentley|\n",
      "|1543603274000|     Add Friend|     4790|           15|                null|                null|\n",
      "|1543603273000|       NextSong|     4790|           14|          Photograph|        Dynamite Boy|\n",
      "|1543603188000|           Help|     4790|           13|                null|                null|\n",
      "|1543603162000|       Settings|     4790|           12|                null|                null|\n",
      "|1543603150000|           Home|     4790|           11|                null|                null|\n",
      "|1543603107000|       NextSong|     4790|           10|         Sugar Sugar|         The Archies|\n",
      "|1543602888000|       NextSong|     4790|            9|Sky Is Over [Fawk...|        Serj Tankian|\n",
      "|1543602718000|       NextSong|     4790|            8|   Train To Skaville|      The Ethiopians|\n",
      "|1543602448000|       NextSong|     4790|            7|        Hate It Here|               Wilco|\n",
      "|1543602154000|       NextSong|     4790|            6|          Every Word|              Hybrid|\n",
      "|1543601940000|       NextSong|     4790|            5|  Could This Be Real|           Sub Focus|\n",
      "|1543601719000|      Thumbs Up|     4790|            4|                null|                null|\n",
      "|1543601718000|       NextSong|     4790|            3|I Keep Forgettin ...|    Michael McDonald|\n",
      "|1543601398000|       NextSong|     4790|            2| Your Guardian Angel|The Red Jumpsuit ...|\n",
      "|1543601262000|Add to Playlist|     4790|            1|                null|                null|\n",
      "|1543601165000|       NextSong|     4790|            0|     The Dirty Glass|    Dropkick Murphys|\n",
      "|1543588644000|           Home|     4779|           39|                null|                null|\n",
      "|1543588582000|       NextSong|     4779|           38|Believe In It (LP...|    Michael McDonald|\n",
      "|1543588320000|       NextSong|     4779|           37|    Lips Of An Angel|              Hinder|\n",
      "|1543588142000|       NextSong|     4779|           36|    The Icicle Melts|     The Cranberries|\n",
      "|1543588014000|       NextSong|     4779|           35|       Twist'as Loca| Los Toreros Muertos|\n",
      "|1543587722000|       NextSong|     4779|           34|Johnny_ I Hardly ...|    Dropkick Murphys|\n",
      "|1543587503000|       NextSong|     4779|           33|         I Surrender|              Saybia|\n",
      "|1543587167000|      Downgrade|     4779|           32|                null|                null|\n",
      "|1543587153000|       NextSong|     4779|           31|            Superman|   Eminem / Dina Rae|\n",
      "|1543586805000|       NextSong|     4779|           30|                Yeah|                Moby|\n",
      "|1543586377000|       NextSong|     4779|           29|       Casino Royale|             DJ Zinc|\n",
      "|1543586192000|       NextSong|     4779|           28|American Idiot [f...|           Green Day|\n",
      "|1543586016000|       NextSong|     4779|           27|            Prologue|        Danny Elfman|\n",
      "|1543585767000|       NextSong|     4779|           26|            Sad Song|    Au Revoir Simone|\n",
      "|1543585437000|       NextSong|     4779|           25|  Walking In The Air|           Nightwish|\n",
      "|1543585330000|       NextSong|     4779|           24|      Do It Your Way|            Datarock|\n",
      "+-------------+---------------+---------+-------------+--------------------+--------------------+\n",
      "only showing top 100 rows\n",
      "\n"
     ]
    }
   ],
   "source": [
    "df.select(['ts', 'page', 'sessionId', 'itemInSession', 'song', 'artist']).filter('userId = 92').orderBy('ts', ascending = False).show(100)"
   ]
  },
  {
   "cell_type": "code",
   "execution_count": 73,
   "metadata": {},
   "outputs": [],
   "source": [
    "df_ts = df.filter('userId = 1333174').select([smin('ts').alias('min_ts'), smax('ts').alias('max_ts')]).rdd.flatMap(lambda x: x).collect()"
   ]
  },
  {
   "cell_type": "code",
   "execution_count": 82,
   "metadata": {},
   "outputs": [
    {
     "data": {
      "text/plain": [
       "['2018-09-30 23:46:29', '2018-10-07 03:53:38']"
      ]
     },
     "execution_count": 82,
     "metadata": {},
     "output_type": "execute_result"
    }
   ],
   "source": [
    "def to_datetime(milliseconds, dt_format = '%Y-%m-%d %H:%M:%S'):\n",
    "    return datetime.fromtimestamp(milliseconds / 1000).strftime(dt_format)  \n",
    "\n",
    "list(map(to_datetime, df_ts))"
   ]
  },
  {
   "cell_type": "code",
   "execution_count": 128,
   "metadata": {},
   "outputs": [
    {
     "data": {
      "text/plain": [
       "['2018-09-30 21:00:01', '2018-10-07 06:44:26']"
      ]
     },
     "execution_count": 128,
     "metadata": {},
     "output_type": "execute_result"
    }
   ],
   "source": [
    "list(map(to_datetime, df.select([smin('ts').alias('min_ts'), smax('ts').alias('max_ts')]).rdd.flatMap(lambda x: x).collect()))"
   ]
  },
  {
   "cell_type": "code",
   "execution_count": 85,
   "metadata": {},
   "outputs": [
    {
     "name": "stdout",
     "output_type": "stream",
     "text": [
      "+----------------------------------------------+------+\n",
      "|location                                      |count |\n",
      "+----------------------------------------------+------+\n",
      "|New York-Newark-Jersey City, NY-NJ-PA         |125507|\n",
      "|Los Angeles-Long Beach-Anaheim, CA            |91139 |\n",
      "|null                                          |64332 |\n",
      "|Chicago-Naperville-Elgin, IL-IN-WI            |59171 |\n",
      "|Philadelphia-Camden-Wilmington, PA-NJ-DE-MD   |45041 |\n",
      "|Washington-Arlington-Alexandria, DC-VA-MD-WV  |43905 |\n",
      "|Dallas-Fort Worth-Arlington, TX               |42425 |\n",
      "|Miami-Fort Lauderdale-West Palm Beach, FL     |41035 |\n",
      "|Atlanta-Sandy Springs-Roswell, GA             |36940 |\n",
      "|Houston-The Woodlands-Sugar Land, TX          |35165 |\n",
      "|Phoenix-Mesa-Scottsdale, AZ                   |33490 |\n",
      "|Boston-Cambridge-Newton, MA-NH                |32895 |\n",
      "|Riverside-San Bernardino-Ontario, CA          |32259 |\n",
      "|San Francisco-Oakland-Hayward, CA             |31036 |\n",
      "|Seattle-Tacoma-Bellevue, WA                   |28880 |\n",
      "|St. Louis, MO-IL                              |25062 |\n",
      "|Detroit-Warren-Dearborn, MI                   |24510 |\n",
      "|Tampa-St. Petersburg-Clearwater, FL           |24422 |\n",
      "|Minneapolis-St. Paul-Bloomington, MN-WI       |19918 |\n",
      "|Pittsburgh, PA                                |18004 |\n",
      "|Baltimore-Columbia-Towson, MD                 |17636 |\n",
      "|Indianapolis-Carmel-Anderson, IN              |16996 |\n",
      "|San Diego-Carlsbad, CA                        |16673 |\n",
      "|Portland-Vancouver-Hillsboro, OR-WA           |14634 |\n",
      "|Cleveland-Elyria, OH                          |14287 |\n",
      "|Cincinnati, OH-KY-IN                          |13657 |\n",
      "|Sacramento--Roseville--Arden-Arcade, CA       |13555 |\n",
      "|Denver-Aurora-Lakewood, CO                    |13447 |\n",
      "|Las Vegas-Henderson-Paradise, NV              |13140 |\n",
      "|San Antonio-New Braunfels, TX                 |13096 |\n",
      "|Nashville-Davidson--Murfreesboro--Franklin, TN|12828 |\n",
      "|Columbus, OH                                  |12639 |\n",
      "|Orlando-Kissimmee-Sanford, FL                 |12058 |\n",
      "|Milwaukee-Waukesha-West Allis, WI             |11627 |\n",
      "|Buffalo-Cheektowaga-Niagara Falls, NY         |11390 |\n",
      "|Virginia Beach-Norfolk-Newport News, VA-NC    |10793 |\n",
      "|Jacksonville, FL                              |10601 |\n",
      "|Austin-Round Rock, TX                         |10051 |\n",
      "|Providence-Warwick, RI-MA                     |9607  |\n",
      "|Kansas City, MO-KS                            |9566  |\n",
      "|Charlotte-Concord-Gastonia, NC-SC             |9298  |\n",
      "|Memphis, TN-MS-AR                             |9162  |\n",
      "|Omaha-Council Bluffs, NE-IA                   |8964  |\n",
      "|Richmond, VA                                  |8834  |\n",
      "|Tulsa, OK                                     |8816  |\n",
      "|Salt Lake City, UT                            |8658  |\n",
      "|San Jose-Sunnyvale-Santa Clara, CA            |8436  |\n",
      "|Grand Rapids-Wyoming, MI                      |8223  |\n",
      "|Rochester, NY                                 |8153  |\n",
      "|El Paso, TX                                   |7711  |\n",
      "+----------------------------------------------+------+\n",
      "only showing top 50 rows\n",
      "\n"
     ]
    }
   ],
   "source": [
    "df.groupBy('location').count().orderBy('count', ascending = False).show(50, False)"
   ]
  },
  {
   "cell_type": "markdown",
   "metadata": {},
   "source": [
    "# Feature Engineering\n",
    "Once you've familiarized yourself with the data, build out the features you find promising to train your model on. To work with the full dataset, you can follow the following steps.\n",
    "- Write a script to extract the necessary features from the smaller subset of data\n",
    "- Ensure that your script is scalable, using the best practices discussed in Lesson 3\n",
    "- Try your script on the full data set, debugging your script if necessary\n",
    "\n",
    "If you are working in the classroom workspace, you can just extract features based on the small subset of data contained here. Be sure to transfer over this work to the larger dataset when you work on your Spark cluster."
   ]
  },
  {
   "cell_type": "code",
   "execution_count": 225,
   "metadata": {},
   "outputs": [
    {
     "name": "stdout",
     "output_type": "stream",
     "text": [
      "root\n",
      " |-- artist: string (nullable = true)\n",
      " |-- auth: string (nullable = true)\n",
      " |-- firstName: string (nullable = true)\n",
      " |-- gender: string (nullable = true)\n",
      " |-- itemInSession: long (nullable = true)\n",
      " |-- lastName: string (nullable = true)\n",
      " |-- length: double (nullable = true)\n",
      " |-- level: string (nullable = true)\n",
      " |-- location: string (nullable = true)\n",
      " |-- method: string (nullable = true)\n",
      " |-- page: string (nullable = true)\n",
      " |-- registration: long (nullable = true)\n",
      " |-- sessionId: long (nullable = true)\n",
      " |-- song: string (nullable = true)\n",
      " |-- status: long (nullable = true)\n",
      " |-- ts: long (nullable = true)\n",
      " |-- userAgent: string (nullable = true)\n",
      " |-- userId: string (nullable = true)\n",
      "\n"
     ]
    }
   ],
   "source": [
    "df.printSchema()"
   ]
  },
  {
   "cell_type": "code",
   "execution_count": 165,
   "metadata": {},
   "outputs": [
    {
     "name": "stdout",
     "output_type": "stream",
     "text": [
      "+------+---------+---------+------+-------------+----------+------+-----+--------------------+------+--------------------+-------------+---------+----+------+-------------+--------------------+------+\n",
      "|artist|     auth|firstName|gender|itemInSession|  lastName|length|level|            location|method|                page| registration|sessionId|song|status|           ts|           userAgent|userId|\n",
      "+------+---------+---------+------+-------------+----------+------+-----+--------------------+------+--------------------+-------------+---------+----+------+-------------+--------------------+------+\n",
      "|  null|Cancelled|   Olivia|     F|           40|      Carr|  null| free|      Fort Wayne, IN|   GET|Cancellation Conf...|1536758439000|      490|null|   200|1538400616000|Mozilla/5.0 (Wind...|   208|\n",
      "|  null|Cancelled|  Lillian|     F|          234|   Cameron|  null| paid|        Columbus, OH|   GET|Cancellation Conf...|1533472700000|      471|null|   200|1538482793000|Mozilla/5.0 (Wind...|   231|\n",
      "|  null|Cancelled|     Alex|     M|          109|     Myers|  null| paid|Grand Rapids-Wyom...|   GET|Cancellation Conf...|1529995579000|      682|null|   200|1538539871000|\"Mozilla/5.0 (Win...|   236|\n",
      "|  null|Cancelled|   Rafael|     M|           66|  Crawford|  null| free|   Bowling Green, KY|   GET|Cancellation Conf...|1533887620000|      628|null|   200|1538592529000|\"Mozilla/5.0 (Mac...|   156|\n",
      "|  null|Cancelled|     Brad|     M|          227|   Stewart|  null| paid|         Roanoke, VA|   GET|Cancellation Conf...|1535619094000|      395|null|   200|1538770077000|\"Mozilla/5.0 (Win...|   271|\n",
      "|  null|Cancelled|    Isaac|     M|          193|    Miller|  null| paid|Seattle-Tacoma-Be...|   GET|Cancellation Conf...|1538201832000|      862|null|   200|1538800531000|Mozilla/5.0 (Wind...|   200|\n",
      "|  null|Cancelled|     Ivan|     M|            9|   Sanchez|  null| free|Bridgeport-Stamfo...|   GET|Cancellation Conf...|1533575236000|     1027|null|   200|1538890895000|Mozilla/5.0 (Wind...|   130|\n",
      "|  null|Cancelled|    Chloe|     M|           56|     Myers|  null| free|Tampa-St. Petersb...|   GET|Cancellation Conf...|1534370883000|      480|null|   200|1538959081000|\"Mozilla/5.0 (iPh...|   123|\n",
      "|  null|Cancelled|    Alexi|     F|            7|    Warren|  null| paid|Spokane-Spokane V...|   GET|Cancellation Conf...|1532482662000|     1010|null|   200|1538987586000|Mozilla/5.0 (Wind...|    54|\n",
      "|  null|Cancelled|   Payton|     F|           82|  Campbell|  null| paid|Los Angeles-Long ...|   GET|Cancellation Conf...|1529027541000|     1066|null|   200|1539011456000|\"Mozilla/5.0 (Win...|    39|\n",
      "|  null|Cancelled|   Oliver|     M|           17|       Fry|  null| free|San Francisco-Oak...|   GET|Cancellation Conf...|1538048434000|     1035|null|   200|1539016481000|\"Mozilla/5.0 (Mac...|   154|\n",
      "|  null|Cancelled|    Sadie|     F|            3|     Jones|  null| paid|Denver-Aurora-Lak...|   GET|Cancellation Conf...|1537054553000|      659|null|   200|1539041513000|\"Mozilla/5.0 (Mac...|   132|\n",
      "|  null|Cancelled|   Brycen|     M|          435|   Bradley|  null| paid|          Laurel, MS|   GET|Cancellation Conf...|1538159495000|        9|null|   200|1539055364000|\"Mozilla/5.0 (Mac...|    10|\n",
      "|  null|Cancelled| Angelynn|     F|           20|    Coffey|  null| paid|Allentown-Bethleh...|   GET|Cancellation Conf...|1536885688000|     1228|null|   200|1539187234000|\"Mozilla/5.0 (Mac...|   296|\n",
      "|  null|Cancelled|   Teagan|     F|           39|   Garrett|  null| free|Chicago-Napervill...|   GET|Cancellation Conf...|1537385168000|      817|null|   200|1539213091000|\"Mozilla/5.0 (Mac...|   187|\n",
      "|  null|Cancelled|    Ethan|     M|          180|   Johnson|  null| paid|Lexington-Fayette...|   GET|Cancellation Conf...|1538080987000|     1443|null|   200|1539709266000|\"Mozilla/5.0 (Win...|    51|\n",
      "|  null|Cancelled|    Anika|     F|           83|   Osborne|  null| paid|Philadelphia-Camd...|   GET|Cancellation Conf...|1533192032000|     1796|null|   200|1539768879000|\"Mozilla/5.0 (iPh...|    13|\n",
      "|  null|Cancelled|    Diego|     M|           36|     Mckee|  null| paid|Phoenix-Mesa-Scot...|   GET|Cancellation Conf...|1537167593000|     1881|null|   200|1539831896000|\"Mozilla/5.0 (iPh...|    32|\n",
      "|  null|Cancelled|   Teagan|     F|           48|   Roberts|  null| paid|New Philadelphia-...|   GET|Cancellation Conf...|1537634865000|     1927|null|   200|1539968001000|Mozilla/5.0 (Wind...|    28|\n",
      "|  null|Cancelled|  Viviana|     F|           38|    Finley|  null| paid|          Gallup, NM|   GET|Cancellation Conf...|1523777521000|     2206|null|   200|1540482186000|\"Mozilla/5.0 (Win...|   198|\n",
      "|  null|Cancelled|      Kee|     M|          216|    Taylor|  null| paid|Virginia Beach-No...|   GET|Cancellation Conf...|1533764798000|     2429|null|   200|1540528082000|\"Mozilla/5.0 (Win...|   196|\n",
      "|  null|Cancelled|   Thomas|     M|           83|     White|  null| paid|Providence-Warwic...|   GET|Cancellation Conf...|1536270348000|     2643|null|   200|1540809016000|\"Mozilla/5.0 (X11...|   172|\n",
      "|  null|Cancelled|   Carlos|     M|          231| Henderson|  null| paid|Atlanta-Sandy Spr...|   GET|Cancellation Conf...|1534689513000|     2747|null|   200|1540991227000|\"Mozilla/5.0 (Mac...|   189|\n",
      "|  null|Cancelled|     Jean|     M|          218|   Bennett|  null| paid|New Orleans-Metai...|   GET|Cancellation Conf...|1537953130000|     2922|null|   200|1541087401000|Mozilla/5.0 (Wind...|   234|\n",
      "|  null|Cancelled|     Emma|     F|           41|       Lee|  null| paid|   Winston-Salem, NC|   GET|Cancellation Conf...|1536597540000|     2575|null|   200|1541147487000|\"Mozilla/5.0 (Win...|    16|\n",
      "|  null|Cancelled|      Ean|     M|          245|     White|  null| paid|        Show Low, AZ|   GET|Cancellation Conf...|1535231759000|     3050|null|   200|1541302069000|Mozilla/5.0 (Wind...|   214|\n",
      "|  null|Cancelled|   Gianna|     F|           27|    Campos|  null| paid|          Mobile, AL|   GET|Cancellation Conf...|1535931018000|     3126|null|   200|1541374384000|Mozilla/5.0 (Wind...|   246|\n",
      "|  null|Cancelled|   Zyonna|     F|          225|      Bird|  null| paid|     Columbus, GA-AL|   GET|Cancellation Conf...|1536663902000|     3080|null|   200|1541505193000|Mozilla/5.0 (Wind...|    88|\n",
      "|  null|Cancelled| Isobella|     F|          278|    Wright|  null| paid|Atlanta-Sandy Spr...|   GET|Cancellation Conf...|1536398117000|     3179|null|   200|1541543944000|\"Mozilla/5.0 (Win...|    45|\n",
      "|  null|Cancelled|   Parker|     M|           17|  Williams|  null| paid|San Francisco-Oak...|   GET|Cancellation Conf...|1537188538000|     3507|null|   200|1541939290000|\"Mozilla/5.0 (iPh...|    61|\n",
      "|  null|Cancelled|   Nicole|     F|           44|      Beck|  null| paid|Vineland-Bridgeto...|   GET|Cancellation Conf...|1532224335000|     3475|null|   200|1541948983000|\"Mozilla/5.0 (Mac...|   124|\n",
      "|  null|Cancelled|    Lucas|     M|           39|    Decker|  null| paid|Los Angeles-Long ...|   GET|Cancellation Conf...|1534945722000|     3618|null|   200|1541958736000|Mozilla/5.0 (Wind...|   223|\n",
      "|  null|Cancelled|    Brisa|     F|           16|    Murray|  null| paid|Manchester-Nashua...|   GET|Cancellation Conf...|1533438580000|     3356|null|   200|1542032682000|Mozilla/5.0 (comp...|    41|\n",
      "|  null|Cancelled|     Ryan|     M|           50|  Phillips|  null| paid|Los Angeles-Long ...|   GET|Cancellation Conf...|1535959154000|     3620|null|   200|1542049014000|\"Mozilla/5.0 (iPh...|   221|\n",
      "|  null|Cancelled|   Lakyla|     F|           59|    Porter|  null| paid|         Modesto, CA|   GET|Cancellation Conf...|1535849930000|     3368|null|   200|1542055421000|Mozilla/5.0 (Wind...|   162|\n",
      "|  null|Cancelled|     Kael|     M|          128|     Baker|  null| paid|Kingsport-Bristol...|   GET|Cancellation Conf...|1533102330000|     3307|null|   200|1542063249000|\"Mozilla/5.0 (Mac...|   131|\n",
      "|  null|Cancelled|   Carter|     M|           12|      Cook|  null| paid|Chicago-Napervill...|   GET|Cancellation Conf...|1522793334000|     3554|null|   200|1542254381000|\"Mozilla/5.0 (iPh...|   288|\n",
      "|  null|Cancelled|  Cynthia|     F|          103|    Krause|  null| free|Allentown-Bethleh...|   GET|Cancellation Conf...|1534392393000|     3808|null|   200|1542268661000|\"Mozilla/5.0 (X11...|   265|\n",
      "|  null|Cancelled|Cassandra|     F|            3|  Martinez|  null| paid|Chicago-Napervill...|   GET|Cancellation Conf...|1538172299000|     3982|null|   200|1542404708000|\"Mozilla/5.0 (Mac...|   188|\n",
      "|  null|Cancelled|Elizabeth|     F|           47|Washington|  null| paid|   Oklahoma City, OK|   GET|Cancellation Conf...|1532472246000|     3791|null|   200|1542443637000|\"Mozilla/5.0 (Mac...|   120|\n",
      "|  null|Cancelled|   Joseph|     M|           76|   Morales|  null| paid|  Corpus Christi, TX|   GET|Cancellation Conf...|1532063507000|     4221|null|   200|1542828929000|\"Mozilla/5.0 (Mac...|   293|\n",
      "|  null|Cancelled|   Daelin|     M|          233|    Turner|  null| paid|New York-Newark-J...|   GET|Cancellation Conf...|1538227408000|     4207|null|   200|1542933610000|\"Mozilla/5.0 (Win...|   126|\n",
      "|  null|Cancelled| Benjamin|     M|          125|   Salinas|  null| paid|         Lebanon, PA|   GET|Cancellation Conf...|1532594573000|     4069|null|   200|1542952212000|\"Mozilla/5.0 (Mac...|   164|\n",
      "|  null|Cancelled|      Zoe|     F|           94|     Patel|  null| paid|Providence-Warwic...|   GET|Cancellation Conf...|1532554781000|     3700|null|   200|1543018922000|Mozilla/5.0 (Wind...|    11|\n",
      "|  null|Cancelled|   Jayden|     F|            5|  Phillips|  null| paid|New York-Newark-J...|   GET|Cancellation Conf...|1537893493000|     4212|null|   200|1543091855000|\"Mozilla/5.0 (Win...|   118|\n",
      "|  null|Cancelled|   Azrael|     M|            5|     Hicks|  null| free|Atlanta-Sandy Spr...|   GET|Cancellation Conf...|1535774889000|     3472|null|   200|1543252571000|\"Mozilla/5.0 (Win...|    89|\n",
      "|  null|Cancelled|  Jasmine|     F|            5|Richardson|  null| free|Philadelphia-Camd...|   GET|Cancellation Conf...|1531477817000|     4473|null|   200|1543297283000|Mozilla/5.0 (Wind...|   167|\n",
      "|  null|Cancelled|   Wesley|     M|          436|  Thornton|  null| paid|Deltona-Daytona B...|   GET|Cancellation Conf...|1536659447000|     4253|null|   200|1543337414000|\"Mozilla/5.0 (Mac...|    34|\n",
      "|  null|Cancelled|   Oliver|     M|           53|   Gilbert|  null| paid|Philadelphia-Camd...|   GET|Cancellation Conf...|1535093367000|     4210|null|   200|1543440994000|\"Mozilla/5.0 (Mac...|    81|\n",
      "|  null|Cancelled|   Adriel|     M|           69|   Mendoza|  null| paid|  Kansas City, MO-KS|   GET|Cancellation Conf...|1535623466000|     4671|null|   200|1543522398000|\"Mozilla/5.0 (Mac...|    18|\n",
      "+------+---------+---------+------+-------------+----------+------+-----+--------------------+------+--------------------+-------------+---------+----+------+-------------+--------------------+------+\n",
      "only showing top 50 rows\n",
      "\n"
     ]
    }
   ],
   "source": [
    "df.filter('page = \"Cancellation Confirmation\"').show(50)"
   ]
  },
  {
   "cell_type": "code",
   "execution_count": null,
   "metadata": {},
   "outputs": [],
   "source": [
    "# Testing samples\n",
    "user_id = 100010\n",
    "# user_id = 121"
   ]
  },
  {
   "cell_type": "code",
   "execution_count": 623,
   "metadata": {},
   "outputs": [],
   "source": [
    "CHURN_CANCELLATION_PAGE = 'Cancellation Confirmation'\n",
    "REGISTRATION_PAGE = 'Submit Registration'\n",
    "milliseconds_to_hours = 3600 * 1000\n",
    "minutes_to_hours = 60 * 60\n",
    "TRUE = 1\n",
    "FALSE = 0\n",
    "\n",
    "def transform_records(df):\n",
    "    \n",
    "    ts_events = df.select([smin('ts').alias('min_ts'), smax('ts').alias('max_ts')]).collect()[0]\n",
    "    min_ts = ts_events[0]\n",
    "    max_ts = ts_events[1]\n",
    "\n",
    "    w_session = Window.partitionBy('sessionId').orderBy('ts')\n",
    "    w_user_session = Window.partitionBy('sessionId', 'userId').orderBy('ts').rangeBetween(Window.unboundedPreceding, Window.unboundedFollowing)\n",
    "    w_user = Window.partitionBy('userId').orderBy('ts').rangeBetween(Window.unboundedPreceding, Window.unboundedFollowing)\n",
    "    \n",
    "    # Create features\n",
    "    df = df.withColumn('previous_page', lag(df.page).over(w_session))\n",
    "    df = df.withColumn('last_event_ts', last(col('ts')).over(w_user))\n",
    "    df = df.withColumn('last_page', last(col('page')).over(w_user))\n",
    "    df = df.withColumn('cancellation_ts', when(df.last_page == CHURN_CANCELLATION_PAGE, df.last_event_ts).otherwise(max_ts))\n",
    "    df = df.withColumn('register_page', first(col('previous_page')).over(w_user))\n",
    "    df = df.withColumn('first_ts', first(col('ts')).over(w_user))\n",
    "    df = df.withColumn('registration_ts', when(df.register_page == REGISTRATION_PAGE, df.first_ts).otherwise(min_ts))\n",
    "    df = df.withColumn('ts_elapsed', last(df.ts).over(w_session) - first(df.ts).over(w_user_session))\n",
    "    df = df.withColumn('session_duration', smax(df.ts_elapsed).over(w_user_session))\n",
    "    \n",
    "    return df\n",
    "    \n",
    "def create_session_dimension(df):\n",
    "    \n",
    "    # sessions from the user\n",
    "    df_sessions = df.orderBy(df.sessionId).groupBy('sessionId', 'userId').agg(\n",
    "        smax(df.ts).alias('s_ts'),\n",
    "        smin(df.ts).alias('e_ts'),\n",
    "        ssum(df.length).alias('total_playback')\n",
    "    ) \n",
    "\n",
    "    w_user_sessions_interval = Window.partitionBy('userId').orderBy('s_ts')\n",
    "    # Calculate the interval until the next session\n",
    "    df_sessions = df_sessions.withColumn('interval_to_session', col('s_ts') - lag(col('e_ts')).over(w_user_sessions_interval))\n",
    "\n",
    "    # We should remove the null lines before count/group to not account 2 times the mean interval\n",
    "    df_sessions = df_sessions.groupBy('userId').agg(\n",
    "        (avg(df_sessions.interval_to_session) / milliseconds_to_hours).alias('avg_time_away'),\n",
    "        (avg(df_sessions.total_playback) / minutes_to_hours).alias('avg_playback')\n",
    "    )\n",
    "    \n",
    "    return df_sessions\n",
    "\n",
    "def create_user_dimension(df):\n",
    "    \n",
    "    df_user_profile = df.groupby('userId')\\\n",
    "        .agg( \n",
    "\n",
    "            first(when(col('gender') == 'M', TRUE).otherwise(FALSE)).alias('male'),\n",
    "\n",
    "            smin(col('first_ts')).alias('ts_start'),\n",
    "            smax(col('last_event_ts')).alias('ts_end'),\n",
    "\n",
    "            # Subscription\n",
    "            count(when(col('page') == 'Submit Downgrade', True)).alias(\"n_downgr\"),\n",
    "            count(when(col('page') == 'Submit Upgrade', True)).alias(\"n_upgr\"),\n",
    "            last(when(col('level') == 'paid', TRUE).otherwise(FALSE)).alias('paid'),\n",
    "            first(when(col('last_page') == CHURN_CANCELLATION_PAGE, TRUE).otherwise(FALSE)).alias('canceled'),\n",
    "\n",
    "            # Streaming\n",
    "            count(when(col('page') == 'NextSong', True)).alias(\"n_songs\"),\n",
    "            count(when(col('page') == 'Thumbs Up', True)).alias(\"n_likes\"),\n",
    "            count(when(col('page') == 'Thumbs Down', True)).alias(\"n_dislikes\"),\n",
    "            countDistinct(col('sessionId')).alias(\"n_sess\"),\n",
    "            (avg(col('session_duration')) / milliseconds_to_hours).alias(\"avg_sess_duration\"),\n",
    "\n",
    "            # Community\n",
    "            count(when(col('page') == 'Add Friend', True)).alias(\"n_friends\"),\n",
    "            count(when(col('page') == 'Add to Playlist', True)).alias(\"n_added\"),\n",
    "\n",
    "            # Other\n",
    "            count(when(col('page') == 'Home', True)).alias(\"n_home\"),\n",
    "            count(when(col('page') == 'Roll Advert', True)).alias(\"n_ads\"),\n",
    "            count(when(col('page') == 'Help', True)).alias(\"n_help\"),\n",
    "            count(when(col('page') == 'Error', True)).alias(\"n_errors\"),\n",
    "            count(when(col('page') == 'Settings', True)).alias(\"n_set\"),\n",
    "            count(col('page')).alias(\"n_actions\")\n",
    "        )\n",
    "    \n",
    "    return df_user_profile"
   ]
  },
  {
   "cell_type": "code",
   "execution_count": 636,
   "metadata": {},
   "outputs": [
    {
     "name": "stdout",
     "output_type": "stream",
     "text": [
      "+-------+-----+----+----+-------------+------+-----------------+-------+--------+--------+------+--------+-------+-----+------------+------+------+----------+---------+---------+------+\n",
      "|n_added|n_set|paid|male|avg_time_away|n_sess|avg_sess_duration|n_likes|canceled|n_errors|n_upgr|n_downgr|n_songs|n_ads|avg_playback|n_help|userId|n_dislikes|n_friends|n_actions|n_home|\n",
      "+-------+-----+----+----+-------------+------+-----------------+-------+--------+--------+------+--------+-------+-----+------------+------+------+----------+---------+---------+------+\n",
      "|      1|    0|   0|   0|           73|     2|                4|      4|       1|       0|     0|       0|     96|   22|           4|     0|100010|         3|        3|      137|     3|\n",
      "|      6|    2|   0|   1|          175|     5|                6|     15|       1|       0|     1|       0|    310|   11|           4|     1|200002|         5|        2|      395|    23|\n",
      "|      3|    1|   1|   0|           51|     5|                3|      8|       1|       0|     1|       0|    112|    9|           2|     2|   296|         0|        2|      152|     7|\n",
      "|      2|    3|   0|   1|          526|     3|                3|      3|       0|       0|     0|       0|     62|    6|           1|     2|   125|         1|        3|       84|     2|\n",
      "|     45|   15|   1|   0|           68|    17|               15|    102|       1|       0|     0|       0|   1826|    1|           8|    10|   124|        15|       26|     2156|    70|\n",
      "|      8|    2|   1|   1|           94|     5|                7|     16|       1|       2|     0|       0|    266|    1|           4|     0|    51|         1|        3|      328|    17|\n",
      "|      6|    5|   0|   1|          100|    15|                4|     12|       0|       0|     0|       0|    462|   35|           2|     3|     7|         4|       16|      600|    36|\n",
      "|      4|    1|   0|   1|           63|     7|                2|      5|       1|       0|     0|       0|    122|    9|           1|     0|200037|         3|        2|      155|     6|\n",
      "|      0|    3|   0|   1|          203|     8|                1|      6|       0|       0|     0|       0|    112|   13|           1|     0|   169|         0|        6|      149|     6|\n",
      "|     25|    3|   1|   0|          295|     5|               22|     50|       0|       1|     0|       0|   1048|    0|          15|    11|   205|        10|       21|     1244|    43|\n",
      "|      3|    0|   0|   0|          259|     2|                3|      7|       0|       0|     0|       0|     97|   12|           3|     0|   272|         4|        0|      131|     5|\n",
      "|     57|   12|   1|   1|           72|    18|               10|     93|       0|       1|     0|       0|   1835|    0|           7|    12|    15|        16|       32|     2173|    66|\n",
      "|     61|   13|   1|   0|           71|    23|               13|     97|       0|       1|     2|       1|   1876|   38|           6|    21|   232|        17|       43|     2325|    95|\n",
      "|     51|   17|   0|   1|           33|    26|               14|     91|       1|       2|     1|       0|   1674|   30|           5|     7|   234|        22|       17|     2021|    64|\n",
      "|     66|   17|   0|   1|           57|    29|               14|    133|       0|       4|     1|       0|   2629|   37|           7|    19|   282|        29|       79|     3191|   110|\n",
      "|     15|    3|   1|   0|           30|     8|               10|     26|       1|       0|     0|       0|    517|    0|           4|     2|    54|         7|       20|      624|    20|\n",
      "|      4|    2|   1|   0|          190|     4|                4|      7|       0|       1|     0|       0|    140|    0|           2|     1|   155|         0|        0|      172|    11|\n",
      "|     23|   10|   0|   0|          103|    12|                7|     33|       0|       0|     1|       0|    615|   41|           4|     3|200043|        22|       12|      808|    29|\n",
      "|     11|    3|   1|   1|          144|     4|                9|     14|       1|       0|     0|       0|    332|    3|           6|     2|100014|         3|        3|      406|    18|\n",
      "|      4|    0|   1|   0|          159|     2|                7|      4|       1|       0|     1|       0|    113|    5|           4|     0|   132|         1|        4|      144|     4|\n",
      "|      4|    2|   0|   1|           61|     4|                2|      4|       1|       0|     0|       0|     93|    9|           2|     0|   154|         2|        4|      126|     4|\n",
      "|      5|    1|   1|   1|           38|     2|               10|     10|       1|       0|     0|       0|    164|    0|           5|     2|   200|         2|        6|      204|     7|\n",
      "|      7|    7|   0|   0|          186|     7|                3|     27|       0|       0|     0|       0|    269|   26|           3|     1|300027|         5|        4|      366|    12|\n",
      "|    165|   41|   1|   1|           36|    53|               16|    305|       0|       6|     1|       0|   5745|    6|           8|    30|   101|        55|      117|     6842|   219|\n",
      "|      5|    4|   0|   0|          241|     6|                3|     13|       1|       0|     1|       0|    194|   10|           2|     2|    11|         1|        6|      264|    14|\n",
      "|     14|    4|   1|   0|          145|     9|               11|     22|       0|       3|     1|       1|    496|   11|           4|     3|   279|         3|        8|      620|    35|\n",
      "|     10|    6|   0|   1|          111|    14|                4|     27|       0|       1|     0|       0|    434|   37|           2|     7|   138|         4|        7|      576|    30|\n",
      "|    125|   29|   1|   0|           24|    71|                8|    388|       0|       4|     0|       0|   4283|    5|           4|    27|300017|        25|       98|     5266|   183|\n",
      "|     14|    4|   1|   1|          139|     9|               13|     28|       0|       0|     3|       2|    683|   34|           5|     2|100021|         8|       16|      854|    33|\n",
      "|     48|   13|   0|   1|           40|    39|                6|     90|       0|       5|     2|       1|   1907|   73|           3|    14|    29|        17|       40|     2350|    90|\n",
      "|     17|    6|   0|   0|          100|    12|                7|     25|       0|       1|     1|       1|    548|   28|           3|     0|    69|         4|       13|      684|    25|\n",
      "|      3|    2|   0|   1|          142|     9|                5|     11|       0|       0|     0|       0|    329|   22|           3|     1|   112|         3|       11|      411|    17|\n",
      "|     14|    1|   1|   0|          121|     3|               11|     28|       0|       1|     0|       0|    351|    0|           8|     4|300033|         4|        7|      426|     8|\n",
      "|    111|   35|   1|   0|           34|    52|               16|    187|       0|       4|     2|       1|   4070|  101|           6|    28|    42|        41|       71|     4952|   182|\n",
      "|      5|    2|   0|   0|          118|    13|                2|      9|       0|       1|     0|       0|    240|   20|           1|     2|    73|         1|        4|      307|    16|\n",
      "|    112|   21|   0|   1|           28|    64|               11|    202|       0|       5|     1|       1|   4350|   65|           5|    24|    87|        45|       99|     5243|   197|\n",
      "|      4|    2|   0|   0|          238|     5|                2|      8|       0|       0|     0|       0|    140|    8|           2|     0|200010|         5|        5|      194|    14|\n",
      "|      0|    0|   0|   1|          457|     3|                1|      2|       0|       0|     0|       0|     31|    6|           1|     0|    64|         0|        0|       44|     4|\n",
      "|      0|    0|   0|   1|         null|     1|                2|      0|       0|       0|     0|       0|     24|    1|           2|     0|     3|         0|        0|       25|     0|\n",
      "|    186|   43|   1|   0|           21|    88|                9|    498|       0|       5|     2|       1|   5528|   16|           4|    31|300035|        64|       91|     6810|   228|\n",
      "|     32|    6|   1|   0|           85|    18|               13|     44|       0|       2|     1|       0|    976|   24|           4|     6|   113|        18|        8|     1207|    54|\n",
      "|    103|   33|   1|   1|           46|    37|               21|    177|       0|       7|     1|       0|   3988|   37|           8|    19|    30|        37|       69|     4737|   161|\n",
      "|     32|   13|   1|   1|          171|     8|               18|     59|       1|       2|     1|       0|   1239|   10|          11|     7|    34|        11|       19|     1474|    48|\n",
      "|      1|    0|   0|   1|         null|     1|                4|      5|       0|       0|     0|       0|     44|    3|           3|     0|   133|         1|        0|       58|     1|\n",
      "|      5|    2|   0|   1|          242|     3|                5|      8|       0|       1|     0|       0|    181|   11|           4|     1|   287|         4|        3|      229|     7|\n",
      "|     41|    7|   1|   0|           80|    15|               13|     95|       1|       1|     1|       0|   1676|    3|           8|    12|   162|        15|       30|     1993|    66|\n",
      "|     15|    5|   0|   1|           84|    18|                4|     17|       0|       1|     0|       0|    534|   40|           2|     2|    59|         2|       14|      695|    39|\n",
      "|      8|    0|   1|   1|          285|     5|                6|     11|       0|       0|     1|       1|    259|   10|           4|     2|   139|         3|        9|      330|    12|\n",
      "|     19|    4|   1|   1|          101|    15|                9|     33|       0|       0|     1|       0|    743|   34|           4|     6|   146|        10|       12|      920|    34|\n",
      "|      4|    2|   0|   1|           98|     6|                3|     13|       1|       0|     1|       0|    174|    5|           2|     1|200013|         4|        1|      223|    11|\n",
      "+-------+-----+----+----+-------------+------+-----------------+-------+--------+--------+------+--------+-------+-----+------------+------+------+----------+---------+---------+------+\n",
      "only showing top 50 rows\n",
      "\n"
     ]
    }
   ],
   "source": [
    "df = transform_records(df)\n",
    "\n",
    "df_sessions = create_session_dimension(df)\n",
    "\n",
    "df_users = create_user_dimension(df)\n",
    "\n",
    "_columns = list(set(df_users.schema.names+df_sessions.schema.names) - set(['ts_start', 'ts_end']))\n",
    "\n",
    "df_users = df_users.orderBy(df_users.userId).join(df_sessions, on = 'userId').select(_columns) \n",
    "\n",
    "### WARN: Only round to display\n",
    "df_users.select([sround(c, 0).cast(dataType = IntegerType()).alias(c) for c in df_users.columns]).show(50)"
   ]
  },
  {
   "cell_type": "code",
   "execution_count": 549,
   "metadata": {},
   "outputs": [
    {
     "name": "stdout",
     "output_type": "stream",
     "text": [
      "+------------+\n",
      "|unique_users|\n",
      "+------------+\n",
      "|         449|\n",
      "+------------+\n",
      "\n"
     ]
    }
   ],
   "source": [
    "df.agg(countDistinct(df.userId).alias('unique_users')).show()"
   ]
  },
  {
   "cell_type": "code",
   "execution_count": 544,
   "metadata": {},
   "outputs": [
    {
     "data": {
      "text/plain": [
       "425"
      ]
     },
     "execution_count": 544,
     "metadata": {},
     "output_type": "execute_result"
    }
   ],
   "source": [
    "df_users.orderBy(df_users.userId).join(df_sessions, on = 'userId').select(_columns).count()"
   ]
  },
  {
   "cell_type": "code",
   "execution_count": 548,
   "metadata": {},
   "outputs": [
    {
     "name": "stdout",
     "output_type": "stream",
     "text": [
      "+--------+-----+\n",
      "|canceled|total|\n",
      "+--------+-----+\n",
      "|       1|   90|\n",
      "|       0|  335|\n",
      "+--------+-----+\n",
      "\n"
     ]
    }
   ],
   "source": [
    "df_users.orderBy(df_users.userId).join(df_sessions, on = 'userId').select(_columns).groupBy('canceled').agg(count(df_users.canceled).alias('total')).show()"
   ]
  },
  {
   "cell_type": "markdown",
   "metadata": {},
   "source": [
    "- Advertises number (per session and all)\n",
    "    - The user **100010** returned after some idle time and received a considerable amount of advertises;\n",
    "    - Also, after thumbs down, I received two advertisements on four sounds. Then canceled the service.\n",
    "- Number of sessions\n",
    "- Paid subscription time\n",
    "- Avg songs before an ad\n",
    "- Number of skipped songs"
   ]
  },
  {
   "cell_type": "code",
   "execution_count": 553,
   "metadata": {},
   "outputs": [
    {
     "data": {
      "text/plain": [
       "['artist',\n",
       " 'auth',\n",
       " 'firstName',\n",
       " 'gender',\n",
       " 'itemInSession',\n",
       " 'lastName',\n",
       " 'length',\n",
       " 'level',\n",
       " 'location',\n",
       " 'method',\n",
       " 'page',\n",
       " 'registration',\n",
       " 'sessionId',\n",
       " 'song',\n",
       " 'status',\n",
       " 'ts',\n",
       " 'userAgent',\n",
       " 'userId']"
      ]
     },
     "execution_count": 553,
     "metadata": {},
     "output_type": "execute_result"
    }
   ],
   "source": [
    "df.schema.names"
   ]
  },
  {
   "cell_type": "code",
   "execution_count": 635,
   "metadata": {},
   "outputs": [],
   "source": [
    "from pyspark.sql.functions import to_date, date_format\n",
    "from pyspark.sql.types import TimestampType, IntegerType"
   ]
  },
  {
   "cell_type": "code",
   "execution_count": null,
   "metadata": {},
   "outputs": [],
   "source": [
    "to_date(df.ts.cast(dataType=TimestampType()))"
   ]
  },
  {
   "cell_type": "code",
   "execution_count": 581,
   "metadata": {},
   "outputs": [
    {
     "name": "stdout",
     "output_type": "stream",
     "text": [
      "+--------------------+---------+---------+------+-------------+---------+---------+-----+--------------------+---------+--------------------+-------------+------+-------------------+\n",
      "|              artist|     auth|firstName|gender|itemInSession| lastName|   length|level|                page|sessionId|                song|           ts|userId|           datetime|\n",
      "+--------------------+---------+---------+------+-------------+---------+---------+-----+--------------------+---------+--------------------+-------------+------+-------------------+\n",
      "|              Darude|Logged In| Darianna|     F|            0|Carpenter|226.08934| free|            NextSong|       62|           Sandstorm|1538991392000|100010|06:36:32 08-10-2018|\n",
      "|             Justice|Logged In| Darianna|     F|            1|Carpenter|285.41342| free|            NextSong|       62|Phantom Part 1.5 ...|1538991618000|100010|06:40:18 08-10-2018|\n",
      "|    Five Iron Frenzy|Logged In| Darianna|     F|            2|Carpenter|236.09424| free|            NextSong|       62|              Canada|1538991903000|100010|06:45:03 08-10-2018|\n",
      "|          Carpenters|Logged In| Darianna|     F|            3|Carpenter|250.25261| free|            NextSong|       62|      Ticket To Ride|1538992139000|100010|06:48:59 08-10-2018|\n",
      "|               Uffie|Logged In| Darianna|     F|            4|Carpenter|227.52608| free|            NextSong|       62|   Dismissed (Uffie)|1538992389000|100010|06:53:09 08-10-2018|\n",
      "|       Lonnie Gordon|Logged In| Darianna|     F|            5|Carpenter|181.21098| free|            NextSong|       62|Catch You Baby (S...|1538992616000|100010|06:56:56 08-10-2018|\n",
      "|            Calle 13|Logged In| Darianna|     F|            6|Carpenter|267.67628| free|            NextSong|       62|     Fiesta De Locos|1538992797000|100010|06:59:57 08-10-2018|\n",
      "|            Ice Cube|Logged In| Darianna|     F|            7|Carpenter|248.29342| free|            NextSong|       62|U Ain't Gonna Tak...|1538993064000|100010|07:04:24 08-10-2018|\n",
      "|                null|Logged In| Darianna|     F|            8|Carpenter|     null| free|         Roll Advert|       62|                null|1538993076000|100010|07:04:36 08-10-2018|\n",
      "|        Wakey!Wakey!|Logged In| Darianna|     F|            9|Carpenter|173.40036| free|            NextSong|       62|       Dance So Good|1538993312000|100010|07:08:32 08-10-2018|\n",
      "|Mick Abrahams fro...|Logged In| Darianna|     F|           10|Carpenter| 202.9971| free|            NextSong|       62|    Sonf For Jeffery|1538993485000|100010|07:11:25 08-10-2018|\n",
      "|                null|Logged In| Darianna|     F|           11|Carpenter|     null| free|                Home|       62|                null|1538993496000|100010|07:11:36 08-10-2018|\n",
      "|      Colbie Caillat|Logged In| Darianna|     F|           12|Carpenter|355.57832| free|            NextSong|       62|Turn Your Lights ...|1538993687000|100010|07:14:47 08-10-2018|\n",
      "|                  LU|Logged In| Darianna|     F|           13|Carpenter|258.84689| free|            NextSong|       62|               Maria|1538994042000|100010|07:20:42 08-10-2018|\n",
      "|                null|Logged In| Darianna|     F|           14|Carpenter|     null| free|         Roll Advert|       62|                null|1538994047000|100010|07:20:47 08-10-2018|\n",
      "|         Linkin Park|Logged In| Darianna|     F|           15|Carpenter|259.86567| free|            NextSong|       62|         My December|1538994300000|100010|07:25:00 08-10-2018|\n",
      "|   Alanis Morissette|Logged In| Darianna|     F|           16|Carpenter|239.41179| free|            NextSong|       62|You Learn (Album ...|1538994559000|100010|07:29:19 08-10-2018|\n",
      "|              G-Unit|Logged In| Darianna|     F|           17|Carpenter|287.00689| free|            NextSong|       62|              G'D Up|1538994798000|100010|07:33:18 08-10-2018|\n",
      "|       Billy Stewart|Logged In| Darianna|     F|           18|Carpenter|160.70485| free|            NextSong|       62|          Summertime|1538995085000|100010|07:38:05 08-10-2018|\n",
      "|      Zac Brown Band|Logged In| Darianna|     F|           19|Carpenter|237.08689| free|            NextSong|       62|Chicken Fried (Al...|1538995245000|100010|07:40:45 08-10-2018|\n",
      "|          Strung Out|Logged In| Darianna|     F|           20|Carpenter|210.70322| free|            NextSong|       62|           Swan Dive|1538995482000|100010|07:44:42 08-10-2018|\n",
      "|                null|Logged In| Darianna|     F|           21|Carpenter|     null| free|         Roll Advert|       62|                null|1538995563000|100010|07:46:03 08-10-2018|\n",
      "|                null|Logged In| Darianna|     F|           22|Carpenter|     null| free|         Roll Advert|       62|                null|1538995571000|100010|07:46:11 08-10-2018|\n",
      "|   Gonzalo Rubalcaba|Logged In| Darianna|     F|           23|Carpenter|359.20934| free|            NextSong|       62|              Smooch|1538995692000|100010|07:48:12 08-10-2018|\n",
      "|      PlayRadioPlay!|Logged In| Darianna|     F|           24|Carpenter|255.03302| free|            NextSong|       62|Bad Cops Bad Char...|1538996051000|100010|07:54:11 08-10-2018|\n",
      "|                null|Logged In| Darianna|     F|           25|Carpenter|     null| free|         Roll Advert|       62|                null|1538996055000|100010|07:54:15 08-10-2018|\n",
      "|       Kings Of Leon|Logged In| Darianna|     F|           26|Carpenter|201.79546| free|            NextSong|       62|             Revelry|1538996306000|100010|07:58:26 08-10-2018|\n",
      "|            System 7|Logged In| Darianna|     F|           27|Carpenter|358.71302| free|            NextSong|       62|            Altitude|1538996507000|100010|08:01:47 08-10-2018|\n",
      "|           Fela Kuti|Logged In| Darianna|     F|           28|Carpenter|694.67383| free|            NextSong|       62|       Monkey Banana|1538996865000|100010|08:07:45 08-10-2018|\n",
      "|   3 Inches Of Blood|Logged In| Darianna|     F|           29|Carpenter|221.09995| free|            NextSong|       62|Trial Of Champion...|1538997559000|100010|08:19:19 08-10-2018|\n",
      "|                null|Logged In| Darianna|     F|           30|Carpenter|     null| free|         Roll Advert|       62|                null|1538997565000|100010|08:19:25 08-10-2018|\n",
      "|            Amr Diab|Logged In| Darianna|     F|           31|Carpenter| 304.8224| free|            NextSong|       62|         Nour El Ain|1538997780000|100010|08:23:00 08-10-2018|\n",
      "|             Inverse|Logged In| Darianna|     F|           32|Carpenter|225.69751| free|            NextSong|       62|Spark My Soul (fe...|1538998084000|100010|08:28:04 08-10-2018|\n",
      "|                null|Logged In| Darianna|     F|           33|Carpenter|     null| free|           Thumbs Up|       62|                null|1538998085000|100010|08:28:05 08-10-2018|\n",
      "|        Tift Merritt|Logged In| Darianna|     F|           34|Carpenter|386.95138| free|            NextSong|       62|Ain't Looking Clo...|1538998309000|100010|08:31:49 08-10-2018|\n",
      "|          Jamie Foxx|Logged In| Darianna|     F|           35|Carpenter|202.57914| free|            NextSong|       62|        I Don't Know|1538998695000|100010|08:38:15 08-10-2018|\n",
      "|                 M83|Logged In| Darianna|     F|           36|Carpenter|249.46893| free|            NextSong|       62|    Run Into Flowers|1538998897000|100010|08:41:37 08-10-2018|\n",
      "|                null|Logged In| Darianna|     F|           37|Carpenter|     null| free|         Roll Advert|       62|                null|1538998897000|100010|08:41:37 08-10-2018|\n",
      "|        The Jayhawks|Logged In| Darianna|     F|           38|Carpenter|258.79465| free|            NextSong|       62|        Pretty Thing|1538999146000|100010|08:45:46 08-10-2018|\n",
      "|     Dominik Eulberg|Logged In| Darianna|     F|           39|Carpenter|504.37179| free|            NextSong|       62|              Bionik|1538999404000|100010|08:50:04 08-10-2018|\n",
      "|                null|Logged In| Darianna|     F|           40|Carpenter|     null| free|         Thumbs Down|       62|                null|1538999405000|100010|08:50:05 08-10-2018|\n",
      "|Selena Gomez & Th...|Logged In| Darianna|     F|           41|Carpenter|241.91955| free|            NextSong|       62|           Naturally|1538999908000|100010|08:58:28 08-10-2018|\n",
      "|       Dwight Yoakam|Logged In| Darianna|     F|           42|Carpenter| 239.3073| free|            NextSong|       62|      You're The One|1539000149000|100010|09:02:29 08-10-2018|\n",
      "|                null|Logged In| Darianna|     F|           43|Carpenter|     null| free|          Add Friend|       62|                null|1539000150000|100010|09:02:30 08-10-2018|\n",
      "|         John Legend|Logged In| Darianna|     F|           44|Carpenter|228.96281| free|            NextSong|       62|       Stay With You|1539000388000|100010|09:06:28 08-10-2018|\n",
      "|                null|Logged In| Darianna|     F|           45|Carpenter|     null| free|         Roll Advert|       62|                null|1539000413000|100010|09:06:53 08-10-2018|\n",
      "|     Nine Inch Nails|Logged In| Darianna|     F|           46|Carpenter|213.86404| free|            NextSong|       62|    In This Twilight|1539000616000|100010|09:10:16 08-10-2018|\n",
      "|         The Strokes|Logged In| Darianna|     F|           47|Carpenter|151.32689| free|            NextSong|       62|          Is This It|1539000829000|100010|09:13:49 08-10-2018|\n",
      "|                null|Logged In| Darianna|     F|           48|Carpenter|     null| free|         Thumbs Down|       62|                null|1539000830000|100010|09:13:50 08-10-2018|\n",
      "|   Dustin O'Halloran|Logged In| Darianna|     F|           49|Carpenter| 190.1971| free|            NextSong|       62|         Opus No. 12|1539000980000|100010|09:16:20 08-10-2018|\n",
      "|           Underoath|Logged In| Darianna|     F|           50|Carpenter|203.88526| free|            NextSong|       62|The Impact Of Reason|1539001170000|100010|09:19:30 08-10-2018|\n",
      "|                null|Logged In| Darianna|     F|           51|Carpenter|     null| free|     Add to Playlist|       62|                null|1539001173000|100010|09:19:33 08-10-2018|\n",
      "|          Belleruche|Logged In| Darianna|     F|           52|Carpenter| 221.6224| free|            NextSong|       62|      Northern Girls|1539001373000|100010|09:22:53 08-10-2018|\n",
      "|           Buddy Guy|Logged In| Darianna|     F|           53|Carpenter|982.96118| free|            NextSong|       62|The Dollar Done Fell|1539001594000|100010|09:26:34 08-10-2018|\n",
      "|                Muse|Logged In| Darianna|     F|           54|Carpenter|301.73995| free|            NextSong|       62|Butterflies and H...|1539002576000|100010|09:42:56 08-10-2018|\n",
      "|                null|Logged In| Darianna|     F|           55|Carpenter|     null| free|         Roll Advert|       62|                null|1539002587000|100010|09:43:07 08-10-2018|\n",
      "|    Fear My Thoughts|Logged In| Darianna|     F|           56|Carpenter|233.63873| free|            NextSong|       62|  Bound And Weakened|1539002877000|100010|09:47:57 08-10-2018|\n",
      "|Shakira Featuring...|Logged In| Darianna|     F|           57|Carpenter|217.36444| free|            NextSong|       62|Hips Don't Lie (f...|1539003110000|100010|09:51:50 08-10-2018|\n",
      "|    Slightly Stoopid|Logged In| Darianna|     F|           58|Carpenter|204.59057| free|            NextSong|       62|           Bandelero|1539003327000|100010|09:55:27 08-10-2018|\n",
      "|                null|Logged In| Darianna|     F|           59|Carpenter|     null| free|           Thumbs Up|       62|                null|1539003328000|100010|09:55:28 08-10-2018|\n",
      "|   Infected Mushroom|Logged In| Darianna|     F|           60|Carpenter|549.22404| free|            NextSong|       62|         Bust a Move|1539003531000|100010|09:58:51 08-10-2018|\n",
      "|             Genesis|Logged In| Darianna|     F|           61|Carpenter|284.49914| free|            NextSong|       62|   Land Of Confusion|1539004080000|100010|10:08:00 08-10-2018|\n",
      "|                null|Logged In| Darianna|     F|           62|Carpenter|     null| free|              Logout|       62|                null|1539004081000|100010|10:08:01 08-10-2018|\n",
      "|                null|Logged In| Darianna|     F|           65|Carpenter|     null| free|                Home|       62|                null|1539004113000|100010|10:08:33 08-10-2018|\n",
      "|      The Grip Weeds|Logged In| Darianna|     F|           66|Carpenter|180.58404| free|            NextSong|       62|Walking in the Crowd|1539004364000|100010|10:12:44 08-10-2018|\n",
      "|                null|Logged In| Darianna|     F|           67|Carpenter|     null| free|         Roll Advert|       62|                null|1539004373000|100010|10:12:53 08-10-2018|\n",
      "|Sean Kingston and...|Logged In| Darianna|     F|           68|Carpenter| 201.9522| free|            NextSong|       62|        Eenie Meenie|1539004544000|100010|10:15:44 08-10-2018|\n",
      "|          The Winans|Logged In| Darianna|     F|           69|Carpenter| 344.5024| free|            NextSong|       62|Ain't No Need To ...|1539004745000|100010|10:19:05 08-10-2018|\n",
      "|                null|Logged In| Darianna|     F|           70|Carpenter|     null| free|           Thumbs Up|       62|                null|1539004746000|100010|10:19:06 08-10-2018|\n",
      "|                null|Logged In| Darianna|     F|            0|Carpenter|     null| free|                Home|      166|                null|1539242427000|100010|04:20:27 11-10-2018|\n",
      "|               Lange|Logged In| Darianna|     F|            1|Carpenter|463.62077| free|            NextSong|      166|           Wind Farm|1539242431000|100010|04:20:31 11-10-2018|\n",
      "|                null|Logged In| Darianna|     F|            2|Carpenter|     null| free|         Roll Advert|      166|                null|1539242448000|100010|04:20:48 11-10-2018|\n",
      "|                null|Logged In| Darianna|     F|            3|Carpenter|     null| free|         Roll Advert|      166|                null|1539242452000|100010|04:20:52 11-10-2018|\n",
      "|            Harmonia|Logged In| Darianna|     F|            4|Carpenter|655.77751| free|            NextSong|      166|       Sehr kosmisch|1539242894000|100010|04:28:14 11-10-2018|\n",
      "|      Colbie Caillat|Logged In| Darianna|     F|            5|Carpenter|227.02975| free|            NextSong|      166|      It Stops Today|1539243549000|100010|04:39:09 11-10-2018|\n",
      "|        Hayko Cepkin|Logged In| Darianna|     F|            6|Carpenter|307.87873| free|            NextSong|      166|    Hangimiz Masumuz|1539243776000|100010|04:42:56 11-10-2018|\n",
      "|        Sanctus Real|Logged In| Darianna|     F|            7|Carpenter|242.46812| free|            NextSong|      166|Things Like You (...|1539244083000|100010|04:48:03 11-10-2018|\n",
      "|Shaggy / Ricardo ...|Logged In| Darianna|     F|            8|Carpenter|226.76853| free|            NextSong|      166|        It Wasn't Me|1539244325000|100010|04:52:05 11-10-2018|\n",
      "|               Train|Logged In| Darianna|     F|            9|Carpenter|205.45261| free|            NextSong|      166|            Marry Me|1539244551000|100010|04:55:51 11-10-2018|\n",
      "|                null|Logged In| Darianna|     F|           10|Carpenter|     null| free|         Roll Advert|      166|                null|1539244556000|100010|04:55:56 11-10-2018|\n",
      "|                Guts|Logged In| Darianna|     F|           11|Carpenter|229.43302| free|            NextSong|      166|      Everybody Know|1539244756000|100010|04:59:16 11-10-2018|\n",
      "|       The Dreamside|Logged In| Darianna|     F|           12|Carpenter|280.86812| free|            NextSong|      166| Dreaming All of You|1539244985000|100010|05:03:05 11-10-2018|\n",
      "|                null|Logged In| Darianna|     F|           13|Carpenter|     null| free|         Roll Advert|      166|                null|1539245000000|100010|05:03:20 11-10-2018|\n",
      "|      Chavela Vargas|Logged In| Darianna|     F|           14|Carpenter|199.26159| free|            NextSong|      166|        Piensa En Mi|1539245265000|100010|05:07:45 11-10-2018|\n",
      "|            Kid Cudi|Logged In| Darianna|     F|           15|Carpenter|227.34322| free|            NextSong|      166|        Up Up & Away|1539245464000|100010|05:11:04 11-10-2018|\n",
      "|         Beach House|Logged In| Darianna|     F|           16|Carpenter| 265.1424| free|            NextSong|      166|   Heart of Chambers|1539245691000|100010|05:14:51 11-10-2018|\n",
      "|       Radney Foster|Logged In| Darianna|     F|           17|Carpenter|288.96608| free|            NextSong|      166|      Sweet And Wild|1539245956000|100010|05:19:16 11-10-2018|\n",
      "|          John Mayer|Logged In| Darianna|     F|           18|Carpenter|269.71383| free|            NextSong|      166|  Heartbreak Warfare|1539246244000|100010|05:24:04 11-10-2018|\n",
      "|   The Academy Is...|Logged In| Darianna|     F|           19|Carpenter|207.01995| free|            NextSong|      166|Bulls In Brooklyn...|1539246513000|100010|05:28:33 11-10-2018|\n",
      "|                null|Logged In| Darianna|     F|           20|Carpenter|     null| free|         Roll Advert|      166|                null|1539246540000|100010|05:29:00 11-10-2018|\n",
      "|           DJ Khaled|Logged In| Darianna|     F|           21|Carpenter|347.37587| free|            NextSong|      166|On My Way (feat. ...|1539246720000|100010|05:32:00 11-10-2018|\n",
      "|         White Denim|Logged In| Darianna|     F|           22|Carpenter|148.55791| free|            NextSong|      166|        Transparency|1539247067000|100010|05:37:47 11-10-2018|\n",
      "|        Rise Against|Logged In| Darianna|     F|           23|Carpenter|241.50159| free|            NextSong|      166| Whereabouts Unknown|1539247215000|100010|05:40:15 11-10-2018|\n",
      "|      Frankie Avalon|Logged In| Darianna|     F|           24|Carpenter|158.61506| free|            NextSong|      166|Bobby Sox To Stoc...|1539247456000|100010|05:44:16 11-10-2018|\n",
      "|                null|Logged In| Darianna|     F|           25|Carpenter|     null| free|         Roll Advert|      166|                null|1539247477000|100010|05:44:37 11-10-2018|\n",
      "|         Linkin Park|Logged In| Darianna|     F|           26|Carpenter|  439.562| free|            NextSong|      166|The Little Things...|1539247614000|100010|05:46:54 11-10-2018|\n",
      "|                null|Logged In| Darianna|     F|           27|Carpenter|     null| free|         Roll Advert|      166|                null|1539247620000|100010|05:47:00 11-10-2018|\n",
      "|        Starflyer 59|Logged In| Darianna|     F|           28|Carpenter|376.86812| free|            NextSong|      166|When You Feel The...|1539248053000|100010|05:54:13 11-10-2018|\n",
      "|                null|Logged In| Darianna|     F|           29|Carpenter|     null| free|         Roll Advert|      166|                null|1539248078000|100010|05:54:38 11-10-2018|\n",
      "|            Pavement|Logged In| Darianna|     F|           30|Carpenter| 99.16036| free|            NextSong|      166|Mercy:The Laundromat|1539248429000|100010|06:00:29 11-10-2018|\n",
      "|            Coldplay|Logged In| Darianna|     F|           31|Carpenter|225.85424| free|            NextSong|      166|              Sparks|1539248528000|100010|06:02:08 11-10-2018|\n",
      "|                null|Logged In| Darianna|     F|           32|Carpenter|     null| free|             Upgrade|      166|                null|1539248563000|100010|06:02:43 11-10-2018|\n",
      "|                null|Logged In| Darianna|     F|           33|Carpenter|     null| free|             Upgrade|      166|                null|1539248570000|100010|06:02:50 11-10-2018|\n",
      "|                null|Logged In| Darianna|     F|           34|Carpenter|     null| free|          Add Friend|      166|                null|1539248571000|100010|06:02:51 11-10-2018|\n",
      "|                null|Logged In| Darianna|     F|           35|Carpenter|     null| free|          Add Friend|      166|                null|1539248572000|100010|06:02:52 11-10-2018|\n",
      "|              Leo Ku|Logged In| Darianna|     F|           36|Carpenter| 289.2273| free|            NextSong|      166|Shi Wen Ji Liu La...|1539248753000|100010|06:05:53 11-10-2018|\n",
      "|                null|Logged In| Darianna|     F|           37|Carpenter|     null| free|         Roll Advert|      166|                null|1539248788000|100010|06:06:28 11-10-2018|\n",
      "|Kings Of Convenience|Logged In| Darianna|     F|           38|Carpenter|228.41424| free|            NextSong|      166|Love Is No Big Truth|1539249042000|100010|06:10:42 11-10-2018|\n",
      "|           autoKratz|Logged In| Darianna|     F|           39|Carpenter|277.05424| free|            NextSong|      166|Pardon GarÃÂ§on ...|1539249270000|100010|06:14:30 11-10-2018|\n",
      "|      Bebel Gilberto|Logged In| Darianna|     F|           40|Carpenter|288.86159| free|            NextSong|      166|Bananeira - Rae &...|1539249547000|100010|06:19:07 11-10-2018|\n",
      "|                null|Logged In| Darianna|     F|           41|Carpenter|     null| free|         Roll Advert|      166|                null|1539249597000|100010|06:19:57 11-10-2018|\n",
      "|          Nickelback|Logged In| Darianna|     F|           42|Carpenter|224.13016| free|            NextSong|      166|   How You Remind Me|1539249835000|100010|06:23:55 11-10-2018|\n",
      "| My Chemical Romance|Logged In| Darianna|     F|           43|Carpenter|203.04934| free|            NextSong|      166|Helena (So Long &...|1539250059000|100010|06:27:39 11-10-2018|\n",
      "|         Salt-N-Pepa|Logged In| Darianna|     F|           44|Carpenter|207.62077| free|            NextSong|      166|             Push It|1539250262000|100010|06:31:02 11-10-2018|\n",
      "|Tom Petty And The...|Logged In| Darianna|     F|           45|Carpenter|238.21016| free|            NextSong|      166|         The Waiting|1539250469000|100010|06:34:29 11-10-2018|\n",
      "|                null|Logged In| Darianna|     F|           46|Carpenter|     null| free|           Thumbs Up|      166|                null|1539250470000|100010|06:34:30 11-10-2018|\n",
      "|         Darwin Deez|Logged In| Darianna|     F|           47|Carpenter|189.83138| free|            NextSong|      166|      Radar Detector|1539250707000|100010|06:38:27 11-10-2018|\n",
      "|          Fly Pan Am|Logged In| Darianna|     F|           48|Carpenter| 221.1522| free|            NextSong|      166|     Arcades-Pamelor|1539250896000|100010|06:41:36 11-10-2018|\n",
      "|       Faith No More|Logged In| Darianna|     F|           49|Carpenter|  257.802| free|            NextSong|      166|      Midlife Crisis|1539251117000|100010|06:45:17 11-10-2018|\n",
      "|    Carlos Y JosÃÂ©|Logged In| Darianna|     F|           50|Carpenter|181.34159| free|            NextSong|      166|   Corrido Al Torero|1539251374000|100010|06:49:34 11-10-2018|\n",
      "|Eliades Ochoa Y E...|Logged In| Darianna|     F|           51|Carpenter|356.33587| free|            NextSong|      166|Me Voy Pa Sibanic...|1539251555000|100010|06:52:35 11-10-2018|\n",
      "|       Brooks & Dunn|Logged In| Darianna|     F|           52|Carpenter|238.52363| free|            NextSong|      166|If You See Him / ...|1539251911000|100010|06:58:31 11-10-2018|\n",
      "|           Silentium|Logged In| Darianna|     F|           53|Carpenter|267.49342| free|            NextSong|      166|  With Blood Adorned|1539252149000|100010|07:02:29 11-10-2018|\n",
      "|        Dar Williams|Logged In| Darianna|     F|           54|Carpenter|227.23873| free|            NextSong|      166|              Empire|1539252416000|100010|07:06:56 11-10-2018|\n",
      "|         Spice Girls|Logged In| Darianna|     F|           55|Carpenter|271.59465| free|            NextSong|      166|            Too Much|1539252643000|100010|07:10:43 11-10-2018|\n",
      "|           Santogold|Logged In| Darianna|     F|           56|Carpenter|224.44363| free|            NextSong|      166|Shove It [feat. S...|1539252914000|100010|07:15:14 11-10-2018|\n",
      "|                 JET|Logged In| Darianna|     F|           57|Carpenter|213.81179| free|            NextSong|      166|Are You Gonna Be ...|1539253138000|100010|07:18:58 11-10-2018|\n",
      "|       Alison Krauss|Logged In| Darianna|     F|           58|Carpenter|210.28526| free|            NextSong|      166|Tonight I'll Be L...|1539253351000|100010|07:22:31 11-10-2018|\n",
      "|                null|Logged In| Darianna|     F|           59|Carpenter|     null| free|         Thumbs Down|      166|                null|1539253352000|100010|07:22:32 11-10-2018|\n",
      "|            Ill Nino|Logged In| Darianna|     F|           60|Carpenter| 188.9171| free|            NextSong|      166|How Can I Live (S...|1539253561000|100010|07:26:01 11-10-2018|\n",
      "|            BjÃÂ¶rk|Logged In| Darianna|     F|           61|Carpenter|348.57751| free|            NextSong|      166|                Undo|1539253749000|100010|07:29:09 11-10-2018|\n",
      "|                null|Logged In| Darianna|     F|           62|Carpenter|     null| free|         Roll Advert|      166|                null|1539253766000|100010|07:29:26 11-10-2018|\n",
      "|        The Features|Logged In| Darianna|     F|           63|Carpenter|182.12526| free|            NextSong|      166|         Blow It Out|1539254097000|100010|07:34:57 11-10-2018|\n",
      "|Barry Tuckwell/Ac...|Logged In| Darianna|     F|           64|Carpenter|277.15873| free|            NextSong|      166|Horn Concerto No....|1539254279000|100010|07:37:59 11-10-2018|\n",
      "|                null|Logged In| Darianna|     F|           65|Carpenter|     null| free|         Roll Advert|      166|                null|1539254304000|100010|07:38:24 11-10-2018|\n",
      "|                null|Logged In| Darianna|     F|           66|Carpenter|     null| free|              Cancel|      166|                null|1539254305000|100010|07:38:25 11-10-2018|\n",
      "|                null|Cancelled| Darianna|     F|           67|Carpenter|     null| free|Cancellation Conf...|      166|                null|1539254318000|100010|07:38:38 11-10-2018|\n",
      "+--------------------+---------+---------+------+-------------+---------+---------+-----+--------------------+---------+--------------------+-------------+------+-------------------+\n",
      "\n"
     ]
    }
   ],
   "source": [
    "df.where(df.userId == user_id).select(['artist',\n",
    " 'auth',\n",
    " 'firstName',\n",
    " 'gender',\n",
    " 'itemInSession',\n",
    " 'lastName',\n",
    " 'length',\n",
    " 'level', \n",
    " 'page',\n",
    " 'sessionId',\n",
    " 'song', \n",
    " 'ts', \n",
    " 'userId']).orderBy('sessionId', 'itemInSession').withColumn('datetime', date_format((df.ts/1000).cast(dataType=TimestampType()), 'HH:mm:ss dd-MM-YYYY')).show(350, True)"
   ]
  },
  {
   "cell_type": "markdown",
   "metadata": {},
   "source": [
    "# Modeling\n",
    "Split the full dataset into train, test, and validation sets. Test out several of the machine learning methods you learned. Evaluate the accuracy of the various models, tuning parameters as necessary. Determine your winning model based on test accuracy and report results on the validation set. Since the churned users are a fairly small subset, I suggest using F1 score as the metric to optimize."
   ]
  },
  {
   "cell_type": "code",
   "execution_count": null,
   "metadata": {},
   "outputs": [],
   "source": []
  },
  {
   "cell_type": "markdown",
   "metadata": {},
   "source": [
    "# Final Steps\n",
    "Clean up your code, adding comments and renaming variables to make the code easier to read and maintain. Refer to the Spark Project Overview page and Data Scientist Capstone Project Rubric to make sure you are including all components of the capstone project and meet all expectations. Remember, this includes thorough documentation in a README file in a Github repository, as well as a web app or blog post."
   ]
  },
  {
   "cell_type": "code",
   "execution_count": null,
   "metadata": {},
   "outputs": [],
   "source": []
  }
 ],
 "metadata": {
  "kernelspec": {
   "display_name": "Python 3",
   "language": "python",
   "name": "python3"
  },
  "language_info": {
   "codemirror_mode": {
    "name": "ipython",
    "version": 3
   },
   "file_extension": ".py",
   "mimetype": "text/x-python",
   "name": "python",
   "nbconvert_exporter": "python",
   "pygments_lexer": "ipython3",
   "version": "3.7.4"
  }
 },
 "nbformat": 4,
 "nbformat_minor": 4
}
