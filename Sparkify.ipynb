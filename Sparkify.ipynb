{
 "cells": [
  {
   "cell_type": "markdown",
   "metadata": {},
   "source": [
    "# Sparkify Project Workspace\n",
    "This workspace contains a tiny subset (128MB) of the full dataset available (12GB). Feel free to use this workspace to build your project, or to explore a smaller subset with Spark before deploying your cluster on the cloud. Instructions for setting up your Spark cluster is included in the last lesson of the Extracurricular Spark Course content.\n",
    "\n",
    "You can follow the steps below to guide your data analysis and model building portion of this project."
   ]
  },
  {
   "cell_type": "code",
   "execution_count": 1,
   "metadata": {
    "ExecuteTime": {
     "end_time": "2020-05-11T23:45:31.175451Z",
     "start_time": "2020-05-11T23:45:31.087686Z"
    },
    "scrolled": true
   },
   "outputs": [],
   "source": [
    "import os\n",
    "\n",
    "import findspark\n",
    "\n",
    "# findspark.init('/home/brunowdev/spark-2.4.5-bin-hadoop2.6/')\n",
    "\n",
    "findspark.init('/home/bruno/LIBS/spark')\n",
    "\n",
    "import evaluators"
   ]
  },
  {
   "cell_type": "code",
   "execution_count": 2,
   "metadata": {
    "ExecuteTime": {
     "end_time": "2020-05-11T23:45:32.401605Z",
     "start_time": "2020-05-11T23:45:32.054777Z"
    }
   },
   "outputs": [
    {
     "data": {
      "text/html": [
       "<style>.container { width:100% !important; }</style>"
      ],
      "text/plain": [
       "<IPython.core.display.HTML object>"
      ]
     },
     "metadata": {},
     "output_type": "display_data"
    }
   ],
   "source": [
    "from datetime import datetime\n",
    "\n",
    "import numpy as np\n",
    "\n",
    "from sklearn.metrics import confusion_matrix\n",
    "\n",
    "from pyspark.sql import SparkSession\n",
    "\n",
    "from pyspark.sql.functions import min as smin, max as smax, sum as ssum, round as sround, abs as sabs, pow as spow\n",
    "from pyspark.sql.functions import isnan, isnull, when, first, avg, sqrt, last, count, countDistinct, col, lag, lead, coalesce, lit, split, trim\n",
    "\n",
    "from pyspark.sql.window import Window\n",
    "from pyspark.sql.functions import to_date, date_format, from_unixtime, to_timestamp\n",
    "\n",
    "from pyspark.sql.types import DateType, TimestampType, IntegerType\n",
    " \n",
    "import jupyter_utils as j\n",
    "\n",
    "from pyspark import SparkContext\n",
    "\n",
    "from pyspark.ml import Pipeline\n",
    "from pyspark.ml.classification import RandomForestClassifier, GBTClassifier, DecisionTreeClassifier\n",
    "from pyspark.ml.feature import IndexToString, StringIndexer, VectorIndexer, VectorAssembler\n",
    "from pyspark.ml.evaluation import MulticlassClassificationEvaluator\n",
    "from pyspark.ml.feature import StandardScaler, MaxAbsScaler, Normalizer, MinMaxScaler, StringIndexer, VectorAssembler\n",
    "\n",
    "from pyspark.ml.tuning import CrossValidator, ParamGridBuilder\n",
    "from pyspark.ml.evaluation import BinaryClassificationEvaluator\n",
    " \n",
    "from pyspark.ml.evaluation import BinaryClassificationEvaluator, Evaluator\n",
    "from pyspark import since, keyword_only\n",
    "\n",
    "from sklearn.metrics import roc_auc_score, roc_curve, auc, classification_report\n"
   ]
  },
  {
   "cell_type": "code",
   "execution_count": 3,
   "metadata": {
    "ExecuteTime": {
     "end_time": "2020-05-11T23:45:34.121029Z",
     "start_time": "2020-05-11T23:45:34.115436Z"
    }
   },
   "outputs": [
    {
     "data": {
      "text/html": [
       "<style>.container { width:100% !important; }</style>"
      ],
      "text/plain": [
       "<IPython.core.display.HTML object>"
      ]
     },
     "metadata": {},
     "output_type": "display_data"
    }
   ],
   "source": [
    "j.reload(j)"
   ]
  },
  {
   "cell_type": "code",
   "execution_count": 4,
   "metadata": {
    "ExecuteTime": {
     "end_time": "2020-05-11T23:45:34.868622Z",
     "start_time": "2020-05-11T23:45:34.860856Z"
    }
   },
   "outputs": [],
   "source": [
    "spark = SparkSession \\\n",
    "    .builder \\\n",
    "    .appName(\"Sparkify\") \\\n",
    "    .getOrCreate()\n",
    "\n",
    "spark.sparkContext.setLogLevel('INFO')"
   ]
  },
  {
   "cell_type": "code",
   "execution_count": 5,
   "metadata": {
    "ExecuteTime": {
     "end_time": "2020-05-11T23:45:36.122538Z",
     "start_time": "2020-05-11T23:45:36.092434Z"
    }
   },
   "outputs": [
    {
     "data": {
      "text/plain": [
       "[('spark.sql.catalogImplementation', 'hive'),\n",
       " ('spark.driver.memory', '6g'),\n",
       " ('spark.rdd.compress', 'True'),\n",
       " ('spark.app.name', 'Sparkify'),\n",
       " ('spark.serializer.objectStreamReset', '100'),\n",
       " ('spark.app.id', 'local-1589240730336'),\n",
       " ('spark.master', 'local[*]'),\n",
       " ('spark.executor.id', 'driver'),\n",
       " ('spark.submit.deployMode', 'client'),\n",
       " ('spark.driver.port', '34785'),\n",
       " ('spark.driver.host', '192.168.0.102'),\n",
       " ('spark.ui.showConsoleProgress', 'true')]"
      ]
     },
     "execution_count": 5,
     "metadata": {},
     "output_type": "execute_result"
    }
   ],
   "source": [
    "spark.sparkContext.getConf().getAll()"
   ]
  },
  {
   "cell_type": "markdown",
   "metadata": {},
   "source": [
    "# Load and Clean Dataset\n",
    "In this workspace, the mini-dataset file is `mini_sparkify_event_data.json`. Load and clean the dataset, checking for invalid or missing data - for example, records without userids or sessionids. "
   ]
  },
  {
   "cell_type": "code",
   "execution_count": 6,
   "metadata": {
    "ExecuteTime": {
     "end_time": "2020-05-11T23:45:37.580906Z",
     "start_time": "2020-05-11T23:45:37.571501Z"
    }
   },
   "outputs": [],
   "source": [
    "def spark_read(spark):\n",
    "    return spark.read.option('inferSchema', 'true').option('header', 'true').option('encoding', 'utf-8')\n",
    "\n",
    "def load_medium_json_file(spark):\n",
    "    df = spark_read(spark).json('medium_sparkify_event_data.json')\n",
    "    return df\n",
    "    \n",
    "def load_full_json_file(spark):\n",
    "    df = spark_read(spark).json('full_sparkify_event_data.json')\n",
    "    return df\n",
    "\n",
    "def load_full_csv_file(spark):\n",
    "    df = spark_read(spark).csv('sparkify_full_csv_data.csv')\n",
    "    return df"
   ]
  },
  {
   "cell_type": "code",
   "execution_count": 8,
   "metadata": {
    "ExecuteTime": {
     "end_time": "2020-05-10T21:33:49.994048Z",
     "start_time": "2020-05-10T21:33:38.073380Z"
    }
   },
   "outputs": [],
   "source": [
    "df = load_full_csv_file(spark)"
   ]
  },
  {
   "cell_type": "code",
   "execution_count": 7,
   "metadata": {
    "ExecuteTime": {
     "end_time": "2020-05-11T23:46:41.921667Z",
     "start_time": "2020-05-11T23:45:46.810391Z"
    }
   },
   "outputs": [],
   "source": [
    "df = load_full_json_file(spark)"
   ]
  },
  {
   "cell_type": "code",
   "execution_count": 8,
   "metadata": {
    "ExecuteTime": {
     "end_time": "2020-05-11T23:47:05.057752Z",
     "start_time": "2020-05-11T23:47:04.983137Z"
    }
   },
   "outputs": [
    {
     "data": {
      "text/plain": [
       "DataFrame[artist: string, auth: string, firstName: string, gender: string, itemInSession: bigint, lastName: string, length: double, level: string, location: string, method: string, page: string, registration: bigint, sessionId: bigint, song: string, status: bigint, ts: bigint, userAgent: string, userId: string]"
      ]
     },
     "execution_count": 8,
     "metadata": {},
     "output_type": "execute_result"
    }
   ],
   "source": [
    "df.cache()"
   ]
  },
  {
   "cell_type": "code",
   "execution_count": 9,
   "metadata": {
    "ExecuteTime": {
     "end_time": "2020-05-11T23:47:05.863010Z",
     "start_time": "2020-05-11T23:47:05.851972Z"
    }
   },
   "outputs": [
    {
     "name": "stdout",
     "output_type": "stream",
     "text": [
      "Logger instance created\n"
     ]
    }
   ],
   "source": [
    "log4jLogger = spark.sparkContext._jvm.org.apache.log4j\n",
    "\n",
    "LOGGER = log4jLogger.LogManager.getLogger('driver_logger')\n",
    "\n",
    "def info(message, print_on_notebook = True):\n",
    "    LOGGER.info(message)\n",
    "    \n",
    "    if print_on_notebook:\n",
    "        print(message)\n",
    "    \n",
    "info('Logger instance created')"
   ]
  },
  {
   "cell_type": "code",
   "execution_count": 10,
   "metadata": {
    "ExecuteTime": {
     "end_time": "2020-05-11T23:47:07.707724Z",
     "start_time": "2020-05-11T23:47:07.691767Z"
    }
   },
   "outputs": [],
   "source": [
    "from pyspark import StorageLevel\n",
    "\n",
    "def set_storage_on_memory(df):\n",
    "    df.persist(StorageLevel.MEMORY_ONLY)\n",
    "    \n",
    "set_storage_on_memory(df)"
   ]
  },
  {
   "cell_type": "code",
   "execution_count": 11,
   "metadata": {
    "ExecuteTime": {
     "end_time": "2020-05-11T23:48:11.404038Z",
     "start_time": "2020-05-11T23:47:13.256460Z"
    }
   },
   "outputs": [
    {
     "data": {
      "text/plain": [
       "26259199"
      ]
     },
     "execution_count": 11,
     "metadata": {},
     "output_type": "execute_result"
    }
   ],
   "source": [
    "df.count()"
   ]
  },
  {
   "cell_type": "code",
   "execution_count": 12,
   "metadata": {
    "ExecuteTime": {
     "end_time": "2020-05-11T23:48:36.564637Z",
     "start_time": "2020-05-11T23:48:36.550571Z"
    }
   },
   "outputs": [
    {
     "name": "stdout",
     "output_type": "stream",
     "text": [
      "root\n",
      " |-- artist: string (nullable = true)\n",
      " |-- auth: string (nullable = true)\n",
      " |-- firstName: string (nullable = true)\n",
      " |-- gender: string (nullable = true)\n",
      " |-- itemInSession: long (nullable = true)\n",
      " |-- lastName: string (nullable = true)\n",
      " |-- length: double (nullable = true)\n",
      " |-- level: string (nullable = true)\n",
      " |-- location: string (nullable = true)\n",
      " |-- method: string (nullable = true)\n",
      " |-- page: string (nullable = true)\n",
      " |-- registration: long (nullable = true)\n",
      " |-- sessionId: long (nullable = true)\n",
      " |-- song: string (nullable = true)\n",
      " |-- status: long (nullable = true)\n",
      " |-- ts: long (nullable = true)\n",
      " |-- userAgent: string (nullable = true)\n",
      " |-- userId: string (nullable = true)\n",
      "\n"
     ]
    }
   ],
   "source": [
    "df.printSchema()"
   ]
  },
  {
   "cell_type": "code",
   "execution_count": 15,
   "metadata": {
    "ExecuteTime": {
     "end_time": "2020-05-11T23:49:14.940819Z",
     "start_time": "2020-05-11T23:49:14.926873Z"
    }
   },
   "outputs": [],
   "source": [
    "CHURN_CANCELLATION_PAGE = 'Cancellation Confirmation'\n",
    "REGISTRATION_PAGE = 'Submit Registration'\n",
    "milliseconds_to_hours = 3600 * 1000\n",
    "minutes_to_hours = 60 * 60\n",
    "TRUE = 1\n",
    "FALSE = 0\n",
    "\n",
    "def clean_dataframe(df):\n",
    "    \n",
    "    info('Starting data cleaning...')\n",
    "    \n",
    "    total_before = df.count()\n",
    "    \n",
    "    # Keep only logged records\n",
    "    df = df.where(df.auth.isin(['Logged In', 'Cancelled']))\n",
    "    \n",
    "    # Records without userId\n",
    "    df = df.where(col('userId').isNotNull())\n",
    "    \n",
    "    # Create a date column for the event\n",
    "    df = df.withColumn('date', from_unixtime(col('ts') / 1000).cast(DateType()))\n",
    "    \n",
    "    # Relevant windows\n",
    "    w_session = Window.partitionBy('sessionId').orderBy('ts')\n",
    "    w_user_session = Window.partitionBy('sessionId', 'userId').orderBy('ts').rangeBetween(Window.unboundedPreceding, Window.unboundedFollowing)\n",
    "    w_user = Window.partitionBy('userId').orderBy('ts').rangeBetween(Window.unboundedPreceding, Window.unboundedFollowing)\n",
    "    \n",
    "    # Create features\n",
    "    df = df.withColumn('previous_page', lag(df.page).over(w_session))\n",
    "    df = df.withColumn('last_event_ts', last(col('ts')).over(w_user))\n",
    "    df = df.withColumn('last_page', last(col('page')).over(w_user))\n",
    "    df = df.withColumn('register_page', first(col('previous_page')).over(w_user))\n",
    "    df = df.withColumn('first_ts', first(col('ts')).over(w_user))\n",
    "    df = df.withColumn('ts_elapsed', last(df.ts).over(w_session) - first(df.ts).over(w_user_session))\n",
    "    df = df.withColumn('session_duration', smax(df.ts_elapsed).over(w_user_session))\n",
    "     \n",
    "    info('Finished data cleaning...')\n",
    "    info(f'Number of removed rows: {total_before - df.count()}')\n",
    "    \n",
    "    return df"
   ]
  },
  {
   "cell_type": "code",
   "execution_count": 16,
   "metadata": {
    "ExecuteTime": {
     "end_time": "2020-05-11T23:49:17.000490Z",
     "start_time": "2020-05-11T23:49:15.668239Z"
    }
   },
   "outputs": [
    {
     "name": "stdout",
     "output_type": "stream",
     "text": [
      "Starting data cleaning...\n",
      "Finished data cleaning...\n",
      "Number of removed rows: 778479\n"
     ]
    }
   ],
   "source": [
    "df = clean_dataframe(df)"
   ]
  },
  {
   "cell_type": "markdown",
   "metadata": {},
   "source": [
    "# Exploratory Data Analysis\n",
    "When you're working with the full dataset, perform EDA by loading a small subset of the data and doing basic manipulations within Spark. In this workspace, you are already provided a small subset of data you can explore.\n",
    "\n",
    "### Define Churn\n",
    "\n",
    "Once you've done some preliminary analysis, create a column `Churn` to use as the label for your model. I suggest using the `Cancellation Confirmation` events to define your churn, which happen for both paid and free users. As a bonus task, you can also look into the `Downgrade` events.\n",
    "\n",
    "### Explore Data\n",
    "Once you've defined churn, perform some exploratory data analysis to observe the behavior for users who stayed vs users who churned. You can start by exploring aggregates on these two groups of users, observing how much of a specific action they experienced per a certain time unit or number of songs played."
   ]
  },
  {
   "cell_type": "code",
   "execution_count": 16,
   "metadata": {
    "ExecuteTime": {
     "end_time": "2020-05-10T22:13:01.563485Z",
     "start_time": "2020-05-10T22:13:00.057594Z"
    }
   },
   "outputs": [
    {
     "name": "stdout",
     "output_type": "stream",
     "text": [
      "+--------------------+--------+\n",
      "|                page|   count|\n",
      "+--------------------+--------+\n",
      "|            NextSong|20850272|\n",
      "|                Home| 1343102|\n",
      "|           Thumbs Up| 1151465|\n",
      "|     Add to Playlist|  597921|\n",
      "|         Roll Advert|  385212|\n",
      "|          Add Friend|  381664|\n",
      "|               Login|  296350|\n",
      "|              Logout|  296005|\n",
      "|         Thumbs Down|  239212|\n",
      "|           Downgrade|  184240|\n",
      "|                Help|  155100|\n",
      "|            Settings|  147074|\n",
      "|               About|   92759|\n",
      "|             Upgrade|   50507|\n",
      "|       Save Settings|   29516|\n",
      "|               Error|   25962|\n",
      "|      Submit Upgrade|   15135|\n",
      "|    Submit Downgrade|    6494|\n",
      "|              Cancel|    5003|\n",
      "|Cancellation Conf...|    5003|\n",
      "|            Register|     802|\n",
      "| Submit Registration|     401|\n",
      "+--------------------+--------+\n",
      "\n"
     ]
    }
   ],
   "source": [
    "df.groupBy('page').count().orderBy('count', ascending = False).show(50)"
   ]
  },
  {
   "cell_type": "markdown",
   "metadata": {},
   "source": [
    "Some questions about the data:\n",
    "\n",
    "- Are errors related to downgrading canceling the service?\n",
    "- Having a certain number of friends or a sense of community can decrease the churn?\n",
    "- Thumbs down are related to churn? (could the quality of the songs catalog affect the churn)\n",
    "- The advertising is not annoying the users?\n",
    "- Users with stay connected for more time have less change to churn?\n",
    "- Is the home page relevant?\n",
    "- Users, who access the downgrade page are how much more willing to churn?"
   ]
  },
  {
   "cell_type": "code",
   "execution_count": null,
   "metadata": {
    "ExecuteTime": {
     "end_time": "2020-03-08T18:30:06.259628Z",
     "start_time": "2020-03-08T18:30:05.841058Z"
    }
   },
   "outputs": [],
   "source": [
    "df.groupBy('status').count().orderBy('count', ascending = False).show(20)"
   ]
  },
  {
   "cell_type": "code",
   "execution_count": null,
   "metadata": {
    "ExecuteTime": {
     "end_time": "2020-03-01T22:44:01.657485Z",
     "start_time": "2020-03-01T22:44:01.094695Z"
    }
   },
   "outputs": [],
   "source": [
    "df.filter('userId = 92').groupBy('page').count().orderBy('count', ascending = False).show(50)"
   ]
  },
  {
   "cell_type": "code",
   "execution_count": null,
   "metadata": {
    "ExecuteTime": {
     "end_time": "2020-03-08T18:30:16.616860Z",
     "start_time": "2020-03-08T18:30:16.073824Z"
    }
   },
   "outputs": [],
   "source": [
    "df.filter('userId = 92').groupBy('page').count().orderBy('count', ascending = False).show(50)"
   ]
  },
  {
   "cell_type": "code",
   "execution_count": null,
   "metadata": {
    "ExecuteTime": {
     "end_time": "2020-03-08T18:30:29.650593Z",
     "start_time": "2020-03-08T18:30:29.435808Z"
    }
   },
   "outputs": [],
   "source": [
    "df.filter('userId = 92').groupBy('userAgent').count().orderBy('count', ascending = False).show(50, False)"
   ]
  },
  {
   "cell_type": "code",
   "execution_count": null,
   "metadata": {
    "ExecuteTime": {
     "end_time": "2020-03-08T18:30:37.323100Z",
     "start_time": "2020-03-08T18:30:36.828209Z"
    }
   },
   "outputs": [],
   "source": [
    "df.filter('userId = 92 and song != \\'null\\' ').groupBy('song').count().orderBy('count', ascending = False).show(50, False)"
   ]
  },
  {
   "cell_type": "markdown",
   "metadata": {},
   "source": [
    "# Feature Engineering\n",
    "Once you've familiarized yourself with the data, build out the features you find promising to train your model on. To work with the full dataset, you can follow the following steps.\n",
    "- Write a script to extract the necessary features from the smaller subset of data\n",
    "- Ensure that your script is scalable, using the best practices discussed in Lesson 3\n",
    "- Try your script on the full data set, debugging your script if necessary\n",
    "\n",
    "If you are working in the classroom workspace, you can just extract features based on the small subset of data contained here. Be sure to transfer over this work to the larger dataset when you work on your Spark cluster."
   ]
  },
  {
   "cell_type": "code",
   "execution_count": 17,
   "metadata": {
    "ExecuteTime": {
     "end_time": "2020-05-11T23:54:18.231104Z",
     "start_time": "2020-05-11T23:54:18.194496Z"
    }
   },
   "outputs": [],
   "source": [
    "def create_session_dimension(df):\n",
    "    \n",
    "    # sessions from the user\n",
    "    df_sessions = df.orderBy(df.sessionId).groupBy('sessionId', 'userId').agg(\n",
    "        smax(df.ts).alias('max_event_ts'),\n",
    "        smin(df.ts).alias('min_event_ts'),\n",
    "        ssum(df.length).alias('session_n_total_playback'), # Based on songs length\n",
    "        count(when(df.page == 'Thumbs Up', True)).alias(\"session_n_likes\"),\n",
    "        count(when(df.page == 'Thumbs Down', True)).alias(\"session_n_dislikes\"),\n",
    "        count(when(df.page == 'NextSong', True)).alias(\"session_n_songs\"),\n",
    "        count(when(df.page == 'Add Friend', True)).alias(\"session_n_friends\"),\n",
    "        count(when(df.page == 'Add to Playlist', True)).alias(\"session_n_add_playlist\"),\n",
    "        count(when(df.page == 'Home', True)).alias(\"session_n_home\"),\n",
    "        count(when(df.page == 'Roll Advert', True)).alias(\"session_n_ads\"),\n",
    "        count(when(df.page == 'Help', True)).alias(\"session_n_help\"),\n",
    "        count(when(df.page == 'Error', True)).alias(\"session_n_error\"),\n",
    "        count(when(df.page == 'Settings', True)).alias(\"session_n_sets\"),\n",
    "        count(col('page')).alias('session_n_actions'),\n",
    "        first(col('session_duration')).alias('session_duration')\n",
    "    ) \n",
    "    \n",
    "    # Calculate the interval until the next session\n",
    "    w_user_sessions_interval = Window.partitionBy('userId').orderBy('min_event_ts')\n",
    "    df_sessions = df_sessions.withColumn('interval_to_session', col('min_event_ts') - lag(col('max_event_ts')).over(w_user_sessions_interval))\n",
    "    \n",
    "    # Calculate average time in hours for each session\n",
    "    df_session_time = df_sessions.groupBy('userId').agg(\n",
    "        # (avg(df_sessions.session_duration) / milliseconds_to_hours).alias('session_hours')\n",
    "        (avg(df_sessions.session_n_total_playback) / minutes_to_hours).alias('session_hours_playing')\n",
    "    )\n",
    "    df_sessions = df_sessions.join(df_session_time, on = 'userId')\n",
    "    \n",
    "    # We should remove the null lines before count/group to not account 2 times the mean interval\n",
    "    df_sessions = df_sessions.groupBy('userId').agg(  \n",
    "        (avg(df_sessions.interval_to_session) / milliseconds_to_hours).alias('session_avg_time_away'),\n",
    "        ((avg(df_sessions.session_n_total_playback) / minutes_to_hours) / first(col('session_hours_playing'))).alias('session_avg_playback'), \n",
    "        (avg(df_sessions.session_n_likes) / first(col('session_hours_playing'))).alias('session_avg_likes'),\n",
    "        (avg(df_sessions.session_n_dislikes) / first(col('session_hours_playing'))).alias('session_avg_dislikes'),\n",
    "        (avg(df_sessions.session_n_songs) / first(col('session_hours_playing'))).alias('session_avg_songs'),\n",
    "        (avg(df_sessions.session_n_friends) / first(col('session_hours_playing'))).alias('session_avg_friends'),\n",
    "        (avg(df_sessions.session_n_add_playlist) / first(col('session_hours_playing'))).alias('session_avg_added_playlist'),\n",
    "        (avg(df_sessions.session_n_home) / first(col('session_hours_playing'))).alias('session_avg_home'),\n",
    "        (avg(df_sessions.session_n_ads) / first(col('session_hours_playing'))).alias('session_avg_ads'),\n",
    "        (avg(df_sessions.session_n_help) / first(col('session_hours_playing'))).alias('session_avg_help'),\n",
    "        (avg(df_sessions.session_n_error) / first(col('session_hours_playing'))).alias('session_avg_errors'),\n",
    "        (avg(df_sessions.session_n_sets) / first(col('session_hours_playing'))).alias('session_avg_settings'),\n",
    "        (avg(df_sessions.session_n_actions) / first(col('session_hours_playing'))).alias('session_avg_actions')\n",
    "    )\n",
    "    \n",
    "    return df_sessions\n",
    "\n",
    "def create_user_dimension(df):\n",
    "    \n",
    "    df_user_profile = df.groupby('userId')\\\n",
    "        .agg( \n",
    "\n",
    "            # first(col('state')).alias('state'),\n",
    "            first(when(col('gender') == 'M', TRUE).otherwise(FALSE)).alias('male'),\n",
    "\n",
    "            smin(col('first_ts')).alias('ts_start'),\n",
    "            smax(col('last_event_ts')).alias('ts_end'),        \n",
    "        \n",
    "            ((smax(col('last_event_ts')) - smin(col('first_ts'))) / milliseconds_to_hours).alias('time_window'),\n",
    "        \n",
    "            # Subscription\n",
    "            count(when(col('page') == 'Submit Downgrade', True)).alias('n_downgrades'),\n",
    "            count(when(col('page') == 'Submit Upgrade', True)).alias('n_upgrades'),\n",
    "            last(when(col('level') == 'paid', TRUE).otherwise(FALSE)).alias('paid'),\n",
    "            first(when(col('last_page') == CHURN_CANCELLATION_PAGE, TRUE).otherwise(FALSE)).alias('canceled'),\n",
    "\n",
    "            # Streaming\n",
    "            count(when(col('page') == 'NextSong', True)).alias('n_songs'),\n",
    "            count(when(col('page') == 'Thumbs Up', True)).alias('n_likes'),\n",
    "            count(when(col('page') == 'Thumbs Down', True)).alias('n_dislikes'),\n",
    "\n",
    "            (count(when(col('page') == 'NextSong', True))/count(when(col('page') == 'Roll Advert', True))).alias('n_ads_over_songs'),\n",
    "            (count(when(col('page') == 'NextSong', True))/count(when(col('page') == 'Thumbs Up', True))).alias('n_likes_over_songs'),\n",
    "            (count(when(col('page') == 'NextSong', True))/count(when(col('page') == 'Thumbs Down', True))).alias('n_dislikes_over_songs'),\n",
    "            (count(when(col('page') == 'Thumbs Up', True))/count(when(col('page') == 'Thumbs Down', True))).alias('n_likes_over_dislikes'),\n",
    "\n",
    "            countDistinct(col('sessionId')).alias('n_sess'),\n",
    "            (avg(col('session_duration')) / milliseconds_to_hours).alias('avg_session_duration'),\n",
    "\n",
    "            # Community\n",
    "            count(when(col('page') == 'Add Friend', True)).alias('n_friends'),\n",
    "            count(when(col('page') == 'Add to Playlist', True)).alias('n_added_to_playlist'),\n",
    "\n",
    "            # Other\n",
    "            count(when(col('page') == 'Home', True)).alias('n_home'),\n",
    "            count(when(col('page') == 'Roll Advert', True)).alias('n_ads'),\n",
    "            count(when(col('page') == 'Help', True)).alias('n_help'),\n",
    "            count(when(col('page') == 'Error', True)).alias('n_errors'),\n",
    "            count(when(col('page') == 'Settings', True)).alias('n_settings'),\n",
    "            count(col('page')).alias('n_actions')\n",
    "        )\n",
    "    \n",
    "    \n",
    "    # Location\n",
    "    # states = list(map(lambda c: c[0].strip(), df.select(['state']).distinct().rdd.collect()))\n",
    "    # for state in states:\n",
    "    #    df_user_profile = df_user_profile.withColumn(state.lower(), when(df_user_profile.state == state, 1).otherwise(0))\n",
    "    \n",
    "    return df_user_profile\n",
    "\n",
    "def create_days_dimension(df):\n",
    "    \n",
    "    df_unique_days = df.groupby('userId').agg(countDistinct('date').alias('n_days'))\n",
    "    \n",
    "    df_daily_actions = df.groupby('userId', 'date').agg(count('page').alias('total'))\n",
    "    df_daily_actions = df_daily_actions.groupby('userId').agg(avg('total').alias('avg_daily_actions')) \n",
    "\n",
    "    df_days = df_unique_days.join(df_daily_actions, df_unique_days.userId == df_daily_actions.userId)\n",
    "    \n",
    "    # Remove duplicated column after join\n",
    "    df_days = df_days.drop(df_daily_actions.userId)\n",
    "    \n",
    "    return df_days\n",
    "\n",
    "def sort_features(df, columns_order):\n",
    "    _columns = df.columns\n",
    "    _columns.sort()\n",
    "    \n",
    "    for _idx, _val in list(enumerate(columns_order)):\n",
    "        _columns.pop(_columns.index(_val))\n",
    "        _columns.insert(_idx, _val)\n",
    "        \n",
    "    assert len(_columns) == len(df.columns)\n",
    "\n",
    "    return _columns"
   ]
  },
  {
   "cell_type": "code",
   "execution_count": 18,
   "metadata": {
    "ExecuteTime": {
     "end_time": "2020-05-11T23:55:30.940657Z",
     "start_time": "2020-05-11T23:55:30.928432Z"
    }
   },
   "outputs": [],
   "source": [
    "binary_features = [ 'paid', 'male' ]\n",
    "\n",
    "numeric_features = [\n",
    "    'avg_daily_actions',\n",
    "    'avg_session_duration', \n",
    "    'n_actions',\n",
    "    'n_added_to_playlist',\n",
    "    'n_ads',\n",
    "    'n_days',\n",
    "    'n_dislikes',\n",
    "    'n_downgrades',\n",
    "    'n_errors',\n",
    "    'n_friends',\n",
    "    'n_help',\n",
    "    'n_home',\n",
    "    'n_likes',\n",
    "    'n_sess',\n",
    "    'n_settings',\n",
    "    'n_songs',\n",
    "    'n_upgrades', \n",
    "    'n_ads_over_songs',\n",
    "    'n_likes_over_songs',\n",
    "    'n_dislikes_over_songs',\n",
    "    'n_likes_over_dislikes',\n",
    "    'session_avg_actions',\n",
    "    'session_avg_added_playlist',\n",
    "    'session_avg_ads',\n",
    "    'session_avg_dislikes',\n",
    "    'session_avg_errors',\n",
    "    'session_avg_friends',\n",
    "    'session_avg_help',\n",
    "    'session_avg_home',\n",
    "    'session_avg_likes',\n",
    "    'session_avg_playback',\n",
    "    'session_avg_settings',\n",
    "    'session_avg_songs',\n",
    "    'session_avg_time_away',\n",
    "    'time_window'\n",
    "]\n",
    "\n",
    "columns_all = [\n",
    "    'canceled',\n",
    "    'male',\n",
    "    'paid',\n",
    "    'avg_daily_actions',\n",
    "    'avg_session_duration', \n",
    "    'n_actions',\n",
    "    'n_added_to_playlist',\n",
    "    'n_ads',\n",
    "    'n_days',\n",
    "    'n_dislikes',\n",
    "    'n_downgrades',\n",
    "    'n_errors',\n",
    "    'n_friends',\n",
    "    'n_help',\n",
    "    'n_home',\n",
    "    'n_likes',\n",
    "    'n_sess',\n",
    "    'n_settings',\n",
    "    'n_songs',\n",
    "    'n_upgrades', \n",
    "    'n_ads_over_songs',\n",
    "    'n_likes_over_songs',\n",
    "    'n_dislikes_over_songs',\n",
    "    'n_likes_over_dislikes',\n",
    "    'session_avg_actions',\n",
    "    'session_avg_added_playlist',\n",
    "    'session_avg_ads',\n",
    "    'session_avg_dislikes',\n",
    "    'session_avg_errors',\n",
    "    'session_avg_friends',\n",
    "    'session_avg_help',\n",
    "    'session_avg_home',\n",
    "    'session_avg_likes',\n",
    "    'session_avg_playback',\n",
    "    'session_avg_settings',\n",
    "    'session_avg_songs',\n",
    "    'session_avg_time_away',\n",
    "    'time_window'\n",
    "]\n",
    "\n",
    "columns_to_train = [\n",
    "    'male',\n",
    "    'paid',\n",
    "    'avg_daily_actions',\n",
    "    'avg_session_duration', \n",
    "    'n_actions',\n",
    "    'n_added_to_playlist',\n",
    "    'n_ads',\n",
    "    'n_days',\n",
    "    'n_dislikes',\n",
    "    'n_downgrades',\n",
    "    'n_errors',\n",
    "    'n_friends',\n",
    "    'n_help',\n",
    "    'n_home',\n",
    "    'n_likes',\n",
    "    'n_sess',\n",
    "    'n_settings',\n",
    "    'n_songs',\n",
    "    'n_upgrades', \n",
    "    'n_ads_over_songs',\n",
    "    'n_likes_over_songs',\n",
    "    'n_dislikes_over_songs',\n",
    "    'n_likes_over_dislikes',\n",
    "    'session_avg_actions',\n",
    "    'session_avg_added_playlist',\n",
    "    'session_avg_ads',\n",
    "    'session_avg_dislikes',\n",
    "    'session_avg_errors',\n",
    "    'session_avg_friends',\n",
    "    'session_avg_help',\n",
    "    'session_avg_home',\n",
    "    'session_avg_likes',\n",
    "    'session_avg_playback',\n",
    "    'session_avg_settings',\n",
    "    'session_avg_songs',\n",
    "    'session_avg_time_away',\n",
    "    'time_window'\n",
    "]"
   ]
  },
  {
   "cell_type": "markdown",
   "metadata": {},
   "source": [
    "#### Transform the data - create a unique row per user"
   ]
  },
  {
   "cell_type": "code",
   "execution_count": 19,
   "metadata": {
    "ExecuteTime": {
     "end_time": "2020-05-11T23:55:38.538857Z",
     "start_time": "2020-05-11T23:55:37.664279Z"
    }
   },
   "outputs": [],
   "source": [
    "df_sessions = create_session_dimension(df)\n",
    "df_days = create_days_dimension(df)\n",
    "\n",
    "df_users = create_user_dimension(df)\n",
    "df_users = df_users.orderBy(df_users.userId).join(df_days, on = 'userId')\n",
    "\n",
    "_columns = sort_features(df_users, [ 'userId', 'male', 'paid', 'canceled'])\n",
    "_columns = list(set(df_users.schema.names + df_sessions.schema.names) - set(['ts_start', 'ts_end', 'state']))\n",
    "\n",
    "df_users = df_users.orderBy(df_users.userId).join(df_sessions, on = 'userId').select(_columns) "
   ]
  },
  {
   "cell_type": "code",
   "execution_count": 20,
   "metadata": {
    "ExecuteTime": {
     "end_time": "2020-05-11T23:55:41.027610Z",
     "start_time": "2020-05-11T23:55:40.896699Z"
    }
   },
   "outputs": [],
   "source": [
    "# Create the new dataframe\n",
    "df_users = df_users.select(columns_all).fillna(0)"
   ]
  },
  {
   "cell_type": "code",
   "execution_count": 21,
   "metadata": {
    "ExecuteTime": {
     "end_time": "2020-05-11T23:55:42.130343Z",
     "start_time": "2020-05-11T23:55:42.125698Z"
    }
   },
   "outputs": [
    {
     "name": "stdout",
     "output_type": "stream",
     "text": [
      "root\n",
      " |-- canceled: integer (nullable = true)\n",
      " |-- male: integer (nullable = true)\n",
      " |-- paid: integer (nullable = true)\n",
      " |-- avg_daily_actions: double (nullable = false)\n",
      " |-- avg_session_duration: double (nullable = false)\n",
      " |-- n_actions: long (nullable = false)\n",
      " |-- n_added_to_playlist: long (nullable = false)\n",
      " |-- n_ads: long (nullable = false)\n",
      " |-- n_days: long (nullable = false)\n",
      " |-- n_dislikes: long (nullable = false)\n",
      " |-- n_downgrades: long (nullable = false)\n",
      " |-- n_errors: long (nullable = false)\n",
      " |-- n_friends: long (nullable = false)\n",
      " |-- n_help: long (nullable = false)\n",
      " |-- n_home: long (nullable = false)\n",
      " |-- n_likes: long (nullable = false)\n",
      " |-- n_sess: long (nullable = false)\n",
      " |-- n_settings: long (nullable = false)\n",
      " |-- n_songs: long (nullable = false)\n",
      " |-- n_upgrades: long (nullable = false)\n",
      " |-- n_ads_over_songs: double (nullable = false)\n",
      " |-- n_likes_over_songs: double (nullable = false)\n",
      " |-- n_dislikes_over_songs: double (nullable = false)\n",
      " |-- n_likes_over_dislikes: double (nullable = false)\n",
      " |-- session_avg_actions: double (nullable = false)\n",
      " |-- session_avg_added_playlist: double (nullable = false)\n",
      " |-- session_avg_ads: double (nullable = false)\n",
      " |-- session_avg_dislikes: double (nullable = false)\n",
      " |-- session_avg_errors: double (nullable = false)\n",
      " |-- session_avg_friends: double (nullable = false)\n",
      " |-- session_avg_help: double (nullable = false)\n",
      " |-- session_avg_home: double (nullable = false)\n",
      " |-- session_avg_likes: double (nullable = false)\n",
      " |-- session_avg_playback: double (nullable = false)\n",
      " |-- session_avg_settings: double (nullable = false)\n",
      " |-- session_avg_songs: double (nullable = false)\n",
      " |-- session_avg_time_away: double (nullable = false)\n",
      " |-- time_window: double (nullable = false)\n",
      "\n"
     ]
    }
   ],
   "source": [
    "df_users.printSchema()"
   ]
  },
  {
   "cell_type": "code",
   "execution_count": 22,
   "metadata": {
    "ExecuteTime": {
     "end_time": "2020-05-11T23:55:49.878800Z",
     "start_time": "2020-05-11T23:55:48.520838Z"
    }
   },
   "outputs": [
    {
     "data": {
      "text/plain": [
       "DataFrame[canceled: int, male: int, paid: int, avg_daily_actions: double, avg_session_duration: double, n_actions: bigint, n_added_to_playlist: bigint, n_ads: bigint, n_days: bigint, n_dislikes: bigint, n_downgrades: bigint, n_errors: bigint, n_friends: bigint, n_help: bigint, n_home: bigint, n_likes: bigint, n_sess: bigint, n_settings: bigint, n_songs: bigint, n_upgrades: bigint, n_ads_over_songs: double, n_likes_over_songs: double, n_dislikes_over_songs: double, n_likes_over_dislikes: double, session_avg_actions: double, session_avg_added_playlist: double, session_avg_ads: double, session_avg_dislikes: double, session_avg_errors: double, session_avg_friends: double, session_avg_help: double, session_avg_home: double, session_avg_likes: double, session_avg_playback: double, session_avg_settings: double, session_avg_songs: double, session_avg_time_away: double, time_window: double]"
      ]
     },
     "execution_count": 22,
     "metadata": {},
     "output_type": "execute_result"
    }
   ],
   "source": [
    "df_users.cache()"
   ]
  },
  {
   "cell_type": "code",
   "execution_count": 23,
   "metadata": {
    "ExecuteTime": {
     "end_time": "2020-05-11T23:56:48.551627Z",
     "start_time": "2020-05-11T23:55:55.624248Z"
    }
   },
   "outputs": [
    {
     "name": "stdout",
     "output_type": "stream",
     "text": [
      "-RECORD 0-----------------------------------------\n",
      " canceled                   | 1                   \n",
      " male                       | 1                   \n",
      " paid                       | 0                   \n",
      " avg_daily_actions          | 59.86363636363637   \n",
      " avg_session_duration       | 5.62298764025985    \n",
      " n_actions                  | 1317                \n",
      " n_added_to_playlist        | 25                  \n",
      " n_ads                      | 74                  \n",
      " n_days                     | 22                  \n",
      " n_dislikes                 | 33                  \n",
      " n_downgrades               | 1                   \n",
      " n_errors                   | 3                   \n",
      " n_friends                  | 14                  \n",
      " n_help                     | 8                   \n",
      " n_home                     | 44                  \n",
      " n_likes                    | 53                  \n",
      " n_sess                     | 22                  \n",
      " n_settings                 | 9                   \n",
      " n_songs                    | 1022                \n",
      " n_upgrades                 | 1                   \n",
      " n_ads_over_songs           | 13.81081081081081   \n",
      " n_likes_over_songs         | 19.28301886792453   \n",
      " n_dislikes_over_songs      | 30.96969696969697   \n",
      " n_likes_over_dislikes      | 1.606060606060606   \n",
      " session_avg_actions        | 17.450135731320046  \n",
      " session_avg_added_playlist | 0.33124783089066145 \n",
      " session_avg_ads            | 0.9804935794363578  \n",
      " session_avg_dislikes       | 0.4372471367756731  \n",
      " session_avg_errors         | 0.03974973970687937 \n",
      " session_avg_friends        | 0.1854987852987704  \n",
      " session_avg_help           | 0.10599930588501166 \n",
      " session_avg_home           | 0.5829961823675641  \n",
      " session_avg_likes          | 0.7022454014882022  \n",
      " session_avg_playback       | 1.0                 \n",
      " session_avg_settings       | 0.11924921912063813 \n",
      " session_avg_songs          | 13.54141132681024   \n",
      " session_avg_time_away      | 45.82633597883598   \n",
      " time_window                | 1033.818611111111   \n",
      "only showing top 1 row\n",
      "\n"
     ]
    }
   ],
   "source": [
    "df_users.show(1, True, vertical = True)"
   ]
  },
  {
   "cell_type": "code",
   "execution_count": 24,
   "metadata": {
    "ExecuteTime": {
     "end_time": "2020-05-11T23:57:43.383279Z",
     "start_time": "2020-05-11T23:57:42.992906Z"
    }
   },
   "outputs": [],
   "source": [
    "from pyspark.sql.window import Window\n",
    "\n",
    "import sys\n",
    "\n",
    "_columns_to_check_outliers = [ \n",
    "     'avg_daily_actions', \n",
    "     'avg_session_duration',  \n",
    "     'session_avg_actions', \n",
    "     'session_avg_added_playlist', \n",
    "     'session_avg_ads', \n",
    "     'session_avg_dislikes', \n",
    "     'session_avg_errors', \n",
    "     'session_avg_friends', \n",
    "     'session_avg_help', \n",
    "     'session_avg_home', \n",
    "     'session_avg_likes', \n",
    "     'session_avg_playback', \n",
    "     'session_avg_settings', \n",
    "     'session_avg_songs', \n",
    "     'session_avg_time_away', \n",
    "     'time_window'\n",
    "]\n",
    "\n",
    "w = Window().partitionBy()\n",
    "\n",
    "def z_score(col, w):\n",
    "    _avg_ = avg(col).over(w)\n",
    "    avg_sq = avg(spow(col, 2)).over(w)\n",
    "    sd_ = sqrt(avg_sq - spow(_avg_, 2))\n",
    "    return sabs((col - _avg_) / sd_)\n",
    "\n",
    "for c in _columns_to_check_outliers:\n",
    "    df_users = df_users.withColumn(f'zscore_{c}', z_score(col(c), w))\n",
    "    \n",
    "\n",
    "zscore_columns = []\n",
    "\n",
    "for c in _columns_to_check_outliers:\n",
    "    zscore_columns.append(f'zscore_{c}')\n",
    "    \n",
    "_query = ''\n",
    "_threshold = 3\n",
    "\n",
    "for c in zscore_columns:\n",
    "    _begin = ' and ' if len(_query) > 0 else ''\n",
    "    _query += f'{_begin}{c} < {_threshold}'"
   ]
  },
  {
   "cell_type": "code",
   "execution_count": 25,
   "metadata": {
    "ExecuteTime": {
     "end_time": "2020-05-11T23:57:49.543488Z",
     "start_time": "2020-05-11T23:57:44.958137Z"
    }
   },
   "outputs": [
    {
     "name": "stdout",
     "output_type": "stream",
     "text": [
      "Before: 22277\n",
      "After: 20007\n"
     ]
    }
   ],
   "source": [
    "print(f'Before: {df_users.count()}')\n",
    "df_users = df_users.filter(_query)\n",
    "print(f'After: {df_users.count()}')"
   ]
  },
  {
   "cell_type": "code",
   "execution_count": 27,
   "metadata": {
    "ExecuteTime": {
     "end_time": "2020-05-10T22:21:22.202116Z",
     "start_time": "2020-05-10T22:21:19.557816Z"
    }
   },
   "outputs": [
    {
     "name": "stdout",
     "output_type": "stream",
     "text": [
      "Before: 22278\n",
      "After: 20134\n"
     ]
    }
   ],
   "source": [
    "print(f'Before: {df_users.count()}')\n",
    "df_users = df_users.filter(_query)\n",
    "print(f'After: {df_users.count()}')"
   ]
  },
  {
   "cell_type": "code",
   "execution_count": 33,
   "metadata": {
    "ExecuteTime": {
     "end_time": "2020-05-07T23:52:54.241801Z",
     "start_time": "2020-05-07T23:52:51.660591Z"
    }
   },
   "outputs": [
    {
     "name": "stdout",
     "output_type": "stream",
     "text": [
      "-RECORD 0-------------------------------------------------\n",
      " canceled                          | 0                    \n",
      " male                              | 1                    \n",
      " paid                              | 1                    \n",
      " avg_daily_actions                 | 56.833333333333336   \n",
      " avg_session_duration              | 8.064825676115998    \n",
      " n_actions                         | 682                  \n",
      " n_added_to_playlist               | 20                   \n",
      " n_ads                             | 3                    \n",
      " n_days                            | 12                   \n",
      " n_dislikes                        | 10                   \n",
      " n_downgrades                      | 1                    \n",
      " n_errors                          | 3                    \n",
      " n_friends                         | 12                   \n",
      " n_help                            | 5                    \n",
      " n_home                            | 27                   \n",
      " n_likes                           | 25                   \n",
      " n_sess                            | 9                    \n",
      " n_settings                        | 4                    \n",
      " n_songs                           | 557                  \n",
      " n_upgrades                        | 0                    \n",
      " session_avg_actions               | 17.377708646219023   \n",
      " session_avg_added_playlist        | 0.5096102242292969   \n",
      " session_avg_ads                   | 0.07644153363439453  \n",
      " session_avg_dislikes              | 0.25480511211464846  \n",
      " session_avg_errors                | 0.07644153363439453  \n",
      " session_avg_friends               | 0.3057661345375781   \n",
      " session_avg_help                  | 0.12740255605732423  \n",
      " session_avg_home                  | 0.6879738027095508   \n",
      " session_avg_likes                 | 0.6370127802866211   \n",
      " session_avg_playback              | 1.0                  \n",
      " session_avg_settings              | 0.10192204484585937  \n",
      " session_avg_songs                 | 14.192644744785918   \n",
      " session_avg_time_away             | 152.10534722222224   \n",
      " time_window                       | 1255.4402777777777   \n",
      " zscore_avg_daily_actions          | 0.20603868603291917  \n",
      " zscore_avg_session_duration       | 0.11185436365031809  \n",
      " zscore_session_avg_actions        | 0.18596546423748517  \n",
      " zscore_session_avg_added_playlist | 0.5884073750750026   \n",
      " zscore_session_avg_ads            | 0.623805908439051    \n",
      " zscore_session_avg_dislikes       | 0.3420406240815475   \n",
      " zscore_session_avg_errors         | 1.1137021633840984   \n",
      " zscore_session_avg_friends        | 0.10565088459939553  \n",
      " zscore_session_avg_help           | 0.3161425885687867   \n",
      " zscore_session_avg_home           | 0.12372297295925637  \n",
      " zscore_session_avg_likes          | 0.37326010732244697  \n",
      " zscore_session_avg_playback       | 0.02763453275136613  \n",
      " zscore_session_avg_settings       | 0.052702451110523685 \n",
      " zscore_session_avg_songs          | 0.08738572096842102  \n",
      " zscore_session_avg_time_away      | 0.09843974859677213  \n",
      " zscore_time_window                | 0.6008273431313189   \n",
      "only showing top 1 row\n",
      "\n"
     ]
    }
   ],
   "source": [
    "df_users.show(1, True, vertical = True)"
   ]
  },
  {
   "cell_type": "code",
   "execution_count": 26,
   "metadata": {
    "ExecuteTime": {
     "end_time": "2020-05-11T23:58:56.111517Z",
     "start_time": "2020-05-11T23:58:55.833627Z"
    }
   },
   "outputs": [
    {
     "data": {
      "text/plain": [
       "DataFrame[canceled: int, male: int, paid: int, avg_daily_actions: double, avg_session_duration: double, n_actions: bigint, n_added_to_playlist: bigint, n_ads: bigint, n_days: bigint, n_dislikes: bigint, n_downgrades: bigint, n_errors: bigint, n_friends: bigint, n_help: bigint, n_home: bigint, n_likes: bigint, n_sess: bigint, n_settings: bigint, n_songs: bigint, n_upgrades: bigint, n_ads_over_songs: double, n_likes_over_songs: double, n_dislikes_over_songs: double, n_likes_over_dislikes: double, session_avg_actions: double, session_avg_added_playlist: double, session_avg_ads: double, session_avg_dislikes: double, session_avg_errors: double, session_avg_friends: double, session_avg_help: double, session_avg_home: double, session_avg_likes: double, session_avg_playback: double, session_avg_settings: double, session_avg_songs: double, session_avg_time_away: double, time_window: double, zscore_avg_daily_actions: double, zscore_avg_session_duration: double, zscore_session_avg_actions: double, zscore_session_avg_added_playlist: double, zscore_session_avg_ads: double, zscore_session_avg_dislikes: double, zscore_session_avg_errors: double, zscore_session_avg_friends: double, zscore_session_avg_help: double, zscore_session_avg_home: double, zscore_session_avg_likes: double, zscore_session_avg_playback: double, zscore_session_avg_settings: double, zscore_session_avg_songs: double, zscore_session_avg_time_away: double, zscore_time_window: double]"
      ]
     },
     "execution_count": 26,
     "metadata": {},
     "output_type": "execute_result"
    }
   ],
   "source": [
    "df_users.cache()"
   ]
  },
  {
   "cell_type": "code",
   "execution_count": 12,
   "metadata": {
    "ExecuteTime": {
     "end_time": "2020-05-02T17:30:06.552478Z",
     "start_time": "2020-05-02T17:28:15.720923Z"
    }
   },
   "outputs": [
    {
     "name": "stdout",
     "output_type": "stream",
     "text": [
      "-RECORD 0--------------------------\n",
      " canceled                   | 0    \n",
      " male                       | 1    \n",
      " paid                       | 1    \n",
      " avg_daily_actions          | 57   \n",
      " avg_session_duration       | 8    \n",
      " n_actions                  | 682  \n",
      " n_added_to_playlist        | 20   \n",
      " n_ads                      | 3    \n",
      " n_days                     | 12   \n",
      " n_dislikes                 | 10   \n",
      " n_downgrades               | 1    \n",
      " n_errors                   | 3    \n",
      " n_friends                  | 12   \n",
      " n_help                     | 5    \n",
      " n_home                     | 27   \n",
      " n_likes                    | 25   \n",
      " n_sess                     | 9    \n",
      " n_settings                 | 4    \n",
      " n_songs                    | 557  \n",
      " n_upgrades                 | 0    \n",
      " session_avg_actions        | 18   \n",
      " session_avg_added_playlist | 1    \n",
      " session_avg_ads            | 0    \n",
      " session_avg_dislikes       | 0    \n",
      " session_avg_errors         | 0    \n",
      " session_avg_friends        | 0    \n",
      " session_avg_help           | 0    \n",
      " session_avg_home           | 1    \n",
      " session_avg_likes          | 1    \n",
      " session_avg_playback       | 1    \n",
      " session_avg_settings       | 0    \n",
      " session_avg_songs          | 14   \n",
      " session_avg_time_away      | 152  \n",
      " time_window                | 1255 \n",
      "-RECORD 1--------------------------\n",
      " canceled                   | 1    \n",
      " male                       | 0    \n",
      " paid                       | 1    \n",
      " avg_daily_actions          | 58   \n",
      " avg_session_duration       | 4    \n",
      " n_actions                  | 349  \n",
      " n_added_to_playlist        | 12   \n",
      " n_ads                      | 2    \n",
      " n_days                     | 6    \n",
      " n_dislikes                 | 2    \n",
      " n_downgrades               | 0    \n",
      " n_errors                   | 1    \n",
      " n_friends                  | 7    \n",
      " n_help                     | 1    \n",
      " n_home                     | 14   \n",
      " n_likes                    | 10   \n",
      " n_sess                     | 7    \n",
      " n_settings                 | 1    \n",
      " n_songs                    | 287  \n",
      " n_upgrades                 | 1    \n",
      " session_avg_actions        | 17   \n",
      " session_avg_added_playlist | 1    \n",
      " session_avg_ads            | 0    \n",
      " session_avg_dislikes       | 0    \n",
      " session_avg_errors         | 0    \n",
      " session_avg_friends        | 0    \n",
      " session_avg_help           | 0    \n",
      " session_avg_home           | 1    \n",
      " session_avg_likes          | 0    \n",
      " session_avg_playback       | 1    \n",
      " session_avg_settings       | 0    \n",
      " session_avg_songs          | 14   \n",
      " session_avg_time_away      | 65   \n",
      " time_window                | 410  \n",
      "only showing top 2 rows\n",
      "\n"
     ]
    }
   ],
   "source": [
    "### WARN: Only round to display\n",
    "# Enforces the order for some columns\n",
    "df_users.select([sround(c, 0).cast(dataType = IntegerType()).alias(c) for c in columns_all]).show(2, True, vertical = True)"
   ]
  },
  {
   "cell_type": "markdown",
   "metadata": {},
   "source": [
    "#### OPTIONAL: Save the final dataset to a CSV file"
   ]
  },
  {
   "cell_type": "code",
   "execution_count": 38,
   "metadata": {
    "ExecuteTime": {
     "end_time": "2020-05-07T23:53:40.299906Z",
     "start_time": "2020-05-07T23:53:38.715602Z"
    }
   },
   "outputs": [],
   "source": [
    "df_users.select(columns_all).fillna(0).toPandas().to_csv('sparkify_data_full_dataset_final_2.csv', index = False)"
   ]
  },
  {
   "cell_type": "code",
   "execution_count": null,
   "metadata": {
    "ExecuteTime": {
     "end_time": "2020-03-21T20:49:53.790091Z",
     "start_time": "2020-03-21T20:49:53.293466Z"
    }
   },
   "outputs": [],
   "source": [
    "df.agg(countDistinct(df.userId).alias('unique_users')).show()"
   ]
  },
  {
   "cell_type": "code",
   "execution_count": null,
   "metadata": {},
   "outputs": [],
   "source": [
    "df_users.orderBy(df_users.userId).join(df_sessions, on = 'userId').select(_columns).count()"
   ]
  },
  {
   "cell_type": "code",
   "execution_count": null,
   "metadata": {},
   "outputs": [],
   "source": [
    "df_users.orderBy(df_users.userId).join(df_sessions, on = 'userId').select(_columns).groupBy('canceled').agg(count(df_users.canceled).alias('total')).show()"
   ]
  },
  {
   "cell_type": "markdown",
   "metadata": {},
   "source": [
    "- Advertises number (per session and all)\n",
    "    - The user **100010** returned after some idle time and received a considerable amount of advertises;\n",
    "    - Also, after thumbs down, I received two advertisements on four sounds. Then canceled the service.\n",
    "- Number of sessions\n",
    "- Paid subscription time\n",
    "- Avg songs before an ad\n",
    "- Number of skipped songs"
   ]
  },
  {
   "cell_type": "code",
   "execution_count": null,
   "metadata": {},
   "outputs": [],
   "source": [
    "df.schema.names"
   ]
  },
  {
   "cell_type": "code",
   "execution_count": null,
   "metadata": {},
   "outputs": [],
   "source": [
    "to_date(df.ts.cast(dataType=TimestampType()))"
   ]
  },
  {
   "cell_type": "code",
   "execution_count": null,
   "metadata": {},
   "outputs": [],
   "source": [
    "df.where(df.userId == user_id).select(['artist',\n",
    " 'auth',\n",
    " 'firstName',\n",
    " 'gender',\n",
    " 'itemInSession',\n",
    " 'lastName',\n",
    " 'length',\n",
    " 'level', \n",
    " 'page',\n",
    " 'sessionId',\n",
    " 'song', \n",
    " 'ts', \n",
    " 'userId']).orderBy('sessionId', 'itemInSession').withColumn('datetime', date_format((df.ts/1000).cast(dataType=TimestampType()), 'HH:mm:ss dd-MM-YYYY')).show(350, True)"
   ]
  },
  {
   "cell_type": "markdown",
   "metadata": {},
   "source": [
    "# Modeling\n",
    "Split the full dataset into train, test, and validation sets. Test out several of the machine learning methods you learned. Evaluate the accuracy of the various models, tuning parameters as necessary. Determine your winning model based on test accuracy and report results on the validation set. Since the churned users are a fairly small subset, I suggest using F1 score as the metric to optimize."
   ]
  },
  {
   "cell_type": "code",
   "execution_count": 39,
   "metadata": {
    "ExecuteTime": {
     "end_time": "2020-05-07T23:54:43.591418Z",
     "start_time": "2020-05-07T23:54:43.583683Z"
    }
   },
   "outputs": [
    {
     "name": "stdout",
     "output_type": "stream",
     "text": [
      "Columns: ['avg_daily_actions', 'avg_session_duration', 'canceled', 'male', 'n_actions', 'n_added_to_playlist', 'n_ads', 'n_days', 'n_dislikes', 'n_downgrades', 'n_errors', 'n_friends', 'n_help', 'n_home', 'n_likes', 'n_sess', 'n_settings', 'n_songs', 'n_upgrades', 'paid', 'session_avg_actions', 'session_avg_added_playlist', 'session_avg_ads', 'session_avg_dislikes', 'session_avg_errors', 'session_avg_friends', 'session_avg_help', 'session_avg_home', 'session_avg_likes', 'session_avg_playback', 'session_avg_settings', 'session_avg_songs', 'session_avg_time_away', 'time_window']\n",
      "\n",
      "Columns to train: ['avg_daily_actions', 'avg_session_duration', 'canceled', 'male', 'n_actions', 'n_added_to_playlist', 'n_ads', 'n_days', 'n_dislikes', 'n_downgrades', 'n_errors', 'n_friends', 'n_help', 'n_home', 'n_likes', 'n_sess', 'n_settings', 'n_songs', 'n_upgrades', 'paid', 'session_avg_actions', 'session_avg_added_playlist', 'session_avg_ads', 'session_avg_dislikes', 'session_avg_errors', 'session_avg_friends', 'session_avg_help', 'session_avg_home', 'session_avg_likes', 'session_avg_playback', 'session_avg_settings', 'session_avg_songs', 'session_avg_time_away', 'time_window']\n"
     ]
    }
   ],
   "source": [
    "columns_to_exclude = set(['userId'] + zscore_columns)\n",
    "\n",
    "columns_to_use = list(set(df_users.columns) - columns_to_exclude)\n",
    "\n",
    "columns_to_train = list(set(columns_to_use) - set(['canc']))\n",
    "\n",
    "columns_to_use.sort()\n",
    "columns_to_train.sort()\n",
    "\n",
    "print(f'Columns: {columns_to_use}\\n')\n",
    "print(f'Columns to train: {columns_to_train}')"
   ]
  },
  {
   "cell_type": "code",
   "execution_count": 27,
   "metadata": {
    "ExecuteTime": {
     "end_time": "2020-05-11T23:59:06.621805Z",
     "start_time": "2020-05-11T23:59:06.617574Z"
    }
   },
   "outputs": [],
   "source": [
    "CHURN_LABEL = 'canceled'\n",
    "TRAIN_SPLIT_RATIO = .7\n",
    "TEST_SPLIT_RATIO = .3\n",
    "\n",
    "SPLIT_RATIO = [TRAIN_SPLIT_RATIO, TEST_SPLIT_RATIO]"
   ]
  },
  {
   "cell_type": "code",
   "execution_count": 28,
   "metadata": {
    "ExecuteTime": {
     "end_time": "2020-05-11T23:59:09.252211Z",
     "start_time": "2020-05-11T23:59:09.233197Z"
    }
   },
   "outputs": [],
   "source": [
    "def plot_confusion_matrix(y_test, y_predictions):\n",
    "    \n",
    "    # auc = roc_auc_score(y_test, y_predictions)\n",
    "    cm = confusion_matrix(y_test, y_predictions, labels = [1, 0])\n",
    "    \n",
    "    tn = cm[1, 1]\n",
    "    tp = cm[0, 0]\n",
    "    fp = cm[1, 0]\n",
    "    fn = cm[0, 1]\n",
    "    \n",
    "    total = np.sum(cm) # tn + tp + fn + fp\n",
    "    accuracy = (tp + tn) / total\n",
    "    precision = (tp) / (tp + fp)\n",
    "    recall = (tp) / (tp + fn) \n",
    "    \n",
    "    print(cm)\n",
    "\n",
    "def create_pipeline(model):\n",
    "    \n",
    "    l_indexer = StringIndexer(inputCol = CHURN_LABEL, outputCol = 'idx_labels')\n",
    "    f_binaries = VectorAssembler(inputCols = binary_features, outputCol = 'bin_features')\n",
    "    f_numeric = VectorAssembler(inputCols = numeric_features, outputCol = 'num_features')\n",
    "    f_scaler = StandardScaler(inputCol = 'num_features', outputCol = 'num_features_escaled', withStd = True, withMean = True)\n",
    "    f_all = VectorAssembler(inputCols = [ 'bin_features' , 'num_features_escaled' ], outputCol = 'features')\n",
    "    pipeline = Pipeline(stages = [ l_indexer, f_binaries, f_numeric, f_scaler, f_all, model ])\n",
    "    return pipeline\n",
    "\n",
    "def create_random_forest_pipeline():\n",
    "    rf_classifier = RandomForestClassifier(labelCol = 'canceled', featuresCol = 'features', seed = 42)\n",
    "    return create_pipeline(rf_classifier)\n",
    "\n",
    "def create_gradient_boost_pipeline():\n",
    "    gbt_classifier = GBTClassifier(labelCol = 'canceled', maxDepth = 5, maxIter = 100, seed = 42)\n",
    "    return create_pipeline(gbt_classifier)\n",
    "\n",
    "def create_logistic_regression_pipeline():\n",
    "    lr_classifier = LogisticRegression(featuresCol = 'features', labelCol = 'idx_labels', weightCol = 'class_weights') \n",
    "    return create_pipeline(lr_classifier)\n",
    "\n",
    "def create_decision_tree_pipeline():\n",
    "    dt_classifier = DecisionTreeClassifier(labelCol = 'canceled', featuresCol = 'features', seed = 42)\n",
    "    return create_pipeline(dt_classifier)"
   ]
  },
  {
   "cell_type": "code",
   "execution_count": 29,
   "metadata": {
    "ExecuteTime": {
     "end_time": "2020-05-11T23:59:10.665641Z",
     "start_time": "2020-05-11T23:59:10.655055Z"
    }
   },
   "outputs": [],
   "source": [
    "from pyspark.mllib.evaluation import BinaryClassificationMetrics\n",
    "from pyspark.mllib.evaluation import MulticlassMetrics\n",
    "from pyspark.ml.classification import LogisticRegression    "
   ]
  },
  {
   "cell_type": "code",
   "execution_count": 30,
   "metadata": {
    "ExecuteTime": {
     "end_time": "2020-05-11T23:59:11.844680Z",
     "start_time": "2020-05-11T23:59:11.815162Z"
    }
   },
   "outputs": [],
   "source": [
    "import uuid\n",
    "\n",
    "from pyspark.ml.evaluation import Evaluator\n",
    "\n",
    "class Recall(Evaluator):\n",
    "    \n",
    "    def __init__(self, predictionCol = 'prediction', labelCol = 'label'):\n",
    "        self.predictionCol = predictionCol\n",
    "        self.labelCol = labelCol\n",
    "        self.uid = str(uuid.uuid4())\n",
    "\n",
    "    def evaluate(self, dataset):\n",
    "        \n",
    "        tp = dataset.where((dataset[self.labelCol] == 1) & (dataset[self.predictionCol] == 1)).count()\n",
    "        fp = dataset.where((dataset[self.labelCol] == 0) & (dataset[self.predictionCol] == 1)).count()\n",
    "        tn = dataset.where((dataset[self.labelCol] == 0) & (dataset[self.predictionCol] == 0)).count()\n",
    "        fn = dataset.where((dataset[self.labelCol] == 1) & (dataset[self.predictionCol] == 0)).count()\n",
    "\n",
    "        return (100 / (tp + fn )) * tp\n",
    "\n",
    "    def isLargerBetter(self):\n",
    "        return True\n",
    "    \n",
    "from sklearn.metrics import f1_score, fbeta_score, make_scorer, roc_auc_score\n",
    "\n",
    "# beta - The recall weight \n",
    "beta_scorer = make_scorer(fbeta_score, average = 'binary', beta = 2)\n",
    "\n",
    "def get_beta_score(y_test, y_predict):\n",
    "    return fbeta_score(y_test, y_predict, average = 'binary', labels = [1, 0], beta = 2)\n",
    "    \n",
    "def plot_metrics(y_test, y_predictions):\n",
    "    \n",
    "    auc = roc_auc_score(y_test, y_predictions)\n",
    "    cm = confusion_matrix(y_test, y_predictions, labels = [1, 0])\n",
    "    \n",
    "    tn = cm[1, 1]\n",
    "    tp = cm[0, 0]\n",
    "    fp = cm[1, 0]\n",
    "    fn = cm[0, 1]\n",
    "    \n",
    "    total = np.sum(cm)\n",
    "    accuracy = (tp + tn) / total\n",
    "    precision = (tp) / (tp + fp)\n",
    "    recall = (tp) / (tp + fn) \n",
    "\n",
    "    beta = get_beta_score(y_test, y_predictions)\n",
    "    \n",
    "    f1_binary = f1_score(y_test, y_predictions, average = 'binary', labels = [1, 0])\n",
    "    f1_macro = f1_score(y_test, y_predictions, average = 'macro')\n",
    "    f1_micro = f1_score(y_test, y_predictions, average = 'micro')\n",
    "    f1_weighted = f1_score(y_test, y_predictions, average = 'weighted')\n",
    "    \n",
    "    print(cm)\n",
    "    print('')\n",
    "    print('accuracy.................%7.4f' % accuracy)\n",
    "    print('precision................%7.4f' % precision)\n",
    "    print('recall...................%7.4f' % recall)\n",
    "    print('auc......................%7.4f' % auc)\n",
    "    print('beta.....................%7.4f' % beta)\n",
    "    print('F1 macro.................%7.4f' % f1_macro)\n",
    "    print('F1 micro.................%7.4f' % f1_micro)\n",
    "    print('F1 weighted..............%7.4f' % f1_weighted) \n",
    "    print('F1 binary................%7.4f' %  f1_binary)\n",
    "    \n",
    "    return {\n",
    "        'accuracy': accuracy,\n",
    "        'precision': precision,\n",
    "        'recall': recall,\n",
    "        'auc': auc,\n",
    "        'f1_macro': f1_macro,\n",
    "        'f1_micro': f1_micro,\n",
    "        'f1_weighted': f1_weighted,\n",
    "        'binary': f1_binary,\n",
    "        'beta': beta,\n",
    "        'tp': int(tp),\n",
    "        'fn': int(fn),\n",
    "        'fp': int(fp),\n",
    "        'tn': int(tn),\n",
    "        'y_test': str(list(y_test.values)),\n",
    "        'y_predictions': str(list(y_predictions.values))\n",
    "    }"
   ]
  },
  {
   "cell_type": "code",
   "execution_count": 31,
   "metadata": {
    "ExecuteTime": {
     "end_time": "2020-05-11T23:59:15.875891Z",
     "start_time": "2020-05-11T23:59:15.825850Z"
    }
   },
   "outputs": [],
   "source": [
    "_eval = BinaryClassificationEvaluator(rawPredictionCol = 'prediction', labelCol = 'canceled', metricName = 'areaUnderROC') # Recall(labelCol = 'canceled')\n",
    "\n",
    "def create_grid_search(pipeline, param_grid):\n",
    "    \n",
    "    return CrossValidator(estimator = pipeline, estimatorParamMaps = param_grid, evaluator = _eval, numFolds = 5, parallelism = 16, seed = 42)\n",
    "    # return CrossValidator(estimator = pipeline, estimatorParamMaps = param_grid, evaluator = _eval, numFolds = 3, parallelism = 16, seed = 42)\n",
    "\n",
    "def random_forest_grid_search(pipeline):\n",
    "    \n",
    "    model = pipeline.getStages()[-1]\n",
    "\n",
    "    grid_rf = ParamGridBuilder().addGrid(model.maxDepth, [5, 10, 15, 20, 25]) \n",
    "    grid_rf = grid_rf.addGrid(model.impurity, ['gini']) \n",
    "    grid_rf = grid_rf.addGrid(model.maxBins, [5, 10, 15, 20, 25, 30, 35, 40])\n",
    "    grid_rf = grid_rf.addGrid(model.numTrees, [10, 20, 40, 60, 70])\n",
    "    grid_rf = grid_rf.build()\n",
    "    \n",
    "    print(f'Number of models to train: {len(grid_rf)}')\n",
    "        \n",
    "    return create_grid_search(pipeline, grid_rf)\n",
    "\n",
    "def gradient_boost_grid_search(pipeline):\n",
    "    \n",
    "    model = pipeline.getStages()[-1]\n",
    "\n",
    "    grid_gbt = ParamGridBuilder().addGrid(model.maxDepth, [2, 4, 6, 8, 10])\n",
    "    grid_gbt = grid_gbt.addGrid(model.maxIter, [20, 25, 40, 50, 100])\n",
    "    grid_gbt = grid_gbt.addGrid(model.maxBins, [2, 32])\n",
    "    grid_gbt = grid_gbt.addGrid(model.subsamplingRate, [.5, .8, 1])\n",
    "    grid_gbt = grid_gbt.build()\n",
    "    \n",
    "    print(f'Number of models to train: {len(grid_gbt)}')\n",
    "   \n",
    "    return create_grid_search(pipeline, grid_gbt)\n",
    "\n",
    "def logistic_regression_grid_search(pipeline):\n",
    "    \n",
    "    model = pipeline.getStages()[-1]\n",
    "\n",
    "    grid_lr = ParamGridBuilder().addGrid(model.aggregationDepth, [2, 5, 10])\n",
    "    grid_lr = grid_lr.addGrid(model.elasticNetParam, [.0, .5, 1.0])\n",
    "    grid_lr = grid_lr.addGrid(model.fitIntercept, [ True, False ])\n",
    "    grid_lr = grid_lr.addGrid(model.standardization, [ True, False ])\n",
    "    grid_lr = grid_lr.addGrid(model.maxIter, [10, 100, 1000])\n",
    "    grid_lr = grid_lr.addGrid(model.regParam, [.0, .01, .5, 2.0])\n",
    "    grid_lr = grid_lr.addGrid(model.tol, [.0001])\n",
    "    grid_lr = grid_lr.addGrid(model.weightCol, [ 'class_weights' ])\n",
    "\n",
    "    grid_lr = grid_lr.build()\n",
    "    \n",
    "    print(f'Number of models to train: {len(grid_lr)}')\n",
    "   \n",
    "    return create_grid_search(pipeline, grid_lr)\n",
    "\n",
    "def decision_tree_grid_search(pipeline):\n",
    "    \n",
    "    model = pipeline.getStages()[-1]\n",
    "\n",
    "    grid_dt = ParamGridBuilder()\n",
    "    grid_dt = grid_dt.addGrid(model.maxDepth, [5, 10, 15, 25, 30]) \n",
    "    grid_dt = grid_dt.addGrid(model.impurity, ['gini', 'entropy']) \n",
    "    grid_dt = grid_dt.addGrid(model.maxBins, [2, 8, 16, 32])\n",
    "    grid_dt = grid_dt.build()\n",
    "    \n",
    "    print(f'Number of models to train: {len(grid_dt)}')\n",
    "        \n",
    "    return create_grid_search(pipeline, grid_dt)"
   ]
  },
  {
   "cell_type": "code",
   "execution_count": 32,
   "metadata": {
    "ExecuteTime": {
     "end_time": "2020-05-11T23:59:17.605283Z",
     "start_time": "2020-05-11T23:59:17.600907Z"
    }
   },
   "outputs": [
    {
     "data": {
      "text/plain": [
       "[0.7, 0.3]"
      ]
     },
     "execution_count": 32,
     "metadata": {},
     "output_type": "execute_result"
    }
   ],
   "source": [
    "SPLIT_RATIO"
   ]
  },
  {
   "cell_type": "code",
   "execution_count": 33,
   "metadata": {
    "ExecuteTime": {
     "end_time": "2020-05-11T23:59:19.409033Z",
     "start_time": "2020-05-11T23:59:19.377523Z"
    }
   },
   "outputs": [],
   "source": [
    "# Create the new dataframe\n",
    "# data = df_users.select(columns_to_use).fillna(0)\n",
    "\n",
    "# Split train/test\n",
    "(train_df, test_df) = df_users.randomSplit(SPLIT_RATIO, seed = 42)"
   ]
  },
  {
   "cell_type": "code",
   "execution_count": 34,
   "metadata": {
    "ExecuteTime": {
     "end_time": "2020-05-11T23:59:21.173802Z",
     "start_time": "2020-05-11T23:59:21.121163Z"
    }
   },
   "outputs": [
    {
     "data": {
      "text/plain": [
       "DataFrame[canceled: int, male: int, paid: int, avg_daily_actions: double, avg_session_duration: double, n_actions: bigint, n_added_to_playlist: bigint, n_ads: bigint, n_days: bigint, n_dislikes: bigint, n_downgrades: bigint, n_errors: bigint, n_friends: bigint, n_help: bigint, n_home: bigint, n_likes: bigint, n_sess: bigint, n_settings: bigint, n_songs: bigint, n_upgrades: bigint, n_ads_over_songs: double, n_likes_over_songs: double, n_dislikes_over_songs: double, n_likes_over_dislikes: double, session_avg_actions: double, session_avg_added_playlist: double, session_avg_ads: double, session_avg_dislikes: double, session_avg_errors: double, session_avg_friends: double, session_avg_help: double, session_avg_home: double, session_avg_likes: double, session_avg_playback: double, session_avg_settings: double, session_avg_songs: double, session_avg_time_away: double, time_window: double, zscore_avg_daily_actions: double, zscore_avg_session_duration: double, zscore_session_avg_actions: double, zscore_session_avg_added_playlist: double, zscore_session_avg_ads: double, zscore_session_avg_dislikes: double, zscore_session_avg_errors: double, zscore_session_avg_friends: double, zscore_session_avg_help: double, zscore_session_avg_home: double, zscore_session_avg_likes: double, zscore_session_avg_playback: double, zscore_session_avg_settings: double, zscore_session_avg_songs: double, zscore_session_avg_time_away: double, zscore_time_window: double]"
      ]
     },
     "execution_count": 34,
     "metadata": {},
     "output_type": "execute_result"
    }
   ],
   "source": [
    "train_df.cache()\n",
    "test_df.cache()"
   ]
  },
  {
   "cell_type": "code",
   "execution_count": 35,
   "metadata": {
    "ExecuteTime": {
     "end_time": "2020-05-11T23:59:27.270117Z",
     "start_time": "2020-05-11T23:59:23.768825Z"
    }
   },
   "outputs": [
    {
     "data": {
      "text/plain": [
       "True"
      ]
     },
     "execution_count": 35,
     "metadata": {},
     "output_type": "execute_result"
    }
   ],
   "source": [
    "(train_df.count() + test_df.count()) == df_users.count()"
   ]
  },
  {
   "cell_type": "code",
   "execution_count": 36,
   "metadata": {
    "ExecuteTime": {
     "end_time": "2020-05-11T23:59:29.068153Z",
     "start_time": "2020-05-11T23:59:28.608392Z"
    }
   },
   "outputs": [],
   "source": [
    "balancing_ratio = train_df.filter(train_df.canceled == 0).count() / train_df.count()\n",
    "\n",
    "train_df = train_df.withColumn('class_weights', when(train_df.canceled == 1, balancing_ratio).otherwise(1 - balancing_ratio))"
   ]
  },
  {
   "cell_type": "markdown",
   "metadata": {
    "ExecuteTime": {
     "end_time": "2020-05-12T00:32:36.729484Z",
     "start_time": "2020-05-12T00:32:36.371199Z"
    }
   },
   "source": [
    "#### Feature scores"
   ]
  },
  {
   "cell_type": "code",
   "execution_count": 135,
   "metadata": {
    "ExecuteTime": {
     "end_time": "2020-05-12T01:26:02.753997Z",
     "start_time": "2020-05-12T01:26:02.686419Z"
    }
   },
   "outputs": [],
   "source": [
    "df_total = df_users.groupby('canceled')\\\n",
    "        .agg( \n",
    "            avg('n_actions').alias('n_actions'),\n",
    "            avg('n_added_to_playlist').alias('n_added_to_playlist'),\n",
    "            avg('n_ads').alias('n_ads'),\n",
    "            avg('n_days').alias('n_days'),\n",
    "            avg('n_dislikes').alias('n_dislikes'),\n",
    "            avg('n_downgrades').alias('n_downgrades'),\n",
    "            avg('n_friends').alias('n_friends'),\n",
    "            avg('n_help').alias('n_help'),\n",
    "            avg('n_home').alias('n_home'),\n",
    "            avg('n_likes').alias('n_likes'),\n",
    "            avg('n_sess').alias('n_sess'),\n",
    "            avg('n_songs').alias('n_songs'),\n",
    "            avg('n_upgrades').alias('n_upgrades'),\n",
    "            avg('n_ads_over_songs').alias('n_ads_over_songs'),\n",
    "            avg('n_likes_over_songs').alias('n_likes_over_songs'),\n",
    "            avg('n_dislikes_over_songs').alias('n_dislikes_over_songs'),\n",
    "            avg('n_likes_over_dislikes').alias('n_likes_over_dislikes'),\n",
    "            avg('avg_daily_actions').alias('avg_daily_actions'),\n",
    "            avg('avg_session_duration').alias('avg_session_duration'),\n",
    "            avg('time_window').alias('time_window'),\n",
    "            avg('session_avg_actions').alias('session_avg_actions'),\n",
    "            avg('session_avg_added_playlist').alias('session_avg_added_playlist'),\n",
    "            avg('session_avg_ads').alias('session_avg_ads'),\n",
    "            avg('session_avg_dislikes').alias('session_avg_dislikes'),\n",
    "            avg('session_avg_errors').alias('session_avg_errors'),\n",
    "            avg('session_avg_friends').alias('session_avg_friends'),\n",
    "            avg('session_avg_help').alias('session_avg_help'),\n",
    "            avg('session_avg_home').alias('session_avg_home'),\n",
    "            avg('session_avg_likes').alias('session_avg_likes'),\n",
    "            avg('session_avg_playback').alias('session_avg_playback'),\n",
    "            avg('session_avg_settings').alias('session_avg_settings'),\n",
    "            avg('session_avg_songs').alias('session_avg_songs'),\n",
    "            avg('session_avg_time_away').alias('session_avg_time_away'),\n",
    "        ) \n",
    "\n"
   ]
  },
  {
   "cell_type": "code",
   "execution_count": 136,
   "metadata": {
    "ExecuteTime": {
     "end_time": "2020-05-12T01:26:04.591873Z",
     "start_time": "2020-05-12T01:26:04.583369Z"
    }
   },
   "outputs": [],
   "source": [
    "_features_columns = [\n",
    "    'n_actions',\n",
    "    'n_added_to_playlist',\n",
    "    'n_ads',\n",
    "    'n_days',\n",
    "    'n_dislikes',\n",
    "    'n_downgrades',\n",
    "    'n_friends',\n",
    "    'n_help',\n",
    "    'n_home',\n",
    "    'n_likes',\n",
    "    'n_sess',\n",
    "    'n_songs',\n",
    "    'n_upgrades',\n",
    "    'n_ads_over_songs',\n",
    "    'n_likes_over_songs',\n",
    "    'n_dislikes_over_songs',\n",
    "    'n_likes_over_dislikes',\n",
    "    'avg_session_duration',\n",
    "    'avg_daily_actions',\n",
    "    'time_window',\n",
    "    'session_avg_actions',\n",
    "    'session_avg_added_playlist',\n",
    "    'session_avg_ads',\n",
    "    'session_avg_dislikes',\n",
    "    'session_avg_errors',\n",
    "    'session_avg_friends',\n",
    "    'session_avg_help',\n",
    "    'session_avg_home',\n",
    "    'session_avg_likes',\n",
    "    'session_avg_playback',\n",
    "    'session_avg_settings',\n",
    "    'session_avg_songs',\n",
    "    'session_avg_time_away'\n",
    "]"
   ]
  },
  {
   "cell_type": "code",
   "execution_count": 137,
   "metadata": {
    "ExecuteTime": {
     "end_time": "2020-05-12T01:26:06.698535Z",
     "start_time": "2020-05-12T01:26:06.487898Z"
    }
   },
   "outputs": [],
   "source": [
    "features_score_projection = []\n",
    "\n",
    "for _feature in _features_columns:\n",
    "    _fp = ((last(col(_feature)) - first(col(_feature))) / smax(col(_feature))).alias(_feature)\n",
    "    features_score_projection.append(_fp)"
   ]
  },
  {
   "cell_type": "code",
   "execution_count": 138,
   "metadata": {
    "ExecuteTime": {
     "end_time": "2020-05-12T01:26:08.525237Z",
     "start_time": "2020-05-12T01:26:07.614038Z"
    }
   },
   "outputs": [
    {
     "data": {
      "text/html": [
       "<div>\n",
       "<style scoped>\n",
       "    .dataframe tbody tr th:only-of-type {\n",
       "        vertical-align: middle;\n",
       "    }\n",
       "\n",
       "    .dataframe tbody tr th {\n",
       "        vertical-align: top;\n",
       "    }\n",
       "\n",
       "    .dataframe thead th {\n",
       "        text-align: right;\n",
       "    }\n",
       "</style>\n",
       "<table border=\"1\" class=\"dataframe\">\n",
       "  <thead>\n",
       "    <tr style=\"text-align: right;\">\n",
       "      <th></th>\n",
       "      <th>feature</th>\n",
       "      <th>score</th>\n",
       "    </tr>\n",
       "  </thead>\n",
       "  <tbody>\n",
       "    <tr>\n",
       "      <th>22</th>\n",
       "      <td>session_avg_ads</td>\n",
       "      <td>-0.189487</td>\n",
       "    </tr>\n",
       "    <tr>\n",
       "      <th>23</th>\n",
       "      <td>session_avg_dislikes</td>\n",
       "      <td>-0.187692</td>\n",
       "    </tr>\n",
       "    <tr>\n",
       "      <th>2</th>\n",
       "      <td>n_ads</td>\n",
       "      <td>-0.171845</td>\n",
       "    </tr>\n",
       "    <tr>\n",
       "      <th>18</th>\n",
       "      <td>avg_daily_actions</td>\n",
       "      <td>-0.125685</td>\n",
       "    </tr>\n",
       "    <tr>\n",
       "      <th>12</th>\n",
       "      <td>n_upgrades</td>\n",
       "      <td>-0.107225</td>\n",
       "    </tr>\n",
       "    <tr>\n",
       "      <th>14</th>\n",
       "      <td>n_likes_over_songs</td>\n",
       "      <td>-0.085101</td>\n",
       "    </tr>\n",
       "    <tr>\n",
       "      <th>30</th>\n",
       "      <td>session_avg_settings</td>\n",
       "      <td>-0.054370</td>\n",
       "    </tr>\n",
       "    <tr>\n",
       "      <th>5</th>\n",
       "      <td>n_downgrades</td>\n",
       "      <td>-0.040335</td>\n",
       "    </tr>\n",
       "    <tr>\n",
       "      <th>24</th>\n",
       "      <td>session_avg_errors</td>\n",
       "      <td>-0.037052</td>\n",
       "    </tr>\n",
       "    <tr>\n",
       "      <th>4</th>\n",
       "      <td>n_dislikes</td>\n",
       "      <td>-0.036238</td>\n",
       "    </tr>\n",
       "    <tr>\n",
       "      <th>20</th>\n",
       "      <td>session_avg_actions</td>\n",
       "      <td>-0.014671</td>\n",
       "    </tr>\n",
       "    <tr>\n",
       "      <th>17</th>\n",
       "      <td>avg_session_duration</td>\n",
       "      <td>-0.003576</td>\n",
       "    </tr>\n",
       "    <tr>\n",
       "      <th>31</th>\n",
       "      <td>session_avg_songs</td>\n",
       "      <td>-0.003447</td>\n",
       "    </tr>\n",
       "    <tr>\n",
       "      <th>29</th>\n",
       "      <td>session_avg_playback</td>\n",
       "      <td>0.000000</td>\n",
       "    </tr>\n",
       "    <tr>\n",
       "      <th>21</th>\n",
       "      <td>session_avg_added_playlist</td>\n",
       "      <td>0.008408</td>\n",
       "    </tr>\n",
       "    <tr>\n",
       "      <th>26</th>\n",
       "      <td>session_avg_help</td>\n",
       "      <td>0.010653</td>\n",
       "    </tr>\n",
       "    <tr>\n",
       "      <th>27</th>\n",
       "      <td>session_avg_home</td>\n",
       "      <td>0.011385</td>\n",
       "    </tr>\n",
       "    <tr>\n",
       "      <th>25</th>\n",
       "      <td>session_avg_friends</td>\n",
       "      <td>0.025799</td>\n",
       "    </tr>\n",
       "    <tr>\n",
       "      <th>7</th>\n",
       "      <td>n_help</td>\n",
       "      <td>0.081414</td>\n",
       "    </tr>\n",
       "    <tr>\n",
       "      <th>8</th>\n",
       "      <td>n_home</td>\n",
       "      <td>0.081726</td>\n",
       "    </tr>\n",
       "    <tr>\n",
       "      <th>0</th>\n",
       "      <td>n_actions</td>\n",
       "      <td>0.087695</td>\n",
       "    </tr>\n",
       "    <tr>\n",
       "      <th>11</th>\n",
       "      <td>n_songs</td>\n",
       "      <td>0.092634</td>\n",
       "    </tr>\n",
       "    <tr>\n",
       "      <th>6</th>\n",
       "      <td>n_friends</td>\n",
       "      <td>0.096044</td>\n",
       "    </tr>\n",
       "    <tr>\n",
       "      <th>28</th>\n",
       "      <td>session_avg_likes</td>\n",
       "      <td>0.101266</td>\n",
       "    </tr>\n",
       "    <tr>\n",
       "      <th>10</th>\n",
       "      <td>n_sess</td>\n",
       "      <td>0.101803</td>\n",
       "    </tr>\n",
       "    <tr>\n",
       "      <th>1</th>\n",
       "      <td>n_added_to_playlist</td>\n",
       "      <td>0.103315</td>\n",
       "    </tr>\n",
       "    <tr>\n",
       "      <th>15</th>\n",
       "      <td>n_dislikes_over_songs</td>\n",
       "      <td>0.115028</td>\n",
       "    </tr>\n",
       "    <tr>\n",
       "      <th>13</th>\n",
       "      <td>n_ads_over_songs</td>\n",
       "      <td>0.148462</td>\n",
       "    </tr>\n",
       "    <tr>\n",
       "      <th>3</th>\n",
       "      <td>n_days</td>\n",
       "      <td>0.175012</td>\n",
       "    </tr>\n",
       "    <tr>\n",
       "      <th>9</th>\n",
       "      <td>n_likes</td>\n",
       "      <td>0.176979</td>\n",
       "    </tr>\n",
       "    <tr>\n",
       "      <th>16</th>\n",
       "      <td>n_likes_over_dislikes</td>\n",
       "      <td>0.209321</td>\n",
       "    </tr>\n",
       "    <tr>\n",
       "      <th>19</th>\n",
       "      <td>time_window</td>\n",
       "      <td>0.451612</td>\n",
       "    </tr>\n",
       "    <tr>\n",
       "      <th>32</th>\n",
       "      <td>session_avg_time_away</td>\n",
       "      <td>0.494004</td>\n",
       "    </tr>\n",
       "  </tbody>\n",
       "</table>\n",
       "</div>"
      ],
      "text/plain": [
       "                       feature     score\n",
       "22             session_avg_ads -0.189487\n",
       "23        session_avg_dislikes -0.187692\n",
       "2                        n_ads -0.171845\n",
       "18           avg_daily_actions -0.125685\n",
       "12                  n_upgrades -0.107225\n",
       "14          n_likes_over_songs -0.085101\n",
       "30        session_avg_settings -0.054370\n",
       "5                 n_downgrades -0.040335\n",
       "24          session_avg_errors -0.037052\n",
       "4                   n_dislikes -0.036238\n",
       "20         session_avg_actions -0.014671\n",
       "17        avg_session_duration -0.003576\n",
       "31           session_avg_songs -0.003447\n",
       "29        session_avg_playback  0.000000\n",
       "21  session_avg_added_playlist  0.008408\n",
       "26            session_avg_help  0.010653\n",
       "27            session_avg_home  0.011385\n",
       "25         session_avg_friends  0.025799\n",
       "7                       n_help  0.081414\n",
       "8                       n_home  0.081726\n",
       "0                    n_actions  0.087695\n",
       "11                     n_songs  0.092634\n",
       "6                    n_friends  0.096044\n",
       "28           session_avg_likes  0.101266\n",
       "10                      n_sess  0.101803\n",
       "1          n_added_to_playlist  0.103315\n",
       "15       n_dislikes_over_songs  0.115028\n",
       "13            n_ads_over_songs  0.148462\n",
       "3                       n_days  0.175012\n",
       "9                      n_likes  0.176979\n",
       "16       n_likes_over_dislikes  0.209321\n",
       "19                 time_window  0.451612\n",
       "32       session_avg_time_away  0.494004"
      ]
     },
     "execution_count": 138,
     "metadata": {},
     "output_type": "execute_result"
    }
   ],
   "source": [
    "df_scores = df_total.select(features_score_projection).toPandas()\n",
    "df_scores = df_scores.transpose().reset_index()\n",
    "df_scores.columns = ['feature', 'score']\n",
    "df_scores = df_scores.sort_values(['score'], ascending = True)\n",
    "df_scores"
   ]
  },
  {
   "cell_type": "code",
   "execution_count": 142,
   "metadata": {
    "ExecuteTime": {
     "end_time": "2020-05-12T01:27:02.641131Z",
     "start_time": "2020-05-12T01:27:02.373179Z"
    }
   },
   "outputs": [
    {
     "data": {
      "image/png": "[encoded data removed]",
      "text/plain": [
       "<Figure size 720x720 with 1 Axes>"
      ]
     },
     "metadata": {
      "needs_background": "light"
     },
     "output_type": "display_data"
    }
   ],
   "source": [
    "import matplotlib.pyplot as plt\n",
    "\n",
    "fig = plt.figure(figsize = (10, 10))\n",
    "\n",
    "ax = fig.add_axes([0, 0, 1, 1])\n",
    " \n",
    "ax.bar(list(df_scores.feature), list(df_scores.score))\n",
    "\n",
    "plt.xticks(rotation=90)\n",
    "\n",
    "plt.show()"
   ]
  },
  {
   "cell_type": "code",
   "execution_count": 41,
   "metadata": {
    "ExecuteTime": {
     "end_time": "2020-05-12T00:21:26.517473Z",
     "start_time": "2020-05-12T00:21:26.506567Z"
    }
   },
   "outputs": [],
   "source": [
    "import pandas as pd \n",
    "\n",
    "def show_results_and_save(model_pipeline, predictions):\n",
    "    \n",
    "    df_results = predictions.select(['canceled', 'prediction']).toPandas()\n",
    "    df_results['prediction'] = df_results.prediction.apply(int)\n",
    "\n",
    "    # Display the results\n",
    "    _metrics = plot_metrics(df_results['canceled'], df_results['prediction'])\n",
    "    \n",
    "    # Save the results\n",
    "    _model = model_pipeline.bestModel.stages[-1]\n",
    "    _model_name = _model.__class__.__name__\n",
    "\n",
    "    _model_info = {\n",
    "        'model_name' : _model_name,\n",
    "        'hyperparameters' : list(zip(list(map(lambda _param: _param.name, list(_model.extractParamMap()))), list(_model.extractParamMap().values())))\n",
    "    }\n",
    "\n",
    "    _metrics.update(_model_info)\n",
    "\n",
    "    _df_metrics = pd.DataFrame([_metrics])\n",
    "    _df_metrics.to_csv(f'spark_{_model_name}.csv', index = False)"
   ]
  },
  {
   "cell_type": "markdown",
   "metadata": {},
   "source": [
    "#### Logistic Regression"
   ]
  },
  {
   "cell_type": "code",
   "execution_count": 42,
   "metadata": {
    "ExecuteTime": {
     "end_time": "2020-05-12T00:21:30.546339Z",
     "start_time": "2020-05-12T00:21:30.210705Z"
    }
   },
   "outputs": [
    {
     "name": "stdout",
     "output_type": "stream",
     "text": [
      "[[1032  264]\n",
      " [ 602 4069]]\n",
      "\n",
      "accuracy................. 0.8549\n",
      "precision................ 0.6316\n",
      "recall................... 0.7963\n",
      "auc...................... 0.8337\n",
      "beta..................... 0.7568\n",
      "F1 macro................. 0.8041\n",
      "F1 micro................. 0.8549\n",
      "F1 weighted.............. 0.8605\n",
      "F1 binary................ 0.7044\n"
     ]
    }
   ],
   "source": [
    "pipeline = create_logistic_regression_pipeline()\n",
    "lr = logistic_regression_grid_search(pipeline)\n",
    "\n",
    "# Train\n",
    "model_pipeline = lr.fit(train_df)\n",
    "\n",
    "# Test\n",
    "predictions = model_pipeline.bestModel.transform(test_df)\n",
    "\n",
    "# Show metrics\n",
    "show_results_and_save(model_pipeline, predictions)"
   ]
  },
  {
   "cell_type": "markdown",
   "metadata": {},
   "source": [
    "#### Decision Tree Classifier"
   ]
  },
  {
   "cell_type": "code",
   "execution_count": 43,
   "metadata": {
    "ExecuteTime": {
     "end_time": "2020-05-12T00:24:41.517024Z",
     "start_time": "2020-05-12T00:22:30.769627Z"
    }
   },
   "outputs": [
    {
     "name": "stdout",
     "output_type": "stream",
     "text": [
      "Number of models to train: 40\n",
      "[[ 853  443]\n",
      " [ 238 4433]]\n",
      "\n",
      "accuracy................. 0.8859\n",
      "precision................ 0.7819\n",
      "recall................... 0.6582\n",
      "auc...................... 0.8036\n",
      "beta..................... 0.6797\n",
      "F1 macro................. 0.8217\n",
      "F1 micro................. 0.8859\n",
      "F1 weighted.............. 0.8822\n",
      "F1 binary................ 0.7147\n"
     ]
    }
   ],
   "source": [
    "pipeline = create_decision_tree_pipeline()\n",
    "dt = decision_tree_grid_search(pipeline)\n",
    "\n",
    "# Train\n",
    "model_pipeline = dt.fit(train_df)\n",
    "\n",
    "# Test\n",
    "predictions = model_pipeline.bestModel.transform(test_df)\n",
    "\n",
    "# Show metrics\n",
    "show_results_and_save(model_pipeline, predictions)"
   ]
  },
  {
   "cell_type": "markdown",
   "metadata": {},
   "source": [
    "#### Random Forest"
   ]
  },
  {
   "cell_type": "code",
   "execution_count": 157,
   "metadata": {
    "ExecuteTime": {
     "end_time": "2020-05-11T01:58:23.084254Z",
     "start_time": "2020-05-11T01:14:14.308869Z"
    }
   },
   "outputs": [
    {
     "name": "stdout",
     "output_type": "stream",
     "text": [
      "Number of models to train: 200\n",
      "[[ 883  440]\n",
      " [ 140 4547]]\n",
      "\n",
      "accuracy................. 0.9035\n",
      "precision................ 0.8631\n",
      "recall................... 0.6674\n",
      "auc...................... 0.8188\n",
      "beta..................... 0.6991\n",
      "F1 macro................. 0.8464\n",
      "F1 micro................. 0.9035\n",
      "F1 weighted.............. 0.8988\n",
      "F1 binary................ 0.7528\n"
     ]
    }
   ],
   "source": [
    "pipeline = create_random_forest_pipeline()\n",
    "rf = random_forest_grid_search(pipeline)\n",
    "\n",
    "# Train\n",
    "model_pipeline = rf.fit(train_df)\n",
    "\n",
    "# Test\n",
    "predictions = model_pipeline.bestModel.transform(test_df)\n",
    "\n",
    "# Show metrics\n",
    "show_results_and_save(model_pipeline, predictions)"
   ]
  },
  {
   "cell_type": "markdown",
   "metadata": {},
   "source": [
    "#### Gradient Boost"
   ]
  },
  {
   "cell_type": "code",
   "execution_count": 158,
   "metadata": {
    "ExecuteTime": {
     "end_time": "2020-05-11T05:16:26.321256Z",
     "start_time": "2020-05-11T01:59:39.992064Z"
    }
   },
   "outputs": [
    {
     "name": "stdout",
     "output_type": "stream",
     "text": [
      "Number of models to train: 150\n",
      "[[ 915  408]\n",
      " [ 181 4506]]\n",
      "\n",
      "accuracy................. 0.9020\n",
      "precision................ 0.8349\n",
      "recall................... 0.6916\n",
      "auc...................... 0.8265\n",
      "beta..................... 0.7162\n",
      "F1 macro................. 0.8476\n",
      "F1 micro................. 0.9020\n",
      "F1 weighted.............. 0.8986\n",
      "F1 binary................ 0.7565\n"
     ]
    }
   ],
   "source": [
    "pipeline = create_gradient_boost_pipeline()\n",
    "gb = gradient_boost_grid_search(pipeline)\n",
    "\n",
    "# Train\n",
    "model_pipeline = gb.fit(train_df)\n",
    "\n",
    "# Test\n",
    "predictions = model_pipeline.bestModel.transform(test_df)\n",
    "\n",
    "# Show metrics\n",
    "show_results_and_save(model_pipeline, predictions)"
   ]
  },
  {
   "cell_type": "markdown",
   "metadata": {},
   "source": [
    "##### Estimator params and score"
   ]
  },
  {
   "cell_type": "code",
   "execution_count": null,
   "metadata": {
    "ExecuteTime": {
     "end_time": "2020-03-01T14:06:56.517560Z",
     "start_time": "2020-03-01T14:06:56.488834Z"
    }
   },
   "outputs": [],
   "source": [
    "import pandas as pd\n",
    "\n",
    "scores = cv_gbt_results.avgMetrics\n",
    "params = [{p.name: v for p, v in m.items()} for m in cv_gbt.getEstimatorParamMaps()]\n",
    "params_pd = pd.DataFrame(params)\n",
    "params_pd['score'] = scores\n",
    "params_pd"
   ]
  },
  {
   "cell_type": "markdown",
   "metadata": {},
   "source": [
    "# Final Steps\n",
    "Clean up your code, adding comments and renaming variables to make the code easier to read and maintain. Refer to the Spark Project Overview page and Data Scientist Capstone Project Rubric to make sure you are including all components of the capstone project and meet all expectations. Remember, this includes thorough documentation in a README file in a Github repository, as well as a web app or blog post."
   ]
  },
  {
   "cell_type": "code",
   "execution_count": null,
   "metadata": {},
   "outputs": [],
   "source": []
  }
 ],
 "metadata": {
  "kernelspec": {
   "display_name": "Python 3",
   "language": "python",
   "name": "python3"
  },
  "language_info": {
   "codemirror_mode": {
    "name": "ipython",
    "version": 3
   },
   "file_extension": ".py",
   "mimetype": "text/x-python",
   "name": "python",
   "nbconvert_exporter": "python",
   "pygments_lexer": "ipython3",
   "version": "3.7.4"
  }
 },
 "nbformat": 4,
 "nbformat_minor": 4
}
