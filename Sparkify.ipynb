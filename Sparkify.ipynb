{
 "cells": [
  {
   "cell_type": "markdown",
   "metadata": {},
   "source": [
    "# Sparkify Project Workspace\n",
    "This workspace contains a tiny subset (128MB) of the full dataset available (12GB). Feel free to use this workspace to build your project, or to explore a smaller subset with Spark before deploying your cluster on the cloud. Instructions for setting up your Spark cluster is included in the last lesson of the Extracurricular Spark Course content.\n",
    "\n",
    "You can follow the steps below to guide your data analysis and model building portion of this project."
   ]
  },
  {
   "cell_type": "code",
   "execution_count": 53,
   "metadata": {},
   "outputs": [],
   "source": [
    "from pyspark.sql import SparkSession\n",
    "\n",
    "from pyspark.sql.functions import isnan, when, count, col, min as smin, max as smax"
   ]
  },
  {
   "cell_type": "code",
   "execution_count": 2,
   "metadata": {},
   "outputs": [
    {
     "name": "stdout",
     "output_type": "stream",
     "text": [
      "2m_rows_sparkify_event_data.csv  README.MD\n",
      "b_1_sparkify_event_data.csv\t requirements.txt\n",
      "ETL.ipynb\t\t\t sparkify_event_data.json\n",
      "full_sparkify_event_data.json\t Sparkify.ipynb\n",
      "medium_sparkify_event_data.csv\n"
     ]
    }
   ],
   "source": [
    "!ls"
   ]
  },
  {
   "cell_type": "code",
   "execution_count": 2,
   "metadata": {},
   "outputs": [],
   "source": [
    "filepath = '2m_rows_sparkify_event_data.csv'"
   ]
  },
  {
   "cell_type": "code",
   "execution_count": 3,
   "metadata": {},
   "outputs": [],
   "source": [
    "spark = SparkSession \\\n",
    "    .builder \\\n",
    "    .appName(\"Sparkify\") \\\n",
    "    .getOrCreate()\n",
    "\n",
    "spark.sparkContext.setLogLevel('DEBUG')"
   ]
  },
  {
   "cell_type": "markdown",
   "metadata": {},
   "source": [
    "# Load and Clean Dataset\n",
    "In this workspace, the mini-dataset file is `mini_sparkify_event_data.json`. Load and clean the dataset, checking for invalid or missing data - for example, records without userids or sessionids. "
   ]
  },
  {
   "cell_type": "code",
   "execution_count": 15,
   "metadata": {},
   "outputs": [],
   "source": [
    "df = spark.read.option(\"inferSchema\", \"true\").option(\"header\", \"true\").option(\"encoding\", \"utf-8\").csv(filepath)"
   ]
  },
  {
   "cell_type": "code",
   "execution_count": 16,
   "metadata": {},
   "outputs": [
    {
     "data": {
      "text/plain": [
       "[('status', 'int'),\n",
       " ('gender', 'string'),\n",
       " ('length', 'double'),\n",
       " ('firstName', 'string'),\n",
       " ('level', 'string'),\n",
       " ('lastName', 'string'),\n",
       " ('registration', 'double'),\n",
       " ('userId', 'int'),\n",
       " ('ts', 'bigint'),\n",
       " ('auth', 'string'),\n",
       " ('page', 'string'),\n",
       " ('sessionId', 'int'),\n",
       " ('location', 'string'),\n",
       " ('itemInSession', 'int'),\n",
       " ('userAgent', 'string'),\n",
       " ('song', 'string'),\n",
       " ('artist', 'string'),\n",
       " ('method', 'string')]"
      ]
     },
     "execution_count": 16,
     "metadata": {},
     "output_type": "execute_result"
    }
   ],
   "source": [
    "df.dtypes"
   ]
  },
  {
   "cell_type": "code",
   "execution_count": 17,
   "metadata": {},
   "outputs": [
    {
     "name": "stdout",
     "output_type": "stream",
     "text": [
      "-RECORD 0------------------------------------------------------------------------------------\n",
      " status        | 200                                                                         \n",
      " gender        | M                                                                           \n",
      " length        | 524.32934                                                                   \n",
      " firstName     | Shlok                                                                       \n",
      " level         | paid                                                                        \n",
      " lastName      | Johnson                                                                     \n",
      " registration  | 1.533734541E12                                                              \n",
      " userId        | 1749042                                                                     \n",
      " ts            | 1538352001000                                                               \n",
      " auth          | Logged In                                                                   \n",
      " page          | NextSong                                                                    \n",
      " sessionId     | 22683                                                                       \n",
      " location      | Dallas-Fort Worth-Arlington, TX                                             \n",
      " itemInSession | 278                                                                         \n",
      " userAgent     | \"\"\"Mozilla/5.0 (Windows NT 6.1; WOW64) AppleWebKit/537.36 (KHTML            \n",
      " song          |  like Gecko) Chrome/36.0.1985.143 Safari/537.36\"\"\"                          \n",
      " artist        | Ich mache einen Spiegel - Dream Part 4                                      \n",
      " method        | Popol Vuh                                                                   \n",
      "-RECORD 1------------------------------------------------------------------------------------\n",
      " status        | 200                                                                         \n",
      " gender        | F                                                                           \n",
      " length        | 238.39302                                                                   \n",
      " firstName     | Vianney                                                                     \n",
      " level         | paid                                                                        \n",
      " lastName      | Miller                                                                      \n",
      " registration  | 1.537500318E12                                                              \n",
      " userId        | 1563081                                                                     \n",
      " ts            | 1538352002000                                                               \n",
      " auth          | Logged In                                                                   \n",
      " page          | NextSong                                                                    \n",
      " sessionId     | 20836                                                                       \n",
      " location      | San Francisco-Oakland-Hayward, CA                                           \n",
      " itemInSession | 9                                                                           \n",
      " userAgent     | \"\"\"Mozilla/5.0 (Macintosh; Intel Mac OS X 10_9_4) AppleWebKit/537.36 (KHTML \n",
      " song          |  like Gecko) Chrome/36.0.1985.143 Safari/537.36\"\"\"                          \n",
      " artist        | MiÃÂ©ntele                                                                 \n",
      " method        | Los Bunkers                                                                 \n",
      "only showing top 2 rows\n",
      "\n"
     ]
    }
   ],
   "source": [
    "df.show(n=2, truncate=False, vertical=True)"
   ]
  },
  {
   "cell_type": "code",
   "execution_count": 18,
   "metadata": {},
   "outputs": [
    {
     "data": {
      "text/plain": [
       "['status',\n",
       " 'gender',\n",
       " 'length',\n",
       " 'firstName',\n",
       " 'level',\n",
       " 'lastName',\n",
       " 'registration',\n",
       " 'userId',\n",
       " 'ts',\n",
       " 'auth',\n",
       " 'page',\n",
       " 'sessionId',\n",
       " 'location',\n",
       " 'itemInSession',\n",
       " 'userAgent',\n",
       " 'song',\n",
       " 'artist',\n",
       " 'method']"
      ]
     },
     "execution_count": 18,
     "metadata": {},
     "output_type": "execute_result"
    }
   ],
   "source": [
    "df.columns"
   ]
  },
  {
   "cell_type": "code",
   "execution_count": 19,
   "metadata": {},
   "outputs": [],
   "source": [
    "not_na_columns = [ 'userId', 'sessionId' ]"
   ]
  },
  {
   "cell_type": "code",
   "execution_count": 20,
   "metadata": {},
   "outputs": [
    {
     "name": "stdout",
     "output_type": "stream",
     "text": [
      "+------+------+------+---------+-----+--------+------------+------+---+----+----+---------+--------+-------------+---------+----+------+------+\n",
      "|status|gender|length|firstName|level|lastName|registration|userId| ts|auth|page|sessionId|location|itemInSession|userAgent|song|artist|method|\n",
      "+------+------+------+---------+-----+--------+------------+------+---+----+----+---------+--------+-------------+---------+----+------+------+\n",
      "|     0|     0|     0|        0|    0|       0|           0|     0|  0|   0|   0|        0|       0|            0|        0|   0|     0|     0|\n",
      "+------+------+------+---------+-----+--------+------------+------+---+----+----+---------+--------+-------------+---------+----+------+------+\n",
      "\n"
     ]
    }
   ],
   "source": [
    "df.select([count(when(isnan(c), c)).alias(c) for c in df.columns]).show()"
   ]
  },
  {
   "cell_type": "code",
   "execution_count": 25,
   "metadata": {},
   "outputs": [
    {
     "name": "stdout",
     "output_type": "stream",
     "text": [
      "+-------+-----+\n",
      "| userId|count|\n",
      "+-------+-----+\n",
      "|1261737|64332|\n",
      "|1333174| 1931|\n",
      "|1502571| 1898|\n",
      "|1140512| 1798|\n",
      "|1049289| 1768|\n",
      "|1045674| 1757|\n",
      "|1748906| 1751|\n",
      "|1199183| 1713|\n",
      "|1563125| 1585|\n",
      "|1564221| 1576|\n",
      "|1352772| 1545|\n",
      "|1730425| 1537|\n",
      "|1967025| 1505|\n",
      "|1155970| 1504|\n",
      "|1019103| 1495|\n",
      "|1169050| 1465|\n",
      "|1082829| 1459|\n",
      "|1090699| 1453|\n",
      "|1204704| 1389|\n",
      "|1985204| 1378|\n",
      "|1711691| 1373|\n",
      "|1434232| 1368|\n",
      "|1989862| 1365|\n",
      "|1343610| 1363|\n",
      "|1342468| 1359|\n",
      "|1708349| 1352|\n",
      "|1240184| 1349|\n",
      "|1006695| 1347|\n",
      "|1650232| 1339|\n",
      "|1249037| 1330|\n",
      "|1116823| 1325|\n",
      "|1806776| 1323|\n",
      "|1235208| 1319|\n",
      "|1200978| 1314|\n",
      "|1577591| 1310|\n",
      "|1870948| 1306|\n",
      "|1422950| 1299|\n",
      "|1515610| 1298|\n",
      "|1655121| 1290|\n",
      "|1662639| 1288|\n",
      "|1904872| 1274|\n",
      "|1778160| 1273|\n",
      "|1395776| 1272|\n",
      "|1073857| 1270|\n",
      "|1762462| 1261|\n",
      "|1156589| 1257|\n",
      "|1663631| 1257|\n",
      "|1141500| 1254|\n",
      "|1987393| 1251|\n",
      "|1116108| 1250|\n",
      "+-------+-----+\n",
      "only showing top 50 rows\n",
      "\n"
     ]
    }
   ],
   "source": [
    "df.groupBy('userId').count().orderBy('count', ascending = False).show(50)"
   ]
  },
  {
   "cell_type": "code",
   "execution_count": 22,
   "metadata": {},
   "outputs": [
    {
     "data": {
      "text/plain": [
       "140616"
      ]
     },
     "execution_count": 22,
     "metadata": {},
     "output_type": "execute_result"
    }
   ],
   "source": [
    "df.select(\"artist\").distinct().count()"
   ]
  },
  {
   "cell_type": "code",
   "execution_count": 24,
   "metadata": {},
   "outputs": [
    {
     "name": "stdout",
     "output_type": "stream",
     "text": [
      "+-------+------------------+\n",
      "|summary|            length|\n",
      "+-------+------------------+\n",
      "|  count|           1571580|\n",
      "|   mean|248.82363335965834|\n",
      "| stddev| 97.59410547771161|\n",
      "|    min|             0.522|\n",
      "|    max|        3024.66567|\n",
      "+-------+------------------+\n",
      "\n"
     ]
    }
   ],
   "source": [
    "df.select('length').describe().show()"
   ]
  },
  {
   "cell_type": "markdown",
   "metadata": {},
   "source": [
    "# Exploratory Data Analysis\n",
    "When you're working with the full dataset, perform EDA by loading a small subset of the data and doing basic manipulations within Spark. In this workspace, you are already provided a small subset of data you can explore.\n",
    "\n",
    "### Define Churn\n",
    "\n",
    "Once you've done some preliminary analysis, create a column `Churn` to use as the label for your model. I suggest using the `Cancellation Confirmation` events to define your churn, which happen for both paid and free users. As a bonus task, you can also look into the `Downgrade` events.\n",
    "\n",
    "### Explore Data\n",
    "Once you've defined churn, perform some exploratory data analysis to observe the behavior for users who stayed vs users who churned. You can start by exploring aggregates on these two groups of users, observing how much of a specific action they experienced per a certain time unit or number of songs played."
   ]
  },
  {
   "cell_type": "code",
   "execution_count": 27,
   "metadata": {},
   "outputs": [
    {
     "name": "stdout",
     "output_type": "stream",
     "text": [
      "+--------------------+-------+\n",
      "|                page|  count|\n",
      "+--------------------+-------+\n",
      "|            NextSong|1571580|\n",
      "|                Home| 109774|\n",
      "|           Thumbs Up|  78871|\n",
      "|         Roll Advert|  44623|\n",
      "|     Add to Playlist|  44290|\n",
      "|          Add Friend|  29403|\n",
      "|              Logout|  24673|\n",
      "|               Login|  24094|\n",
      "|         Thumbs Down|  15897|\n",
      "|                Help|  12134|\n",
      "|           Downgrade|  11911|\n",
      "|            Settings|  11553|\n",
      "|               About|   7468|\n",
      "|             Upgrade|   6631|\n",
      "|       Save Settings|   2321|\n",
      "|               Error|   1975|\n",
      "|      Submit Upgrade|   1965|\n",
      "|    Submit Downgrade|    336|\n",
      "|              Cancel|    221|\n",
      "|Cancellation Conf...|    221|\n",
      "|            Register|     37|\n",
      "| Submit Registration|     22|\n",
      "+--------------------+-------+\n",
      "\n"
     ]
    }
   ],
   "source": [
    "df.groupBy('page').count().orderBy('count', ascending = False).show(50)"
   ]
  },
  {
   "cell_type": "markdown",
   "metadata": {},
   "source": [
    "Some questions about the data:\n",
    "\n",
    "- Are errors related to downgrading canceling the service?\n",
    "- Having a certain number of friends or a sense of community can decrease the churn?\n",
    "- Thumbs down are related to churn? (could the quality of the songs catalog affect the churn)\n",
    "- The advertising is not annoying the users?\n",
    "- Users with stay connected for more time have less change to churn?\n",
    "- Is the home page relevant?\n",
    "- Users, who access the downgrade page are how much more willing to churn?"
   ]
  },
  {
   "cell_type": "code",
   "execution_count": 37,
   "metadata": {},
   "outputs": [
    {
     "name": "stdout",
     "output_type": "stream",
     "text": [
      "+-------------------+-----+\n",
      "|               page|count|\n",
      "+-------------------+-----+\n",
      "|               Home|34151|\n",
      "|              Login|24094|\n",
      "|              About| 3783|\n",
      "|               Help| 2177|\n",
      "|              Error|   68|\n",
      "|           Register|   37|\n",
      "|Submit Registration|   22|\n",
      "+-------------------+-----+\n",
      "\n"
     ]
    }
   ],
   "source": [
    "df.filter('userId = 1261737').groupBy('page').count().orderBy('count', ascending = False).show(50)"
   ]
  },
  {
   "cell_type": "code",
   "execution_count": 38,
   "metadata": {},
   "outputs": [
    {
     "name": "stdout",
     "output_type": "stream",
     "text": [
      "+---------------+-----+\n",
      "|           page|count|\n",
      "+---------------+-----+\n",
      "|       NextSong| 1611|\n",
      "|           Home|   71|\n",
      "|      Thumbs Up|   70|\n",
      "|Add to Playlist|   56|\n",
      "|      Downgrade|   28|\n",
      "|     Add Friend|   27|\n",
      "|         Logout|   19|\n",
      "|    Thumbs Down|   18|\n",
      "|           Help|   12|\n",
      "|       Settings|    7|\n",
      "|    Roll Advert|    3|\n",
      "|          About|    2|\n",
      "|  Save Settings|    2|\n",
      "|          Error|    2|\n",
      "|        Upgrade|    2|\n",
      "| Submit Upgrade|    1|\n",
      "+---------------+-----+\n",
      "\n"
     ]
    }
   ],
   "source": [
    "df.filter('userId = 1333174').groupBy('page').count().orderBy('count', ascending = False).show(50)"
   ]
  },
  {
   "cell_type": "code",
   "execution_count": 39,
   "metadata": {},
   "outputs": [
    {
     "name": "stdout",
     "output_type": "stream",
     "text": [
      "+--------------------+-----+\n",
      "|           userAgent|count|\n",
      "+--------------------+-----+\n",
      "|Mozilla/5.0 (Wind...| 1931|\n",
      "+--------------------+-----+\n",
      "\n"
     ]
    }
   ],
   "source": [
    "df.filter('userId = 1333174').groupBy('userAgent').count().orderBy('count', ascending = False).show(50)"
   ]
  },
  {
   "cell_type": "code",
   "execution_count": 43,
   "metadata": {},
   "outputs": [
    {
     "name": "stdout",
     "output_type": "stream",
     "text": [
      "+--------------------+-----+\n",
      "|                song|count|\n",
      "+--------------------+-----+\n",
      "|Dog Days Are Over...|    8|\n",
      "|                Undo|    7|\n",
      "|       Sehr kosmisch|    6|\n",
      "|             Revelry|    6|\n",
      "|       ReprÃÂ©sente|    5|\n",
      "|Horn Concerto No....|    5|\n",
      "|      You're The One|    5|\n",
      "|           Fireflies|    4|\n",
      "|            The Gift|    4|\n",
      "|  Heartbreak Warfare|    4|\n",
      "| I CAN'T GET STARTED|    4|\n",
      "|        Use Somebody|    4|\n",
      "|    Creep (Explicit)|    4|\n",
      "|    Somebody To Love|    4|\n",
      "|     Time To Pretend|    3|\n",
      "|        Make Her Say|    3|\n",
      "|             Invalid|    3|\n",
      "|Ironic (Acoustic ...|    3|\n",
      "|               Gears|    3|\n",
      "|         Why Georgia|    3|\n",
      "|    Never Let You Go|    3|\n",
      "|               I Ran|    3|\n",
      "|    Hey_ Soul Sister|    3|\n",
      "|Unwell (Album Ver...|    3|\n",
      "|              Rianna|    3|\n",
      "|              Easier|    2|\n",
      "|         Cosmic Love|    2|\n",
      "|South Side (Digit...|    2|\n",
      "|   Hey There Delilah|    2|\n",
      "|        Wavin'  Flag|    2|\n",
      "|     Do You Remember|    2|\n",
      "|I?'m A Steady Rol...|    2|\n",
      "|Can I Sleep In Yo...|    2|\n",
      "|               Simon|    2|\n",
      "|          I Can Talk|    2|\n",
      "|   Give Me Your Eyes|    2|\n",
      "|    Half Of My Heart|    2|\n",
      "|Numb (Album Version)|    2|\n",
      "|Don't Stop The Music|    2|\n",
      "|The Crow & The Bu...|    2|\n",
      "|          Speechless|    2|\n",
      "|    Ain't Misbehavin|    2|\n",
      "|When The Son Begi...|    2|\n",
      "|Nothin' On You [f...|    2|\n",
      "|               Magic|    2|\n",
      "|   It's My Own Fault|    2|\n",
      "|         Outstanding|    2|\n",
      "|Handlebars (UK Ra...|    2|\n",
      "|Video Killed The ...|    2|\n",
      "|      Sweet And Wild|    2|\n",
      "+--------------------+-----+\n",
      "only showing top 50 rows\n",
      "\n"
     ]
    }
   ],
   "source": [
    "df.filter('userId = 1333174 and song != \\'null\\' ').groupBy('song').count().orderBy('count', ascending = False).show(50)"
   ]
  },
  {
   "cell_type": "code",
   "execution_count": 48,
   "metadata": {},
   "outputs": [
    {
     "name": "stdout",
     "output_type": "stream",
     "text": [
      "+-------------+---------------+---------+-------------+--------------------+--------------------+\n",
      "|           ts|           page|sessionId|itemInSession|                song|              artist|\n",
      "+-------------+---------------+---------+-------------+--------------------+--------------------+\n",
      "|1538895218000|           Home|    50975|          123|                null|                null|\n",
      "|1538895186000|       NextSong|    50975|          122|Tonight She Comes...|            The Cars|\n",
      "|1538895032000|       NextSong|    50975|          121|I?'m A Steady Rol...|      Robert Johnson|\n",
      "|1538894768000|       NextSong|    50975|          120| Part Of The Process|           Morcheeba|\n",
      "|1538894456000|       NextSong|    50975|          119|Showing Out (Get ...|           Mel & Kim|\n",
      "|1538894186000|       NextSong|    50975|          118|          Speechless|           Lady GaGa|\n",
      "|1538893922000|       NextSong|    50975|          117|     Time To Pretend|                MGMT|\n",
      "|1538893631000|       NextSong|    50975|          116|Don't Worry Be Happy|      Bobby McFerrin|\n",
      "|1538893361000|       NextSong|    50975|          115|Mala Suerta con e...|Calle 13 Featurin...|\n",
      "|1538893101000|       NextSong|    50975|          114|       Red Dirt Road|       Brooks & Dunn|\n",
      "|1538892921000|      Thumbs Up|    50975|          113|                null|                null|\n",
      "|1538892920000|       NextSong|    50975|          112|                Stay|Lisa Loeb & Nine ...|\n",
      "|1538892765000|       NextSong|    50975|          111|Sheena Is A Punk ...|     Yeah Yeah Yeahs|\n",
      "|1538892417000|       NextSong|    50975|          110|                Undo|            BjÃÂ¶rk|\n",
      "|1538892046000|       NextSong|    50975|          109|          Orange Sky|       Alexi Murdoch|\n",
      "|1538891758000|       NextSong|    50975|          108|             Ascolta|    Ludovico Einaudi|\n",
      "|1538891561000|       NextSong|    50975|          107|                Glow|      Alien Ant Farm|\n",
      "|1538891431000|       NextSong|    50975|          106|           Same Girl|        Jack Johnson|\n",
      "|1538890909000|       NextSong|    50975|          105|Six Days At The B...|Explosions In The...|\n",
      "|1538890629000|       NextSong|    50975|          103|Our Ride To The R...|          Team Sleep|\n",
      "|1538890629000|           Help|    50975|          104|                null|                null|\n",
      "|1538890360000|       NextSong|    50975|          102|Rewind [feat. Wyc...|            Flo Rida|\n",
      "|1538890038000|       NextSong|    50975|          101|         I Need Love|           LL Cool J|\n",
      "|1538889749000|       NextSong|    50975|          100|       Your Sickness|             Pinback|\n",
      "|1538889416000|       NextSong|    50975|           99|       Luz Dos Olhos|          Nando Reis|\n",
      "|1538889186000|       NextSong|    50975|           98|         Black Water|Edward Sharpe & T...|\n",
      "|1538888926000|       NextSong|    50975|           97|Keep You Much Longer|                Akon|\n",
      "|1538888742000|       NextSong|    50975|           96|         Amor Seguro|     David Lee Garza|\n",
      "|1538888425000|       NextSong|    50975|           95|     The Rest Of You|   Late Night Alumni|\n",
      "|1538888163000|      Thumbs Up|    50975|           93|                null|                null|\n",
      "|1538888163000|Add to Playlist|    50975|           94|                null|                null|\n",
      "|1538888162000|       NextSong|    50975|           92|       Mary's Prayer|         Bebo Norman|\n",
      "|1538887979000|       NextSong|    50975|           91|             Hurtful|         Erik Hassle|\n",
      "|1538887780000|      Thumbs Up|    50975|           90|                null|                null|\n",
      "|1538887779000|       NextSong|    50975|           89|     Swing Life Away|        Rise Against|\n",
      "|1538887495000|       NextSong|    50975|           88|Don't Cry (Original)|       Guns N' Roses|\n",
      "|1538887218000|       NextSong|    50975|           87|Horn Concerto No....|Barry Tuckwell/Ac...|\n",
      "|1538887036000|       NextSong|    50975|           86|This Is How We Do It|      Montell Jordan|\n",
      "|1538886662000|       NextSong|    50975|           85|Pink Cashmere ( L...|              Prince|\n",
      "|1538886235000|       NextSong|    50975|           84|Playa Playa (Clea...|            D'Angelo|\n",
      "|1538886037000|       NextSong|    50975|           83|Video Killed The ...|         The Buggles|\n",
      "|1538885939000|       NextSong|    50975|           82|Samba De Una Nota...|      Joa~o Gilberto|\n",
      "|1538885713000|       NextSong|    50975|           81|  Everything I Build|          The Stills|\n",
      "|1538885524000|       NextSong|    50975|           80|               ABC's| K'naan / Chubb Rock|\n",
      "|1538885304000|       NextSong|    50975|           79|    Somebody To Love|       Justin Bieber|\n",
      "|1538885086000|     Add Friend|    50975|           78|                null|                null|\n",
      "|1538885085000|       NextSong|    50975|           77|             CIEÃÂ|     Milczenie Owiec|\n",
      "|1538884934000|       NextSong|    50975|           76|       Listen People|    Herman's Hermits|\n",
      "|1538884666000|       NextSong|    50975|           75|      Change My Mind|         Freak Power|\n",
      "|1538884403000|     Add Friend|    50975|           74|                null|                null|\n",
      "+-------------+---------------+---------+-------------+--------------------+--------------------+\n",
      "only showing top 50 rows\n",
      "\n"
     ]
    }
   ],
   "source": [
    "df.select(['ts', 'page', 'sessionId', 'itemInSession', 'song', 'artist']).filter('userId = 1333174').orderBy('ts', ascending = False).show(50)"
   ]
  },
  {
   "cell_type": "code",
   "execution_count": 58,
   "metadata": {},
   "outputs": [
    {
     "name": "stdout",
     "output_type": "stream",
     "text": [
      "+-------------+-------------+\n",
      "|       min_ts|       max_ts|\n",
      "+-------------+-------------+\n",
      "|1538361989000|1538895218000|\n",
      "+-------------+-------------+\n",
      "\n"
     ]
    }
   ],
   "source": [
    "df.filter('userId = 1333174').select([smin('ts').alias('min_ts'), smax('ts').alias('max_ts')]).show()"
   ]
  },
  {
   "cell_type": "code",
   "execution_count": null,
   "metadata": {},
   "outputs": [],
   "source": []
  },
  {
   "cell_type": "markdown",
   "metadata": {},
   "source": [
    "# Feature Engineering\n",
    "Once you've familiarized yourself with the data, build out the features you find promising to train your model on. To work with the full dataset, you can follow the following steps.\n",
    "- Write a script to extract the necessary features from the smaller subset of data\n",
    "- Ensure that your script is scalable, using the best practices discussed in Lesson 3\n",
    "- Try your script on the full data set, debugging your script if necessary\n",
    "\n",
    "If you are working in the classroom workspace, you can just extract features based on the small subset of data contained here. Be sure to transfer over this work to the larger dataset when you work on your Spark cluster."
   ]
  },
  {
   "cell_type": "code",
   "execution_count": null,
   "metadata": {},
   "outputs": [],
   "source": []
  },
  {
   "cell_type": "markdown",
   "metadata": {},
   "source": [
    "# Modeling\n",
    "Split the full dataset into train, test, and validation sets. Test out several of the machine learning methods you learned. Evaluate the accuracy of the various models, tuning parameters as necessary. Determine your winning model based on test accuracy and report results on the validation set. Since the churned users are a fairly small subset, I suggest using F1 score as the metric to optimize."
   ]
  },
  {
   "cell_type": "code",
   "execution_count": null,
   "metadata": {},
   "outputs": [],
   "source": []
  },
  {
   "cell_type": "markdown",
   "metadata": {},
   "source": [
    "# Final Steps\n",
    "Clean up your code, adding comments and renaming variables to make the code easier to read and maintain. Refer to the Spark Project Overview page and Data Scientist Capstone Project Rubric to make sure you are including all components of the capstone project and meet all expectations. Remember, this includes thorough documentation in a README file in a Github repository, as well as a web app or blog post."
   ]
  },
  {
   "cell_type": "code",
   "execution_count": null,
   "metadata": {},
   "outputs": [],
   "source": []
  }
 ],
 "metadata": {
  "kernelspec": {
   "display_name": "Python 3",
   "language": "python",
   "name": "python3"
  },
  "language_info": {
   "codemirror_mode": {
    "name": "ipython",
    "version": 3
   },
   "file_extension": ".py",
   "mimetype": "text/x-python",
   "name": "python",
   "nbconvert_exporter": "python",
   "pygments_lexer": "ipython3",
   "version": "3.7.4"
  }
 },
 "nbformat": 4,
 "nbformat_minor": 4
}
