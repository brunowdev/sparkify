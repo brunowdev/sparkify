{
 "cells": [
  {
   "cell_type": "markdown",
   "metadata": {},
   "source": [
    "# Sparkify Project Workspace\n",
    "This workspace contains a tiny subset (128MB) of the full dataset available (12GB). Feel free to use this workspace to build your project, or to explore a smaller subset with Spark before deploying your cluster on the cloud. Instructions for setting up your Spark cluster is included in the last lesson of the Extracurricular Spark Course content.\n",
    "\n",
    "You can follow the steps below to guide your data analysis and model building portion of this project."
   ]
  },
  {
   "cell_type": "code",
   "execution_count": 379,
   "metadata": {},
   "outputs": [],
   "source": [
    "from datetime import datetime\n",
    "\n",
    "from pyspark.sql import SparkSession\n",
    "\n",
    "from pyspark.sql.functions import isnan, when, first, avg, last, count, countDistinct, col, min as smin, max as smax, sum as ssum, lag, lead, coalesce, lit\n",
    "\n",
    "from pyspark.sql.window import Window"
   ]
  },
  {
   "cell_type": "code",
   "execution_count": 2,
   "metadata": {},
   "outputs": [
    {
     "name": "stdout",
     "output_type": "stream",
     "text": [
      "2m_rows_sparkify_event_data.csv  README.MD\n",
      "b_1_sparkify_event_data.csv\t requirements.txt\n",
      "ETL.ipynb\t\t\t sparkify_event_data.json\n",
      "full_sparkify_event_data.json\t Sparkify.ipynb\n",
      "medium_sparkify_event_data.csv\n"
     ]
    }
   ],
   "source": [
    "!ls"
   ]
  },
  {
   "cell_type": "code",
   "execution_count": 140,
   "metadata": {},
   "outputs": [],
   "source": [
    "filepath = 'medium_sparkify_event_data.json'"
   ]
  },
  {
   "cell_type": "code",
   "execution_count": 3,
   "metadata": {},
   "outputs": [],
   "source": [
    "spark = SparkSession \\\n",
    "    .builder \\\n",
    "    .appName(\"Sparkify\") \\\n",
    "    .getOrCreate()\n",
    "\n",
    "spark.sparkContext.setLogLevel('DEBUG')"
   ]
  },
  {
   "cell_type": "markdown",
   "metadata": {},
   "source": [
    "# Load and Clean Dataset\n",
    "In this workspace, the mini-dataset file is `mini_sparkify_event_data.json`. Load and clean the dataset, checking for invalid or missing data - for example, records without userids or sessionids. "
   ]
  },
  {
   "cell_type": "code",
   "execution_count": 233,
   "metadata": {},
   "outputs": [],
   "source": [
    "# df = spark.read.option(\"inferSchema\", \"true\").option(\"header\", \"true\").option(\"encoding\", \"utf-8\").csv(filepath)\n",
    "df = spark.read.option(\"inferSchema\", \"true\").option(\"header\", \"true\").option(\"encoding\", \"utf-8\").json(filepath)"
   ]
  },
  {
   "cell_type": "code",
   "execution_count": 142,
   "metadata": {},
   "outputs": [
    {
     "data": {
      "text/plain": [
       "[('artist', 'string'),\n",
       " ('auth', 'string'),\n",
       " ('firstName', 'string'),\n",
       " ('gender', 'string'),\n",
       " ('itemInSession', 'bigint'),\n",
       " ('lastName', 'string'),\n",
       " ('length', 'double'),\n",
       " ('level', 'string'),\n",
       " ('location', 'string'),\n",
       " ('method', 'string'),\n",
       " ('page', 'string'),\n",
       " ('registration', 'bigint'),\n",
       " ('sessionId', 'bigint'),\n",
       " ('song', 'string'),\n",
       " ('status', 'bigint'),\n",
       " ('ts', 'bigint'),\n",
       " ('userAgent', 'string'),\n",
       " ('userId', 'string')]"
      ]
     },
     "execution_count": 142,
     "metadata": {},
     "output_type": "execute_result"
    }
   ],
   "source": [
    "df.dtypes"
   ]
  },
  {
   "cell_type": "code",
   "execution_count": 143,
   "metadata": {},
   "outputs": [
    {
     "name": "stdout",
     "output_type": "stream",
     "text": [
      "-RECORD 0-----------------------------------------------------------------------------------------------------------------------------------\n",
      " artist        | Martin Orford                                                                                                              \n",
      " auth          | Logged In                                                                                                                  \n",
      " firstName     | Joseph                                                                                                                     \n",
      " gender        | M                                                                                                                          \n",
      " itemInSession | 20                                                                                                                         \n",
      " lastName      | Morales                                                                                                                    \n",
      " length        | 597.55057                                                                                                                  \n",
      " level         | free                                                                                                                       \n",
      " location      | Corpus Christi, TX                                                                                                         \n",
      " method        | PUT                                                                                                                        \n",
      " page          | NextSong                                                                                                                   \n",
      " registration  | 1532063507000                                                                                                              \n",
      " sessionId     | 292                                                                                                                        \n",
      " song          | Grand Designs                                                                                                              \n",
      " status        | 200                                                                                                                        \n",
      " ts            | 1538352011000                                                                                                              \n",
      " userAgent     | \"Mozilla/5.0 (Macintosh; Intel Mac OS X 10_9_4) AppleWebKit/537.36 (KHTML, like Gecko) Chrome/36.0.1985.125 Safari/537.36\" \n",
      " userId        | 293                                                                                                                        \n",
      "-RECORD 1-----------------------------------------------------------------------------------------------------------------------------------\n",
      " artist        | John Brown's Body                                                                                                          \n",
      " auth          | Logged In                                                                                                                  \n",
      " firstName     | Sawyer                                                                                                                     \n",
      " gender        | M                                                                                                                          \n",
      " itemInSession | 74                                                                                                                         \n",
      " lastName      | Larson                                                                                                                     \n",
      " length        | 380.21179                                                                                                                  \n",
      " level         | free                                                                                                                       \n",
      " location      | Houston-The Woodlands-Sugar Land, TX                                                                                       \n",
      " method        | PUT                                                                                                                        \n",
      " page          | NextSong                                                                                                                   \n",
      " registration  | 1538069638000                                                                                                              \n",
      " sessionId     | 97                                                                                                                         \n",
      " song          | Bulls                                                                                                                      \n",
      " status        | 200                                                                                                                        \n",
      " ts            | 1538352025000                                                                                                              \n",
      " userAgent     | \"Mozilla/5.0 (Macintosh; Intel Mac OS X 10_9_4) AppleWebKit/537.36 (KHTML, like Gecko) Chrome/36.0.1985.143 Safari/537.36\" \n",
      " userId        | 98                                                                                                                         \n",
      "only showing top 2 rows\n",
      "\n"
     ]
    }
   ],
   "source": [
    "df.show(n=2, truncate=False, vertical=True)"
   ]
  },
  {
   "cell_type": "code",
   "execution_count": 144,
   "metadata": {},
   "outputs": [
    {
     "data": {
      "text/plain": [
       "['artist',\n",
       " 'auth',\n",
       " 'firstName',\n",
       " 'gender',\n",
       " 'itemInSession',\n",
       " 'lastName',\n",
       " 'length',\n",
       " 'level',\n",
       " 'location',\n",
       " 'method',\n",
       " 'page',\n",
       " 'registration',\n",
       " 'sessionId',\n",
       " 'song',\n",
       " 'status',\n",
       " 'ts',\n",
       " 'userAgent',\n",
       " 'userId']"
      ]
     },
     "execution_count": 144,
     "metadata": {},
     "output_type": "execute_result"
    }
   ],
   "source": [
    "df.columns"
   ]
  },
  {
   "cell_type": "code",
   "execution_count": 19,
   "metadata": {},
   "outputs": [],
   "source": [
    "not_na_columns = [ 'userId', 'sessionId' ]"
   ]
  },
  {
   "cell_type": "code",
   "execution_count": 145,
   "metadata": {},
   "outputs": [
    {
     "name": "stdout",
     "output_type": "stream",
     "text": [
      "+------+----+---------+------+-------------+--------+------+-----+--------+------+----+------------+---------+----+------+---+---------+------+\n",
      "|artist|auth|firstName|gender|itemInSession|lastName|length|level|location|method|page|registration|sessionId|song|status| ts|userAgent|userId|\n",
      "+------+----+---------+------+-------------+--------+------+-----+--------+------+----+------------+---------+----+------+---+---------+------+\n",
      "|     0|   0|        0|     0|            0|       0|     0|    0|       0|     0|   0|           0|        0|   0|     0|  0|        0|     0|\n",
      "+------+----+---------+------+-------------+--------+------+-----+--------+------+----+------------+---------+----+------+---+---------+------+\n",
      "\n"
     ]
    }
   ],
   "source": [
    "df.select([count(when(isnan(c), c)).alias(c) for c in df.columns]).show()"
   ]
  },
  {
   "cell_type": "code",
   "execution_count": 146,
   "metadata": {},
   "outputs": [
    {
     "name": "stdout",
     "output_type": "stream",
     "text": [
      "+------+-----+\n",
      "|userId|count|\n",
      "+------+-----+\n",
      "|      |15700|\n",
      "|    92| 9767|\n",
      "|   140| 7448|\n",
      "|300049| 7309|\n",
      "|   101| 6842|\n",
      "|300035| 6810|\n",
      "|   195| 6184|\n",
      "|   230| 6019|\n",
      "|   163| 5965|\n",
      "|   250| 5678|\n",
      "|    18| 5511|\n",
      "|   276| 5346|\n",
      "|300017| 5266|\n",
      "|    87| 5243|\n",
      "|   293| 5125|\n",
      "|300021| 5076|\n",
      "|    42| 4952|\n",
      "|300011| 4816|\n",
      "|    30| 4737|\n",
      "|    12| 4232|\n",
      "|300031| 4194|\n",
      "|   126| 4190|\n",
      "|   283| 4181|\n",
      "|   228| 4092|\n",
      "|   100| 3999|\n",
      "|   259| 3633|\n",
      "|   105| 3597|\n",
      "|   246| 3566|\n",
      "|   121| 3541|\n",
      "|   269| 3511|\n",
      "|   292| 3504|\n",
      "|    70| 3465|\n",
      "|    35| 3456|\n",
      "|    38| 3211|\n",
      "|    98| 3206|\n",
      "|   282| 3191|\n",
      "|   185| 3088|\n",
      "|300023| 3018|\n",
      "|100009| 2987|\n",
      "|   157| 2966|\n",
      "|200023| 2955|\n",
      "|   104| 2950|\n",
      "|   174| 2917|\n",
      "|   225| 2849|\n",
      "|300038| 2829|\n",
      "|   172| 2728|\n",
      "|    85| 2696|\n",
      "|   258| 2684|\n",
      "|200020| 2654|\n",
      "|   179| 2639|\n",
      "+------+-----+\n",
      "only showing top 50 rows\n",
      "\n"
     ]
    }
   ],
   "source": [
    "df.groupBy('userId').count().orderBy('count', ascending = False).show(50)"
   ]
  },
  {
   "cell_type": "code",
   "execution_count": 147,
   "metadata": {},
   "outputs": [
    {
     "data": {
      "text/plain": [
       "21248"
      ]
     },
     "execution_count": 147,
     "metadata": {},
     "output_type": "execute_result"
    }
   ],
   "source": [
    "df.select(\"artist\").distinct().count()"
   ]
  },
  {
   "cell_type": "code",
   "execution_count": 148,
   "metadata": {},
   "outputs": [
    {
     "name": "stdout",
     "output_type": "stream",
     "text": [
      "+-------+------------------+\n",
      "|summary|            length|\n",
      "+-------+------------------+\n",
      "|  count|            432877|\n",
      "|   mean|248.66459278007508|\n",
      "| stddev| 98.41266955052019|\n",
      "|    min|           0.78322|\n",
      "|    max|        3024.66567|\n",
      "+-------+------------------+\n",
      "\n"
     ]
    }
   ],
   "source": [
    "df.select('length').describe().show()"
   ]
  },
  {
   "cell_type": "code",
   "execution_count": 149,
   "metadata": {},
   "outputs": [
    {
     "name": "stdout",
     "output_type": "stream",
     "text": [
      "Rows before: 543705\n",
      "Rows after: 528005\n"
     ]
    }
   ],
   "source": [
    "print(f'Rows before: {df.count()}')\n",
    "\n",
    "df = df.where(df.userId != '')\n",
    "\n",
    "print(f'Rows after: {df.count()}')"
   ]
  },
  {
   "cell_type": "markdown",
   "metadata": {},
   "source": [
    "# Exploratory Data Analysis\n",
    "When you're working with the full dataset, perform EDA by loading a small subset of the data and doing basic manipulations within Spark. In this workspace, you are already provided a small subset of data you can explore.\n",
    "\n",
    "### Define Churn\n",
    "\n",
    "Once you've done some preliminary analysis, create a column `Churn` to use as the label for your model. I suggest using the `Cancellation Confirmation` events to define your churn, which happen for both paid and free users. As a bonus task, you can also look into the `Downgrade` events.\n",
    "\n",
    "### Explore Data\n",
    "Once you've defined churn, perform some exploratory data analysis to observe the behavior for users who stayed vs users who churned. You can start by exploring aggregates on these two groups of users, observing how much of a specific action they experienced per a certain time unit or number of songs played."
   ]
  },
  {
   "cell_type": "code",
   "execution_count": 150,
   "metadata": {},
   "outputs": [
    {
     "name": "stdout",
     "output_type": "stream",
     "text": [
      "+--------------------+------+\n",
      "|                page| count|\n",
      "+--------------------+------+\n",
      "|            NextSong|432877|\n",
      "|           Thumbs Up| 23826|\n",
      "|                Home| 19089|\n",
      "|     Add to Playlist| 12349|\n",
      "|          Add Friend|  8087|\n",
      "|         Roll Advert|  7773|\n",
      "|              Logout|  5990|\n",
      "|         Thumbs Down|  4911|\n",
      "|           Downgrade|  3811|\n",
      "|            Settings|  2964|\n",
      "|                Help|  2644|\n",
      "|               About|  1026|\n",
      "|             Upgrade|   968|\n",
      "|       Save Settings|   585|\n",
      "|               Error|   503|\n",
      "|      Submit Upgrade|   287|\n",
      "|    Submit Downgrade|   117|\n",
      "|              Cancel|    99|\n",
      "|Cancellation Conf...|    99|\n",
      "+--------------------+------+\n",
      "\n"
     ]
    }
   ],
   "source": [
    "df.groupBy('page').count().orderBy('count', ascending = False).show(50)"
   ]
  },
  {
   "cell_type": "markdown",
   "metadata": {},
   "source": [
    "Some questions about the data:\n",
    "\n",
    "- Are errors related to downgrading canceling the service?\n",
    "- Having a certain number of friends or a sense of community can decrease the churn?\n",
    "- Thumbs down are related to churn? (could the quality of the songs catalog affect the churn)\n",
    "- The advertising is not annoying the users?\n",
    "- Users with stay connected for more time have less change to churn?\n",
    "- Is the home page relevant?\n",
    "- Users, who access the downgrade page are how much more willing to churn?"
   ]
  },
  {
   "cell_type": "code",
   "execution_count": 151,
   "metadata": {},
   "outputs": [
    {
     "name": "stdout",
     "output_type": "stream",
     "text": [
      "+------+------+\n",
      "|status| count|\n",
      "+------+------+\n",
      "|   200|483600|\n",
      "|   307| 43902|\n",
      "|   404|   503|\n",
      "+------+------+\n",
      "\n"
     ]
    }
   ],
   "source": [
    "df.groupBy('status').count().orderBy('count', ascending = False).show(20)"
   ]
  },
  {
   "cell_type": "code",
   "execution_count": 152,
   "metadata": {},
   "outputs": [
    {
     "name": "stdout",
     "output_type": "stream",
     "text": [
      "+----------------+-----+\n",
      "|            page|count|\n",
      "+----------------+-----+\n",
      "|        NextSong| 8177|\n",
      "|       Thumbs Up|  400|\n",
      "|            Home|  308|\n",
      "| Add to Playlist|  248|\n",
      "|      Add Friend|  158|\n",
      "|          Logout|   96|\n",
      "|       Downgrade|   85|\n",
      "|     Thumbs Down|   80|\n",
      "|            Help|   62|\n",
      "|     Roll Advert|   60|\n",
      "|        Settings|   48|\n",
      "|           About|   17|\n",
      "|           Error|   13|\n",
      "|         Upgrade|    7|\n",
      "|   Save Settings|    5|\n",
      "|  Submit Upgrade|    2|\n",
      "|Submit Downgrade|    1|\n",
      "+----------------+-----+\n",
      "\n"
     ]
    }
   ],
   "source": [
    "df.filter('userId = 92').groupBy('page').count().orderBy('count', ascending = False).show(50)"
   ]
  },
  {
   "cell_type": "code",
   "execution_count": 154,
   "metadata": {},
   "outputs": [
    {
     "name": "stdout",
     "output_type": "stream",
     "text": [
      "+----------------+-----+\n",
      "|            page|count|\n",
      "+----------------+-----+\n",
      "|        NextSong| 8177|\n",
      "|       Thumbs Up|  400|\n",
      "|            Home|  308|\n",
      "| Add to Playlist|  248|\n",
      "|      Add Friend|  158|\n",
      "|          Logout|   96|\n",
      "|       Downgrade|   85|\n",
      "|     Thumbs Down|   80|\n",
      "|            Help|   62|\n",
      "|     Roll Advert|   60|\n",
      "|        Settings|   48|\n",
      "|           About|   17|\n",
      "|           Error|   13|\n",
      "|         Upgrade|    7|\n",
      "|   Save Settings|    5|\n",
      "|  Submit Upgrade|    2|\n",
      "|Submit Downgrade|    1|\n",
      "+----------------+-----+\n",
      "\n"
     ]
    }
   ],
   "source": [
    "df.filter('userId = 92').groupBy('page').count().orderBy('count', ascending = False).show(50)"
   ]
  },
  {
   "cell_type": "code",
   "execution_count": 155,
   "metadata": {},
   "outputs": [
    {
     "name": "stdout",
     "output_type": "stream",
     "text": [
      "+--------------------+-----+\n",
      "|           userAgent|count|\n",
      "+--------------------+-----+\n",
      "|\"Mozilla/5.0 (iPa...| 9767|\n",
      "+--------------------+-----+\n",
      "\n"
     ]
    }
   ],
   "source": [
    "df.filter('userId = 92').groupBy('userAgent').count().orderBy('count', ascending = False).show(50)"
   ]
  },
  {
   "cell_type": "code",
   "execution_count": 156,
   "metadata": {},
   "outputs": [
    {
     "name": "stdout",
     "output_type": "stream",
     "text": [
      "+--------------------+-----+\n",
      "|                song|count|\n",
      "+--------------------+-----+\n",
      "|      You're The One|   49|\n",
      "|                Undo|   34|\n",
      "|             Revelry|   28|\n",
      "|Horn Concerto No....|   27|\n",
      "|    Ain't Misbehavin|   23|\n",
      "|             Secrets|   20|\n",
      "|             Invalid|   20|\n",
      "|Dog Days Are Over...|   19|\n",
      "|            Tive Sim|   18|\n",
      "|            Marry Me|   16|\n",
      "|              Canada|   16|\n",
      "|        Use Somebody|   16|\n",
      "|       ReprÃÂ©sente|   15|\n",
      "|    Bring Me To Life|   14|\n",
      "|  Sayonara-Nostalgia|   14|\n",
      "|       Sehr kosmisch|   14|\n",
      "|         Bulletproof|   13|\n",
      "|Catch You Baby (S...|   13|\n",
      "| I CAN'T GET STARTED|   12|\n",
      "|                Home|   11|\n",
      "|              Yellow|   10|\n",
      "|Don't Stop The Music|   10|\n",
      "|    Hey_ Soul Sister|   10|\n",
      "|         The Maestro|   10|\n",
      "|          Kryptonite|   10|\n",
      "|Make Love To Your...|   10|\n",
      "|           Fireflies|   10|\n",
      "|SinceritÃÂ© Et J...|    9|\n",
      "|    Times Like These|    9|\n",
      "|      Drop The World|    9|\n",
      "|        Day 'N' Nite|    9|\n",
      "|         Bubble Toes|    9|\n",
      "|         Greece 2000|    8|\n",
      "| Party In The U.S.A.|    8|\n",
      "|    Hotel California|    8|\n",
      "|Bleed It Out [Liv...|    8|\n",
      "|            The Gift|    8|\n",
      "|          Fuck Kitty|    8|\n",
      "|Nothin' On You [f...|    8|\n",
      "|     Who Can Compare|    8|\n",
      "| The Real Slim Shady|    8|\n",
      "|Sugar Ray (LP Ver...|    8|\n",
      "|Mercy:The Laundromat|    8|\n",
      "|          Tighten Up|    8|\n",
      "| Hochmah (Interlude)|    8|\n",
      "|            Everlong|    7|\n",
      "|                 OMG|    7|\n",
      "|          16 Candles|    7|\n",
      "|        Karma Police|    7|\n",
      "|Sinisten tÃÂ¤hti...|    7|\n",
      "+--------------------+-----+\n",
      "only showing top 50 rows\n",
      "\n"
     ]
    }
   ],
   "source": [
    "df.filter('userId = 92 and song != \\'null\\' ').groupBy('song').count().orderBy('count', ascending = False).show(50)"
   ]
  },
  {
   "cell_type": "code",
   "execution_count": 257,
   "metadata": {},
   "outputs": [
    {
     "name": "stdout",
     "output_type": "stream",
     "text": [
      "+-------------+---------+-------------+------+--------------------+--------------------+\n",
      "|           ts|sessionId|itemInSession|userId|last_page_on_session|                page|\n",
      "+-------------+---------+-------------+------+--------------------+--------------------+\n",
      "|1538987586000|     1010|            7|    54|              Cancel|Cancellation Conf...|\n",
      "|1543297283000|     4473|            5|   167|              Cancel|Cancellation Conf...|\n",
      "|1540103857000|      237|          239|100014|              Cancel|Cancellation Conf...|\n",
      "|1542055421000|     3368|           59|   162|              Cancel|Cancellation Conf...|\n",
      "|1538678296000|      130|           55|100044|              Cancel|Cancellation Conf...|\n",
      "|1541147487000|     2575|           41|    16|              Cancel|Cancellation Conf...|\n",
      "|1540809016000|     2643|           83|   172|              Cancel|Cancellation Conf...|\n",
      "|1542443637000|     3791|           47|   120|              Cancel|Cancellation Conf...|\n",
      "|1543440994000|     4210|           53|    81|              Cancel|Cancellation Conf...|\n",
      "|1538647095000|       32|           12|100032|              Cancel|Cancellation Conf...|\n",
      "|1542360575000|      516|           28|200039|              Cancel|Cancellation Conf...|\n",
      "|1542952212000|     4069|          125|   164|              Cancel|Cancellation Conf...|\n",
      "|1538770077000|      395|          227|   271|              Cancel|Cancellation Conf...|\n",
      "|1542268661000|     3808|          103|   265|              Cancel|Cancellation Conf...|\n",
      "|1539511980000|      201|           18|100004|              Cancel|Cancellation Conf...|\n",
      "|1541087401000|     2922|          218|   234|              Cancel|Cancellation Conf...|\n",
      "|1541302069000|     3050|          245|   214|              Cancel|Cancellation Conf...|\n",
      "|1541939290000|     3507|           17|    61|              Cancel|Cancellation Conf...|\n",
      "|1542206187000|      589|           11|200023|              Cancel|Cancellation Conf...|\n",
      "|1538758470000|      143|           54|100036|              Cancel|Cancellation Conf...|\n",
      "+-------------+---------+-------------+------+--------------------+--------------------+\n",
      "only showing top 20 rows\n",
      "\n"
     ]
    }
   ],
   "source": [
    "w_session = Window.partitionBy('sessionId').orderBy('ts')\n",
    "\n",
    "df.filter('page = \"Cancellation Confirmation\"').select('ts', 'sessionId', 'itemInSession', 'userId', 'last_page_on_session', 'page').show() "
   ]
  },
  {
   "cell_type": "code",
   "execution_count": 157,
   "metadata": {},
   "outputs": [
    {
     "name": "stdout",
     "output_type": "stream",
     "text": [
      "+-------------+---------------+---------+-------------+--------------------+--------------------+\n",
      "|           ts|           page|sessionId|itemInSession|                song|              artist|\n",
      "+-------------+---------------+---------+-------------+--------------------+--------------------+\n",
      "|1543615837000|     Add Friend|     4790|           86|                null|                null|\n",
      "|1543615836000|           Home|     4790|           85|                null|                null|\n",
      "|1543615832000|       NextSong|     4790|           84|           Fireflies|  Charttraxx Karaoke|\n",
      "|1543615597000|       NextSong|     4790|           83|    Music Of The Sun|             Rihanna|\n",
      "|1543615053000|       NextSong|     4790|           82|Kun Puut Tekee Se...|Scandinavian Musi...|\n",
      "|1543614872000|       NextSong|     4790|           81|             The Sun|   Portugal. The Man|\n",
      "|1543614674000|       NextSong|     4790|           80|             Banquet|          Bloc Party|\n",
      "|1543614504000|       NextSong|     4790|           79|         These Girls|          Ryan Adams|\n",
      "|1543614192000|       NextSong|     4790|           78|   Falling To Pieces|       Faith No More|\n",
      "|1543613946000|       NextSong|     4790|           77|   Same Song & Dance|              Eminem|\n",
      "|1543613735000|       NextSong|     4790|           76|      Coming For You|                JoJo|\n",
      "|1543613560000|      Thumbs Up|     4790|           75|                null|                null|\n",
      "|1543613559000|       NextSong|     4790|           74|   Partners In Crime|        Comeback Kid|\n",
      "|1543613294000|       NextSong|     4790|           73|Under The Bridge ...|Red Hot Chili Pep...|\n",
      "|1543612815000|       NextSong|     4790|           72|      When I Grow Up|           Fever Ray|\n",
      "|1543612619000|       NextSong|     4790|           71|All Hands Against...|      The Black Keys|\n",
      "|1543612272000|      Thumbs Up|     4790|           70|                null|                null|\n",
      "|1543612271000|       NextSong|     4790|           69|                Undo|            BjÃÂ¶rk|\n",
      "|1543612079000|       NextSong|     4790|           68|   The World Is Mine|        David Guetta|\n",
      "|1543611840000|       NextSong|     4790|           67|                Zero|  The Pain Machinery|\n",
      "|1543611570000|     Add Friend|     4790|           66|                null|                null|\n",
      "|1543611569000|     Add Friend|     4790|           65|                null|                null|\n",
      "|1543611568000|       NextSong|     4790|           64|              Grillz|Nelly / Paul Wall...|\n",
      "|1543611235000|       NextSong|     4790|           63|              Noc...| Justyna Steczkowska|\n",
      "|1543611078000|       NextSong|     4790|           62|     Tu Solamente Tu|              Selena|\n",
      "|1543610870000|    Thumbs Down|     4790|           61|                null|                null|\n",
      "|1543610869000|       NextSong|     4790|           60|            Float On|        Modest Mouse|\n",
      "|1543610825000|           Home|     4790|           59|                null|                null|\n",
      "|1543610649000|         Logout|     4790|           55|                null|                null|\n",
      "|1543610648000|       NextSong|     4790|           54|Cold Reader (Albu...|          Stone Sour|\n",
      "|1543610519000|       NextSong|     4790|           53|           Black Mud|      The Black Keys|\n",
      "|1543610303000|       NextSong|     4790|           52|      Time's Ticking|             Isbells|\n",
      "|1543610118000|Add to Playlist|     4790|           51|                null|                null|\n",
      "|1543610105000|       NextSong|     4790|           50|Video Killed The ...|         The Buggles|\n",
      "|1543609987000|           Home|     4790|           49|                null|                null|\n",
      "|1543609980000|      Downgrade|     4790|           48|                null|                null|\n",
      "|1543609964000|       NextSong|     4790|           47|     Some Unholy War|       Amy Winehouse|\n",
      "|1543609807000|      Thumbs Up|     4790|           46|                null|                null|\n",
      "|1543609806000|       NextSong|     4790|           45|              Navajo|          Black Lips|\n",
      "|1543609598000|       NextSong|     4790|           44|       Fallen Leaves|        Billy Talent|\n",
      "|1543609433000|       NextSong|     4790|           43|       I Love London|    Crystal Fighters|\n",
      "|1543608876000|      Downgrade|     4790|           42|                null|                null|\n",
      "|1543608876000|       NextSong|     4790|           41|Love And Only Lov...|          Neil Young|\n",
      "|1543608674000|          About|     4790|           40|                null|                null|\n",
      "|1543608655000|       NextSong|     4790|           39|               Roses|Mos Def / Georgia...|\n",
      "|1543608495000|       NextSong|     4790|           38|Always A Use  (LP...|   Madeleine Peyroux|\n",
      "|1543608297000|       NextSong|     4790|           37|           Next Girl|      The Black Keys|\n",
      "|1543608082000|       NextSong|     4790|           36|Please Do Not Let...|          Ryan Adams|\n",
      "|1543607840000|       NextSong|     4790|           35|There Is A Light ...|          The Smiths|\n",
      "|1543607546000|       NextSong|     4790|           34|Northern Downpour...|  Panic At The Disco|\n",
      "|1543607368000|       NextSong|     4790|           33|       Ghosts (Demo)|Florence + The Ma...|\n",
      "|1543607089000|       NextSong|     4790|           32|Poison Oak (Album...|         Bright Eyes|\n",
      "|1543606974000|       NextSong|     4790|           31|Football Season I...|Bring Me The Horizon|\n",
      "|1543606773000|       NextSong|     4790|           30|        BÃÂ¼ck Dich|           Rammstein|\n",
      "|1543606515000|       NextSong|     4790|           29|   Always Be My Baby|        Mariah Carey|\n",
      "|1543606245000|       NextSong|     4790|           28|               Angie|  The Rolling Stones|\n",
      "|1543605979000|       NextSong|     4790|           27|Clara meets Slope...|          Clara Hill|\n",
      "|1543605638000|       NextSong|     4790|           26|       Rikkalicious |HervÃÂ© & Kissy ...|\n",
      "|1543605387000|       NextSong|     4790|           25|    Body Of Conflict|         Cosmic Gate|\n",
      "|1543605333000|       NextSong|     4790|           24|Act Won (Things F...|           The Roots|\n",
      "|1543604973000|       NextSong|     4790|           23|           Crumpshit|    Philippe Rochard|\n",
      "|1543604657000|       NextSong|     4790|           22|  Ze Rook Naar Rozen|         Rob De Nijs|\n",
      "|1543604454000|       NextSong|     4790|           21|    Spin That Bottle|      Rachel Stevens|\n",
      "|1543604162000|       NextSong|     4790|           20|You're Gonna Miss...|       Brooks & Dunn|\n",
      "|1543603953000|           Home|     4790|           19|                null|                null|\n",
      "|1543603948000|       NextSong|     4790|           18|           No Lo Ves|     No Te Va Gustar|\n",
      "|1543603717000|       NextSong|     4790|           17|Where Do The Chil...|         Cat Stevens|\n",
      "|1543603518000|       NextSong|     4790|           16|      Feel That Fire|      Dierks Bentley|\n",
      "|1543603274000|     Add Friend|     4790|           15|                null|                null|\n",
      "|1543603273000|       NextSong|     4790|           14|          Photograph|        Dynamite Boy|\n",
      "|1543603188000|           Help|     4790|           13|                null|                null|\n",
      "|1543603162000|       Settings|     4790|           12|                null|                null|\n",
      "|1543603150000|           Home|     4790|           11|                null|                null|\n",
      "|1543603107000|       NextSong|     4790|           10|         Sugar Sugar|         The Archies|\n",
      "|1543602888000|       NextSong|     4790|            9|Sky Is Over [Fawk...|        Serj Tankian|\n",
      "|1543602718000|       NextSong|     4790|            8|   Train To Skaville|      The Ethiopians|\n",
      "|1543602448000|       NextSong|     4790|            7|        Hate It Here|               Wilco|\n",
      "|1543602154000|       NextSong|     4790|            6|          Every Word|              Hybrid|\n",
      "|1543601940000|       NextSong|     4790|            5|  Could This Be Real|           Sub Focus|\n",
      "|1543601719000|      Thumbs Up|     4790|            4|                null|                null|\n",
      "|1543601718000|       NextSong|     4790|            3|I Keep Forgettin ...|    Michael McDonald|\n",
      "|1543601398000|       NextSong|     4790|            2| Your Guardian Angel|The Red Jumpsuit ...|\n",
      "|1543601262000|Add to Playlist|     4790|            1|                null|                null|\n",
      "|1543601165000|       NextSong|     4790|            0|     The Dirty Glass|    Dropkick Murphys|\n",
      "|1543588644000|           Home|     4779|           39|                null|                null|\n",
      "|1543588582000|       NextSong|     4779|           38|Believe In It (LP...|    Michael McDonald|\n",
      "|1543588320000|       NextSong|     4779|           37|    Lips Of An Angel|              Hinder|\n",
      "|1543588142000|       NextSong|     4779|           36|    The Icicle Melts|     The Cranberries|\n",
      "|1543588014000|       NextSong|     4779|           35|       Twist'as Loca| Los Toreros Muertos|\n",
      "|1543587722000|       NextSong|     4779|           34|Johnny_ I Hardly ...|    Dropkick Murphys|\n",
      "|1543587503000|       NextSong|     4779|           33|         I Surrender|              Saybia|\n",
      "|1543587167000|      Downgrade|     4779|           32|                null|                null|\n",
      "|1543587153000|       NextSong|     4779|           31|            Superman|   Eminem / Dina Rae|\n",
      "|1543586805000|       NextSong|     4779|           30|                Yeah|                Moby|\n",
      "|1543586377000|       NextSong|     4779|           29|       Casino Royale|             DJ Zinc|\n",
      "|1543586192000|       NextSong|     4779|           28|American Idiot [f...|           Green Day|\n",
      "|1543586016000|       NextSong|     4779|           27|            Prologue|        Danny Elfman|\n",
      "|1543585767000|       NextSong|     4779|           26|            Sad Song|    Au Revoir Simone|\n",
      "|1543585437000|       NextSong|     4779|           25|  Walking In The Air|           Nightwish|\n",
      "|1543585330000|       NextSong|     4779|           24|      Do It Your Way|            Datarock|\n",
      "+-------------+---------------+---------+-------------+--------------------+--------------------+\n",
      "only showing top 100 rows\n",
      "\n"
     ]
    }
   ],
   "source": [
    "df.select(['ts', 'page', 'sessionId', 'itemInSession', 'song', 'artist']).filter('userId = 92').orderBy('ts', ascending = False).show(100)"
   ]
  },
  {
   "cell_type": "code",
   "execution_count": 73,
   "metadata": {},
   "outputs": [],
   "source": [
    "df_ts = df.filter('userId = 1333174').select([smin('ts').alias('min_ts'), smax('ts').alias('max_ts')]).rdd.flatMap(lambda x: x).collect()"
   ]
  },
  {
   "cell_type": "code",
   "execution_count": 82,
   "metadata": {},
   "outputs": [
    {
     "data": {
      "text/plain": [
       "['2018-09-30 23:46:29', '2018-10-07 03:53:38']"
      ]
     },
     "execution_count": 82,
     "metadata": {},
     "output_type": "execute_result"
    }
   ],
   "source": [
    "def to_datetime(milliseconds, dt_format = '%Y-%m-%d %H:%M:%S'):\n",
    "    return datetime.fromtimestamp(milliseconds / 1000).strftime(dt_format)  \n",
    "\n",
    "list(map(to_datetime, df_ts))"
   ]
  },
  {
   "cell_type": "code",
   "execution_count": 128,
   "metadata": {},
   "outputs": [
    {
     "data": {
      "text/plain": [
       "['2018-09-30 21:00:01', '2018-10-07 06:44:26']"
      ]
     },
     "execution_count": 128,
     "metadata": {},
     "output_type": "execute_result"
    }
   ],
   "source": [
    "list(map(to_datetime, df.select([smin('ts').alias('min_ts'), smax('ts').alias('max_ts')]).rdd.flatMap(lambda x: x).collect()))"
   ]
  },
  {
   "cell_type": "code",
   "execution_count": 85,
   "metadata": {},
   "outputs": [
    {
     "name": "stdout",
     "output_type": "stream",
     "text": [
      "+----------------------------------------------+------+\n",
      "|location                                      |count |\n",
      "+----------------------------------------------+------+\n",
      "|New York-Newark-Jersey City, NY-NJ-PA         |125507|\n",
      "|Los Angeles-Long Beach-Anaheim, CA            |91139 |\n",
      "|null                                          |64332 |\n",
      "|Chicago-Naperville-Elgin, IL-IN-WI            |59171 |\n",
      "|Philadelphia-Camden-Wilmington, PA-NJ-DE-MD   |45041 |\n",
      "|Washington-Arlington-Alexandria, DC-VA-MD-WV  |43905 |\n",
      "|Dallas-Fort Worth-Arlington, TX               |42425 |\n",
      "|Miami-Fort Lauderdale-West Palm Beach, FL     |41035 |\n",
      "|Atlanta-Sandy Springs-Roswell, GA             |36940 |\n",
      "|Houston-The Woodlands-Sugar Land, TX          |35165 |\n",
      "|Phoenix-Mesa-Scottsdale, AZ                   |33490 |\n",
      "|Boston-Cambridge-Newton, MA-NH                |32895 |\n",
      "|Riverside-San Bernardino-Ontario, CA          |32259 |\n",
      "|San Francisco-Oakland-Hayward, CA             |31036 |\n",
      "|Seattle-Tacoma-Bellevue, WA                   |28880 |\n",
      "|St. Louis, MO-IL                              |25062 |\n",
      "|Detroit-Warren-Dearborn, MI                   |24510 |\n",
      "|Tampa-St. Petersburg-Clearwater, FL           |24422 |\n",
      "|Minneapolis-St. Paul-Bloomington, MN-WI       |19918 |\n",
      "|Pittsburgh, PA                                |18004 |\n",
      "|Baltimore-Columbia-Towson, MD                 |17636 |\n",
      "|Indianapolis-Carmel-Anderson, IN              |16996 |\n",
      "|San Diego-Carlsbad, CA                        |16673 |\n",
      "|Portland-Vancouver-Hillsboro, OR-WA           |14634 |\n",
      "|Cleveland-Elyria, OH                          |14287 |\n",
      "|Cincinnati, OH-KY-IN                          |13657 |\n",
      "|Sacramento--Roseville--Arden-Arcade, CA       |13555 |\n",
      "|Denver-Aurora-Lakewood, CO                    |13447 |\n",
      "|Las Vegas-Henderson-Paradise, NV              |13140 |\n",
      "|San Antonio-New Braunfels, TX                 |13096 |\n",
      "|Nashville-Davidson--Murfreesboro--Franklin, TN|12828 |\n",
      "|Columbus, OH                                  |12639 |\n",
      "|Orlando-Kissimmee-Sanford, FL                 |12058 |\n",
      "|Milwaukee-Waukesha-West Allis, WI             |11627 |\n",
      "|Buffalo-Cheektowaga-Niagara Falls, NY         |11390 |\n",
      "|Virginia Beach-Norfolk-Newport News, VA-NC    |10793 |\n",
      "|Jacksonville, FL                              |10601 |\n",
      "|Austin-Round Rock, TX                         |10051 |\n",
      "|Providence-Warwick, RI-MA                     |9607  |\n",
      "|Kansas City, MO-KS                            |9566  |\n",
      "|Charlotte-Concord-Gastonia, NC-SC             |9298  |\n",
      "|Memphis, TN-MS-AR                             |9162  |\n",
      "|Omaha-Council Bluffs, NE-IA                   |8964  |\n",
      "|Richmond, VA                                  |8834  |\n",
      "|Tulsa, OK                                     |8816  |\n",
      "|Salt Lake City, UT                            |8658  |\n",
      "|San Jose-Sunnyvale-Santa Clara, CA            |8436  |\n",
      "|Grand Rapids-Wyoming, MI                      |8223  |\n",
      "|Rochester, NY                                 |8153  |\n",
      "|El Paso, TX                                   |7711  |\n",
      "+----------------------------------------------+------+\n",
      "only showing top 50 rows\n",
      "\n"
     ]
    }
   ],
   "source": [
    "df.groupBy('location').count().orderBy('count', ascending = False).show(50, False)"
   ]
  },
  {
   "cell_type": "markdown",
   "metadata": {},
   "source": [
    "# Feature Engineering\n",
    "Once you've familiarized yourself with the data, build out the features you find promising to train your model on. To work with the full dataset, you can follow the following steps.\n",
    "- Write a script to extract the necessary features from the smaller subset of data\n",
    "- Ensure that your script is scalable, using the best practices discussed in Lesson 3\n",
    "- Try your script on the full data set, debugging your script if necessary\n",
    "\n",
    "If you are working in the classroom workspace, you can just extract features based on the small subset of data contained here. Be sure to transfer over this work to the larger dataset when you work on your Spark cluster."
   ]
  },
  {
   "cell_type": "code",
   "execution_count": 225,
   "metadata": {},
   "outputs": [
    {
     "name": "stdout",
     "output_type": "stream",
     "text": [
      "root\n",
      " |-- artist: string (nullable = true)\n",
      " |-- auth: string (nullable = true)\n",
      " |-- firstName: string (nullable = true)\n",
      " |-- gender: string (nullable = true)\n",
      " |-- itemInSession: long (nullable = true)\n",
      " |-- lastName: string (nullable = true)\n",
      " |-- length: double (nullable = true)\n",
      " |-- level: string (nullable = true)\n",
      " |-- location: string (nullable = true)\n",
      " |-- method: string (nullable = true)\n",
      " |-- page: string (nullable = true)\n",
      " |-- registration: long (nullable = true)\n",
      " |-- sessionId: long (nullable = true)\n",
      " |-- song: string (nullable = true)\n",
      " |-- status: long (nullable = true)\n",
      " |-- ts: long (nullable = true)\n",
      " |-- userAgent: string (nullable = true)\n",
      " |-- userId: string (nullable = true)\n",
      "\n"
     ]
    }
   ],
   "source": [
    "df.printSchema()"
   ]
  },
  {
   "cell_type": "code",
   "execution_count": 165,
   "metadata": {},
   "outputs": [
    {
     "name": "stdout",
     "output_type": "stream",
     "text": [
      "+------+---------+---------+------+-------------+----------+------+-----+--------------------+------+--------------------+-------------+---------+----+------+-------------+--------------------+------+\n",
      "|artist|     auth|firstName|gender|itemInSession|  lastName|length|level|            location|method|                page| registration|sessionId|song|status|           ts|           userAgent|userId|\n",
      "+------+---------+---------+------+-------------+----------+------+-----+--------------------+------+--------------------+-------------+---------+----+------+-------------+--------------------+------+\n",
      "|  null|Cancelled|   Olivia|     F|           40|      Carr|  null| free|      Fort Wayne, IN|   GET|Cancellation Conf...|1536758439000|      490|null|   200|1538400616000|Mozilla/5.0 (Wind...|   208|\n",
      "|  null|Cancelled|  Lillian|     F|          234|   Cameron|  null| paid|        Columbus, OH|   GET|Cancellation Conf...|1533472700000|      471|null|   200|1538482793000|Mozilla/5.0 (Wind...|   231|\n",
      "|  null|Cancelled|     Alex|     M|          109|     Myers|  null| paid|Grand Rapids-Wyom...|   GET|Cancellation Conf...|1529995579000|      682|null|   200|1538539871000|\"Mozilla/5.0 (Win...|   236|\n",
      "|  null|Cancelled|   Rafael|     M|           66|  Crawford|  null| free|   Bowling Green, KY|   GET|Cancellation Conf...|1533887620000|      628|null|   200|1538592529000|\"Mozilla/5.0 (Mac...|   156|\n",
      "|  null|Cancelled|     Brad|     M|          227|   Stewart|  null| paid|         Roanoke, VA|   GET|Cancellation Conf...|1535619094000|      395|null|   200|1538770077000|\"Mozilla/5.0 (Win...|   271|\n",
      "|  null|Cancelled|    Isaac|     M|          193|    Miller|  null| paid|Seattle-Tacoma-Be...|   GET|Cancellation Conf...|1538201832000|      862|null|   200|1538800531000|Mozilla/5.0 (Wind...|   200|\n",
      "|  null|Cancelled|     Ivan|     M|            9|   Sanchez|  null| free|Bridgeport-Stamfo...|   GET|Cancellation Conf...|1533575236000|     1027|null|   200|1538890895000|Mozilla/5.0 (Wind...|   130|\n",
      "|  null|Cancelled|    Chloe|     M|           56|     Myers|  null| free|Tampa-St. Petersb...|   GET|Cancellation Conf...|1534370883000|      480|null|   200|1538959081000|\"Mozilla/5.0 (iPh...|   123|\n",
      "|  null|Cancelled|    Alexi|     F|            7|    Warren|  null| paid|Spokane-Spokane V...|   GET|Cancellation Conf...|1532482662000|     1010|null|   200|1538987586000|Mozilla/5.0 (Wind...|    54|\n",
      "|  null|Cancelled|   Payton|     F|           82|  Campbell|  null| paid|Los Angeles-Long ...|   GET|Cancellation Conf...|1529027541000|     1066|null|   200|1539011456000|\"Mozilla/5.0 (Win...|    39|\n",
      "|  null|Cancelled|   Oliver|     M|           17|       Fry|  null| free|San Francisco-Oak...|   GET|Cancellation Conf...|1538048434000|     1035|null|   200|1539016481000|\"Mozilla/5.0 (Mac...|   154|\n",
      "|  null|Cancelled|    Sadie|     F|            3|     Jones|  null| paid|Denver-Aurora-Lak...|   GET|Cancellation Conf...|1537054553000|      659|null|   200|1539041513000|\"Mozilla/5.0 (Mac...|   132|\n",
      "|  null|Cancelled|   Brycen|     M|          435|   Bradley|  null| paid|          Laurel, MS|   GET|Cancellation Conf...|1538159495000|        9|null|   200|1539055364000|\"Mozilla/5.0 (Mac...|    10|\n",
      "|  null|Cancelled| Angelynn|     F|           20|    Coffey|  null| paid|Allentown-Bethleh...|   GET|Cancellation Conf...|1536885688000|     1228|null|   200|1539187234000|\"Mozilla/5.0 (Mac...|   296|\n",
      "|  null|Cancelled|   Teagan|     F|           39|   Garrett|  null| free|Chicago-Napervill...|   GET|Cancellation Conf...|1537385168000|      817|null|   200|1539213091000|\"Mozilla/5.0 (Mac...|   187|\n",
      "|  null|Cancelled|    Ethan|     M|          180|   Johnson|  null| paid|Lexington-Fayette...|   GET|Cancellation Conf...|1538080987000|     1443|null|   200|1539709266000|\"Mozilla/5.0 (Win...|    51|\n",
      "|  null|Cancelled|    Anika|     F|           83|   Osborne|  null| paid|Philadelphia-Camd...|   GET|Cancellation Conf...|1533192032000|     1796|null|   200|1539768879000|\"Mozilla/5.0 (iPh...|    13|\n",
      "|  null|Cancelled|    Diego|     M|           36|     Mckee|  null| paid|Phoenix-Mesa-Scot...|   GET|Cancellation Conf...|1537167593000|     1881|null|   200|1539831896000|\"Mozilla/5.0 (iPh...|    32|\n",
      "|  null|Cancelled|   Teagan|     F|           48|   Roberts|  null| paid|New Philadelphia-...|   GET|Cancellation Conf...|1537634865000|     1927|null|   200|1539968001000|Mozilla/5.0 (Wind...|    28|\n",
      "|  null|Cancelled|  Viviana|     F|           38|    Finley|  null| paid|          Gallup, NM|   GET|Cancellation Conf...|1523777521000|     2206|null|   200|1540482186000|\"Mozilla/5.0 (Win...|   198|\n",
      "|  null|Cancelled|      Kee|     M|          216|    Taylor|  null| paid|Virginia Beach-No...|   GET|Cancellation Conf...|1533764798000|     2429|null|   200|1540528082000|\"Mozilla/5.0 (Win...|   196|\n",
      "|  null|Cancelled|   Thomas|     M|           83|     White|  null| paid|Providence-Warwic...|   GET|Cancellation Conf...|1536270348000|     2643|null|   200|1540809016000|\"Mozilla/5.0 (X11...|   172|\n",
      "|  null|Cancelled|   Carlos|     M|          231| Henderson|  null| paid|Atlanta-Sandy Spr...|   GET|Cancellation Conf...|1534689513000|     2747|null|   200|1540991227000|\"Mozilla/5.0 (Mac...|   189|\n",
      "|  null|Cancelled|     Jean|     M|          218|   Bennett|  null| paid|New Orleans-Metai...|   GET|Cancellation Conf...|1537953130000|     2922|null|   200|1541087401000|Mozilla/5.0 (Wind...|   234|\n",
      "|  null|Cancelled|     Emma|     F|           41|       Lee|  null| paid|   Winston-Salem, NC|   GET|Cancellation Conf...|1536597540000|     2575|null|   200|1541147487000|\"Mozilla/5.0 (Win...|    16|\n",
      "|  null|Cancelled|      Ean|     M|          245|     White|  null| paid|        Show Low, AZ|   GET|Cancellation Conf...|1535231759000|     3050|null|   200|1541302069000|Mozilla/5.0 (Wind...|   214|\n",
      "|  null|Cancelled|   Gianna|     F|           27|    Campos|  null| paid|          Mobile, AL|   GET|Cancellation Conf...|1535931018000|     3126|null|   200|1541374384000|Mozilla/5.0 (Wind...|   246|\n",
      "|  null|Cancelled|   Zyonna|     F|          225|      Bird|  null| paid|     Columbus, GA-AL|   GET|Cancellation Conf...|1536663902000|     3080|null|   200|1541505193000|Mozilla/5.0 (Wind...|    88|\n",
      "|  null|Cancelled| Isobella|     F|          278|    Wright|  null| paid|Atlanta-Sandy Spr...|   GET|Cancellation Conf...|1536398117000|     3179|null|   200|1541543944000|\"Mozilla/5.0 (Win...|    45|\n",
      "|  null|Cancelled|   Parker|     M|           17|  Williams|  null| paid|San Francisco-Oak...|   GET|Cancellation Conf...|1537188538000|     3507|null|   200|1541939290000|\"Mozilla/5.0 (iPh...|    61|\n",
      "|  null|Cancelled|   Nicole|     F|           44|      Beck|  null| paid|Vineland-Bridgeto...|   GET|Cancellation Conf...|1532224335000|     3475|null|   200|1541948983000|\"Mozilla/5.0 (Mac...|   124|\n",
      "|  null|Cancelled|    Lucas|     M|           39|    Decker|  null| paid|Los Angeles-Long ...|   GET|Cancellation Conf...|1534945722000|     3618|null|   200|1541958736000|Mozilla/5.0 (Wind...|   223|\n",
      "|  null|Cancelled|    Brisa|     F|           16|    Murray|  null| paid|Manchester-Nashua...|   GET|Cancellation Conf...|1533438580000|     3356|null|   200|1542032682000|Mozilla/5.0 (comp...|    41|\n",
      "|  null|Cancelled|     Ryan|     M|           50|  Phillips|  null| paid|Los Angeles-Long ...|   GET|Cancellation Conf...|1535959154000|     3620|null|   200|1542049014000|\"Mozilla/5.0 (iPh...|   221|\n",
      "|  null|Cancelled|   Lakyla|     F|           59|    Porter|  null| paid|         Modesto, CA|   GET|Cancellation Conf...|1535849930000|     3368|null|   200|1542055421000|Mozilla/5.0 (Wind...|   162|\n",
      "|  null|Cancelled|     Kael|     M|          128|     Baker|  null| paid|Kingsport-Bristol...|   GET|Cancellation Conf...|1533102330000|     3307|null|   200|1542063249000|\"Mozilla/5.0 (Mac...|   131|\n",
      "|  null|Cancelled|   Carter|     M|           12|      Cook|  null| paid|Chicago-Napervill...|   GET|Cancellation Conf...|1522793334000|     3554|null|   200|1542254381000|\"Mozilla/5.0 (iPh...|   288|\n",
      "|  null|Cancelled|  Cynthia|     F|          103|    Krause|  null| free|Allentown-Bethleh...|   GET|Cancellation Conf...|1534392393000|     3808|null|   200|1542268661000|\"Mozilla/5.0 (X11...|   265|\n",
      "|  null|Cancelled|Cassandra|     F|            3|  Martinez|  null| paid|Chicago-Napervill...|   GET|Cancellation Conf...|1538172299000|     3982|null|   200|1542404708000|\"Mozilla/5.0 (Mac...|   188|\n",
      "|  null|Cancelled|Elizabeth|     F|           47|Washington|  null| paid|   Oklahoma City, OK|   GET|Cancellation Conf...|1532472246000|     3791|null|   200|1542443637000|\"Mozilla/5.0 (Mac...|   120|\n",
      "|  null|Cancelled|   Joseph|     M|           76|   Morales|  null| paid|  Corpus Christi, TX|   GET|Cancellation Conf...|1532063507000|     4221|null|   200|1542828929000|\"Mozilla/5.0 (Mac...|   293|\n",
      "|  null|Cancelled|   Daelin|     M|          233|    Turner|  null| paid|New York-Newark-J...|   GET|Cancellation Conf...|1538227408000|     4207|null|   200|1542933610000|\"Mozilla/5.0 (Win...|   126|\n",
      "|  null|Cancelled| Benjamin|     M|          125|   Salinas|  null| paid|         Lebanon, PA|   GET|Cancellation Conf...|1532594573000|     4069|null|   200|1542952212000|\"Mozilla/5.0 (Mac...|   164|\n",
      "|  null|Cancelled|      Zoe|     F|           94|     Patel|  null| paid|Providence-Warwic...|   GET|Cancellation Conf...|1532554781000|     3700|null|   200|1543018922000|Mozilla/5.0 (Wind...|    11|\n",
      "|  null|Cancelled|   Jayden|     F|            5|  Phillips|  null| paid|New York-Newark-J...|   GET|Cancellation Conf...|1537893493000|     4212|null|   200|1543091855000|\"Mozilla/5.0 (Win...|   118|\n",
      "|  null|Cancelled|   Azrael|     M|            5|     Hicks|  null| free|Atlanta-Sandy Spr...|   GET|Cancellation Conf...|1535774889000|     3472|null|   200|1543252571000|\"Mozilla/5.0 (Win...|    89|\n",
      "|  null|Cancelled|  Jasmine|     F|            5|Richardson|  null| free|Philadelphia-Camd...|   GET|Cancellation Conf...|1531477817000|     4473|null|   200|1543297283000|Mozilla/5.0 (Wind...|   167|\n",
      "|  null|Cancelled|   Wesley|     M|          436|  Thornton|  null| paid|Deltona-Daytona B...|   GET|Cancellation Conf...|1536659447000|     4253|null|   200|1543337414000|\"Mozilla/5.0 (Mac...|    34|\n",
      "|  null|Cancelled|   Oliver|     M|           53|   Gilbert|  null| paid|Philadelphia-Camd...|   GET|Cancellation Conf...|1535093367000|     4210|null|   200|1543440994000|\"Mozilla/5.0 (Mac...|    81|\n",
      "|  null|Cancelled|   Adriel|     M|           69|   Mendoza|  null| paid|  Kansas City, MO-KS|   GET|Cancellation Conf...|1535623466000|     4671|null|   200|1543522398000|\"Mozilla/5.0 (Mac...|    18|\n",
      "+------+---------+---------+------+-------------+----------+------+-----+--------------------+------+--------------------+-------------+---------+----+------+-------------+--------------------+------+\n",
      "only showing top 50 rows\n",
      "\n"
     ]
    }
   ],
   "source": [
    "df.filter('page = \"Cancellation Confirmation\"').show(50)"
   ]
  },
  {
   "cell_type": "code",
   "execution_count": 338,
   "metadata": {},
   "outputs": [
    {
     "name": "stdout",
     "output_type": "stream",
     "text": [
      "Min. ts: 1538352011000\n",
      "Max. ts: 1543622466000\n"
     ]
    }
   ],
   "source": [
    "ts_events = df.select([smin('ts').alias('min_ts'), smax('ts').alias('max_ts')]).collect()[0]\n",
    "min_ts = ts_events[0]\n",
    "max_ts = ts_events[1]\n",
    "print(f'Min. ts: {min_ts}')\n",
    "print(f'Max. ts: {max_ts}')\n",
    " \n",
    "w_session = Window.partitionBy('sessionId').orderBy('ts')\n",
    "w_user_session = Window.partitionBy('sessionId', 'userId').orderBy('ts').rangeBetween(Window.unboundedPreceding, Window.unboundedFollowing)\n",
    "w_user = Window.partitionBy('userId').orderBy('ts').rangeBetween(Window.unboundedPreceding, Window.unboundedFollowing)"
   ]
  },
  {
   "cell_type": "code",
   "execution_count": 273,
   "metadata": {},
   "outputs": [],
   "source": [
    "CHURN_CANCELLATION_PAGE = 'Cancellation Confirmation'\n",
    "REGISTRATION_PAGE = 'Submit Registration'"
   ]
  },
  {
   "cell_type": "code",
   "execution_count": 284,
   "metadata": {},
   "outputs": [],
   "source": [
    "df = df.withColumn('previous_page', lag(df.page).over(w_session))\n",
    "df = df.withColumn('last_event_ts', last(col('ts')).over(w_user))\n",
    "df = df.withColumn('last_page', last(col('page')).over(w_user))\n",
    "df = df.withColumn('cancellation_ts', when(df.last_page == CHURN_CANCELLATION_PAGE, df.last_event_ts).otherwise(max_ts))\n",
    "df = df.withColumn('register_page', first(col('previous_page')).over(w_user))\n",
    "df = df.withColumn('first_ts', first(col('ts')).over(w_user))\n",
    "df = df.withColumn('registration_ts', when(df.register_page == REGISTRATION_PAGE, df.first_ts).otherwise(min_ts))"
   ]
  },
  {
   "cell_type": "code",
   "execution_count": 345,
   "metadata": {},
   "outputs": [],
   "source": [
    "df = df.withColumn('ts_elapsed', last(df.ts).over(w_session) - first(df.ts).over(w_user_session))\n",
    "df = df.withColumn('session_duration', smax(df.ts_elapsed).over(w_user_session))"
   ]
  },
  {
   "cell_type": "code",
   "execution_count": 458,
   "metadata": {},
   "outputs": [
    {
     "name": "stdout",
     "output_type": "stream",
     "text": [
      "+---------+------+-------------+-------------+-------------------+\n",
      "|sessionId|userId|         s_ts|         e_ts|interval_to_session|\n",
      "+---------+------+-------------+-------------+-------------------+\n",
      "|       62|100010|1539004746000|1538991392000|               null|\n",
      "|      166|100010|1539254318000|1539242427000|          262926000|\n",
      "+---------+------+-------------+-------------+-------------------+\n",
      "\n"
     ]
    }
   ],
   "source": [
    "# sessions from the user\n",
    "df_sessions = df.where(df.userId == 100010).groupBy('sessionId', 'userId').agg(\n",
    "    smax(df.ts).alias('s_ts'),\n",
    "    smin(df.ts).alias('e_ts')\n",
    ") \n",
    "\n",
    "w_user_sessions_interval = Window.partitionBy('userId').orderBy('s_ts')\n",
    "\n",
    "# Calculate the interval until the next session\n",
    "df_sessions = df_sessions.withColumn('interval_to_session', col('s_ts') - lag(col('e_ts')).over(w_user_sessions_interval))\n",
    "\n",
    "df_sessions.show()"
   ]
  },
  {
   "cell_type": "code",
   "execution_count": 466,
   "metadata": {},
   "outputs": [
    {
     "name": "stdout",
     "output_type": "stream",
     "text": [
      "+------+-----------------------------+\n",
      "|userId|avg_interval_between_sessions|\n",
      "+------+-----------------------------+\n",
      "|100010|                       73.035|\n",
      "+------+-----------------------------+\n",
      "\n"
     ]
    }
   ],
   "source": [
    "milliseconds_to_hours = 3600 * 1000\n",
    "\n",
    "# We should remove the null lines before count/group to not account 2 times the mean interval\n",
    "df_sessions.where(df_sessions.interval_to_session.isNotNull()).groupBy('userId').agg(\n",
    "        (avg(df_sessions.interval_to_session) / milliseconds_to_hours).alias('avg_interval_between_sessions')\n",
    "    ).show()"
   ]
  },
  {
   "cell_type": "code",
   "execution_count": 468,
   "metadata": {},
   "outputs": [
    {
     "name": "stdout",
     "output_type": "stream",
     "text": [
      "+-----+---------+-------------+----------+----------------+---------------+-------------------------+---------------+-------------+-------------+-------------+-------------+-------------------------+---------------+\n",
      "|level|sessionId|itemInSession|ts_elapsed|session_duration|registration_ts|page                     |previous_page  |register_page|ts           |first_ts     |last_event_ts|last_page                |cancellation_ts|\n",
      "+-----+---------+-------------+----------+----------------+---------------+-------------------------+---------------+-------------+-------------+-------------+-------------+-------------------------+---------------+\n",
      "|free |62       |0            |0         |13354000        |1538352011000  |NextSong                 |Home           |Home         |1538991392000|1538991392000|1539254318000|Cancellation Confirmation|1539254318000  |\n",
      "|free |62       |1            |226000    |13354000        |1538352011000  |NextSong                 |NextSong       |Home         |1538991618000|1538991392000|1539254318000|Cancellation Confirmation|1539254318000  |\n",
      "|free |62       |2            |511000    |13354000        |1538352011000  |NextSong                 |NextSong       |Home         |1538991903000|1538991392000|1539254318000|Cancellation Confirmation|1539254318000  |\n",
      "|free |62       |3            |747000    |13354000        |1538352011000  |NextSong                 |NextSong       |Home         |1538992139000|1538991392000|1539254318000|Cancellation Confirmation|1539254318000  |\n",
      "|free |62       |4            |997000    |13354000        |1538352011000  |NextSong                 |NextSong       |Home         |1538992389000|1538991392000|1539254318000|Cancellation Confirmation|1539254318000  |\n",
      "|free |62       |5            |1224000   |13354000        |1538352011000  |NextSong                 |NextSong       |Home         |1538992616000|1538991392000|1539254318000|Cancellation Confirmation|1539254318000  |\n",
      "|free |62       |6            |1405000   |13354000        |1538352011000  |NextSong                 |NextSong       |Home         |1538992797000|1538991392000|1539254318000|Cancellation Confirmation|1539254318000  |\n",
      "|free |62       |7            |1672000   |13354000        |1538352011000  |NextSong                 |NextSong       |Home         |1538993064000|1538991392000|1539254318000|Cancellation Confirmation|1539254318000  |\n",
      "|free |62       |8            |1684000   |13354000        |1538352011000  |Roll Advert              |NextSong       |Home         |1538993076000|1538991392000|1539254318000|Cancellation Confirmation|1539254318000  |\n",
      "|free |62       |9            |1920000   |13354000        |1538352011000  |NextSong                 |Roll Advert    |Home         |1538993312000|1538991392000|1539254318000|Cancellation Confirmation|1539254318000  |\n",
      "|free |62       |10           |2093000   |13354000        |1538352011000  |NextSong                 |NextSong       |Home         |1538993485000|1538991392000|1539254318000|Cancellation Confirmation|1539254318000  |\n",
      "|free |62       |11           |2104000   |13354000        |1538352011000  |Home                     |NextSong       |Home         |1538993496000|1538991392000|1539254318000|Cancellation Confirmation|1539254318000  |\n",
      "|free |62       |12           |2295000   |13354000        |1538352011000  |NextSong                 |Home           |Home         |1538993687000|1538991392000|1539254318000|Cancellation Confirmation|1539254318000  |\n",
      "|free |62       |13           |2650000   |13354000        |1538352011000  |NextSong                 |NextSong       |Home         |1538994042000|1538991392000|1539254318000|Cancellation Confirmation|1539254318000  |\n",
      "|free |62       |14           |2655000   |13354000        |1538352011000  |Roll Advert              |NextSong       |Home         |1538994047000|1538991392000|1539254318000|Cancellation Confirmation|1539254318000  |\n",
      "|free |62       |15           |2908000   |13354000        |1538352011000  |NextSong                 |Roll Advert    |Home         |1538994300000|1538991392000|1539254318000|Cancellation Confirmation|1539254318000  |\n",
      "|free |62       |16           |3167000   |13354000        |1538352011000  |NextSong                 |NextSong       |Home         |1538994559000|1538991392000|1539254318000|Cancellation Confirmation|1539254318000  |\n",
      "|free |62       |17           |3406000   |13354000        |1538352011000  |NextSong                 |NextSong       |Home         |1538994798000|1538991392000|1539254318000|Cancellation Confirmation|1539254318000  |\n",
      "|free |62       |18           |3693000   |13354000        |1538352011000  |NextSong                 |NextSong       |Home         |1538995085000|1538991392000|1539254318000|Cancellation Confirmation|1539254318000  |\n",
      "|free |62       |19           |3853000   |13354000        |1538352011000  |NextSong                 |NextSong       |Home         |1538995245000|1538991392000|1539254318000|Cancellation Confirmation|1539254318000  |\n",
      "|free |62       |20           |4090000   |13354000        |1538352011000  |NextSong                 |NextSong       |Home         |1538995482000|1538991392000|1539254318000|Cancellation Confirmation|1539254318000  |\n",
      "|free |62       |21           |4171000   |13354000        |1538352011000  |Roll Advert              |NextSong       |Home         |1538995563000|1538991392000|1539254318000|Cancellation Confirmation|1539254318000  |\n",
      "|free |62       |22           |4179000   |13354000        |1538352011000  |Roll Advert              |Roll Advert    |Home         |1538995571000|1538991392000|1539254318000|Cancellation Confirmation|1539254318000  |\n",
      "|free |62       |23           |4300000   |13354000        |1538352011000  |NextSong                 |Roll Advert    |Home         |1538995692000|1538991392000|1539254318000|Cancellation Confirmation|1539254318000  |\n",
      "|free |62       |24           |4659000   |13354000        |1538352011000  |NextSong                 |NextSong       |Home         |1538996051000|1538991392000|1539254318000|Cancellation Confirmation|1539254318000  |\n",
      "|free |62       |25           |4663000   |13354000        |1538352011000  |Roll Advert              |NextSong       |Home         |1538996055000|1538991392000|1539254318000|Cancellation Confirmation|1539254318000  |\n",
      "|free |62       |26           |4914000   |13354000        |1538352011000  |NextSong                 |Roll Advert    |Home         |1538996306000|1538991392000|1539254318000|Cancellation Confirmation|1539254318000  |\n",
      "|free |62       |27           |5115000   |13354000        |1538352011000  |NextSong                 |NextSong       |Home         |1538996507000|1538991392000|1539254318000|Cancellation Confirmation|1539254318000  |\n",
      "|free |62       |28           |5473000   |13354000        |1538352011000  |NextSong                 |NextSong       |Home         |1538996865000|1538991392000|1539254318000|Cancellation Confirmation|1539254318000  |\n",
      "|free |62       |29           |6167000   |13354000        |1538352011000  |NextSong                 |NextSong       |Home         |1538997559000|1538991392000|1539254318000|Cancellation Confirmation|1539254318000  |\n",
      "|free |62       |30           |6173000   |13354000        |1538352011000  |Roll Advert              |NextSong       |Home         |1538997565000|1538991392000|1539254318000|Cancellation Confirmation|1539254318000  |\n",
      "|free |62       |31           |6388000   |13354000        |1538352011000  |NextSong                 |Roll Advert    |Home         |1538997780000|1538991392000|1539254318000|Cancellation Confirmation|1539254318000  |\n",
      "|free |62       |32           |6692000   |13354000        |1538352011000  |NextSong                 |NextSong       |Home         |1538998084000|1538991392000|1539254318000|Cancellation Confirmation|1539254318000  |\n",
      "|free |62       |33           |6693000   |13354000        |1538352011000  |Thumbs Up                |NextSong       |Home         |1538998085000|1538991392000|1539254318000|Cancellation Confirmation|1539254318000  |\n",
      "|free |62       |34           |6917000   |13354000        |1538352011000  |NextSong                 |Thumbs Up      |Home         |1538998309000|1538991392000|1539254318000|Cancellation Confirmation|1539254318000  |\n",
      "|free |62       |35           |7303000   |13354000        |1538352011000  |NextSong                 |NextSong       |Home         |1538998695000|1538991392000|1539254318000|Cancellation Confirmation|1539254318000  |\n",
      "|free |62       |36           |7505000   |13354000        |1538352011000  |NextSong                 |NextSong       |Home         |1538998897000|1538991392000|1539254318000|Cancellation Confirmation|1539254318000  |\n",
      "|free |62       |37           |7505000   |13354000        |1538352011000  |Roll Advert              |NextSong       |Home         |1538998897000|1538991392000|1539254318000|Cancellation Confirmation|1539254318000  |\n",
      "|free |62       |38           |7754000   |13354000        |1538352011000  |NextSong                 |Roll Advert    |Home         |1538999146000|1538991392000|1539254318000|Cancellation Confirmation|1539254318000  |\n",
      "|free |62       |39           |8012000   |13354000        |1538352011000  |NextSong                 |NextSong       |Home         |1538999404000|1538991392000|1539254318000|Cancellation Confirmation|1539254318000  |\n",
      "|free |62       |40           |8013000   |13354000        |1538352011000  |Thumbs Down              |NextSong       |Home         |1538999405000|1538991392000|1539254318000|Cancellation Confirmation|1539254318000  |\n",
      "|free |62       |41           |8516000   |13354000        |1538352011000  |NextSong                 |Thumbs Down    |Home         |1538999908000|1538991392000|1539254318000|Cancellation Confirmation|1539254318000  |\n",
      "|free |62       |42           |8757000   |13354000        |1538352011000  |NextSong                 |NextSong       |Home         |1539000149000|1538991392000|1539254318000|Cancellation Confirmation|1539254318000  |\n",
      "|free |62       |43           |8758000   |13354000        |1538352011000  |Add Friend               |NextSong       |Home         |1539000150000|1538991392000|1539254318000|Cancellation Confirmation|1539254318000  |\n",
      "|free |62       |44           |8996000   |13354000        |1538352011000  |NextSong                 |Add Friend     |Home         |1539000388000|1538991392000|1539254318000|Cancellation Confirmation|1539254318000  |\n",
      "|free |62       |45           |9021000   |13354000        |1538352011000  |Roll Advert              |NextSong       |Home         |1539000413000|1538991392000|1539254318000|Cancellation Confirmation|1539254318000  |\n",
      "|free |62       |46           |9224000   |13354000        |1538352011000  |NextSong                 |Roll Advert    |Home         |1539000616000|1538991392000|1539254318000|Cancellation Confirmation|1539254318000  |\n",
      "|free |62       |47           |9437000   |13354000        |1538352011000  |NextSong                 |NextSong       |Home         |1539000829000|1538991392000|1539254318000|Cancellation Confirmation|1539254318000  |\n",
      "|free |62       |48           |9438000   |13354000        |1538352011000  |Thumbs Down              |NextSong       |Home         |1539000830000|1538991392000|1539254318000|Cancellation Confirmation|1539254318000  |\n",
      "|free |62       |49           |9588000   |13354000        |1538352011000  |NextSong                 |Thumbs Down    |Home         |1539000980000|1538991392000|1539254318000|Cancellation Confirmation|1539254318000  |\n",
      "|free |62       |50           |9778000   |13354000        |1538352011000  |NextSong                 |NextSong       |Home         |1539001170000|1538991392000|1539254318000|Cancellation Confirmation|1539254318000  |\n",
      "|free |62       |51           |9781000   |13354000        |1538352011000  |Add to Playlist          |NextSong       |Home         |1539001173000|1538991392000|1539254318000|Cancellation Confirmation|1539254318000  |\n",
      "|free |62       |52           |9981000   |13354000        |1538352011000  |NextSong                 |Add to Playlist|Home         |1539001373000|1538991392000|1539254318000|Cancellation Confirmation|1539254318000  |\n",
      "|free |62       |53           |10202000  |13354000        |1538352011000  |NextSong                 |NextSong       |Home         |1539001594000|1538991392000|1539254318000|Cancellation Confirmation|1539254318000  |\n",
      "|free |62       |54           |11184000  |13354000        |1538352011000  |NextSong                 |NextSong       |Home         |1539002576000|1538991392000|1539254318000|Cancellation Confirmation|1539254318000  |\n",
      "|free |62       |55           |11195000  |13354000        |1538352011000  |Roll Advert              |NextSong       |Home         |1539002587000|1538991392000|1539254318000|Cancellation Confirmation|1539254318000  |\n",
      "|free |62       |56           |11485000  |13354000        |1538352011000  |NextSong                 |Roll Advert    |Home         |1539002877000|1538991392000|1539254318000|Cancellation Confirmation|1539254318000  |\n",
      "|free |62       |57           |11718000  |13354000        |1538352011000  |NextSong                 |NextSong       |Home         |1539003110000|1538991392000|1539254318000|Cancellation Confirmation|1539254318000  |\n",
      "|free |62       |58           |11935000  |13354000        |1538352011000  |NextSong                 |NextSong       |Home         |1539003327000|1538991392000|1539254318000|Cancellation Confirmation|1539254318000  |\n",
      "|free |62       |59           |11936000  |13354000        |1538352011000  |Thumbs Up                |NextSong       |Home         |1539003328000|1538991392000|1539254318000|Cancellation Confirmation|1539254318000  |\n",
      "|free |62       |60           |12139000  |13354000        |1538352011000  |NextSong                 |Thumbs Up      |Home         |1539003531000|1538991392000|1539254318000|Cancellation Confirmation|1539254318000  |\n",
      "|free |62       |61           |12688000  |13354000        |1538352011000  |NextSong                 |NextSong       |Home         |1539004080000|1538991392000|1539254318000|Cancellation Confirmation|1539254318000  |\n",
      "|free |62       |62           |12689000  |13354000        |1538352011000  |Logout                   |NextSong       |Home         |1539004081000|1538991392000|1539254318000|Cancellation Confirmation|1539254318000  |\n",
      "|free |62       |65           |12721000  |13354000        |1538352011000  |Home                     |Login          |Home         |1539004113000|1538991392000|1539254318000|Cancellation Confirmation|1539254318000  |\n",
      "|free |62       |66           |12972000  |13354000        |1538352011000  |NextSong                 |Home           |Home         |1539004364000|1538991392000|1539254318000|Cancellation Confirmation|1539254318000  |\n",
      "|free |62       |67           |12981000  |13354000        |1538352011000  |Roll Advert              |NextSong       |Home         |1539004373000|1538991392000|1539254318000|Cancellation Confirmation|1539254318000  |\n",
      "|free |62       |68           |13152000  |13354000        |1538352011000  |NextSong                 |Roll Advert    |Home         |1539004544000|1538991392000|1539254318000|Cancellation Confirmation|1539254318000  |\n",
      "|free |62       |69           |13353000  |13354000        |1538352011000  |NextSong                 |NextSong       |Home         |1539004745000|1538991392000|1539254318000|Cancellation Confirmation|1539254318000  |\n",
      "|free |62       |70           |13354000  |13354000        |1538352011000  |Thumbs Up                |NextSong       |Home         |1539004746000|1538991392000|1539254318000|Cancellation Confirmation|1539254318000  |\n",
      "|free |166      |0            |0         |11891000        |1538352011000  |Home                     |Thumbs Up      |Home         |1539242427000|1538991392000|1539254318000|Cancellation Confirmation|1539254318000  |\n",
      "|free |166      |1            |4000      |11891000        |1538352011000  |NextSong                 |Home           |Home         |1539242431000|1538991392000|1539254318000|Cancellation Confirmation|1539254318000  |\n",
      "|free |166      |2            |21000     |11891000        |1538352011000  |Roll Advert              |NextSong       |Home         |1539242448000|1538991392000|1539254318000|Cancellation Confirmation|1539254318000  |\n",
      "|free |166      |3            |25000     |11891000        |1538352011000  |Roll Advert              |Roll Advert    |Home         |1539242452000|1538991392000|1539254318000|Cancellation Confirmation|1539254318000  |\n",
      "|free |166      |4            |467000    |11891000        |1538352011000  |NextSong                 |Roll Advert    |Home         |1539242894000|1538991392000|1539254318000|Cancellation Confirmation|1539254318000  |\n",
      "|free |166      |5            |1122000   |11891000        |1538352011000  |NextSong                 |NextSong       |Home         |1539243549000|1538991392000|1539254318000|Cancellation Confirmation|1539254318000  |\n",
      "|free |166      |6            |1349000   |11891000        |1538352011000  |NextSong                 |NextSong       |Home         |1539243776000|1538991392000|1539254318000|Cancellation Confirmation|1539254318000  |\n",
      "|free |166      |7            |1656000   |11891000        |1538352011000  |NextSong                 |NextSong       |Home         |1539244083000|1538991392000|1539254318000|Cancellation Confirmation|1539254318000  |\n",
      "|free |166      |8            |1898000   |11891000        |1538352011000  |NextSong                 |NextSong       |Home         |1539244325000|1538991392000|1539254318000|Cancellation Confirmation|1539254318000  |\n",
      "|free |166      |9            |2124000   |11891000        |1538352011000  |NextSong                 |NextSong       |Home         |1539244551000|1538991392000|1539254318000|Cancellation Confirmation|1539254318000  |\n",
      "|free |166      |10           |2129000   |11891000        |1538352011000  |Roll Advert              |NextSong       |Home         |1539244556000|1538991392000|1539254318000|Cancellation Confirmation|1539254318000  |\n",
      "|free |166      |11           |2329000   |11891000        |1538352011000  |NextSong                 |Roll Advert    |Home         |1539244756000|1538991392000|1539254318000|Cancellation Confirmation|1539254318000  |\n",
      "|free |166      |12           |2558000   |11891000        |1538352011000  |NextSong                 |NextSong       |Home         |1539244985000|1538991392000|1539254318000|Cancellation Confirmation|1539254318000  |\n",
      "|free |166      |13           |2573000   |11891000        |1538352011000  |Roll Advert              |NextSong       |Home         |1539245000000|1538991392000|1539254318000|Cancellation Confirmation|1539254318000  |\n",
      "|free |166      |14           |2838000   |11891000        |1538352011000  |NextSong                 |Roll Advert    |Home         |1539245265000|1538991392000|1539254318000|Cancellation Confirmation|1539254318000  |\n",
      "|free |166      |15           |3037000   |11891000        |1538352011000  |NextSong                 |NextSong       |Home         |1539245464000|1538991392000|1539254318000|Cancellation Confirmation|1539254318000  |\n",
      "|free |166      |16           |3264000   |11891000        |1538352011000  |NextSong                 |NextSong       |Home         |1539245691000|1538991392000|1539254318000|Cancellation Confirmation|1539254318000  |\n",
      "|free |166      |17           |3529000   |11891000        |1538352011000  |NextSong                 |NextSong       |Home         |1539245956000|1538991392000|1539254318000|Cancellation Confirmation|1539254318000  |\n",
      "|free |166      |18           |3817000   |11891000        |1538352011000  |NextSong                 |NextSong       |Home         |1539246244000|1538991392000|1539254318000|Cancellation Confirmation|1539254318000  |\n",
      "|free |166      |19           |4086000   |11891000        |1538352011000  |NextSong                 |NextSong       |Home         |1539246513000|1538991392000|1539254318000|Cancellation Confirmation|1539254318000  |\n",
      "|free |166      |20           |4113000   |11891000        |1538352011000  |Roll Advert              |NextSong       |Home         |1539246540000|1538991392000|1539254318000|Cancellation Confirmation|1539254318000  |\n",
      "|free |166      |21           |4293000   |11891000        |1538352011000  |NextSong                 |Roll Advert    |Home         |1539246720000|1538991392000|1539254318000|Cancellation Confirmation|1539254318000  |\n",
      "|free |166      |22           |4640000   |11891000        |1538352011000  |NextSong                 |NextSong       |Home         |1539247067000|1538991392000|1539254318000|Cancellation Confirmation|1539254318000  |\n",
      "|free |166      |23           |4788000   |11891000        |1538352011000  |NextSong                 |NextSong       |Home         |1539247215000|1538991392000|1539254318000|Cancellation Confirmation|1539254318000  |\n",
      "|free |166      |24           |5029000   |11891000        |1538352011000  |NextSong                 |NextSong       |Home         |1539247456000|1538991392000|1539254318000|Cancellation Confirmation|1539254318000  |\n",
      "|free |166      |25           |5050000   |11891000        |1538352011000  |Roll Advert              |NextSong       |Home         |1539247477000|1538991392000|1539254318000|Cancellation Confirmation|1539254318000  |\n",
      "|free |166      |26           |5187000   |11891000        |1538352011000  |NextSong                 |Roll Advert    |Home         |1539247614000|1538991392000|1539254318000|Cancellation Confirmation|1539254318000  |\n",
      "|free |166      |27           |5193000   |11891000        |1538352011000  |Roll Advert              |NextSong       |Home         |1539247620000|1538991392000|1539254318000|Cancellation Confirmation|1539254318000  |\n",
      "|free |166      |28           |5626000   |11891000        |1538352011000  |NextSong                 |Roll Advert    |Home         |1539248053000|1538991392000|1539254318000|Cancellation Confirmation|1539254318000  |\n",
      "|free |166      |29           |5651000   |11891000        |1538352011000  |Roll Advert              |NextSong       |Home         |1539248078000|1538991392000|1539254318000|Cancellation Confirmation|1539254318000  |\n",
      "|free |166      |30           |6002000   |11891000        |1538352011000  |NextSong                 |Roll Advert    |Home         |1539248429000|1538991392000|1539254318000|Cancellation Confirmation|1539254318000  |\n",
      "|free |166      |31           |6101000   |11891000        |1538352011000  |NextSong                 |NextSong       |Home         |1539248528000|1538991392000|1539254318000|Cancellation Confirmation|1539254318000  |\n",
      "|free |166      |32           |6136000   |11891000        |1538352011000  |Upgrade                  |NextSong       |Home         |1539248563000|1538991392000|1539254318000|Cancellation Confirmation|1539254318000  |\n",
      "|free |166      |33           |6143000   |11891000        |1538352011000  |Upgrade                  |Upgrade        |Home         |1539248570000|1538991392000|1539254318000|Cancellation Confirmation|1539254318000  |\n",
      "|free |166      |34           |6144000   |11891000        |1538352011000  |Add Friend               |Upgrade        |Home         |1539248571000|1538991392000|1539254318000|Cancellation Confirmation|1539254318000  |\n",
      "|free |166      |35           |6145000   |11891000        |1538352011000  |Add Friend               |Add Friend     |Home         |1539248572000|1538991392000|1539254318000|Cancellation Confirmation|1539254318000  |\n",
      "|free |166      |36           |6326000   |11891000        |1538352011000  |NextSong                 |Add Friend     |Home         |1539248753000|1538991392000|1539254318000|Cancellation Confirmation|1539254318000  |\n",
      "|free |166      |37           |6361000   |11891000        |1538352011000  |Roll Advert              |NextSong       |Home         |1539248788000|1538991392000|1539254318000|Cancellation Confirmation|1539254318000  |\n",
      "|free |166      |38           |6615000   |11891000        |1538352011000  |NextSong                 |Roll Advert    |Home         |1539249042000|1538991392000|1539254318000|Cancellation Confirmation|1539254318000  |\n",
      "|free |166      |39           |6843000   |11891000        |1538352011000  |NextSong                 |NextSong       |Home         |1539249270000|1538991392000|1539254318000|Cancellation Confirmation|1539254318000  |\n",
      "|free |166      |40           |7120000   |11891000        |1538352011000  |NextSong                 |NextSong       |Home         |1539249547000|1538991392000|1539254318000|Cancellation Confirmation|1539254318000  |\n",
      "|free |166      |41           |7170000   |11891000        |1538352011000  |Roll Advert              |NextSong       |Home         |1539249597000|1538991392000|1539254318000|Cancellation Confirmation|1539254318000  |\n",
      "|free |166      |42           |7408000   |11891000        |1538352011000  |NextSong                 |Roll Advert    |Home         |1539249835000|1538991392000|1539254318000|Cancellation Confirmation|1539254318000  |\n",
      "|free |166      |43           |7632000   |11891000        |1538352011000  |NextSong                 |NextSong       |Home         |1539250059000|1538991392000|1539254318000|Cancellation Confirmation|1539254318000  |\n",
      "|free |166      |44           |7835000   |11891000        |1538352011000  |NextSong                 |NextSong       |Home         |1539250262000|1538991392000|1539254318000|Cancellation Confirmation|1539254318000  |\n",
      "|free |166      |45           |8042000   |11891000        |1538352011000  |NextSong                 |NextSong       |Home         |1539250469000|1538991392000|1539254318000|Cancellation Confirmation|1539254318000  |\n",
      "|free |166      |46           |8043000   |11891000        |1538352011000  |Thumbs Up                |NextSong       |Home         |1539250470000|1538991392000|1539254318000|Cancellation Confirmation|1539254318000  |\n",
      "|free |166      |47           |8280000   |11891000        |1538352011000  |NextSong                 |Thumbs Up      |Home         |1539250707000|1538991392000|1539254318000|Cancellation Confirmation|1539254318000  |\n",
      "|free |166      |48           |8469000   |11891000        |1538352011000  |NextSong                 |NextSong       |Home         |1539250896000|1538991392000|1539254318000|Cancellation Confirmation|1539254318000  |\n",
      "|free |166      |49           |8690000   |11891000        |1538352011000  |NextSong                 |NextSong       |Home         |1539251117000|1538991392000|1539254318000|Cancellation Confirmation|1539254318000  |\n",
      "|free |166      |50           |8947000   |11891000        |1538352011000  |NextSong                 |NextSong       |Home         |1539251374000|1538991392000|1539254318000|Cancellation Confirmation|1539254318000  |\n",
      "|free |166      |51           |9128000   |11891000        |1538352011000  |NextSong                 |NextSong       |Home         |1539251555000|1538991392000|1539254318000|Cancellation Confirmation|1539254318000  |\n",
      "|free |166      |52           |9484000   |11891000        |1538352011000  |NextSong                 |NextSong       |Home         |1539251911000|1538991392000|1539254318000|Cancellation Confirmation|1539254318000  |\n",
      "|free |166      |53           |9722000   |11891000        |1538352011000  |NextSong                 |NextSong       |Home         |1539252149000|1538991392000|1539254318000|Cancellation Confirmation|1539254318000  |\n",
      "|free |166      |54           |9989000   |11891000        |1538352011000  |NextSong                 |NextSong       |Home         |1539252416000|1538991392000|1539254318000|Cancellation Confirmation|1539254318000  |\n",
      "|free |166      |55           |10216000  |11891000        |1538352011000  |NextSong                 |NextSong       |Home         |1539252643000|1538991392000|1539254318000|Cancellation Confirmation|1539254318000  |\n",
      "|free |166      |56           |10487000  |11891000        |1538352011000  |NextSong                 |NextSong       |Home         |1539252914000|1538991392000|1539254318000|Cancellation Confirmation|1539254318000  |\n",
      "|free |166      |57           |10711000  |11891000        |1538352011000  |NextSong                 |NextSong       |Home         |1539253138000|1538991392000|1539254318000|Cancellation Confirmation|1539254318000  |\n",
      "|free |166      |58           |10924000  |11891000        |1538352011000  |NextSong                 |NextSong       |Home         |1539253351000|1538991392000|1539254318000|Cancellation Confirmation|1539254318000  |\n",
      "|free |166      |59           |10925000  |11891000        |1538352011000  |Thumbs Down              |NextSong       |Home         |1539253352000|1538991392000|1539254318000|Cancellation Confirmation|1539254318000  |\n",
      "|free |166      |60           |11134000  |11891000        |1538352011000  |NextSong                 |Thumbs Down    |Home         |1539253561000|1538991392000|1539254318000|Cancellation Confirmation|1539254318000  |\n",
      "|free |166      |61           |11322000  |11891000        |1538352011000  |NextSong                 |NextSong       |Home         |1539253749000|1538991392000|1539254318000|Cancellation Confirmation|1539254318000  |\n",
      "|free |166      |62           |11339000  |11891000        |1538352011000  |Roll Advert              |NextSong       |Home         |1539253766000|1538991392000|1539254318000|Cancellation Confirmation|1539254318000  |\n",
      "|free |166      |63           |11670000  |11891000        |1538352011000  |NextSong                 |Roll Advert    |Home         |1539254097000|1538991392000|1539254318000|Cancellation Confirmation|1539254318000  |\n",
      "|free |166      |64           |11852000  |11891000        |1538352011000  |NextSong                 |NextSong       |Home         |1539254279000|1538991392000|1539254318000|Cancellation Confirmation|1539254318000  |\n",
      "|free |166      |65           |11877000  |11891000        |1538352011000  |Roll Advert              |NextSong       |Home         |1539254304000|1538991392000|1539254318000|Cancellation Confirmation|1539254318000  |\n",
      "|free |166      |66           |11878000  |11891000        |1538352011000  |Cancel                   |Roll Advert    |Home         |1539254305000|1538991392000|1539254318000|Cancellation Confirmation|1539254318000  |\n",
      "|free |166      |67           |11891000  |11891000        |1538352011000  |Cancellation Confirmation|Cancel         |Home         |1539254318000|1538991392000|1539254318000|Cancellation Confirmation|1539254318000  |\n",
      "+-----+---------+-------------+----------+----------------+---------------+-------------------------+---------------+-------------+-------------+-------------+-------------+-------------------------+---------------+\n",
      "\n"
     ]
    }
   ],
   "source": [
    "_columns = [\n",
    "    # 'userId', \n",
    "    'level',\n",
    "    'sessionId', \n",
    "    'itemInSession', \n",
    "    'ts_elapsed',\n",
    "    'session_duration',\n",
    "    'registration_ts', \n",
    "    'page',\n",
    "    'previous_page',\n",
    "    'register_page', \n",
    "    'ts', \n",
    "    'first_ts', \n",
    "    'last_event_ts', \n",
    "    'last_page', \n",
    "    'cancellation_ts'\n",
    "]\n",
    "\n",
    "df.select(_columns).where(df.userId == 100010).orderBy(df.ts).show(350, False)"
   ]
  },
  {
   "cell_type": "markdown",
   "metadata": {},
   "source": [
    "- Advertises number (per session and all)\n",
    "    - The user **100010** returned after some idle time and received a considerable amount of advertises;\n",
    "    - Also, after thumbs down, I received two advertisements on four sounds. Then canceled the service.\n",
    "- Number of sessions"
   ]
  },
  {
   "cell_type": "code",
   "execution_count": 279,
   "metadata": {},
   "outputs": [
    {
     "name": "stdout",
     "output_type": "stream",
     "text": [
      "+---------+-----+\n",
      "|sessionId|count|\n",
      "+---------+-----+\n",
      "|       62|   69|\n",
      "|      166|   68|\n",
      "+---------+-----+\n",
      "\n"
     ]
    }
   ],
   "source": [
    "df.filter('userId = 100010').groupBy('sessionId').count().orderBy('count', ascending = False).show(120)"
   ]
  },
  {
   "cell_type": "code",
   "execution_count": 354,
   "metadata": {},
   "outputs": [
    {
     "name": "stdout",
     "output_type": "stream",
     "text": [
      "+------+----+-------------+-------------+------------+----------+---------+--------------+-------+----------+----------+--------------------+---------+----------------+------+------------+------+--------+----------+------------------+\n",
      "|userId|male|     ts_start|       ts_end|n_downgrades|n_upgrades|paid_user|n_songs_played|n_likes|n_dislikes|n_sessions|avg_session_duration|n_friends|n_playlist_added|n_home|n_advertises|n_help|n_errors|n_settings|n_all_interactions|\n",
      "+------+----+-------------+-------------+------------+----------+---------+--------------+-------+----------+----------+--------------------+---------+----------------+------+------------+------+--------+----------+------------------+\n",
      "|100010|   0|1538991392000|1539254318000|           0|         0|        0|            96|      4|         3|         2|   3.507733171127332|        3|               1|     3|          22|     0|       0|         0|               137|\n",
      "+------+----+-------------+-------------+------------+----------+---------+--------------+-------+----------+----------+--------------------+---------+----------------+------+------------+------+--------+----------+------------------+\n",
      "\n"
     ]
    }
   ],
   "source": [
    "TRUE = 1\n",
    "FALSE = 0\n",
    "\n",
    "milliseconds_to_hours = 3600 * 1000\n",
    "\n",
    "df_user_profile = df.filter('userId = 100010').groupby('userId')\\\n",
    "    .agg( \n",
    "\n",
    "        first(when(col('gender') == 'M', TRUE).otherwise(FALSE)).alias('male'),\n",
    "\n",
    "        smin(col('first_ts')).alias('ts_start'),\n",
    "        smax(col('last_event_ts')).alias('ts_end'),\n",
    "\n",
    "        # Subscription\n",
    "        count(when(col('page') == 'Submit Downgrade', True)).alias(\"n_downgrades\"),\n",
    "        count(when(col('page') == 'Submit Upgrade', True)).alias(\"n_upgrades\"),\n",
    "        last(when(col('level') == 'paid', TRUE).otherwise(FALSE)).alias('paid_user'),\n",
    "    \n",
    "        # Streaming\n",
    "        count(when(col('page') == 'NextSong', True)).alias(\"n_songs_played\"),\n",
    "        count(when(col('page') == 'Thumbs Up', True)).alias(\"n_likes\"),\n",
    "        count(when(col('page') == 'Thumbs Down', True)).alias(\"n_dislikes\"),\n",
    "        countDistinct(col('sessionId')).alias(\"n_sessions\"),\n",
    "        (avg(col('session_duration')) / milliseconds_to_hours).alias(\"avg_session_duration\"),\n",
    "    \n",
    "        # Community\n",
    "        count(when(col('page') == 'Add Friend', True)).alias(\"n_friends\"),\n",
    "        count(when(col('page') == 'Add to Playlist', True)).alias(\"n_playlist_added\"),\n",
    "    \n",
    "        # Other\n",
    "        count(when(col('page') == 'Home', True)).alias(\"n_home\"),\n",
    "        count(when(col('page') == 'Roll Advert', True)).alias(\"n_advertises\"),\n",
    "        count(when(col('page') == 'Help', True)).alias(\"n_help\"),\n",
    "        count(when(col('page') == 'Error', True)).alias(\"n_errors\"),\n",
    "        count(when(col('page') == 'Settings', True)).alias(\"n_settings\"),\n",
    "        count(col('page')).alias(\"n_all_interactions\")\n",
    "    )\n",
    "\n",
    "df_user_profile.show()"
   ]
  },
  {
   "cell_type": "code",
   "execution_count": 352,
   "metadata": {},
   "outputs": [
    {
     "data": {
      "text/plain": [
       "['__annotations__',\n",
       " '__call__',\n",
       " '__class__',\n",
       " '__closure__',\n",
       " '__code__',\n",
       " '__defaults__',\n",
       " '__delattr__',\n",
       " '__dict__',\n",
       " '__dir__',\n",
       " '__doc__',\n",
       " '__eq__',\n",
       " '__format__',\n",
       " '__ge__',\n",
       " '__get__',\n",
       " '__getattribute__',\n",
       " '__globals__',\n",
       " '__gt__',\n",
       " '__hash__',\n",
       " '__init__',\n",
       " '__init_subclass__',\n",
       " '__kwdefaults__',\n",
       " '__le__',\n",
       " '__lt__',\n",
       " '__module__',\n",
       " '__name__',\n",
       " '__ne__',\n",
       " '__new__',\n",
       " '__qualname__',\n",
       " '__reduce__',\n",
       " '__reduce_ex__',\n",
       " '__repr__',\n",
       " '__setattr__',\n",
       " '__sizeof__',\n",
       " '__str__',\n",
       " '__subclasshook__']"
      ]
     },
     "execution_count": 352,
     "metadata": {},
     "output_type": "execute_result"
    }
   ],
   "source": [
    "dir(avg)"
   ]
  },
  {
   "cell_type": "markdown",
   "metadata": {},
   "source": [
    "# Modeling\n",
    "Split the full dataset into train, test, and validation sets. Test out several of the machine learning methods you learned. Evaluate the accuracy of the various models, tuning parameters as necessary. Determine your winning model based on test accuracy and report results on the validation set. Since the churned users are a fairly small subset, I suggest using F1 score as the metric to optimize."
   ]
  },
  {
   "cell_type": "code",
   "execution_count": null,
   "metadata": {},
   "outputs": [],
   "source": []
  },
  {
   "cell_type": "markdown",
   "metadata": {},
   "source": [
    "# Final Steps\n",
    "Clean up your code, adding comments and renaming variables to make the code easier to read and maintain. Refer to the Spark Project Overview page and Data Scientist Capstone Project Rubric to make sure you are including all components of the capstone project and meet all expectations. Remember, this includes thorough documentation in a README file in a Github repository, as well as a web app or blog post."
   ]
  },
  {
   "cell_type": "code",
   "execution_count": null,
   "metadata": {},
   "outputs": [],
   "source": []
  }
 ],
 "metadata": {
  "kernelspec": {
   "display_name": "Python 3",
   "language": "python",
   "name": "python3"
  },
  "language_info": {
   "codemirror_mode": {
    "name": "ipython",
    "version": 3
   },
   "file_extension": ".py",
   "mimetype": "text/x-python",
   "name": "python",
   "nbconvert_exporter": "python",
   "pygments_lexer": "ipython3",
   "version": "3.7.4"
  }
 },
 "nbformat": 4,
 "nbformat_minor": 4
}
