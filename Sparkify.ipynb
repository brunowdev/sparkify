{
 "cells": [
  {
   "cell_type": "markdown",
   "metadata": {},
   "source": [
    "# Sparkify Project Workspace\n",
    "This workspace contains a tiny subset (128MB) of the full dataset available (12GB). Feel free to use this workspace to build your project, or to explore a smaller subset with Spark before deploying your cluster on the cloud. Instructions for setting up your Spark cluster is included in the last lesson of the Extracurricular Spark Course content.\n",
    "\n",
    "You can follow the steps below to guide your data analysis and model building portion of this project."
   ]
  },
  {
   "cell_type": "code",
   "execution_count": 1,
   "metadata": {},
   "outputs": [],
   "source": [
    "from pyspark.sql import SparkSession\n",
    "\n",
    "from pyspark.sql.functions import isnan, when, count, col"
   ]
  },
  {
   "cell_type": "code",
   "execution_count": 2,
   "metadata": {},
   "outputs": [
    {
     "name": "stdout",
     "output_type": "stream",
     "text": [
      "2m_rows_sparkify_event_data.csv  README.MD\n",
      "b_1_sparkify_event_data.csv\t requirements.txt\n",
      "ETL.ipynb\t\t\t sparkify_event_data.json\n",
      "full_sparkify_event_data.json\t Sparkify.ipynb\n",
      "medium_sparkify_event_data.csv\n"
     ]
    }
   ],
   "source": [
    "!ls"
   ]
  },
  {
   "cell_type": "code",
   "execution_count": 2,
   "metadata": {},
   "outputs": [],
   "source": [
    "filepath = '2m_rows_sparkify_event_data.csv'"
   ]
  },
  {
   "cell_type": "code",
   "execution_count": 3,
   "metadata": {},
   "outputs": [],
   "source": [
    "spark = SparkSession \\\n",
    "    .builder \\\n",
    "    .appName(\"Sparkify\") \\\n",
    "    .getOrCreate()\n",
    "\n",
    "spark.sparkContext.setLogLevel('DEBUG')"
   ]
  },
  {
   "cell_type": "markdown",
   "metadata": {},
   "source": [
    "# Load and Clean Dataset\n",
    "In this workspace, the mini-dataset file is `mini_sparkify_event_data.json`. Load and clean the dataset, checking for invalid or missing data - for example, records without userids or sessionids. "
   ]
  },
  {
   "cell_type": "code",
   "execution_count": 4,
   "metadata": {},
   "outputs": [],
   "source": [
    "df = spark.read.option(\"header\", \"true\").option(\"encoding\", \"utf-8\").csv(filepath)"
   ]
  },
  {
   "cell_type": "code",
   "execution_count": 5,
   "metadata": {},
   "outputs": [
    {
     "data": {
      "text/plain": [
       "[('status', 'string'),\n",
       " ('gender', 'string'),\n",
       " ('length', 'string'),\n",
       " ('firstName', 'string'),\n",
       " ('level', 'string'),\n",
       " ('lastName', 'string'),\n",
       " ('registration', 'string'),\n",
       " ('userId', 'string'),\n",
       " ('ts', 'string'),\n",
       " ('auth', 'string'),\n",
       " ('page', 'string'),\n",
       " ('sessionId', 'string'),\n",
       " ('location', 'string'),\n",
       " ('itemInSession', 'string'),\n",
       " ('userAgent', 'string'),\n",
       " ('song', 'string'),\n",
       " ('artist', 'string'),\n",
       " ('method', 'string')]"
      ]
     },
     "execution_count": 5,
     "metadata": {},
     "output_type": "execute_result"
    }
   ],
   "source": [
    "df.dtypes"
   ]
  },
  {
   "cell_type": "code",
   "execution_count": 6,
   "metadata": {},
   "outputs": [
    {
     "name": "stdout",
     "output_type": "stream",
     "text": [
      "-RECORD 0------------------------------------------------------------------------------------\n",
      " status        | 200                                                                         \n",
      " gender        | M                                                                           \n",
      " length        | 524.32934                                                                   \n",
      " firstName     | Shlok                                                                       \n",
      " level         | paid                                                                        \n",
      " lastName      | Johnson                                                                     \n",
      " registration  | 1533734541000.0                                                             \n",
      " userId        | 1749042                                                                     \n",
      " ts            | 1538352001000                                                               \n",
      " auth          | Logged In                                                                   \n",
      " page          | NextSong                                                                    \n",
      " sessionId     | 22683                                                                       \n",
      " location      | Dallas-Fort Worth-Arlington, TX                                             \n",
      " itemInSession | 278                                                                         \n",
      " userAgent     | \"\"\"Mozilla/5.0 (Windows NT 6.1; WOW64) AppleWebKit/537.36 (KHTML            \n",
      " song          |  like Gecko) Chrome/36.0.1985.143 Safari/537.36\"\"\"                          \n",
      " artist        | Ich mache einen Spiegel - Dream Part 4                                      \n",
      " method        | Popol Vuh                                                                   \n",
      "-RECORD 1------------------------------------------------------------------------------------\n",
      " status        | 200                                                                         \n",
      " gender        | F                                                                           \n",
      " length        | 238.39302                                                                   \n",
      " firstName     | Vianney                                                                     \n",
      " level         | paid                                                                        \n",
      " lastName      | Miller                                                                      \n",
      " registration  | 1537500318000.0                                                             \n",
      " userId        | 1563081                                                                     \n",
      " ts            | 1538352002000                                                               \n",
      " auth          | Logged In                                                                   \n",
      " page          | NextSong                                                                    \n",
      " sessionId     | 20836                                                                       \n",
      " location      | San Francisco-Oakland-Hayward, CA                                           \n",
      " itemInSession | 9                                                                           \n",
      " userAgent     | \"\"\"Mozilla/5.0 (Macintosh; Intel Mac OS X 10_9_4) AppleWebKit/537.36 (KHTML \n",
      " song          |  like Gecko) Chrome/36.0.1985.143 Safari/537.36\"\"\"                          \n",
      " artist        | MiÃÂ©ntele                                                                 \n",
      " method        | Los Bunkers                                                                 \n",
      "only showing top 2 rows\n",
      "\n"
     ]
    }
   ],
   "source": [
    "df.show(n=2, truncate=False, vertical=True)"
   ]
  },
  {
   "cell_type": "code",
   "execution_count": 7,
   "metadata": {},
   "outputs": [
    {
     "data": {
      "text/plain": [
       "['status',\n",
       " 'gender',\n",
       " 'length',\n",
       " 'firstName',\n",
       " 'level',\n",
       " 'lastName',\n",
       " 'registration',\n",
       " 'userId',\n",
       " 'ts',\n",
       " 'auth',\n",
       " 'page',\n",
       " 'sessionId',\n",
       " 'location',\n",
       " 'itemInSession',\n",
       " 'userAgent',\n",
       " 'song',\n",
       " 'artist',\n",
       " 'method']"
      ]
     },
     "execution_count": 7,
     "metadata": {},
     "output_type": "execute_result"
    }
   ],
   "source": [
    "df.columns"
   ]
  },
  {
   "cell_type": "code",
   "execution_count": 8,
   "metadata": {},
   "outputs": [],
   "source": [
    "not_na_columns = [ 'userId', 'sessionId' ]"
   ]
  },
  {
   "cell_type": "code",
   "execution_count": 9,
   "metadata": {},
   "outputs": [
    {
     "name": "stdout",
     "output_type": "stream",
     "text": [
      "+------+------+------+---------+-----+--------+------------+------+---+----+----+---------+--------+-------------+---------+----+------+------+\n",
      "|status|gender|length|firstName|level|lastName|registration|userId| ts|auth|page|sessionId|location|itemInSession|userAgent|song|artist|method|\n",
      "+------+------+------+---------+-----+--------+------------+------+---+----+----+---------+--------+-------------+---------+----+------+------+\n",
      "|     0|     0|     0|        0|    0|       0|           0|     0|  0|   0|   0|        0|       0|            0|        0|   0|     0|     0|\n",
      "+------+------+------+---------+-----+--------+------------+------+---+----+----+---------+--------+-------------+---------+----+------+------+\n",
      "\n"
     ]
    }
   ],
   "source": [
    "df.select([count(when(isnan(c), c)).alias(c) for c in df.columns]).show()"
   ]
  },
  {
   "cell_type": "code",
   "execution_count": 10,
   "metadata": {},
   "outputs": [
    {
     "name": "stdout",
     "output_type": "stream",
     "text": [
      "+-------+-----+\n",
      "| userId|count|\n",
      "+-------+-----+\n",
      "|1261737|64332|\n",
      "|1333174| 1931|\n",
      "|1502571| 1898|\n",
      "|1140512| 1798|\n",
      "|1049289| 1768|\n",
      "|1045674| 1757|\n",
      "|1748906| 1751|\n",
      "|1199183| 1713|\n",
      "|1563125| 1585|\n",
      "|1564221| 1576|\n",
      "|1352772| 1545|\n",
      "|1730425| 1537|\n",
      "|1967025| 1505|\n",
      "|1155970| 1504|\n",
      "|1019103| 1495|\n",
      "|1169050| 1465|\n",
      "|1082829| 1459|\n",
      "|1090699| 1453|\n",
      "|1204704| 1389|\n",
      "|1985204| 1378|\n",
      "|1711691| 1373|\n",
      "|1434232| 1368|\n",
      "|1989862| 1365|\n",
      "|1343610| 1363|\n",
      "|1342468| 1359|\n",
      "|1708349| 1352|\n",
      "|1240184| 1349|\n",
      "|1006695| 1347|\n",
      "|1650232| 1339|\n",
      "|1249037| 1330|\n",
      "|1116823| 1325|\n",
      "|1806776| 1323|\n",
      "|1235208| 1319|\n",
      "|1200978| 1314|\n",
      "|1577591| 1310|\n",
      "|1870948| 1306|\n",
      "|1422950| 1299|\n",
      "|1515610| 1298|\n",
      "|1655121| 1290|\n",
      "|1662639| 1288|\n",
      "|1904872| 1274|\n",
      "|1778160| 1273|\n",
      "|1395776| 1272|\n",
      "|1073857| 1270|\n",
      "|1762462| 1261|\n",
      "|1156589| 1257|\n",
      "|1663631| 1257|\n",
      "|1141500| 1254|\n",
      "|1987393| 1251|\n",
      "|1116108| 1250|\n",
      "+-------+-----+\n",
      "only showing top 50 rows\n",
      "\n"
     ]
    }
   ],
   "source": [
    "df.groupBy('userId').count().orderBy('count', ascending = False).show(50)"
   ]
  },
  {
   "cell_type": "code",
   "execution_count": null,
   "metadata": {},
   "outputs": [],
   "source": [
    "df.select(\"artist\").distinct().show()"
   ]
  },
  {
   "cell_type": "markdown",
   "metadata": {},
   "source": [
    "# Exploratory Data Analysis\n",
    "When you're working with the full dataset, perform EDA by loading a small subset of the data and doing basic manipulations within Spark. In this workspace, you are already provided a small subset of data you can explore.\n",
    "\n",
    "### Define Churn\n",
    "\n",
    "Once you've done some preliminary analysis, create a column `Churn` to use as the label for your model. I suggest using the `Cancellation Confirmation` events to define your churn, which happen for both paid and free users. As a bonus task, you can also look into the `Downgrade` events.\n",
    "\n",
    "### Explore Data\n",
    "Once you've defined churn, perform some exploratory data analysis to observe the behavior for users who stayed vs users who churned. You can start by exploring aggregates on these two groups of users, observing how much of a specific action they experienced per a certain time unit or number of songs played."
   ]
  },
  {
   "cell_type": "code",
   "execution_count": null,
   "metadata": {},
   "outputs": [],
   "source": []
  },
  {
   "cell_type": "markdown",
   "metadata": {},
   "source": [
    "# Feature Engineering\n",
    "Once you've familiarized yourself with the data, build out the features you find promising to train your model on. To work with the full dataset, you can follow the following steps.\n",
    "- Write a script to extract the necessary features from the smaller subset of data\n",
    "- Ensure that your script is scalable, using the best practices discussed in Lesson 3\n",
    "- Try your script on the full data set, debugging your script if necessary\n",
    "\n",
    "If you are working in the classroom workspace, you can just extract features based on the small subset of data contained here. Be sure to transfer over this work to the larger dataset when you work on your Spark cluster."
   ]
  },
  {
   "cell_type": "code",
   "execution_count": null,
   "metadata": {},
   "outputs": [],
   "source": []
  },
  {
   "cell_type": "markdown",
   "metadata": {},
   "source": [
    "# Modeling\n",
    "Split the full dataset into train, test, and validation sets. Test out several of the machine learning methods you learned. Evaluate the accuracy of the various models, tuning parameters as necessary. Determine your winning model based on test accuracy and report results on the validation set. Since the churned users are a fairly small subset, I suggest using F1 score as the metric to optimize."
   ]
  },
  {
   "cell_type": "code",
   "execution_count": null,
   "metadata": {},
   "outputs": [],
   "source": []
  },
  {
   "cell_type": "markdown",
   "metadata": {},
   "source": [
    "# Final Steps\n",
    "Clean up your code, adding comments and renaming variables to make the code easier to read and maintain. Refer to the Spark Project Overview page and Data Scientist Capstone Project Rubric to make sure you are including all components of the capstone project and meet all expectations. Remember, this includes thorough documentation in a README file in a Github repository, as well as a web app or blog post."
   ]
  },
  {
   "cell_type": "code",
   "execution_count": null,
   "metadata": {},
   "outputs": [],
   "source": []
  }
 ],
 "metadata": {
  "kernelspec": {
   "display_name": "Python 3",
   "language": "python",
   "name": "python3"
  },
  "language_info": {
   "codemirror_mode": {
    "name": "ipython",
    "version": 3
   },
   "file_extension": ".py",
   "mimetype": "text/x-python",
   "name": "python",
   "nbconvert_exporter": "python",
   "pygments_lexer": "ipython3",
   "version": "3.7.4"
  }
 },
 "nbformat": 4,
 "nbformat_minor": 4
}
