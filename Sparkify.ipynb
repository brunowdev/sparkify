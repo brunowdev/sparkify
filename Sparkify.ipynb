{
 "cells": [
  {
   "cell_type": "markdown",
   "metadata": {},
   "source": [
    "# Sparkify Project Workspace\n",
    "This workspace contains a tiny subset (128MB) of the full dataset available (12GB). Feel free to use this workspace to build your project, or to explore a smaller subset with Spark before deploying your cluster on the cloud. Instructions for setting up your Spark cluster is included in the last lesson of the Extracurricular Spark Course content.\n",
    "\n",
    "You can follow the steps below to guide your data analysis and model building portion of this project."
   ]
  },
  {
   "cell_type": "code",
   "execution_count": 31,
   "metadata": {
    "ExecuteTime": {
     "end_time": "2020-02-29T19:25:10.583440Z",
     "start_time": "2020-02-29T19:25:10.571495Z"
    }
   },
   "outputs": [
    {
     "data": {
      "text/html": [
       "<style>.container { width:100% !important; }</style>"
      ],
      "text/plain": [
       "<IPython.core.display.HTML object>"
      ]
     },
     "metadata": {},
     "output_type": "display_data"
    }
   ],
   "source": [
    "from datetime import datetime\n",
    "\n",
    "from pyspark.sql import SparkSession\n",
    "\n",
    "from pyspark.sql.functions import min as smin, max as smax, sum as ssum, round as sround\n",
    "from pyspark.sql.functions import isnan, when, first, avg, last, count, countDistinct, col, lag, lead, coalesce, lit\n",
    "\n",
    "from pyspark.sql.window import Window\n",
    "from pyspark.sql.functions import to_date, date_format\n",
    "from pyspark.sql.types import TimestampType, IntegerType\n",
    " \n",
    "import jupyter_utils as j\n",
    "\n",
    "j.reload(j)"
   ]
  },
  {
   "cell_type": "code",
   "execution_count": 17,
   "metadata": {
    "ExecuteTime": {
     "end_time": "2020-02-29T19:18:50.117262Z",
     "start_time": "2020-02-29T19:18:50.113893Z"
    }
   },
   "outputs": [],
   "source": [
    "filepath = 'medium_sparkify_event_data.json'"
   ]
  },
  {
   "cell_type": "code",
   "execution_count": 18,
   "metadata": {
    "ExecuteTime": {
     "end_time": "2020-02-29T19:18:53.879913Z",
     "start_time": "2020-02-29T19:18:51.625238Z"
    }
   },
   "outputs": [],
   "source": [
    "spark = SparkSession \\\n",
    "    .builder \\\n",
    "    .appName(\"Sparkify\") \\\n",
    "    .getOrCreate()\n",
    "\n",
    "spark.sparkContext.setLogLevel('DEBUG')"
   ]
  },
  {
   "cell_type": "markdown",
   "metadata": {},
   "source": [
    "# Load and Clean Dataset\n",
    "In this workspace, the mini-dataset file is `mini_sparkify_event_data.json`. Load and clean the dataset, checking for invalid or missing data - for example, records without userids or sessionids. "
   ]
  },
  {
   "cell_type": "code",
   "execution_count": 19,
   "metadata": {
    "ExecuteTime": {
     "end_time": "2020-02-29T19:19:02.129328Z",
     "start_time": "2020-02-29T19:18:59.313657Z"
    }
   },
   "outputs": [],
   "source": [
    "# df = spark.read.option(\"inferSchema\", \"true\").option(\"header\", \"true\").option(\"encoding\", \"utf-8\").csv(filepath)\n",
    "df = spark.read.option(\"inferSchema\", \"true\").option(\"header\", \"true\").option(\"encoding\", \"utf-8\").json(filepath)"
   ]
  },
  {
   "cell_type": "code",
   "execution_count": 5,
   "metadata": {
    "ExecuteTime": {
     "end_time": "2020-02-29T19:03:28.953631Z",
     "start_time": "2020-02-29T19:03:28.892903Z"
    }
   },
   "outputs": [
    {
     "data": {
      "text/plain": [
       "[('artist', 'string'),\n",
       " ('auth', 'string'),\n",
       " ('firstName', 'string'),\n",
       " ('gender', 'string'),\n",
       " ('itemInSession', 'bigint'),\n",
       " ('lastName', 'string'),\n",
       " ('length', 'double'),\n",
       " ('level', 'string'),\n",
       " ('location', 'string'),\n",
       " ('method', 'string'),\n",
       " ('page', 'string'),\n",
       " ('registration', 'bigint'),\n",
       " ('sessionId', 'bigint'),\n",
       " ('song', 'string'),\n",
       " ('status', 'bigint'),\n",
       " ('ts', 'bigint'),\n",
       " ('userAgent', 'string'),\n",
       " ('userId', 'string')]"
      ]
     },
     "execution_count": 5,
     "metadata": {},
     "output_type": "execute_result"
    }
   ],
   "source": [
    "df.dtypes"
   ]
  },
  {
   "cell_type": "code",
   "execution_count": 6,
   "metadata": {
    "ExecuteTime": {
     "end_time": "2020-02-29T19:03:31.892694Z",
     "start_time": "2020-02-29T19:03:31.522900Z"
    }
   },
   "outputs": [
    {
     "name": "stdout",
     "output_type": "stream",
     "text": [
      "-RECORD 0-----------------------------------------------------------------------------------------------------------------------------------\n",
      " artist        | Martin Orford                                                                                                              \n",
      " auth          | Logged In                                                                                                                  \n",
      " firstName     | Joseph                                                                                                                     \n",
      " gender        | M                                                                                                                          \n",
      " itemInSession | 20                                                                                                                         \n",
      " lastName      | Morales                                                                                                                    \n",
      " length        | 597.55057                                                                                                                  \n",
      " level         | free                                                                                                                       \n",
      " location      | Corpus Christi, TX                                                                                                         \n",
      " method        | PUT                                                                                                                        \n",
      " page          | NextSong                                                                                                                   \n",
      " registration  | 1532063507000                                                                                                              \n",
      " sessionId     | 292                                                                                                                        \n",
      " song          | Grand Designs                                                                                                              \n",
      " status        | 200                                                                                                                        \n",
      " ts            | 1538352011000                                                                                                              \n",
      " userAgent     | \"Mozilla/5.0 (Macintosh; Intel Mac OS X 10_9_4) AppleWebKit/537.36 (KHTML, like Gecko) Chrome/36.0.1985.125 Safari/537.36\" \n",
      " userId        | 293                                                                                                                        \n",
      "-RECORD 1-----------------------------------------------------------------------------------------------------------------------------------\n",
      " artist        | John Brown's Body                                                                                                          \n",
      " auth          | Logged In                                                                                                                  \n",
      " firstName     | Sawyer                                                                                                                     \n",
      " gender        | M                                                                                                                          \n",
      " itemInSession | 74                                                                                                                         \n",
      " lastName      | Larson                                                                                                                     \n",
      " length        | 380.21179                                                                                                                  \n",
      " level         | free                                                                                                                       \n",
      " location      | Houston-The Woodlands-Sugar Land, TX                                                                                       \n",
      " method        | PUT                                                                                                                        \n",
      " page          | NextSong                                                                                                                   \n",
      " registration  | 1538069638000                                                                                                              \n",
      " sessionId     | 97                                                                                                                         \n",
      " song          | Bulls                                                                                                                      \n",
      " status        | 200                                                                                                                        \n",
      " ts            | 1538352025000                                                                                                              \n",
      " userAgent     | \"Mozilla/5.0 (Macintosh; Intel Mac OS X 10_9_4) AppleWebKit/537.36 (KHTML, like Gecko) Chrome/36.0.1985.143 Safari/537.36\" \n",
      " userId        | 98                                                                                                                         \n",
      "only showing top 2 rows\n",
      "\n"
     ]
    }
   ],
   "source": [
    "df.show(n=2, truncate=False, vertical=True)"
   ]
  },
  {
   "cell_type": "code",
   "execution_count": 7,
   "metadata": {
    "ExecuteTime": {
     "end_time": "2020-02-29T19:03:35.205954Z",
     "start_time": "2020-02-29T19:03:35.201013Z"
    }
   },
   "outputs": [
    {
     "data": {
      "text/plain": [
       "['artist',\n",
       " 'auth',\n",
       " 'firstName',\n",
       " 'gender',\n",
       " 'itemInSession',\n",
       " 'lastName',\n",
       " 'length',\n",
       " 'level',\n",
       " 'location',\n",
       " 'method',\n",
       " 'page',\n",
       " 'registration',\n",
       " 'sessionId',\n",
       " 'song',\n",
       " 'status',\n",
       " 'ts',\n",
       " 'userAgent',\n",
       " 'userId']"
      ]
     },
     "execution_count": 7,
     "metadata": {},
     "output_type": "execute_result"
    }
   ],
   "source": [
    "df.columns"
   ]
  },
  {
   "cell_type": "code",
   "execution_count": 20,
   "metadata": {
    "ExecuteTime": {
     "end_time": "2020-02-29T19:19:09.294764Z",
     "start_time": "2020-02-29T19:19:09.291188Z"
    }
   },
   "outputs": [],
   "source": [
    "not_na_columns = [ 'userId', 'sessionId' ]"
   ]
  },
  {
   "cell_type": "code",
   "execution_count": 21,
   "metadata": {
    "ExecuteTime": {
     "end_time": "2020-02-29T19:19:14.163090Z",
     "start_time": "2020-02-29T19:19:11.267251Z"
    }
   },
   "outputs": [
    {
     "name": "stdout",
     "output_type": "stream",
     "text": [
      "+------+----+---------+------+-------------+--------+------+-----+--------+------+----+------------+---------+----+------+---+---------+------+\n",
      "|artist|auth|firstName|gender|itemInSession|lastName|length|level|location|method|page|registration|sessionId|song|status| ts|userAgent|userId|\n",
      "+------+----+---------+------+-------------+--------+------+-----+--------+------+----+------------+---------+----+------+---+---------+------+\n",
      "|     0|   0|        0|     0|            0|       0|     0|    0|       0|     0|   0|           0|        0|   0|     0|  0|        0|     0|\n",
      "+------+----+---------+------+-------------+--------+------+-----+--------+------+----+------------+---------+----+------+---+---------+------+\n",
      "\n"
     ]
    }
   ],
   "source": [
    "df.select([count(when(isnan(c), c)).alias(c) for c in df.columns]).show()"
   ]
  },
  {
   "cell_type": "code",
   "execution_count": 22,
   "metadata": {
    "ExecuteTime": {
     "end_time": "2020-02-29T19:19:18.049400Z",
     "start_time": "2020-02-29T19:19:16.300199Z"
    }
   },
   "outputs": [
    {
     "name": "stdout",
     "output_type": "stream",
     "text": [
      "+------+-----+\n",
      "|userId|count|\n",
      "+------+-----+\n",
      "|      |15700|\n",
      "|    92| 9767|\n",
      "|   140| 7448|\n",
      "|300049| 7309|\n",
      "|   101| 6842|\n",
      "|300035| 6810|\n",
      "|   195| 6184|\n",
      "|   230| 6019|\n",
      "|   163| 5965|\n",
      "|   250| 5678|\n",
      "|    18| 5511|\n",
      "|   276| 5346|\n",
      "|300017| 5266|\n",
      "|    87| 5243|\n",
      "|   293| 5125|\n",
      "|300021| 5076|\n",
      "|    42| 4952|\n",
      "|300011| 4816|\n",
      "|    30| 4737|\n",
      "|    12| 4232|\n",
      "|300031| 4194|\n",
      "|   126| 4190|\n",
      "|   283| 4181|\n",
      "|   228| 4092|\n",
      "|   100| 3999|\n",
      "|   259| 3633|\n",
      "|   105| 3597|\n",
      "|   246| 3566|\n",
      "|   121| 3541|\n",
      "|   269| 3511|\n",
      "|   292| 3504|\n",
      "|    70| 3465|\n",
      "|    35| 3456|\n",
      "|    38| 3211|\n",
      "|    98| 3206|\n",
      "|   282| 3191|\n",
      "|   185| 3088|\n",
      "|300023| 3018|\n",
      "|100009| 2987|\n",
      "|   157| 2966|\n",
      "|200023| 2955|\n",
      "|   104| 2950|\n",
      "|   174| 2917|\n",
      "|   225| 2849|\n",
      "|300038| 2829|\n",
      "|   172| 2728|\n",
      "|    85| 2696|\n",
      "|   258| 2684|\n",
      "|200020| 2654|\n",
      "|   179| 2639|\n",
      "+------+-----+\n",
      "only showing top 50 rows\n",
      "\n"
     ]
    }
   ],
   "source": [
    "df.groupBy('userId').count().orderBy('count', ascending = False).show(50)"
   ]
  },
  {
   "cell_type": "code",
   "execution_count": 23,
   "metadata": {
    "ExecuteTime": {
     "end_time": "2020-02-29T19:19:22.777233Z",
     "start_time": "2020-02-29T19:19:21.532970Z"
    }
   },
   "outputs": [
    {
     "data": {
      "text/plain": [
       "21248"
      ]
     },
     "execution_count": 23,
     "metadata": {},
     "output_type": "execute_result"
    }
   ],
   "source": [
    "df.select(\"artist\").distinct().count()"
   ]
  },
  {
   "cell_type": "code",
   "execution_count": 24,
   "metadata": {
    "ExecuteTime": {
     "end_time": "2020-02-29T19:19:24.758966Z",
     "start_time": "2020-02-29T19:19:24.245001Z"
    }
   },
   "outputs": [
    {
     "name": "stdout",
     "output_type": "stream",
     "text": [
      "+-------+------------------+\n",
      "|summary|            length|\n",
      "+-------+------------------+\n",
      "|  count|            432877|\n",
      "|   mean|248.66459278007508|\n",
      "| stddev| 98.41266955052019|\n",
      "|    min|           0.78322|\n",
      "|    max|        3024.66567|\n",
      "+-------+------------------+\n",
      "\n"
     ]
    }
   ],
   "source": [
    "df.select('length').describe().show()"
   ]
  },
  {
   "cell_type": "code",
   "execution_count": 25,
   "metadata": {
    "ExecuteTime": {
     "end_time": "2020-02-29T19:19:29.510092Z",
     "start_time": "2020-02-29T19:19:28.925745Z"
    }
   },
   "outputs": [
    {
     "name": "stdout",
     "output_type": "stream",
     "text": [
      "Rows before: 543705\n",
      "Rows after: 528005\n"
     ]
    }
   ],
   "source": [
    "print(f'Rows before: {df.count()}')\n",
    "\n",
    "df = df.where(df.userId != '')\n",
    "\n",
    "print(f'Rows after: {df.count()}')"
   ]
  },
  {
   "cell_type": "markdown",
   "metadata": {},
   "source": [
    "# Exploratory Data Analysis\n",
    "When you're working with the full dataset, perform EDA by loading a small subset of the data and doing basic manipulations within Spark. In this workspace, you are already provided a small subset of data you can explore.\n",
    "\n",
    "### Define Churn\n",
    "\n",
    "Once you've done some preliminary analysis, create a column `Churn` to use as the label for your model. I suggest using the `Cancellation Confirmation` events to define your churn, which happen for both paid and free users. As a bonus task, you can also look into the `Downgrade` events.\n",
    "\n",
    "### Explore Data\n",
    "Once you've defined churn, perform some exploratory data analysis to observe the behavior for users who stayed vs users who churned. You can start by exploring aggregates on these two groups of users, observing how much of a specific action they experienced per a certain time unit or number of songs played."
   ]
  },
  {
   "cell_type": "code",
   "execution_count": 14,
   "metadata": {
    "ExecuteTime": {
     "end_time": "2020-02-29T19:03:58.673329Z",
     "start_time": "2020-02-29T19:03:57.611006Z"
    }
   },
   "outputs": [
    {
     "name": "stdout",
     "output_type": "stream",
     "text": [
      "+--------------------+------+\n",
      "|                page| count|\n",
      "+--------------------+------+\n",
      "|            NextSong|432877|\n",
      "|           Thumbs Up| 23826|\n",
      "|                Home| 19089|\n",
      "|     Add to Playlist| 12349|\n",
      "|          Add Friend|  8087|\n",
      "|         Roll Advert|  7773|\n",
      "|              Logout|  5990|\n",
      "|         Thumbs Down|  4911|\n",
      "|           Downgrade|  3811|\n",
      "|            Settings|  2964|\n",
      "|                Help|  2644|\n",
      "|               About|  1026|\n",
      "|             Upgrade|   968|\n",
      "|       Save Settings|   585|\n",
      "|               Error|   503|\n",
      "|      Submit Upgrade|   287|\n",
      "|    Submit Downgrade|   117|\n",
      "|              Cancel|    99|\n",
      "|Cancellation Conf...|    99|\n",
      "+--------------------+------+\n",
      "\n"
     ]
    }
   ],
   "source": [
    "df.groupBy('page').count().orderBy('count', ascending = False).show(50)"
   ]
  },
  {
   "cell_type": "markdown",
   "metadata": {},
   "source": [
    "Some questions about the data:\n",
    "\n",
    "- Are errors related to downgrading canceling the service?\n",
    "- Having a certain number of friends or a sense of community can decrease the churn?\n",
    "- Thumbs down are related to churn? (could the quality of the songs catalog affect the churn)\n",
    "- The advertising is not annoying the users?\n",
    "- Users with stay connected for more time have less change to churn?\n",
    "- Is the home page relevant?\n",
    "- Users, who access the downgrade page are how much more willing to churn?"
   ]
  },
  {
   "cell_type": "code",
   "execution_count": 15,
   "metadata": {
    "ExecuteTime": {
     "end_time": "2020-02-29T19:04:02.140504Z",
     "start_time": "2020-02-29T19:04:01.035875Z"
    }
   },
   "outputs": [
    {
     "name": "stdout",
     "output_type": "stream",
     "text": [
      "+------+------+\n",
      "|status| count|\n",
      "+------+------+\n",
      "|   200|483600|\n",
      "|   307| 43902|\n",
      "|   404|   503|\n",
      "+------+------+\n",
      "\n"
     ]
    }
   ],
   "source": [
    "df.groupBy('status').count().orderBy('count', ascending = False).show(20)"
   ]
  },
  {
   "cell_type": "code",
   "execution_count": 16,
   "metadata": {
    "ExecuteTime": {
     "end_time": "2020-02-29T19:04:08.446430Z",
     "start_time": "2020-02-29T19:04:07.204433Z"
    }
   },
   "outputs": [
    {
     "name": "stdout",
     "output_type": "stream",
     "text": [
      "+----------------+-----+\n",
      "|            page|count|\n",
      "+----------------+-----+\n",
      "|        NextSong| 8177|\n",
      "|       Thumbs Up|  400|\n",
      "|            Home|  308|\n",
      "| Add to Playlist|  248|\n",
      "|      Add Friend|  158|\n",
      "|          Logout|   96|\n",
      "|       Downgrade|   85|\n",
      "|     Thumbs Down|   80|\n",
      "|            Help|   62|\n",
      "|     Roll Advert|   60|\n",
      "|        Settings|   48|\n",
      "|           About|   17|\n",
      "|           Error|   13|\n",
      "|         Upgrade|    7|\n",
      "|   Save Settings|    5|\n",
      "|  Submit Upgrade|    2|\n",
      "|Submit Downgrade|    1|\n",
      "+----------------+-----+\n",
      "\n"
     ]
    }
   ],
   "source": [
    "df.filter('userId = 92').groupBy('page').count().orderBy('count', ascending = False).show(50)"
   ]
  },
  {
   "cell_type": "code",
   "execution_count": 17,
   "metadata": {
    "ExecuteTime": {
     "end_time": "2020-02-29T19:04:10.800391Z",
     "start_time": "2020-02-29T19:04:09.818467Z"
    }
   },
   "outputs": [
    {
     "name": "stdout",
     "output_type": "stream",
     "text": [
      "+----------------+-----+\n",
      "|            page|count|\n",
      "+----------------+-----+\n",
      "|        NextSong| 8177|\n",
      "|       Thumbs Up|  400|\n",
      "|            Home|  308|\n",
      "| Add to Playlist|  248|\n",
      "|      Add Friend|  158|\n",
      "|          Logout|   96|\n",
      "|       Downgrade|   85|\n",
      "|     Thumbs Down|   80|\n",
      "|            Help|   62|\n",
      "|     Roll Advert|   60|\n",
      "|        Settings|   48|\n",
      "|           About|   17|\n",
      "|           Error|   13|\n",
      "|         Upgrade|    7|\n",
      "|   Save Settings|    5|\n",
      "|  Submit Upgrade|    2|\n",
      "|Submit Downgrade|    1|\n",
      "+----------------+-----+\n",
      "\n"
     ]
    }
   ],
   "source": [
    "df.filter('userId = 92').groupBy('page').count().orderBy('count', ascending = False).show(50)"
   ]
  },
  {
   "cell_type": "code",
   "execution_count": 18,
   "metadata": {
    "ExecuteTime": {
     "end_time": "2020-02-29T19:04:12.085451Z",
     "start_time": "2020-02-29T19:04:11.043237Z"
    }
   },
   "outputs": [
    {
     "name": "stdout",
     "output_type": "stream",
     "text": [
      "+--------------------+-----+\n",
      "|           userAgent|count|\n",
      "+--------------------+-----+\n",
      "|\"Mozilla/5.0 (iPa...| 9767|\n",
      "+--------------------+-----+\n",
      "\n"
     ]
    }
   ],
   "source": [
    "df.filter('userId = 92').groupBy('userAgent').count().orderBy('count', ascending = False).show(50)"
   ]
  },
  {
   "cell_type": "code",
   "execution_count": 156,
   "metadata": {},
   "outputs": [
    {
     "name": "stdout",
     "output_type": "stream",
     "text": [
      "+--------------------+-----+\n",
      "|                song|count|\n",
      "+--------------------+-----+\n",
      "|      You're The One|   49|\n",
      "|                Undo|   34|\n",
      "|             Revelry|   28|\n",
      "|Horn Concerto No....|   27|\n",
      "|    Ain't Misbehavin|   23|\n",
      "|             Secrets|   20|\n",
      "|             Invalid|   20|\n",
      "|Dog Days Are Over...|   19|\n",
      "|            Tive Sim|   18|\n",
      "|            Marry Me|   16|\n",
      "|              Canada|   16|\n",
      "|        Use Somebody|   16|\n",
      "|       ReprÃÂ©sente|   15|\n",
      "|    Bring Me To Life|   14|\n",
      "|  Sayonara-Nostalgia|   14|\n",
      "|       Sehr kosmisch|   14|\n",
      "|         Bulletproof|   13|\n",
      "|Catch You Baby (S...|   13|\n",
      "| I CAN'T GET STARTED|   12|\n",
      "|                Home|   11|\n",
      "|              Yellow|   10|\n",
      "|Don't Stop The Music|   10|\n",
      "|    Hey_ Soul Sister|   10|\n",
      "|         The Maestro|   10|\n",
      "|          Kryptonite|   10|\n",
      "|Make Love To Your...|   10|\n",
      "|           Fireflies|   10|\n",
      "|SinceritÃÂ© Et J...|    9|\n",
      "|    Times Like These|    9|\n",
      "|      Drop The World|    9|\n",
      "|        Day 'N' Nite|    9|\n",
      "|         Bubble Toes|    9|\n",
      "|         Greece 2000|    8|\n",
      "| Party In The U.S.A.|    8|\n",
      "|    Hotel California|    8|\n",
      "|Bleed It Out [Liv...|    8|\n",
      "|            The Gift|    8|\n",
      "|          Fuck Kitty|    8|\n",
      "|Nothin' On You [f...|    8|\n",
      "|     Who Can Compare|    8|\n",
      "| The Real Slim Shady|    8|\n",
      "|Sugar Ray (LP Ver...|    8|\n",
      "|Mercy:The Laundromat|    8|\n",
      "|          Tighten Up|    8|\n",
      "| Hochmah (Interlude)|    8|\n",
      "|            Everlong|    7|\n",
      "|                 OMG|    7|\n",
      "|          16 Candles|    7|\n",
      "|        Karma Police|    7|\n",
      "|Sinisten tÃÂ¤hti...|    7|\n",
      "+--------------------+-----+\n",
      "only showing top 50 rows\n",
      "\n"
     ]
    }
   ],
   "source": [
    "df.filter('userId = 92 and song != \\'null\\' ').groupBy('song').count().orderBy('count', ascending = False).show(50)"
   ]
  },
  {
   "cell_type": "code",
   "execution_count": 20,
   "metadata": {
    "ExecuteTime": {
     "end_time": "2020-02-29T19:05:02.653645Z",
     "start_time": "2020-02-29T19:05:02.650905Z"
    }
   },
   "outputs": [],
   "source": [
    "# w_session = Window.partitionBy('sessionId').orderBy('ts')\n",
    "\n",
    "# df.filter('page = \"Cancellation Confirmation\"').select('ts', 'sessionId', 'itemInSession', 'userId', 'last_page_on_session', 'page').show() "
   ]
  },
  {
   "cell_type": "code",
   "execution_count": 21,
   "metadata": {
    "ExecuteTime": {
     "end_time": "2020-02-29T19:05:06.201304Z",
     "start_time": "2020-02-29T19:05:05.585319Z"
    }
   },
   "outputs": [
    {
     "name": "stdout",
     "output_type": "stream",
     "text": [
      "+-------------+---------------+---------+-------------+--------------------+--------------------+\n",
      "|           ts|           page|sessionId|itemInSession|                song|              artist|\n",
      "+-------------+---------------+---------+-------------+--------------------+--------------------+\n",
      "|1543615837000|     Add Friend|     4790|           86|                null|                null|\n",
      "|1543615836000|           Home|     4790|           85|                null|                null|\n",
      "|1543615832000|       NextSong|     4790|           84|           Fireflies|  Charttraxx Karaoke|\n",
      "|1543615597000|       NextSong|     4790|           83|    Music Of The Sun|             Rihanna|\n",
      "|1543615053000|       NextSong|     4790|           82|Kun Puut Tekee Se...|Scandinavian Musi...|\n",
      "|1543614872000|       NextSong|     4790|           81|             The Sun|   Portugal. The Man|\n",
      "|1543614674000|       NextSong|     4790|           80|             Banquet|          Bloc Party|\n",
      "|1543614504000|       NextSong|     4790|           79|         These Girls|          Ryan Adams|\n",
      "|1543614192000|       NextSong|     4790|           78|   Falling To Pieces|       Faith No More|\n",
      "|1543613946000|       NextSong|     4790|           77|   Same Song & Dance|              Eminem|\n",
      "|1543613735000|       NextSong|     4790|           76|      Coming For You|                JoJo|\n",
      "|1543613560000|      Thumbs Up|     4790|           75|                null|                null|\n",
      "|1543613559000|       NextSong|     4790|           74|   Partners In Crime|        Comeback Kid|\n",
      "|1543613294000|       NextSong|     4790|           73|Under The Bridge ...|Red Hot Chili Pep...|\n",
      "|1543612815000|       NextSong|     4790|           72|      When I Grow Up|           Fever Ray|\n",
      "|1543612619000|       NextSong|     4790|           71|All Hands Against...|      The Black Keys|\n",
      "|1543612272000|      Thumbs Up|     4790|           70|                null|                null|\n",
      "|1543612271000|       NextSong|     4790|           69|                Undo|            BjÃÂ¶rk|\n",
      "|1543612079000|       NextSong|     4790|           68|   The World Is Mine|        David Guetta|\n",
      "|1543611840000|       NextSong|     4790|           67|                Zero|  The Pain Machinery|\n",
      "|1543611570000|     Add Friend|     4790|           66|                null|                null|\n",
      "|1543611569000|     Add Friend|     4790|           65|                null|                null|\n",
      "|1543611568000|       NextSong|     4790|           64|              Grillz|Nelly / Paul Wall...|\n",
      "|1543611235000|       NextSong|     4790|           63|              Noc...| Justyna Steczkowska|\n",
      "|1543611078000|       NextSong|     4790|           62|     Tu Solamente Tu|              Selena|\n",
      "|1543610870000|    Thumbs Down|     4790|           61|                null|                null|\n",
      "|1543610869000|       NextSong|     4790|           60|            Float On|        Modest Mouse|\n",
      "|1543610825000|           Home|     4790|           59|                null|                null|\n",
      "|1543610649000|         Logout|     4790|           55|                null|                null|\n",
      "|1543610648000|       NextSong|     4790|           54|Cold Reader (Albu...|          Stone Sour|\n",
      "|1543610519000|       NextSong|     4790|           53|           Black Mud|      The Black Keys|\n",
      "|1543610303000|       NextSong|     4790|           52|      Time's Ticking|             Isbells|\n",
      "|1543610118000|Add to Playlist|     4790|           51|                null|                null|\n",
      "|1543610105000|       NextSong|     4790|           50|Video Killed The ...|         The Buggles|\n",
      "|1543609987000|           Home|     4790|           49|                null|                null|\n",
      "|1543609980000|      Downgrade|     4790|           48|                null|                null|\n",
      "|1543609964000|       NextSong|     4790|           47|     Some Unholy War|       Amy Winehouse|\n",
      "|1543609807000|      Thumbs Up|     4790|           46|                null|                null|\n",
      "|1543609806000|       NextSong|     4790|           45|              Navajo|          Black Lips|\n",
      "|1543609598000|       NextSong|     4790|           44|       Fallen Leaves|        Billy Talent|\n",
      "|1543609433000|       NextSong|     4790|           43|       I Love London|    Crystal Fighters|\n",
      "|1543608876000|      Downgrade|     4790|           42|                null|                null|\n",
      "|1543608876000|       NextSong|     4790|           41|Love And Only Lov...|          Neil Young|\n",
      "|1543608674000|          About|     4790|           40|                null|                null|\n",
      "|1543608655000|       NextSong|     4790|           39|               Roses|Mos Def / Georgia...|\n",
      "|1543608495000|       NextSong|     4790|           38|Always A Use  (LP...|   Madeleine Peyroux|\n",
      "|1543608297000|       NextSong|     4790|           37|           Next Girl|      The Black Keys|\n",
      "|1543608082000|       NextSong|     4790|           36|Please Do Not Let...|          Ryan Adams|\n",
      "|1543607840000|       NextSong|     4790|           35|There Is A Light ...|          The Smiths|\n",
      "|1543607546000|       NextSong|     4790|           34|Northern Downpour...|  Panic At The Disco|\n",
      "|1543607368000|       NextSong|     4790|           33|       Ghosts (Demo)|Florence + The Ma...|\n",
      "|1543607089000|       NextSong|     4790|           32|Poison Oak (Album...|         Bright Eyes|\n",
      "|1543606974000|       NextSong|     4790|           31|Football Season I...|Bring Me The Horizon|\n",
      "|1543606773000|       NextSong|     4790|           30|        BÃÂ¼ck Dich|           Rammstein|\n",
      "|1543606515000|       NextSong|     4790|           29|   Always Be My Baby|        Mariah Carey|\n",
      "|1543606245000|       NextSong|     4790|           28|               Angie|  The Rolling Stones|\n",
      "|1543605979000|       NextSong|     4790|           27|Clara meets Slope...|          Clara Hill|\n",
      "|1543605638000|       NextSong|     4790|           26|       Rikkalicious |HervÃÂ© & Kissy ...|\n",
      "|1543605387000|       NextSong|     4790|           25|    Body Of Conflict|         Cosmic Gate|\n",
      "|1543605333000|       NextSong|     4790|           24|Act Won (Things F...|           The Roots|\n",
      "|1543604973000|       NextSong|     4790|           23|           Crumpshit|    Philippe Rochard|\n",
      "|1543604657000|       NextSong|     4790|           22|  Ze Rook Naar Rozen|         Rob De Nijs|\n",
      "|1543604454000|       NextSong|     4790|           21|    Spin That Bottle|      Rachel Stevens|\n",
      "|1543604162000|       NextSong|     4790|           20|You're Gonna Miss...|       Brooks & Dunn|\n",
      "|1543603953000|           Home|     4790|           19|                null|                null|\n",
      "|1543603948000|       NextSong|     4790|           18|           No Lo Ves|     No Te Va Gustar|\n",
      "|1543603717000|       NextSong|     4790|           17|Where Do The Chil...|         Cat Stevens|\n",
      "|1543603518000|       NextSong|     4790|           16|      Feel That Fire|      Dierks Bentley|\n",
      "|1543603274000|     Add Friend|     4790|           15|                null|                null|\n",
      "|1543603273000|       NextSong|     4790|           14|          Photograph|        Dynamite Boy|\n",
      "|1543603188000|           Help|     4790|           13|                null|                null|\n",
      "|1543603162000|       Settings|     4790|           12|                null|                null|\n",
      "|1543603150000|           Home|     4790|           11|                null|                null|\n",
      "|1543603107000|       NextSong|     4790|           10|         Sugar Sugar|         The Archies|\n",
      "|1543602888000|       NextSong|     4790|            9|Sky Is Over [Fawk...|        Serj Tankian|\n",
      "|1543602718000|       NextSong|     4790|            8|   Train To Skaville|      The Ethiopians|\n",
      "|1543602448000|       NextSong|     4790|            7|        Hate It Here|               Wilco|\n",
      "|1543602154000|       NextSong|     4790|            6|          Every Word|              Hybrid|\n",
      "|1543601940000|       NextSong|     4790|            5|  Could This Be Real|           Sub Focus|\n",
      "|1543601719000|      Thumbs Up|     4790|            4|                null|                null|\n",
      "|1543601718000|       NextSong|     4790|            3|I Keep Forgettin ...|    Michael McDonald|\n",
      "|1543601398000|       NextSong|     4790|            2| Your Guardian Angel|The Red Jumpsuit ...|\n",
      "|1543601262000|Add to Playlist|     4790|            1|                null|                null|\n",
      "|1543601165000|       NextSong|     4790|            0|     The Dirty Glass|    Dropkick Murphys|\n",
      "|1543588644000|           Home|     4779|           39|                null|                null|\n",
      "|1543588582000|       NextSong|     4779|           38|Believe In It (LP...|    Michael McDonald|\n",
      "|1543588320000|       NextSong|     4779|           37|    Lips Of An Angel|              Hinder|\n",
      "|1543588142000|       NextSong|     4779|           36|    The Icicle Melts|     The Cranberries|\n",
      "|1543588014000|       NextSong|     4779|           35|       Twist'as Loca| Los Toreros Muertos|\n",
      "|1543587722000|       NextSong|     4779|           34|Johnny_ I Hardly ...|    Dropkick Murphys|\n",
      "|1543587503000|       NextSong|     4779|           33|         I Surrender|              Saybia|\n",
      "|1543587167000|      Downgrade|     4779|           32|                null|                null|\n",
      "|1543587153000|       NextSong|     4779|           31|            Superman|   Eminem / Dina Rae|\n",
      "|1543586805000|       NextSong|     4779|           30|                Yeah|                Moby|\n",
      "|1543586377000|       NextSong|     4779|           29|       Casino Royale|             DJ Zinc|\n",
      "|1543586192000|       NextSong|     4779|           28|American Idiot [f...|           Green Day|\n",
      "|1543586016000|       NextSong|     4779|           27|            Prologue|        Danny Elfman|\n",
      "|1543585767000|       NextSong|     4779|           26|            Sad Song|    Au Revoir Simone|\n",
      "|1543585437000|       NextSong|     4779|           25|  Walking In The Air|           Nightwish|\n",
      "|1543585330000|       NextSong|     4779|           24|      Do It Your Way|            Datarock|\n",
      "+-------------+---------------+---------+-------------+--------------------+--------------------+\n",
      "only showing top 100 rows\n",
      "\n"
     ]
    }
   ],
   "source": [
    "df.select(['ts', 'page', 'sessionId', 'itemInSession', 'song', 'artist']).filter('userId = 92').orderBy('ts', ascending = False).show(100)"
   ]
  },
  {
   "cell_type": "code",
   "execution_count": 22,
   "metadata": {
    "ExecuteTime": {
     "end_time": "2020-02-29T19:05:09.489489Z",
     "start_time": "2020-02-29T19:05:08.593139Z"
    }
   },
   "outputs": [],
   "source": [
    "df_ts = df.filter('userId = 1333174').select([smin('ts').alias('min_ts'), smax('ts').alias('max_ts')]).rdd.flatMap(lambda x: x).collect()"
   ]
  },
  {
   "cell_type": "code",
   "execution_count": 24,
   "metadata": {
    "ExecuteTime": {
     "end_time": "2020-02-29T19:05:23.095933Z",
     "start_time": "2020-02-29T19:05:23.091524Z"
    }
   },
   "outputs": [],
   "source": [
    "def to_datetime(milliseconds, dt_format = '%Y-%m-%d %H:%M:%S'):\n",
    "    return datetime.fromtimestamp(milliseconds / 1000).strftime(dt_format)  \n",
    "\n",
    "# list(map(to_datetime, df_ts))"
   ]
  },
  {
   "cell_type": "code",
   "execution_count": 25,
   "metadata": {
    "ExecuteTime": {
     "end_time": "2020-02-29T19:05:26.511632Z",
     "start_time": "2020-02-29T19:05:26.060383Z"
    }
   },
   "outputs": [
    {
     "data": {
      "text/plain": [
       "['2018-09-30 21:00:11', '2018-11-30 22:01:06']"
      ]
     },
     "execution_count": 25,
     "metadata": {},
     "output_type": "execute_result"
    }
   ],
   "source": [
    "list(map(to_datetime, df.select([smin('ts').alias('min_ts'), smax('ts').alias('max_ts')]).rdd.flatMap(lambda x: x).collect()))"
   ]
  },
  {
   "cell_type": "code",
   "execution_count": 26,
   "metadata": {
    "ExecuteTime": {
     "end_time": "2020-02-29T19:05:33.217390Z",
     "start_time": "2020-02-29T19:05:32.004871Z"
    }
   },
   "outputs": [
    {
     "name": "stdout",
     "output_type": "stream",
     "text": [
      "+--------------------------------------------+-----+\n",
      "|location                                    |count|\n",
      "+--------------------------------------------+-----+\n",
      "|New York-Newark-Jersey City, NY-NJ-PA       |40156|\n",
      "|Los Angeles-Long Beach-Anaheim, CA          |34278|\n",
      "|Boston-Cambridge-Newton, MA-NH              |17574|\n",
      "|Chicago-Naperville-Elgin, IL-IN-WI          |15194|\n",
      "|San Francisco-Oakland-Hayward, CA           |11428|\n",
      "|Atlanta-Sandy Springs-Roswell, GA           |11211|\n",
      "|Phoenix-Mesa-Scottsdale, AZ                 |11184|\n",
      "|Dallas-Fort Worth-Arlington, TX             |11061|\n",
      "|Denver-Aurora-Lakewood, CO                  |9808 |\n",
      "|Houston-The Woodlands-Sugar Land, TX        |8707 |\n",
      "|Tampa-St. Petersburg-Clearwater, FL         |8330 |\n",
      "|Miami-Fort Lauderdale-West Palm Beach, FL   |8180 |\n",
      "|Indianapolis-Carmel-Anderson, IN            |7691 |\n",
      "|Minneapolis-St. Paul-Bloomington, MN-WI     |7462 |\n",
      "|Louisville/Jefferson County, KY-IN          |7457 |\n",
      "|Fresno, CA                                  |7309 |\n",
      "|Sacramento--Roseville--Arden-Arcade, CA     |7098 |\n",
      "|Philadelphia-Camden-Wilmington, PA-NJ-DE-MD |6962 |\n",
      "|Kansas City, MO-KS                          |6956 |\n",
      "|Virginia Beach-Norfolk-Newport News, VA-NC  |6624 |\n",
      "|Appleton, WI                                |6184 |\n",
      "|Washington-Arlington-Alexandria, DC-VA-MD-WV|6181 |\n",
      "|Jackson, MS                                 |6063 |\n",
      "|Albemarle, NC                               |6019 |\n",
      "|Rochester, MN                               |5965 |\n",
      "|Knoxville, TN                               |5678 |\n",
      "|Corpus Christi, TX                          |5453 |\n",
      "|Orlando-Kissimmee-Sanford, FL               |5293 |\n",
      "|Ionia, MI                                   |5266 |\n",
      "|Quincy, IL-MO                               |5243 |\n",
      "|Pittsburgh, PA                              |5120 |\n",
      "|Wilson, NC                                  |5076 |\n",
      "|Danville, VA                                |4952 |\n",
      "|Austin-Round Rock, TX                       |4807 |\n",
      "|Bakersfield, CA                             |4740 |\n",
      "|Charlotte-Concord-Gastonia, NC-SC           |4495 |\n",
      "|San Antonio-New Braunfels, TX               |4462 |\n",
      "|Topeka, KS                                  |4181 |\n",
      "|Lakeland-Winter Haven, FL                   |4150 |\n",
      "|Columbus, GA-AL                             |3857 |\n",
      "|Seattle-Tacoma-Bellevue, WA                 |3588 |\n",
      "|Mobile, AL                                  |3566 |\n",
      "|Oxnard-Thousand Oaks-Ventura, CA            |3541 |\n",
      "|Bremerton-Silverdale, WA                    |3504 |\n",
      "|St. Louis, MO-IL                            |3443 |\n",
      "|Providence-Warwick, RI-MA                   |3413 |\n",
      "|Hartford-West Hartford-East Hartford, CT    |3398 |\n",
      "|Tullahoma-Manchester, TN                    |2966 |\n",
      "|Billings, MT                                |2950 |\n",
      "|Las Vegas-Henderson-Paradise, NV            |2899 |\n",
      "+--------------------------------------------+-----+\n",
      "only showing top 50 rows\n",
      "\n"
     ]
    }
   ],
   "source": [
    "df.groupBy('location').count().orderBy('count', ascending = False).show(50, False)"
   ]
  },
  {
   "cell_type": "markdown",
   "metadata": {},
   "source": [
    "# Feature Engineering\n",
    "Once you've familiarized yourself with the data, build out the features you find promising to train your model on. To work with the full dataset, you can follow the following steps.\n",
    "- Write a script to extract the necessary features from the smaller subset of data\n",
    "- Ensure that your script is scalable, using the best practices discussed in Lesson 3\n",
    "- Try your script on the full data set, debugging your script if necessary\n",
    "\n",
    "If you are working in the classroom workspace, you can just extract features based on the small subset of data contained here. Be sure to transfer over this work to the larger dataset when you work on your Spark cluster."
   ]
  },
  {
   "cell_type": "code",
   "execution_count": 27,
   "metadata": {
    "ExecuteTime": {
     "end_time": "2020-02-29T19:05:37.084349Z",
     "start_time": "2020-02-29T19:05:37.078302Z"
    }
   },
   "outputs": [
    {
     "name": "stdout",
     "output_type": "stream",
     "text": [
      "root\n",
      " |-- artist: string (nullable = true)\n",
      " |-- auth: string (nullable = true)\n",
      " |-- firstName: string (nullable = true)\n",
      " |-- gender: string (nullable = true)\n",
      " |-- itemInSession: long (nullable = true)\n",
      " |-- lastName: string (nullable = true)\n",
      " |-- length: double (nullable = true)\n",
      " |-- level: string (nullable = true)\n",
      " |-- location: string (nullable = true)\n",
      " |-- method: string (nullable = true)\n",
      " |-- page: string (nullable = true)\n",
      " |-- registration: long (nullable = true)\n",
      " |-- sessionId: long (nullable = true)\n",
      " |-- song: string (nullable = true)\n",
      " |-- status: long (nullable = true)\n",
      " |-- ts: long (nullable = true)\n",
      " |-- userAgent: string (nullable = true)\n",
      " |-- userId: string (nullable = true)\n",
      "\n"
     ]
    }
   ],
   "source": [
    "df.printSchema()"
   ]
  },
  {
   "cell_type": "code",
   "execution_count": 28,
   "metadata": {
    "ExecuteTime": {
     "end_time": "2020-02-29T19:05:40.120956Z",
     "start_time": "2020-02-29T19:05:39.110812Z"
    }
   },
   "outputs": [
    {
     "name": "stdout",
     "output_type": "stream",
     "text": [
      "+------+---------+---------+------+-------------+----------+------+-----+--------------------+------+--------------------+-------------+---------+----+------+-------------+--------------------+------+\n",
      "|artist|     auth|firstName|gender|itemInSession|  lastName|length|level|            location|method|                page| registration|sessionId|song|status|           ts|           userAgent|userId|\n",
      "+------+---------+---------+------+-------------+----------+------+-----+--------------------+------+--------------------+-------------+---------+----+------+-------------+--------------------+------+\n",
      "|  null|Cancelled|   Olivia|     F|           40|      Carr|  null| free|      Fort Wayne, IN|   GET|Cancellation Conf...|1536758439000|      490|null|   200|1538400616000|Mozilla/5.0 (Wind...|   208|\n",
      "|  null|Cancelled|  Lillian|     F|          234|   Cameron|  null| paid|        Columbus, OH|   GET|Cancellation Conf...|1533472700000|      471|null|   200|1538482793000|Mozilla/5.0 (Wind...|   231|\n",
      "|  null|Cancelled|     Alex|     M|          109|     Myers|  null| paid|Grand Rapids-Wyom...|   GET|Cancellation Conf...|1529995579000|      682|null|   200|1538539871000|\"Mozilla/5.0 (Win...|   236|\n",
      "|  null|Cancelled|   Rafael|     M|           66|  Crawford|  null| free|   Bowling Green, KY|   GET|Cancellation Conf...|1533887620000|      628|null|   200|1538592529000|\"Mozilla/5.0 (Mac...|   156|\n",
      "|  null|Cancelled|     Brad|     M|          227|   Stewart|  null| paid|         Roanoke, VA|   GET|Cancellation Conf...|1535619094000|      395|null|   200|1538770077000|\"Mozilla/5.0 (Win...|   271|\n",
      "|  null|Cancelled|    Isaac|     M|          193|    Miller|  null| paid|Seattle-Tacoma-Be...|   GET|Cancellation Conf...|1538201832000|      862|null|   200|1538800531000|Mozilla/5.0 (Wind...|   200|\n",
      "|  null|Cancelled|     Ivan|     M|            9|   Sanchez|  null| free|Bridgeport-Stamfo...|   GET|Cancellation Conf...|1533575236000|     1027|null|   200|1538890895000|Mozilla/5.0 (Wind...|   130|\n",
      "|  null|Cancelled|    Chloe|     M|           56|     Myers|  null| free|Tampa-St. Petersb...|   GET|Cancellation Conf...|1534370883000|      480|null|   200|1538959081000|\"Mozilla/5.0 (iPh...|   123|\n",
      "|  null|Cancelled|    Alexi|     F|            7|    Warren|  null| paid|Spokane-Spokane V...|   GET|Cancellation Conf...|1532482662000|     1010|null|   200|1538987586000|Mozilla/5.0 (Wind...|    54|\n",
      "|  null|Cancelled|   Payton|     F|           82|  Campbell|  null| paid|Los Angeles-Long ...|   GET|Cancellation Conf...|1529027541000|     1066|null|   200|1539011456000|\"Mozilla/5.0 (Win...|    39|\n",
      "|  null|Cancelled|   Oliver|     M|           17|       Fry|  null| free|San Francisco-Oak...|   GET|Cancellation Conf...|1538048434000|     1035|null|   200|1539016481000|\"Mozilla/5.0 (Mac...|   154|\n",
      "|  null|Cancelled|    Sadie|     F|            3|     Jones|  null| paid|Denver-Aurora-Lak...|   GET|Cancellation Conf...|1537054553000|      659|null|   200|1539041513000|\"Mozilla/5.0 (Mac...|   132|\n",
      "|  null|Cancelled|   Brycen|     M|          435|   Bradley|  null| paid|          Laurel, MS|   GET|Cancellation Conf...|1538159495000|        9|null|   200|1539055364000|\"Mozilla/5.0 (Mac...|    10|\n",
      "|  null|Cancelled| Angelynn|     F|           20|    Coffey|  null| paid|Allentown-Bethleh...|   GET|Cancellation Conf...|1536885688000|     1228|null|   200|1539187234000|\"Mozilla/5.0 (Mac...|   296|\n",
      "|  null|Cancelled|   Teagan|     F|           39|   Garrett|  null| free|Chicago-Napervill...|   GET|Cancellation Conf...|1537385168000|      817|null|   200|1539213091000|\"Mozilla/5.0 (Mac...|   187|\n",
      "|  null|Cancelled|    Ethan|     M|          180|   Johnson|  null| paid|Lexington-Fayette...|   GET|Cancellation Conf...|1538080987000|     1443|null|   200|1539709266000|\"Mozilla/5.0 (Win...|    51|\n",
      "|  null|Cancelled|    Anika|     F|           83|   Osborne|  null| paid|Philadelphia-Camd...|   GET|Cancellation Conf...|1533192032000|     1796|null|   200|1539768879000|\"Mozilla/5.0 (iPh...|    13|\n",
      "|  null|Cancelled|    Diego|     M|           36|     Mckee|  null| paid|Phoenix-Mesa-Scot...|   GET|Cancellation Conf...|1537167593000|     1881|null|   200|1539831896000|\"Mozilla/5.0 (iPh...|    32|\n",
      "|  null|Cancelled|   Teagan|     F|           48|   Roberts|  null| paid|New Philadelphia-...|   GET|Cancellation Conf...|1537634865000|     1927|null|   200|1539968001000|Mozilla/5.0 (Wind...|    28|\n",
      "|  null|Cancelled|  Viviana|     F|           38|    Finley|  null| paid|          Gallup, NM|   GET|Cancellation Conf...|1523777521000|     2206|null|   200|1540482186000|\"Mozilla/5.0 (Win...|   198|\n",
      "|  null|Cancelled|      Kee|     M|          216|    Taylor|  null| paid|Virginia Beach-No...|   GET|Cancellation Conf...|1533764798000|     2429|null|   200|1540528082000|\"Mozilla/5.0 (Win...|   196|\n",
      "|  null|Cancelled|   Thomas|     M|           83|     White|  null| paid|Providence-Warwic...|   GET|Cancellation Conf...|1536270348000|     2643|null|   200|1540809016000|\"Mozilla/5.0 (X11...|   172|\n",
      "|  null|Cancelled|   Carlos|     M|          231| Henderson|  null| paid|Atlanta-Sandy Spr...|   GET|Cancellation Conf...|1534689513000|     2747|null|   200|1540991227000|\"Mozilla/5.0 (Mac...|   189|\n",
      "|  null|Cancelled|     Jean|     M|          218|   Bennett|  null| paid|New Orleans-Metai...|   GET|Cancellation Conf...|1537953130000|     2922|null|   200|1541087401000|Mozilla/5.0 (Wind...|   234|\n",
      "|  null|Cancelled|     Emma|     F|           41|       Lee|  null| paid|   Winston-Salem, NC|   GET|Cancellation Conf...|1536597540000|     2575|null|   200|1541147487000|\"Mozilla/5.0 (Win...|    16|\n",
      "|  null|Cancelled|      Ean|     M|          245|     White|  null| paid|        Show Low, AZ|   GET|Cancellation Conf...|1535231759000|     3050|null|   200|1541302069000|Mozilla/5.0 (Wind...|   214|\n",
      "|  null|Cancelled|   Gianna|     F|           27|    Campos|  null| paid|          Mobile, AL|   GET|Cancellation Conf...|1535931018000|     3126|null|   200|1541374384000|Mozilla/5.0 (Wind...|   246|\n",
      "|  null|Cancelled|   Zyonna|     F|          225|      Bird|  null| paid|     Columbus, GA-AL|   GET|Cancellation Conf...|1536663902000|     3080|null|   200|1541505193000|Mozilla/5.0 (Wind...|    88|\n",
      "|  null|Cancelled| Isobella|     F|          278|    Wright|  null| paid|Atlanta-Sandy Spr...|   GET|Cancellation Conf...|1536398117000|     3179|null|   200|1541543944000|\"Mozilla/5.0 (Win...|    45|\n",
      "|  null|Cancelled|   Parker|     M|           17|  Williams|  null| paid|San Francisco-Oak...|   GET|Cancellation Conf...|1537188538000|     3507|null|   200|1541939290000|\"Mozilla/5.0 (iPh...|    61|\n",
      "|  null|Cancelled|   Nicole|     F|           44|      Beck|  null| paid|Vineland-Bridgeto...|   GET|Cancellation Conf...|1532224335000|     3475|null|   200|1541948983000|\"Mozilla/5.0 (Mac...|   124|\n",
      "|  null|Cancelled|    Lucas|     M|           39|    Decker|  null| paid|Los Angeles-Long ...|   GET|Cancellation Conf...|1534945722000|     3618|null|   200|1541958736000|Mozilla/5.0 (Wind...|   223|\n",
      "|  null|Cancelled|    Brisa|     F|           16|    Murray|  null| paid|Manchester-Nashua...|   GET|Cancellation Conf...|1533438580000|     3356|null|   200|1542032682000|Mozilla/5.0 (comp...|    41|\n",
      "|  null|Cancelled|     Ryan|     M|           50|  Phillips|  null| paid|Los Angeles-Long ...|   GET|Cancellation Conf...|1535959154000|     3620|null|   200|1542049014000|\"Mozilla/5.0 (iPh...|   221|\n",
      "|  null|Cancelled|   Lakyla|     F|           59|    Porter|  null| paid|         Modesto, CA|   GET|Cancellation Conf...|1535849930000|     3368|null|   200|1542055421000|Mozilla/5.0 (Wind...|   162|\n",
      "|  null|Cancelled|     Kael|     M|          128|     Baker|  null| paid|Kingsport-Bristol...|   GET|Cancellation Conf...|1533102330000|     3307|null|   200|1542063249000|\"Mozilla/5.0 (Mac...|   131|\n",
      "|  null|Cancelled|   Carter|     M|           12|      Cook|  null| paid|Chicago-Napervill...|   GET|Cancellation Conf...|1522793334000|     3554|null|   200|1542254381000|\"Mozilla/5.0 (iPh...|   288|\n",
      "|  null|Cancelled|  Cynthia|     F|          103|    Krause|  null| free|Allentown-Bethleh...|   GET|Cancellation Conf...|1534392393000|     3808|null|   200|1542268661000|\"Mozilla/5.0 (X11...|   265|\n",
      "|  null|Cancelled|Cassandra|     F|            3|  Martinez|  null| paid|Chicago-Napervill...|   GET|Cancellation Conf...|1538172299000|     3982|null|   200|1542404708000|\"Mozilla/5.0 (Mac...|   188|\n",
      "|  null|Cancelled|Elizabeth|     F|           47|Washington|  null| paid|   Oklahoma City, OK|   GET|Cancellation Conf...|1532472246000|     3791|null|   200|1542443637000|\"Mozilla/5.0 (Mac...|   120|\n",
      "|  null|Cancelled|   Joseph|     M|           76|   Morales|  null| paid|  Corpus Christi, TX|   GET|Cancellation Conf...|1532063507000|     4221|null|   200|1542828929000|\"Mozilla/5.0 (Mac...|   293|\n",
      "|  null|Cancelled|   Daelin|     M|          233|    Turner|  null| paid|New York-Newark-J...|   GET|Cancellation Conf...|1538227408000|     4207|null|   200|1542933610000|\"Mozilla/5.0 (Win...|   126|\n",
      "|  null|Cancelled| Benjamin|     M|          125|   Salinas|  null| paid|         Lebanon, PA|   GET|Cancellation Conf...|1532594573000|     4069|null|   200|1542952212000|\"Mozilla/5.0 (Mac...|   164|\n",
      "|  null|Cancelled|      Zoe|     F|           94|     Patel|  null| paid|Providence-Warwic...|   GET|Cancellation Conf...|1532554781000|     3700|null|   200|1543018922000|Mozilla/5.0 (Wind...|    11|\n",
      "|  null|Cancelled|   Jayden|     F|            5|  Phillips|  null| paid|New York-Newark-J...|   GET|Cancellation Conf...|1537893493000|     4212|null|   200|1543091855000|\"Mozilla/5.0 (Win...|   118|\n",
      "|  null|Cancelled|   Azrael|     M|            5|     Hicks|  null| free|Atlanta-Sandy Spr...|   GET|Cancellation Conf...|1535774889000|     3472|null|   200|1543252571000|\"Mozilla/5.0 (Win...|    89|\n",
      "|  null|Cancelled|  Jasmine|     F|            5|Richardson|  null| free|Philadelphia-Camd...|   GET|Cancellation Conf...|1531477817000|     4473|null|   200|1543297283000|Mozilla/5.0 (Wind...|   167|\n",
      "|  null|Cancelled|   Wesley|     M|          436|  Thornton|  null| paid|Deltona-Daytona B...|   GET|Cancellation Conf...|1536659447000|     4253|null|   200|1543337414000|\"Mozilla/5.0 (Mac...|    34|\n",
      "|  null|Cancelled|   Oliver|     M|           53|   Gilbert|  null| paid|Philadelphia-Camd...|   GET|Cancellation Conf...|1535093367000|     4210|null|   200|1543440994000|\"Mozilla/5.0 (Mac...|    81|\n",
      "|  null|Cancelled|   Adriel|     M|           69|   Mendoza|  null| paid|  Kansas City, MO-KS|   GET|Cancellation Conf...|1535623466000|     4671|null|   200|1543522398000|\"Mozilla/5.0 (Mac...|    18|\n",
      "+------+---------+---------+------+-------------+----------+------+-----+--------------------+------+--------------------+-------------+---------+----+------+-------------+--------------------+------+\n",
      "only showing top 50 rows\n",
      "\n"
     ]
    }
   ],
   "source": [
    "df.filter('page = \"Cancellation Confirmation\"').show(50)"
   ]
  },
  {
   "cell_type": "code",
   "execution_count": null,
   "metadata": {},
   "outputs": [],
   "source": [
    "# Testing samples\n",
    "user_id = 100010\n",
    "# user_id = 121"
   ]
  },
  {
   "cell_type": "code",
   "execution_count": 26,
   "metadata": {
    "ExecuteTime": {
     "end_time": "2020-02-29T19:20:13.182094Z",
     "start_time": "2020-02-29T19:20:13.147088Z"
    }
   },
   "outputs": [],
   "source": [
    "CHURN_CANCELLATION_PAGE = 'Cancellation Confirmation'\n",
    "REGISTRATION_PAGE = 'Submit Registration'\n",
    "milliseconds_to_hours = 3600 * 1000\n",
    "minutes_to_hours = 60 * 60\n",
    "TRUE = 1\n",
    "FALSE = 0\n",
    "\n",
    "def transform_records(df):\n",
    "    \n",
    "    ts_events = df.select([smin('ts').alias('min_ts'), smax('ts').alias('max_ts')]).collect()[0]\n",
    "    min_ts = ts_events[0]\n",
    "    max_ts = ts_events[1]\n",
    "\n",
    "    w_session = Window.partitionBy('sessionId').orderBy('ts')\n",
    "    w_user_session = Window.partitionBy('sessionId', 'userId').orderBy('ts').rangeBetween(Window.unboundedPreceding, Window.unboundedFollowing)\n",
    "    w_user = Window.partitionBy('userId').orderBy('ts').rangeBetween(Window.unboundedPreceding, Window.unboundedFollowing)\n",
    "    \n",
    "    # Create features\n",
    "    df = df.withColumn('previous_page', lag(df.page).over(w_session))\n",
    "    df = df.withColumn('last_event_ts', last(col('ts')).over(w_user))\n",
    "    df = df.withColumn('last_page', last(col('page')).over(w_user))\n",
    "    df = df.withColumn('cancellation_ts', when(df.last_page == CHURN_CANCELLATION_PAGE, df.last_event_ts).otherwise(max_ts))\n",
    "    df = df.withColumn('register_page', first(col('previous_page')).over(w_user))\n",
    "    df = df.withColumn('first_ts', first(col('ts')).over(w_user))\n",
    "    df = df.withColumn('registration_ts', when(df.register_page == REGISTRATION_PAGE, df.first_ts).otherwise(min_ts))\n",
    "    df = df.withColumn('ts_elapsed', last(df.ts).over(w_session) - first(df.ts).over(w_user_session))\n",
    "    df = df.withColumn('session_duration', smax(df.ts_elapsed).over(w_user_session))\n",
    "    \n",
    "    return df\n",
    "    \n",
    "def create_session_dimension(df):\n",
    "    \n",
    "    # sessions from the user\n",
    "    df_sessions = df.orderBy(df.sessionId).groupBy('sessionId', 'userId').agg(\n",
    "        smax(df.ts).alias('s_ts'),\n",
    "        smin(df.ts).alias('e_ts'),\n",
    "        ssum(df.length).alias('total_playback'),\n",
    "        count(when(df.page == 'Thumbs Up', True)).alias(\"n_s_likes\"),\n",
    "        count(when(df.page == 'Thumbs Down', True)).alias(\"n_s_dislikes\"),\n",
    "        \n",
    "        count(when(df.page == 'NextSong', True)).alias(\"n_s_songs\"),\n",
    "        count(when(df.page == 'Add Friend', True)).alias(\"n_s_friends\"),\n",
    "        count(when(df.page == 'Add to Playlist', True)).alias(\"n_s_add_play\"),\n",
    "        count(when(df.page == 'Home', True)).alias(\"n_s_home\"),\n",
    "        count(when(df.page == 'Roll Advert', True)).alias(\"n_s_ads\"),\n",
    "        count(when(df.page == 'Help', True)).alias(\"n_s_help\"),\n",
    "        count(when(df.page == 'Error', True)).alias(\"n_s_error\"),\n",
    "        count(when(df.page == 'Settings', True)).alias(\"n_s_sets\"),\n",
    "        count(col('page')).alias('n_s_actions')\n",
    "        \n",
    "    ) \n",
    "\n",
    "    w_user_sessions_interval = Window.partitionBy('userId').orderBy('s_ts')\n",
    "    # Calculate the interval until the next session\n",
    "    df_sessions = df_sessions.withColumn('interval_to_session', col('s_ts') - lag(col('e_ts')).over(w_user_sessions_interval))\n",
    "\n",
    "    # We should remove the null lines before count/group to not account 2 times the mean interval\n",
    "    df_sessions = df_sessions.groupBy('userId').agg(\n",
    "        (avg(df_sessions.interval_to_session) / milliseconds_to_hours).alias('a_tiaw'),\n",
    "        (avg(df_sessions.total_playback) / minutes_to_hours).alias('a_play'),\n",
    "        avg(df_sessions.n_s_likes).alias('a_like'),\n",
    "        avg(df_sessions.n_s_dislikes).alias('a_disl'),\n",
    "        \n",
    "        avg(df_sessions.n_s_songs).alias('a_song'),\n",
    "        avg(df_sessions.n_s_friends).alias('a_frie'),\n",
    "        avg(df_sessions.n_s_add_play).alias('a_adde'),\n",
    "        avg(df_sessions.n_s_home).alias('a_home'),\n",
    "        avg(df_sessions.n_s_ads).alias('a_ads'),\n",
    "        avg(df_sessions.n_s_help).alias('a_help'),\n",
    "        avg(df_sessions.n_s_error).alias('a_erro'),\n",
    "        avg(df_sessions.n_s_sets).alias('a_sett'),\n",
    "        avg(df_sessions.n_s_actions).alias('a_acti')\n",
    "    )\n",
    "    \n",
    "    return df_sessions\n",
    "\n",
    "def create_user_dimension(df):\n",
    "    \n",
    "    df_user_profile = df.groupby('userId')\\\n",
    "        .agg( \n",
    "\n",
    "            first(when(col('gender') == 'M', TRUE).otherwise(FALSE)).alias('male'),\n",
    "\n",
    "            smin(col('first_ts')).alias('ts_start'),\n",
    "            smax(col('last_event_ts')).alias('ts_end'),\n",
    "\n",
    "            # Subscription\n",
    "            count(when(col('page') == 'Submit Downgrade', True)).alias(\"n_down\"),\n",
    "            count(when(col('page') == 'Submit Upgrade', True)).alias(\"n_upgr\"),\n",
    "            last(when(col('level') == 'paid', TRUE).otherwise(FALSE)).alias('paid'),\n",
    "            first(when(col('last_page') == CHURN_CANCELLATION_PAGE, TRUE).otherwise(FALSE)).alias('canc'),\n",
    "\n",
    "            # Streaming\n",
    "            count(when(col('page') == 'NextSong', True)).alias(\"n_song\"),\n",
    "            count(when(col('page') == 'Thumbs Up', True)).alias(\"n_like\"),\n",
    "            count(when(col('page') == 'Thumbs Down', True)).alias(\"n_disl\"),\n",
    "            countDistinct(col('sessionId')).alias(\"n_sess\"),\n",
    "            (avg(col('session_duration')) / milliseconds_to_hours).alias(\"a_stim\"),\n",
    "\n",
    "            # Community\n",
    "            count(when(col('page') == 'Add Friend', True)).alias(\"n_frie\"),\n",
    "            count(when(col('page') == 'Add to Playlist', True)).alias(\"n_adde\"),\n",
    "\n",
    "            # Other\n",
    "            count(when(col('page') == 'Home', True)).alias(\"n_home\"),\n",
    "            count(when(col('page') == 'Roll Advert', True)).alias(\"n_ads\"),\n",
    "            count(when(col('page') == 'Help', True)).alias(\"n_help\"),\n",
    "            count(when(col('page') == 'Error', True)).alias(\"n_erro\"),\n",
    "            count(when(col('page') == 'Settings', True)).alias(\"n_sett\"),\n",
    "            count(col('page')).alias(\"n_acti\")\n",
    "        )\n",
    "    \n",
    "    return df_user_profile"
   ]
  },
  {
   "cell_type": "code",
   "execution_count": 644,
   "metadata": {},
   "outputs": [
    {
     "name": "stdout",
     "output_type": "stream",
     "text": [
      "+------+-------------+-----------------+---------+------------+---------+-----------+------------+--------+-------+--------+----------+--------+-----------+\n",
      "|userId|avg_time_away|     avg_playback|avg_likes|avg_dislikes|avg_songs|avg_friends|avg_add_play|avg_home|avg_ads|avg_help|avg_errors|avg_sets|avg_actions|\n",
      "+------+-------------+-----------------+---------+------------+---------+-----------+------------+--------+-------+--------+----------+--------+-----------+\n",
      "|100010|       73.035|3.593187602777778|      2.0|         1.5|     48.0|        1.5|         0.5|     1.5|   11.0|     0.0|       0.0|     0.0|       68.5|\n",
      "+------+-------------+-----------------+---------+------------+---------+-----------+------------+--------+-------+--------+----------+--------+-----------+\n",
      "\n"
     ]
    }
   ],
   "source": [
    "df_sessions = create_session_dimension(df)\n",
    "\n",
    "df_sessions.where(df_sessions.userId == 100010).show(1)"
   ]
  },
  {
   "cell_type": "code",
   "execution_count": 27,
   "metadata": {
    "ExecuteTime": {
     "end_time": "2020-02-29T19:20:30.427402Z",
     "start_time": "2020-02-29T19:20:30.420667Z"
    }
   },
   "outputs": [],
   "source": [
    "def sort_features(df, columns_order):\n",
    "    _columns = df.columns\n",
    "    _columns.sort()\n",
    "    \n",
    "    for _idx, _val in list(enumerate(columns_order)):\n",
    "        _columns.pop(_columns.index(_val))\n",
    "        _columns.insert(_idx, _val)\n",
    "        \n",
    "    assert len(_columns) == len(df.columns)\n",
    "\n",
    "    return _columns"
   ]
  },
  {
   "cell_type": "code",
   "execution_count": 30,
   "metadata": {
    "ExecuteTime": {
     "end_time": "2020-02-29T19:23:14.592898Z",
     "start_time": "2020-02-29T19:22:58.046085Z"
    }
   },
   "outputs": [
    {
     "name": "stdout",
     "output_type": "stream",
     "text": [
      "+------+----+----+----+------+------+-----+------+------+------+------+------+------+------+------+------+------+------+------+------+-----+------+------+------+------+------+------+------+------+------+------+------+\n",
      "|userId|male|paid|canc|a_acti|a_adde|a_ads|a_disl|a_erro|a_frie|a_help|a_home|a_like|a_play|a_sett|a_song|a_stim|a_tiaw|n_acti|n_adde|n_ads|n_disl|n_down|n_erro|n_frie|n_help|n_home|n_like|n_sess|n_sett|n_song|n_upgr|\n",
      "+------+----+----+----+------+------+-----+------+------+------+------+------+------+------+------+------+------+------+------+------+-----+------+------+------+------+------+------+------+------+------+------+------+\n",
      "|100010|   0|   0|   1|    69|     1|   11|     2|     0|     2|     0|     2|     2|     4|     0|    48|     4|    73|   137|     1|   22|     3|     0|     0|     3|     0|     3|     4|     2|     0|    96|     0|\n",
      "|200002|   1|   0|   1|    79|     1|    2|     1|     0|     0|     0|     5|     3|     4|     0|    62|     6|   175|   395|     6|   11|     5|     0|     0|     2|     1|    23|    15|     5|     2|   310|     1|\n",
      "|   296|   0|   1|   1|    30|     1|    2|     0|     0|     0|     0|     1|     2|     2|     0|    22|     3|    51|   152|     3|    9|     0|     0|     0|     2|     2|     7|     8|     5|     1|   112|     1|\n",
      "|   125|   1|   0|   0|    28|     1|    2|     0|     0|     1|     1|     1|     1|     1|     1|    21|     3|   526|    84|     2|    6|     1|     0|     0|     3|     2|     2|     3|     3|     3|    62|     0|\n",
      "|   124|   0|   1|   1|   127|     3|    0|     1|     0|     2|     1|     4|     6|     8|     1|   107|    15|    68|  2156|    45|    1|    15|     0|     0|    26|    10|    70|   102|    17|    15|  1826|     0|\n",
      "|    51|   1|   1|   1|    66|     2|    0|     0|     0|     1|     0|     3|     3|     4|     0|    53|     7|    94|   328|     8|    1|     1|     0|     2|     3|     0|    17|    16|     5|     2|   266|     0|\n",
      "|     7|   1|   0|   0|    40|     0|    2|     0|     0|     1|     0|     2|     1|     2|     0|    31|     4|   100|   600|     6|   35|     4|     0|     0|    16|     3|    36|    12|    15|     5|   462|     0|\n",
      "|200037|   1|   0|   1|    22|     1|    1|     0|     0|     0|     0|     1|     1|     1|     0|    17|     2|    63|   155|     4|    9|     3|     0|     0|     2|     0|     6|     5|     7|     1|   122|     0|\n",
      "|   169|   1|   0|   0|    19|     0|    2|     0|     0|     1|     0|     1|     1|     1|     0|    14|     1|   203|   149|     0|   13|     0|     0|     0|     6|     0|     6|     6|     8|     3|   112|     0|\n",
      "|   205|   0|   1|   0|   249|     5|    0|     2|     0|     4|     2|     9|    10|    15|     1|   210|    22|   295|  1244|    25|    0|    10|     0|     1|    21|    11|    43|    50|     5|     3|  1048|     0|\n",
      "|   272|   0|   0|   0|    66|     2|    6|     2|     0|     0|     0|     3|     4|     3|     0|    49|     3|   259|   131|     3|   12|     4|     0|     0|     0|     0|     5|     7|     2|     0|    97|     0|\n",
      "|    15|   1|   1|   0|   121|     3|    0|     1|     0|     2|     1|     4|     5|     7|     1|   102|    10|    72|  2173|    57|    0|    16|     0|     1|    32|    12|    66|    93|    18|    12|  1835|     0|\n",
      "|   232|   0|   1|   0|   101|     3|    2|     1|     0|     2|     1|     4|     4|     6|     1|    82|    13|    71|  2325|    61|   38|    17|     1|     1|    43|    21|    95|    97|    23|    13|  1876|     2|\n",
      "|   234|   1|   0|   1|    78|     2|    1|     1|     0|     1|     0|     2|     4|     5|     1|    64|    14|    33|  2021|    51|   30|    22|     0|     2|    17|     7|    64|    91|    26|    17|  1674|     1|\n",
      "|   282|   1|   0|   0|   110|     2|    1|     1|     0|     3|     1|     4|     5|     7|     1|    91|    14|    57|  3191|    66|   37|    29|     0|     4|    79|    19|   110|   133|    29|    17|  2629|     1|\n",
      "|    54|   0|   1|   1|    78|     2|    0|     1|     0|     3|     0|     3|     3|     4|     0|    65|    10|    30|   624|    15|    0|     7|     0|     0|    20|     2|    20|    26|     8|     3|   517|     0|\n",
      "|   155|   0|   1|   0|    43|     1|    0|     0|     0|     0|     0|     3|     2|     2|     1|    35|     4|   190|   172|     4|    0|     0|     0|     1|     0|     1|    11|     7|     4|     2|   140|     0|\n",
      "|200043|   0|   0|   0|    67|     2|    3|     2|     0|     1|     0|     2|     3|     4|     1|    51|     7|   103|   808|    23|   41|    22|     0|     0|    12|     3|    29|    33|    12|    10|   615|     1|\n",
      "|100014|   1|   1|   1|   102|     3|    1|     1|     0|     1|     1|     5|     4|     6|     1|    83|     9|   144|   406|    11|    3|     3|     0|     0|     3|     2|    18|    14|     4|     3|   332|     0|\n",
      "|   132|   0|   1|   1|    72|     2|    3|     1|     0|     2|     0|     2|     2|     4|     0|    57|     7|   159|   144|     4|    5|     1|     0|     0|     4|     0|     4|     4|     2|     0|   113|     1|\n",
      "|   154|   1|   0|   1|    32|     1|    2|     1|     0|     1|     0|     1|     1|     2|     1|    23|     2|    61|   126|     4|    9|     2|     0|     0|     4|     0|     4|     4|     4|     2|    93|     0|\n",
      "|   200|   1|   1|   1|   102|     3|    0|     1|     0|     3|     1|     4|     5|     5|     1|    82|    10|    38|   204|     5|    0|     2|     0|     0|     6|     2|     7|    10|     2|     1|   164|     0|\n",
      "|300027|   0|   0|   0|    52|     1|    4|     1|     0|     1|     0|     2|     4|     3|     1|    38|     3|   186|   366|     7|   26|     5|     0|     0|     4|     1|    12|    27|     7|     7|   269|     0|\n",
      "|   101|   1|   1|   0|   129|     3|    0|     1|     0|     2|     1|     4|     6|     8|     1|   108|    16|    36|  6842|   165|    6|    55|     0|     6|   117|    30|   219|   305|    53|    41|  5745|     1|\n",
      "|    11|   0|   0|   1|    44|     1|    2|     0|     0|     1|     0|     2|     2|     2|     1|    32|     3|   241|   264|     5|   10|     1|     0|     0|     6|     2|    14|    13|     6|     4|   194|     1|\n",
      "|   279|   0|   1|   0|    69|     2|    1|     0|     0|     1|     0|     4|     2|     4|     0|    55|    11|   145|   620|    14|   11|     3|     1|     3|     8|     3|    35|    22|     9|     4|   496|     1|\n",
      "|   138|   1|   0|   0|    41|     1|    3|     0|     0|     1|     1|     2|     2|     2|     0|    31|     4|   111|   576|    10|   37|     4|     0|     1|     7|     7|    30|    27|    14|     6|   434|     0|\n",
      "|300017|   0|   1|   0|    74|     2|    0|     0|     0|     1|     0|     3|     5|     4|     0|    60|     8|    24|  5266|   125|    5|    25|     0|     4|    98|    27|   183|   388|    71|    29|  4283|     0|\n",
      "|100021|   1|   1|   0|    95|     2|    4|     1|     0|     2|     0|     4|     3|     5|     0|    76|    13|   139|   854|    14|   34|     8|     2|     0|    16|     2|    33|    28|     9|     4|   683|     3|\n",
      "|    29|   1|   0|   0|    60|     1|    2|     0|     0|     1|     0|     2|     2|     3|     0|    49|     6|    40|  2350|    48|   73|    17|     1|     5|    40|    14|    90|    90|    39|    13|  1907|     2|\n",
      "|    69|   0|   0|   0|    57|     1|    2|     0|     0|     1|     0|     2|     2|     3|     1|    46|     7|   100|   684|    17|   28|     4|     1|     1|    13|     0|    25|    25|    12|     6|   548|     1|\n",
      "|   112|   1|   0|   0|    46|     0|    2|     0|     0|     1|     0|     2|     1|     3|     0|    37|     5|   142|   411|     3|   22|     3|     0|     0|    11|     1|    17|    11|     9|     2|   329|     0|\n",
      "|300033|   0|   1|   0|   142|     5|    0|     1|     0|     2|     1|     3|     9|     8|     0|   117|    11|   121|   426|    14|    0|     4|     0|     1|     7|     4|     8|    28|     3|     1|   351|     0|\n",
      "|    42|   0|   1|   0|    95|     2|    2|     1|     0|     1|     1|     4|     4|     6|     1|    78|    16|    34|  4952|   111|  101|    41|     1|     4|    71|    28|   182|   187|    52|    35|  4070|     2|\n",
      "|    73|   0|   0|   0|    24|     0|    2|     0|     0|     0|     0|     1|     1|     1|     0|    18|     2|   118|   307|     5|   20|     1|     0|     1|     4|     2|    16|     9|    13|     2|   240|     0|\n",
      "|    87|   1|   0|   0|    82|     2|    1|     1|     0|     2|     0|     3|     3|     5|     0|    68|    11|    28|  5243|   112|   65|    45|     1|     5|    99|    24|   197|   202|    64|    21|  4350|     1|\n",
      "|200010|   0|   0|   0|    39|     1|    2|     1|     0|     1|     0|     3|     2|     2|     0|    28|     2|   238|   194|     4|    8|     5|     0|     0|     5|     0|    14|     8|     5|     2|   140|     0|\n",
      "|    64|   1|   0|   0|    15|     0|    2|     0|     0|     0|     0|     1|     1|     1|     0|    10|     1|   457|    44|     0|    6|     0|     0|     0|     0|     0|     4|     2|     3|     0|    31|     0|\n",
      "|     3|   1|   0|   0|    25|     0|    1|     0|     0|     0|     0|     0|     0|     2|     0|    24|     2|     0|    25|     0|    1|     0|     0|     0|     0|     0|     0|     0|     1|     0|    24|     0|\n",
      "|300035|   0|   1|   0|    77|     2|    0|     1|     0|     1|     0|     3|     6|     4|     0|    63|     9|    21|  6810|   186|   16|    64|     1|     5|    91|    31|   228|   498|    88|    43|  5528|     2|\n",
      "|   113|   0|   1|   0|    67|     2|    1|     1|     0|     0|     0|     3|     2|     4|     0|    54|    13|    85|  1207|    32|   24|    18|     0|     2|     8|     6|    54|    44|    18|     6|   976|     1|\n",
      "|    30|   1|   1|   0|   128|     3|    1|     1|     0|     2|     1|     4|     5|     8|     1|   108|    21|    46|  4737|   103|   37|    37|     0|     7|    69|    19|   161|   177|    37|    33|  3988|     1|\n",
      "|    34|   1|   1|   1|   184|     4|    1|     1|     0|     2|     1|     6|     7|    11|     2|   155|    18|   171|  1474|    32|   10|    11|     0|     2|    19|     7|    48|    59|     8|    13|  1239|     1|\n",
      "|   133|   1|   0|   0|    58|     1|    3|     1|     0|     0|     0|     1|     5|     3|     0|    44|     4|     0|    58|     1|    3|     1|     0|     0|     0|     0|     1|     5|     1|     0|    44|     0|\n",
      "|   287|   1|   0|   0|    76|     2|    4|     1|     0|     1|     0|     2|     3|     4|     1|    60|     5|   242|   229|     5|   11|     4|     0|     1|     3|     1|     7|     8|     3|     2|   181|     0|\n",
      "|   162|   0|   1|   1|   133|     3|    0|     1|     0|     2|     1|     4|     6|     8|     0|   112|    13|    80|  1993|    41|    3|    15|     0|     1|    30|    12|    66|    95|    15|     7|  1676|     1|\n",
      "|    59|   1|   0|   0|    39|     1|    2|     0|     0|     1|     0|     2|     1|     2|     0|    30|     4|    84|   695|    15|   40|     2|     0|     1|    14|     2|    39|    17|    18|     5|   534|     0|\n",
      "|   139|   1|   1|   0|    66|     2|    2|     1|     0|     2|     0|     2|     2|     4|     0|    52|     6|   285|   330|     8|   10|     3|     1|     0|     9|     2|    12|    11|     5|     0|   259|     1|\n",
      "|   146|   1|   1|   0|    61|     1|    2|     1|     0|     1|     0|     2|     2|     4|     0|    50|     9|   101|   920|    19|   34|    10|     0|     0|    12|     6|    34|    33|    15|     4|   743|     1|\n",
      "|200013|   1|   0|   1|    37|     1|    1|     1|     0|     0|     0|     2|     2|     2|     0|    29|     3|    98|   223|     4|    5|     4|     0|     0|     1|     1|    11|    13|     6|     2|   174|     1|\n",
      "+------+----+----+----+------+------+-----+------+------+------+------+------+------+------+------+------+------+------+------+------+-----+------+------+------+------+------+------+------+------+------+------+------+\n",
      "only showing top 50 rows\n",
      "\n"
     ]
    }
   ],
   "source": [
    "df = transform_records(df)\n",
    "\n",
    "df_sessions = create_session_dimension(df)\n",
    "\n",
    "df_users = create_user_dimension(df)\n",
    "\n",
    "_columns = list(set(df_users.schema.names + df_sessions.schema.names) - set(['ts_start', 'ts_end']))\n",
    "\n",
    "df_users = df_users.orderBy(df_users.userId).join(df_sessions, on = 'userId').select(_columns) \n",
    "\n",
    "# Enforces the order for some columns\n",
    "_columns = sort_features(df_users, [ 'userId', 'male', 'paid', 'canc'])\n",
    "\n",
    "### WARN: Only round to display\n",
    "df_users.select([sround(c, 0).cast(dataType = IntegerType()).alias(c) for c in _columns]).fillna(0).show(50)"
   ]
  },
  {
   "cell_type": "code",
   "execution_count": 673,
   "metadata": {},
   "outputs": [],
   "source": [
    "df_users.select(_columns).fillna(0).toPandas().to_csv('sparkify_data.csv', index = False)"
   ]
  },
  {
   "cell_type": "code",
   "execution_count": 549,
   "metadata": {},
   "outputs": [
    {
     "name": "stdout",
     "output_type": "stream",
     "text": [
      "+------------+\n",
      "|unique_users|\n",
      "+------------+\n",
      "|         449|\n",
      "+------------+\n",
      "\n"
     ]
    }
   ],
   "source": [
    "df.agg(countDistinct(df.userId).alias('unique_users')).show()"
   ]
  },
  {
   "cell_type": "code",
   "execution_count": 544,
   "metadata": {},
   "outputs": [
    {
     "data": {
      "text/plain": [
       "425"
      ]
     },
     "execution_count": 544,
     "metadata": {},
     "output_type": "execute_result"
    }
   ],
   "source": [
    "df_users.orderBy(df_users.userId).join(df_sessions, on = 'userId').select(_columns).count()"
   ]
  },
  {
   "cell_type": "code",
   "execution_count": 548,
   "metadata": {},
   "outputs": [
    {
     "name": "stdout",
     "output_type": "stream",
     "text": [
      "+--------+-----+\n",
      "|canceled|total|\n",
      "+--------+-----+\n",
      "|       1|   90|\n",
      "|       0|  335|\n",
      "+--------+-----+\n",
      "\n"
     ]
    }
   ],
   "source": [
    "df_users.orderBy(df_users.userId).join(df_sessions, on = 'userId').select(_columns).groupBy('canceled').agg(count(df_users.canceled).alias('total')).show()"
   ]
  },
  {
   "cell_type": "markdown",
   "metadata": {},
   "source": [
    "- Advertises number (per session and all)\n",
    "    - The user **100010** returned after some idle time and received a considerable amount of advertises;\n",
    "    - Also, after thumbs down, I received two advertisements on four sounds. Then canceled the service.\n",
    "- Number of sessions\n",
    "- Paid subscription time\n",
    "- Avg songs before an ad\n",
    "- Number of skipped songs"
   ]
  },
  {
   "cell_type": "code",
   "execution_count": 553,
   "metadata": {},
   "outputs": [
    {
     "data": {
      "text/plain": [
       "['artist',\n",
       " 'auth',\n",
       " 'firstName',\n",
       " 'gender',\n",
       " 'itemInSession',\n",
       " 'lastName',\n",
       " 'length',\n",
       " 'level',\n",
       " 'location',\n",
       " 'method',\n",
       " 'page',\n",
       " 'registration',\n",
       " 'sessionId',\n",
       " 'song',\n",
       " 'status',\n",
       " 'ts',\n",
       " 'userAgent',\n",
       " 'userId']"
      ]
     },
     "execution_count": 553,
     "metadata": {},
     "output_type": "execute_result"
    }
   ],
   "source": [
    "df.schema.names"
   ]
  },
  {
   "cell_type": "code",
   "execution_count": null,
   "metadata": {},
   "outputs": [],
   "source": [
    "to_date(df.ts.cast(dataType=TimestampType()))"
   ]
  },
  {
   "cell_type": "code",
   "execution_count": 581,
   "metadata": {},
   "outputs": [
    {
     "name": "stdout",
     "output_type": "stream",
     "text": [
      "+--------------------+---------+---------+------+-------------+---------+---------+-----+--------------------+---------+--------------------+-------------+------+-------------------+\n",
      "|              artist|     auth|firstName|gender|itemInSession| lastName|   length|level|                page|sessionId|                song|           ts|userId|           datetime|\n",
      "+--------------------+---------+---------+------+-------------+---------+---------+-----+--------------------+---------+--------------------+-------------+------+-------------------+\n",
      "|              Darude|Logged In| Darianna|     F|            0|Carpenter|226.08934| free|            NextSong|       62|           Sandstorm|1538991392000|100010|06:36:32 08-10-2018|\n",
      "|             Justice|Logged In| Darianna|     F|            1|Carpenter|285.41342| free|            NextSong|       62|Phantom Part 1.5 ...|1538991618000|100010|06:40:18 08-10-2018|\n",
      "|    Five Iron Frenzy|Logged In| Darianna|     F|            2|Carpenter|236.09424| free|            NextSong|       62|              Canada|1538991903000|100010|06:45:03 08-10-2018|\n",
      "|          Carpenters|Logged In| Darianna|     F|            3|Carpenter|250.25261| free|            NextSong|       62|      Ticket To Ride|1538992139000|100010|06:48:59 08-10-2018|\n",
      "|               Uffie|Logged In| Darianna|     F|            4|Carpenter|227.52608| free|            NextSong|       62|   Dismissed (Uffie)|1538992389000|100010|06:53:09 08-10-2018|\n",
      "|       Lonnie Gordon|Logged In| Darianna|     F|            5|Carpenter|181.21098| free|            NextSong|       62|Catch You Baby (S...|1538992616000|100010|06:56:56 08-10-2018|\n",
      "|            Calle 13|Logged In| Darianna|     F|            6|Carpenter|267.67628| free|            NextSong|       62|     Fiesta De Locos|1538992797000|100010|06:59:57 08-10-2018|\n",
      "|            Ice Cube|Logged In| Darianna|     F|            7|Carpenter|248.29342| free|            NextSong|       62|U Ain't Gonna Tak...|1538993064000|100010|07:04:24 08-10-2018|\n",
      "|                null|Logged In| Darianna|     F|            8|Carpenter|     null| free|         Roll Advert|       62|                null|1538993076000|100010|07:04:36 08-10-2018|\n",
      "|        Wakey!Wakey!|Logged In| Darianna|     F|            9|Carpenter|173.40036| free|            NextSong|       62|       Dance So Good|1538993312000|100010|07:08:32 08-10-2018|\n",
      "|Mick Abrahams fro...|Logged In| Darianna|     F|           10|Carpenter| 202.9971| free|            NextSong|       62|    Sonf For Jeffery|1538993485000|100010|07:11:25 08-10-2018|\n",
      "|                null|Logged In| Darianna|     F|           11|Carpenter|     null| free|                Home|       62|                null|1538993496000|100010|07:11:36 08-10-2018|\n",
      "|      Colbie Caillat|Logged In| Darianna|     F|           12|Carpenter|355.57832| free|            NextSong|       62|Turn Your Lights ...|1538993687000|100010|07:14:47 08-10-2018|\n",
      "|                  LU|Logged In| Darianna|     F|           13|Carpenter|258.84689| free|            NextSong|       62|               Maria|1538994042000|100010|07:20:42 08-10-2018|\n",
      "|                null|Logged In| Darianna|     F|           14|Carpenter|     null| free|         Roll Advert|       62|                null|1538994047000|100010|07:20:47 08-10-2018|\n",
      "|         Linkin Park|Logged In| Darianna|     F|           15|Carpenter|259.86567| free|            NextSong|       62|         My December|1538994300000|100010|07:25:00 08-10-2018|\n",
      "|   Alanis Morissette|Logged In| Darianna|     F|           16|Carpenter|239.41179| free|            NextSong|       62|You Learn (Album ...|1538994559000|100010|07:29:19 08-10-2018|\n",
      "|              G-Unit|Logged In| Darianna|     F|           17|Carpenter|287.00689| free|            NextSong|       62|              G'D Up|1538994798000|100010|07:33:18 08-10-2018|\n",
      "|       Billy Stewart|Logged In| Darianna|     F|           18|Carpenter|160.70485| free|            NextSong|       62|          Summertime|1538995085000|100010|07:38:05 08-10-2018|\n",
      "|      Zac Brown Band|Logged In| Darianna|     F|           19|Carpenter|237.08689| free|            NextSong|       62|Chicken Fried (Al...|1538995245000|100010|07:40:45 08-10-2018|\n",
      "|          Strung Out|Logged In| Darianna|     F|           20|Carpenter|210.70322| free|            NextSong|       62|           Swan Dive|1538995482000|100010|07:44:42 08-10-2018|\n",
      "|                null|Logged In| Darianna|     F|           21|Carpenter|     null| free|         Roll Advert|       62|                null|1538995563000|100010|07:46:03 08-10-2018|\n",
      "|                null|Logged In| Darianna|     F|           22|Carpenter|     null| free|         Roll Advert|       62|                null|1538995571000|100010|07:46:11 08-10-2018|\n",
      "|   Gonzalo Rubalcaba|Logged In| Darianna|     F|           23|Carpenter|359.20934| free|            NextSong|       62|              Smooch|1538995692000|100010|07:48:12 08-10-2018|\n",
      "|      PlayRadioPlay!|Logged In| Darianna|     F|           24|Carpenter|255.03302| free|            NextSong|       62|Bad Cops Bad Char...|1538996051000|100010|07:54:11 08-10-2018|\n",
      "|                null|Logged In| Darianna|     F|           25|Carpenter|     null| free|         Roll Advert|       62|                null|1538996055000|100010|07:54:15 08-10-2018|\n",
      "|       Kings Of Leon|Logged In| Darianna|     F|           26|Carpenter|201.79546| free|            NextSong|       62|             Revelry|1538996306000|100010|07:58:26 08-10-2018|\n",
      "|            System 7|Logged In| Darianna|     F|           27|Carpenter|358.71302| free|            NextSong|       62|            Altitude|1538996507000|100010|08:01:47 08-10-2018|\n",
      "|           Fela Kuti|Logged In| Darianna|     F|           28|Carpenter|694.67383| free|            NextSong|       62|       Monkey Banana|1538996865000|100010|08:07:45 08-10-2018|\n",
      "|   3 Inches Of Blood|Logged In| Darianna|     F|           29|Carpenter|221.09995| free|            NextSong|       62|Trial Of Champion...|1538997559000|100010|08:19:19 08-10-2018|\n",
      "|                null|Logged In| Darianna|     F|           30|Carpenter|     null| free|         Roll Advert|       62|                null|1538997565000|100010|08:19:25 08-10-2018|\n",
      "|            Amr Diab|Logged In| Darianna|     F|           31|Carpenter| 304.8224| free|            NextSong|       62|         Nour El Ain|1538997780000|100010|08:23:00 08-10-2018|\n",
      "|             Inverse|Logged In| Darianna|     F|           32|Carpenter|225.69751| free|            NextSong|       62|Spark My Soul (fe...|1538998084000|100010|08:28:04 08-10-2018|\n",
      "|                null|Logged In| Darianna|     F|           33|Carpenter|     null| free|           Thumbs Up|       62|                null|1538998085000|100010|08:28:05 08-10-2018|\n",
      "|        Tift Merritt|Logged In| Darianna|     F|           34|Carpenter|386.95138| free|            NextSong|       62|Ain't Looking Clo...|1538998309000|100010|08:31:49 08-10-2018|\n",
      "|          Jamie Foxx|Logged In| Darianna|     F|           35|Carpenter|202.57914| free|            NextSong|       62|        I Don't Know|1538998695000|100010|08:38:15 08-10-2018|\n",
      "|                 M83|Logged In| Darianna|     F|           36|Carpenter|249.46893| free|            NextSong|       62|    Run Into Flowers|1538998897000|100010|08:41:37 08-10-2018|\n",
      "|                null|Logged In| Darianna|     F|           37|Carpenter|     null| free|         Roll Advert|       62|                null|1538998897000|100010|08:41:37 08-10-2018|\n",
      "|        The Jayhawks|Logged In| Darianna|     F|           38|Carpenter|258.79465| free|            NextSong|       62|        Pretty Thing|1538999146000|100010|08:45:46 08-10-2018|\n",
      "|     Dominik Eulberg|Logged In| Darianna|     F|           39|Carpenter|504.37179| free|            NextSong|       62|              Bionik|1538999404000|100010|08:50:04 08-10-2018|\n",
      "|                null|Logged In| Darianna|     F|           40|Carpenter|     null| free|         Thumbs Down|       62|                null|1538999405000|100010|08:50:05 08-10-2018|\n",
      "|Selena Gomez & Th...|Logged In| Darianna|     F|           41|Carpenter|241.91955| free|            NextSong|       62|           Naturally|1538999908000|100010|08:58:28 08-10-2018|\n",
      "|       Dwight Yoakam|Logged In| Darianna|     F|           42|Carpenter| 239.3073| free|            NextSong|       62|      You're The One|1539000149000|100010|09:02:29 08-10-2018|\n",
      "|                null|Logged In| Darianna|     F|           43|Carpenter|     null| free|          Add Friend|       62|                null|1539000150000|100010|09:02:30 08-10-2018|\n",
      "|         John Legend|Logged In| Darianna|     F|           44|Carpenter|228.96281| free|            NextSong|       62|       Stay With You|1539000388000|100010|09:06:28 08-10-2018|\n",
      "|                null|Logged In| Darianna|     F|           45|Carpenter|     null| free|         Roll Advert|       62|                null|1539000413000|100010|09:06:53 08-10-2018|\n",
      "|     Nine Inch Nails|Logged In| Darianna|     F|           46|Carpenter|213.86404| free|            NextSong|       62|    In This Twilight|1539000616000|100010|09:10:16 08-10-2018|\n",
      "|         The Strokes|Logged In| Darianna|     F|           47|Carpenter|151.32689| free|            NextSong|       62|          Is This It|1539000829000|100010|09:13:49 08-10-2018|\n",
      "|                null|Logged In| Darianna|     F|           48|Carpenter|     null| free|         Thumbs Down|       62|                null|1539000830000|100010|09:13:50 08-10-2018|\n",
      "|   Dustin O'Halloran|Logged In| Darianna|     F|           49|Carpenter| 190.1971| free|            NextSong|       62|         Opus No. 12|1539000980000|100010|09:16:20 08-10-2018|\n",
      "|           Underoath|Logged In| Darianna|     F|           50|Carpenter|203.88526| free|            NextSong|       62|The Impact Of Reason|1539001170000|100010|09:19:30 08-10-2018|\n",
      "|                null|Logged In| Darianna|     F|           51|Carpenter|     null| free|     Add to Playlist|       62|                null|1539001173000|100010|09:19:33 08-10-2018|\n",
      "|          Belleruche|Logged In| Darianna|     F|           52|Carpenter| 221.6224| free|            NextSong|       62|      Northern Girls|1539001373000|100010|09:22:53 08-10-2018|\n",
      "|           Buddy Guy|Logged In| Darianna|     F|           53|Carpenter|982.96118| free|            NextSong|       62|The Dollar Done Fell|1539001594000|100010|09:26:34 08-10-2018|\n",
      "|                Muse|Logged In| Darianna|     F|           54|Carpenter|301.73995| free|            NextSong|       62|Butterflies and H...|1539002576000|100010|09:42:56 08-10-2018|\n",
      "|                null|Logged In| Darianna|     F|           55|Carpenter|     null| free|         Roll Advert|       62|                null|1539002587000|100010|09:43:07 08-10-2018|\n",
      "|    Fear My Thoughts|Logged In| Darianna|     F|           56|Carpenter|233.63873| free|            NextSong|       62|  Bound And Weakened|1539002877000|100010|09:47:57 08-10-2018|\n",
      "|Shakira Featuring...|Logged In| Darianna|     F|           57|Carpenter|217.36444| free|            NextSong|       62|Hips Don't Lie (f...|1539003110000|100010|09:51:50 08-10-2018|\n",
      "|    Slightly Stoopid|Logged In| Darianna|     F|           58|Carpenter|204.59057| free|            NextSong|       62|           Bandelero|1539003327000|100010|09:55:27 08-10-2018|\n",
      "|                null|Logged In| Darianna|     F|           59|Carpenter|     null| free|           Thumbs Up|       62|                null|1539003328000|100010|09:55:28 08-10-2018|\n",
      "|   Infected Mushroom|Logged In| Darianna|     F|           60|Carpenter|549.22404| free|            NextSong|       62|         Bust a Move|1539003531000|100010|09:58:51 08-10-2018|\n",
      "|             Genesis|Logged In| Darianna|     F|           61|Carpenter|284.49914| free|            NextSong|       62|   Land Of Confusion|1539004080000|100010|10:08:00 08-10-2018|\n",
      "|                null|Logged In| Darianna|     F|           62|Carpenter|     null| free|              Logout|       62|                null|1539004081000|100010|10:08:01 08-10-2018|\n",
      "|                null|Logged In| Darianna|     F|           65|Carpenter|     null| free|                Home|       62|                null|1539004113000|100010|10:08:33 08-10-2018|\n",
      "|      The Grip Weeds|Logged In| Darianna|     F|           66|Carpenter|180.58404| free|            NextSong|       62|Walking in the Crowd|1539004364000|100010|10:12:44 08-10-2018|\n",
      "|                null|Logged In| Darianna|     F|           67|Carpenter|     null| free|         Roll Advert|       62|                null|1539004373000|100010|10:12:53 08-10-2018|\n",
      "|Sean Kingston and...|Logged In| Darianna|     F|           68|Carpenter| 201.9522| free|            NextSong|       62|        Eenie Meenie|1539004544000|100010|10:15:44 08-10-2018|\n",
      "|          The Winans|Logged In| Darianna|     F|           69|Carpenter| 344.5024| free|            NextSong|       62|Ain't No Need To ...|1539004745000|100010|10:19:05 08-10-2018|\n",
      "|                null|Logged In| Darianna|     F|           70|Carpenter|     null| free|           Thumbs Up|       62|                null|1539004746000|100010|10:19:06 08-10-2018|\n",
      "|                null|Logged In| Darianna|     F|            0|Carpenter|     null| free|                Home|      166|                null|1539242427000|100010|04:20:27 11-10-2018|\n",
      "|               Lange|Logged In| Darianna|     F|            1|Carpenter|463.62077| free|            NextSong|      166|           Wind Farm|1539242431000|100010|04:20:31 11-10-2018|\n",
      "|                null|Logged In| Darianna|     F|            2|Carpenter|     null| free|         Roll Advert|      166|                null|1539242448000|100010|04:20:48 11-10-2018|\n",
      "|                null|Logged In| Darianna|     F|            3|Carpenter|     null| free|         Roll Advert|      166|                null|1539242452000|100010|04:20:52 11-10-2018|\n",
      "|            Harmonia|Logged In| Darianna|     F|            4|Carpenter|655.77751| free|            NextSong|      166|       Sehr kosmisch|1539242894000|100010|04:28:14 11-10-2018|\n",
      "|      Colbie Caillat|Logged In| Darianna|     F|            5|Carpenter|227.02975| free|            NextSong|      166|      It Stops Today|1539243549000|100010|04:39:09 11-10-2018|\n",
      "|        Hayko Cepkin|Logged In| Darianna|     F|            6|Carpenter|307.87873| free|            NextSong|      166|    Hangimiz Masumuz|1539243776000|100010|04:42:56 11-10-2018|\n",
      "|        Sanctus Real|Logged In| Darianna|     F|            7|Carpenter|242.46812| free|            NextSong|      166|Things Like You (...|1539244083000|100010|04:48:03 11-10-2018|\n",
      "|Shaggy / Ricardo ...|Logged In| Darianna|     F|            8|Carpenter|226.76853| free|            NextSong|      166|        It Wasn't Me|1539244325000|100010|04:52:05 11-10-2018|\n",
      "|               Train|Logged In| Darianna|     F|            9|Carpenter|205.45261| free|            NextSong|      166|            Marry Me|1539244551000|100010|04:55:51 11-10-2018|\n",
      "|                null|Logged In| Darianna|     F|           10|Carpenter|     null| free|         Roll Advert|      166|                null|1539244556000|100010|04:55:56 11-10-2018|\n",
      "|                Guts|Logged In| Darianna|     F|           11|Carpenter|229.43302| free|            NextSong|      166|      Everybody Know|1539244756000|100010|04:59:16 11-10-2018|\n",
      "|       The Dreamside|Logged In| Darianna|     F|           12|Carpenter|280.86812| free|            NextSong|      166| Dreaming All of You|1539244985000|100010|05:03:05 11-10-2018|\n",
      "|                null|Logged In| Darianna|     F|           13|Carpenter|     null| free|         Roll Advert|      166|                null|1539245000000|100010|05:03:20 11-10-2018|\n",
      "|      Chavela Vargas|Logged In| Darianna|     F|           14|Carpenter|199.26159| free|            NextSong|      166|        Piensa En Mi|1539245265000|100010|05:07:45 11-10-2018|\n",
      "|            Kid Cudi|Logged In| Darianna|     F|           15|Carpenter|227.34322| free|            NextSong|      166|        Up Up & Away|1539245464000|100010|05:11:04 11-10-2018|\n",
      "|         Beach House|Logged In| Darianna|     F|           16|Carpenter| 265.1424| free|            NextSong|      166|   Heart of Chambers|1539245691000|100010|05:14:51 11-10-2018|\n",
      "|       Radney Foster|Logged In| Darianna|     F|           17|Carpenter|288.96608| free|            NextSong|      166|      Sweet And Wild|1539245956000|100010|05:19:16 11-10-2018|\n",
      "|          John Mayer|Logged In| Darianna|     F|           18|Carpenter|269.71383| free|            NextSong|      166|  Heartbreak Warfare|1539246244000|100010|05:24:04 11-10-2018|\n",
      "|   The Academy Is...|Logged In| Darianna|     F|           19|Carpenter|207.01995| free|            NextSong|      166|Bulls In Brooklyn...|1539246513000|100010|05:28:33 11-10-2018|\n",
      "|                null|Logged In| Darianna|     F|           20|Carpenter|     null| free|         Roll Advert|      166|                null|1539246540000|100010|05:29:00 11-10-2018|\n",
      "|           DJ Khaled|Logged In| Darianna|     F|           21|Carpenter|347.37587| free|            NextSong|      166|On My Way (feat. ...|1539246720000|100010|05:32:00 11-10-2018|\n",
      "|         White Denim|Logged In| Darianna|     F|           22|Carpenter|148.55791| free|            NextSong|      166|        Transparency|1539247067000|100010|05:37:47 11-10-2018|\n",
      "|        Rise Against|Logged In| Darianna|     F|           23|Carpenter|241.50159| free|            NextSong|      166| Whereabouts Unknown|1539247215000|100010|05:40:15 11-10-2018|\n",
      "|      Frankie Avalon|Logged In| Darianna|     F|           24|Carpenter|158.61506| free|            NextSong|      166|Bobby Sox To Stoc...|1539247456000|100010|05:44:16 11-10-2018|\n",
      "|                null|Logged In| Darianna|     F|           25|Carpenter|     null| free|         Roll Advert|      166|                null|1539247477000|100010|05:44:37 11-10-2018|\n",
      "|         Linkin Park|Logged In| Darianna|     F|           26|Carpenter|  439.562| free|            NextSong|      166|The Little Things...|1539247614000|100010|05:46:54 11-10-2018|\n",
      "|                null|Logged In| Darianna|     F|           27|Carpenter|     null| free|         Roll Advert|      166|                null|1539247620000|100010|05:47:00 11-10-2018|\n",
      "|        Starflyer 59|Logged In| Darianna|     F|           28|Carpenter|376.86812| free|            NextSong|      166|When You Feel The...|1539248053000|100010|05:54:13 11-10-2018|\n",
      "|                null|Logged In| Darianna|     F|           29|Carpenter|     null| free|         Roll Advert|      166|                null|1539248078000|100010|05:54:38 11-10-2018|\n",
      "|            Pavement|Logged In| Darianna|     F|           30|Carpenter| 99.16036| free|            NextSong|      166|Mercy:The Laundromat|1539248429000|100010|06:00:29 11-10-2018|\n",
      "|            Coldplay|Logged In| Darianna|     F|           31|Carpenter|225.85424| free|            NextSong|      166|              Sparks|1539248528000|100010|06:02:08 11-10-2018|\n",
      "|                null|Logged In| Darianna|     F|           32|Carpenter|     null| free|             Upgrade|      166|                null|1539248563000|100010|06:02:43 11-10-2018|\n",
      "|                null|Logged In| Darianna|     F|           33|Carpenter|     null| free|             Upgrade|      166|                null|1539248570000|100010|06:02:50 11-10-2018|\n",
      "|                null|Logged In| Darianna|     F|           34|Carpenter|     null| free|          Add Friend|      166|                null|1539248571000|100010|06:02:51 11-10-2018|\n",
      "|                null|Logged In| Darianna|     F|           35|Carpenter|     null| free|          Add Friend|      166|                null|1539248572000|100010|06:02:52 11-10-2018|\n",
      "|              Leo Ku|Logged In| Darianna|     F|           36|Carpenter| 289.2273| free|            NextSong|      166|Shi Wen Ji Liu La...|1539248753000|100010|06:05:53 11-10-2018|\n",
      "|                null|Logged In| Darianna|     F|           37|Carpenter|     null| free|         Roll Advert|      166|                null|1539248788000|100010|06:06:28 11-10-2018|\n",
      "|Kings Of Convenience|Logged In| Darianna|     F|           38|Carpenter|228.41424| free|            NextSong|      166|Love Is No Big Truth|1539249042000|100010|06:10:42 11-10-2018|\n",
      "|           autoKratz|Logged In| Darianna|     F|           39|Carpenter|277.05424| free|            NextSong|      166|Pardon GarÃÂ§on ...|1539249270000|100010|06:14:30 11-10-2018|\n",
      "|      Bebel Gilberto|Logged In| Darianna|     F|           40|Carpenter|288.86159| free|            NextSong|      166|Bananeira - Rae &...|1539249547000|100010|06:19:07 11-10-2018|\n",
      "|                null|Logged In| Darianna|     F|           41|Carpenter|     null| free|         Roll Advert|      166|                null|1539249597000|100010|06:19:57 11-10-2018|\n",
      "|          Nickelback|Logged In| Darianna|     F|           42|Carpenter|224.13016| free|            NextSong|      166|   How You Remind Me|1539249835000|100010|06:23:55 11-10-2018|\n",
      "| My Chemical Romance|Logged In| Darianna|     F|           43|Carpenter|203.04934| free|            NextSong|      166|Helena (So Long &...|1539250059000|100010|06:27:39 11-10-2018|\n",
      "|         Salt-N-Pepa|Logged In| Darianna|     F|           44|Carpenter|207.62077| free|            NextSong|      166|             Push It|1539250262000|100010|06:31:02 11-10-2018|\n",
      "|Tom Petty And The...|Logged In| Darianna|     F|           45|Carpenter|238.21016| free|            NextSong|      166|         The Waiting|1539250469000|100010|06:34:29 11-10-2018|\n",
      "|                null|Logged In| Darianna|     F|           46|Carpenter|     null| free|           Thumbs Up|      166|                null|1539250470000|100010|06:34:30 11-10-2018|\n",
      "|         Darwin Deez|Logged In| Darianna|     F|           47|Carpenter|189.83138| free|            NextSong|      166|      Radar Detector|1539250707000|100010|06:38:27 11-10-2018|\n",
      "|          Fly Pan Am|Logged In| Darianna|     F|           48|Carpenter| 221.1522| free|            NextSong|      166|     Arcades-Pamelor|1539250896000|100010|06:41:36 11-10-2018|\n",
      "|       Faith No More|Logged In| Darianna|     F|           49|Carpenter|  257.802| free|            NextSong|      166|      Midlife Crisis|1539251117000|100010|06:45:17 11-10-2018|\n",
      "|    Carlos Y JosÃÂ©|Logged In| Darianna|     F|           50|Carpenter|181.34159| free|            NextSong|      166|   Corrido Al Torero|1539251374000|100010|06:49:34 11-10-2018|\n",
      "|Eliades Ochoa Y E...|Logged In| Darianna|     F|           51|Carpenter|356.33587| free|            NextSong|      166|Me Voy Pa Sibanic...|1539251555000|100010|06:52:35 11-10-2018|\n",
      "|       Brooks & Dunn|Logged In| Darianna|     F|           52|Carpenter|238.52363| free|            NextSong|      166|If You See Him / ...|1539251911000|100010|06:58:31 11-10-2018|\n",
      "|           Silentium|Logged In| Darianna|     F|           53|Carpenter|267.49342| free|            NextSong|      166|  With Blood Adorned|1539252149000|100010|07:02:29 11-10-2018|\n",
      "|        Dar Williams|Logged In| Darianna|     F|           54|Carpenter|227.23873| free|            NextSong|      166|              Empire|1539252416000|100010|07:06:56 11-10-2018|\n",
      "|         Spice Girls|Logged In| Darianna|     F|           55|Carpenter|271.59465| free|            NextSong|      166|            Too Much|1539252643000|100010|07:10:43 11-10-2018|\n",
      "|           Santogold|Logged In| Darianna|     F|           56|Carpenter|224.44363| free|            NextSong|      166|Shove It [feat. S...|1539252914000|100010|07:15:14 11-10-2018|\n",
      "|                 JET|Logged In| Darianna|     F|           57|Carpenter|213.81179| free|            NextSong|      166|Are You Gonna Be ...|1539253138000|100010|07:18:58 11-10-2018|\n",
      "|       Alison Krauss|Logged In| Darianna|     F|           58|Carpenter|210.28526| free|            NextSong|      166|Tonight I'll Be L...|1539253351000|100010|07:22:31 11-10-2018|\n",
      "|                null|Logged In| Darianna|     F|           59|Carpenter|     null| free|         Thumbs Down|      166|                null|1539253352000|100010|07:22:32 11-10-2018|\n",
      "|            Ill Nino|Logged In| Darianna|     F|           60|Carpenter| 188.9171| free|            NextSong|      166|How Can I Live (S...|1539253561000|100010|07:26:01 11-10-2018|\n",
      "|            BjÃÂ¶rk|Logged In| Darianna|     F|           61|Carpenter|348.57751| free|            NextSong|      166|                Undo|1539253749000|100010|07:29:09 11-10-2018|\n",
      "|                null|Logged In| Darianna|     F|           62|Carpenter|     null| free|         Roll Advert|      166|                null|1539253766000|100010|07:29:26 11-10-2018|\n",
      "|        The Features|Logged In| Darianna|     F|           63|Carpenter|182.12526| free|            NextSong|      166|         Blow It Out|1539254097000|100010|07:34:57 11-10-2018|\n",
      "|Barry Tuckwell/Ac...|Logged In| Darianna|     F|           64|Carpenter|277.15873| free|            NextSong|      166|Horn Concerto No....|1539254279000|100010|07:37:59 11-10-2018|\n",
      "|                null|Logged In| Darianna|     F|           65|Carpenter|     null| free|         Roll Advert|      166|                null|1539254304000|100010|07:38:24 11-10-2018|\n",
      "|                null|Logged In| Darianna|     F|           66|Carpenter|     null| free|              Cancel|      166|                null|1539254305000|100010|07:38:25 11-10-2018|\n",
      "|                null|Cancelled| Darianna|     F|           67|Carpenter|     null| free|Cancellation Conf...|      166|                null|1539254318000|100010|07:38:38 11-10-2018|\n",
      "+--------------------+---------+---------+------+-------------+---------+---------+-----+--------------------+---------+--------------------+-------------+------+-------------------+\n",
      "\n"
     ]
    }
   ],
   "source": [
    "df.where(df.userId == user_id).select(['artist',\n",
    " 'auth',\n",
    " 'firstName',\n",
    " 'gender',\n",
    " 'itemInSession',\n",
    " 'lastName',\n",
    " 'length',\n",
    " 'level', \n",
    " 'page',\n",
    " 'sessionId',\n",
    " 'song', \n",
    " 'ts', \n",
    " 'userId']).orderBy('sessionId', 'itemInSession').withColumn('datetime', date_format((df.ts/1000).cast(dataType=TimestampType()), 'HH:mm:ss dd-MM-YYYY')).show(350, True)"
   ]
  },
  {
   "cell_type": "markdown",
   "metadata": {},
   "source": [
    "# Modeling\n",
    "Split the full dataset into train, test, and validation sets. Test out several of the machine learning methods you learned. Evaluate the accuracy of the various models, tuning parameters as necessary. Determine your winning model based on test accuracy and report results on the validation set. Since the churned users are a fairly small subset, I suggest using F1 score as the metric to optimize."
   ]
  },
  {
   "cell_type": "code",
   "execution_count": 46,
   "metadata": {
    "ExecuteTime": {
     "end_time": "2020-02-29T19:39:50.776917Z",
     "start_time": "2020-02-29T19:39:50.771366Z"
    }
   },
   "outputs": [],
   "source": [
    "from pyspark.ml.classification import DecisionTreeClassifier\n",
    "\n",
    "from pyspark.ml.feature import StringIndexer, VectorAssembler"
   ]
  },
  {
   "cell_type": "code",
   "execution_count": 78,
   "metadata": {
    "ExecuteTime": {
     "end_time": "2020-02-29T20:05:12.231679Z",
     "start_time": "2020-02-29T20:05:12.029301Z"
    }
   },
   "outputs": [
    {
     "name": "stdout",
     "output_type": "stream",
     "text": [
      "Columns: ['a_acti', 'a_adde', 'a_ads', 'a_disl', 'a_erro', 'a_frie', 'a_help', 'a_home', 'a_like', 'a_play', 'a_sett', 'a_song', 'a_stim', 'a_tiaw', 'canc', 'male', 'n_acti', 'n_adde', 'n_ads', 'n_disl', 'n_down', 'n_erro', 'n_frie', 'n_help', 'n_home', 'n_like', 'n_sess', 'n_sett', 'n_song', 'n_upgr', 'paid']\n",
      "\n",
      "Columns to train: ['a_acti', 'a_adde', 'a_ads', 'a_disl', 'a_erro', 'a_frie', 'a_help', 'a_home', 'a_like', 'a_play', 'a_sett', 'a_song', 'a_stim', 'a_tiaw', 'male', 'n_acti', 'n_adde', 'n_ads', 'n_disl', 'n_down', 'n_erro', 'n_frie', 'n_help', 'n_home', 'n_like', 'n_sess', 'n_sett', 'n_song', 'n_upgr', 'paid']\n"
     ]
    }
   ],
   "source": [
    "columns_to_exclude = set(['userId'])\n",
    "\n",
    "columns_to_use = list(set(df_users.columns) - columns_to_exclude)\n",
    "\n",
    "columns_to_train = list(set(columns_to_use) - set(['canc']))\n",
    "\n",
    "columns_to_use.sort()\n",
    "columns_to_train.sort()\n",
    "\n",
    "print(f'Columns: {columns_to_use}\\n')\n",
    "print(f'Columns to train: {columns_to_train}')"
   ]
  },
  {
   "cell_type": "code",
   "execution_count": 240,
   "metadata": {
    "ExecuteTime": {
     "end_time": "2020-03-01T00:21:06.093533Z",
     "start_time": "2020-03-01T00:21:06.090321Z"
    }
   },
   "outputs": [],
   "source": [
    "CHURN_LABEL = 'canc'\n",
    "TRAIN_SPLIT_RATIO = .7\n",
    "TEST_SPLIT_RATIO = .2\n",
    "\n",
    "SPLIT_RATIO = [TRAIN_SPLIT_RATIO, TEST_SPLIT_RATIO]"
   ]
  },
  {
   "cell_type": "code",
   "execution_count": 243,
   "metadata": {
    "ExecuteTime": {
     "end_time": "2020-03-01T00:26:17.334678Z",
     "start_time": "2020-03-01T00:26:17.315539Z"
    }
   },
   "outputs": [],
   "source": [
    "from pyspark.ml import Pipeline\n",
    "from pyspark.ml.classification import RandomForestClassifier\n",
    "from pyspark.ml.feature import IndexToString, StringIndexer, VectorIndexer, VectorAssembler\n",
    "from pyspark.ml.evaluation import MulticlassClassificationEvaluator\n",
    "\n",
    "def evaluate_multiclass_classifier(predictions, columns):\n",
    "    metrics_to_evaluate = [ 'accuracy', 'f1', 'weightedPrecision', 'weightedRecall' ]\n",
    "    \n",
    "    result = {}\n",
    "    for metric in metrics_to_evaluate:\n",
    "        evaluator = MulticlassClassificationEvaluator(labelCol = columns[0], predictionCol = columns[1], metricName = metric)\n",
    "        value = evaluator.evaluate(predictions)\n",
    "        result[metric] = value\n",
    "        print(f'{metric}: {value}') \n",
    "    \n",
    "    return result\n",
    "\n",
    "def train_random_forest_classifier(df, columns, train_cloumns):\n",
    "    \n",
    "    # Create the new dataframe\n",
    "    data = df.select(columns).fillna(0)\n",
    "    \n",
    "    # Split train/test\n",
    "    (train_df, test_df) = data.randomSplit(SPLIT_RATIO, seed = 42)\n",
    "    \n",
    "    # Create the indexer for labels\n",
    "    l_indexer = StringIndexer(inputCol = CHURN_LABEL, outputCol = 'idx_labels')\n",
    "    \n",
    "    # Create the feature tranformer, to generate an array representation of all features on dataset\n",
    "    f_assembler = VectorAssembler(inputCols = train_cloumns, outputCol = 'features')\n",
    "    \n",
    "    # Create the model instance\n",
    "    rf_classifier = RandomForestClassifier(labelCol = 'idx_labels', featuresCol = 'features', numTrees=10)\n",
    "\n",
    "    # Converts the predictions to original labels\n",
    "    l_translator = IndexToString(inputCol = 'prediction', outputCol = 'predictedLabel', labels = [ 'Not churn', 'Churn' ])\n",
    "\n",
    "    # Create the pipeline\n",
    "    pipeline = Pipeline(stages = [ l_indexer, f_assembler, rf_classifier, l_translator ])\n",
    "\n",
    "    # Train the model\n",
    "    model = pipeline.fit(train_df)\n",
    "\n",
    "    # Test the model\n",
    "    predictions = model.transform(test_df)\n",
    "\n",
    "    return model.stages[2], predictions\n",
    "    \n",
    "from pyspark.ml.feature import StandardScaler\n",
    "\n",
    "binary_features = [ 'paid', 'male' ]\n",
    "numeric_features = ['a_acti', 'a_adde', 'a_ads', 'a_play', 'a_sett', 'a_song', 'a_stim', 'a_tiaw', \n",
    "                    'male', 'n_acti', 'n_adde', 'n_ads', 'n_disl', 'n_down', 'n_erro', 'n_frie', 'n_help', 'n_home',\n",
    "                    'n_like', 'n_sess', 'n_sett', 'n_song', 'n_upgr' ]\n",
    "    \n",
    "def create_random_forest_pipeline():\n",
    "    \n",
    "    l_indexer = StringIndexer(inputCol = CHURN_LABEL, outputCol = 'idx_labels')\n",
    "    \n",
    "    f_binaries = VectorAssembler(inputCols = binary_features, outputCol = 'bin_features')\n",
    "    \n",
    "    f_numeric = VectorAssembler(inputCols = numeric_features, outputCol = 'num_features')\n",
    "    \n",
    "    f_scaler = StandardScaler(inputCol = 'num_features', outputCol = 'num_features_escaled', withStd = True, withMean = True)\n",
    "    \n",
    "    f_all = VectorAssembler(inputCols = [ 'bin_features' , 'num_features_escaled' ], outputCol = 'features')\n",
    "    \n",
    "    # Create the model instance\n",
    "    rf_classifier = RandomForestClassifier(labelCol = 'canc', featuresCol = 'features', seed = 42)\n",
    "\n",
    "    # Create the pipeline\n",
    "    pipeline = Pipeline(stages = [ l_indexer, f_binaries, f_numeric, f_scaler, f_all, rf_classifier ])\n",
    "\n",
    "    return pipeline"
   ]
  },
  {
   "cell_type": "code",
   "execution_count": 145,
   "metadata": {
    "ExecuteTime": {
     "end_time": "2020-02-29T21:27:07.966315Z",
     "start_time": "2020-02-29T21:26:10.470241Z"
    }
   },
   "outputs": [],
   "source": [
    "model, predictions = train_random_forest_classifier(df_users, columns_to_use, columns_to_train)"
   ]
  },
  {
   "cell_type": "code",
   "execution_count": 150,
   "metadata": {
    "ExecuteTime": {
     "end_time": "2020-02-29T21:49:02.428480Z",
     "start_time": "2020-02-29T21:47:25.148792Z"
    }
   },
   "outputs": [
    {
     "name": "stdout",
     "output_type": "stream",
     "text": [
      "accuracy: 0.8181818181818182\n",
      "f1: 0.7823601642884364\n",
      "weightedPrecision: 0.8007451564828614\n",
      "weightedRecall: 0.8181818181818181\n"
     ]
    }
   ],
   "source": [
    "evaluate_multiclass_classifier(predictions, ('canc', 'prediction'))"
   ]
  },
  {
   "cell_type": "code",
   "execution_count": 151,
   "metadata": {
    "ExecuteTime": {
     "end_time": "2020-02-29T21:49:40.743405Z",
     "start_time": "2020-02-29T21:49:22.720697Z"
    }
   },
   "outputs": [
    {
     "data": {
      "text/plain": [
       "0.7091346153846155"
      ]
     },
     "execution_count": 151,
     "metadata": {},
     "output_type": "execute_result"
    }
   ],
   "source": [
    "from pyspark.ml.evaluation import BinaryClassificationEvaluator\n",
    "\n",
    "evaluator = BinaryClassificationEvaluator(labelCol = 'canc', metricName = 'areaUnderROC')\n",
    "\n",
    "evaluator.evaluate(predictions)"
   ]
  },
  {
   "cell_type": "code",
   "execution_count": 245,
   "metadata": {
    "ExecuteTime": {
     "end_time": "2020-03-01T00:28:32.331836Z",
     "start_time": "2020-03-01T00:28:32.324208Z"
    }
   },
   "outputs": [],
   "source": [
    "from pyspark.ml.tuning import CrossValidator, ParamGridBuilder\n",
    "\n",
    "def random_forest_grid_search(pipeline):\n",
    "\n",
    "    grid_rf = ParamGridBuilder()\n",
    "    grid_rf = grid_rf.addGrid(rf.maxDepth, [50]) #[5, 10, 15, 20, 25]) \n",
    "    grid_rf = grid_rf.addGrid(rf.numTrees, [40]) #[20, 40, 60, 70])\n",
    "    grid_rf = grid_rf.build()\n",
    "        \n",
    "    evaluator = BinaryClassificationEvaluator(labelCol = 'canc')\n",
    "    \n",
    "    cv = CrossValidator(estimator = pipeline, estimatorParamMaps = grid_rf, evaluator = evaluator, numFolds = 3, parallelism = 10)\n",
    "    \n",
    "    return cv"
   ]
  },
  {
   "cell_type": "code",
   "execution_count": 246,
   "metadata": {
    "ExecuteTime": {
     "end_time": "2020-03-01T00:28:41.535099Z",
     "start_time": "2020-03-01T00:28:41.300366Z"
    }
   },
   "outputs": [],
   "source": [
    "# Create the new dataframe\n",
    "data = df_users.select(columns_to_use).fillna(0)\n",
    "\n",
    "# Split train/test\n",
    "(train_df, test_df) = data.randomSplit(SPLIT_RATIO, seed = 42)"
   ]
  },
  {
   "cell_type": "code",
   "execution_count": 247,
   "metadata": {
    "ExecuteTime": {
     "end_time": "2020-03-01T00:29:23.516317Z",
     "start_time": "2020-03-01T00:29:23.490145Z"
    }
   },
   "outputs": [],
   "source": [
    "pipeline = create_random_forest_pipeline()"
   ]
  },
  {
   "cell_type": "code",
   "execution_count": 248,
   "metadata": {
    "ExecuteTime": {
     "end_time": "2020-03-01T00:29:27.347947Z",
     "start_time": "2020-03-01T00:29:27.338594Z"
    }
   },
   "outputs": [],
   "source": [
    "cv_rf = random_forest_grid_search(pipeline)"
   ]
  },
  {
   "cell_type": "code",
   "execution_count": 249,
   "metadata": {
    "ExecuteTime": {
     "end_time": "2020-03-01T00:33:40.774208Z",
     "start_time": "2020-03-01T00:29:33.410824Z"
    }
   },
   "outputs": [],
   "source": [
    "cv_rf_results = cv_rf.fit(train_df)"
   ]
  },
  {
   "cell_type": "code",
   "execution_count": 250,
   "metadata": {
    "ExecuteTime": {
     "end_time": "2020-03-01T00:34:50.455838Z",
     "start_time": "2020-03-01T00:34:50.444787Z"
    }
   },
   "outputs": [
    {
     "data": {
      "text/html": [
       "<div>\n",
       "<style scoped>\n",
       "    .dataframe tbody tr th:only-of-type {\n",
       "        vertical-align: middle;\n",
       "    }\n",
       "\n",
       "    .dataframe tbody tr th {\n",
       "        vertical-align: top;\n",
       "    }\n",
       "\n",
       "    .dataframe thead th {\n",
       "        text-align: right;\n",
       "    }\n",
       "</style>\n",
       "<table border=\"1\" class=\"dataframe\">\n",
       "  <thead>\n",
       "    <tr style=\"text-align: right;\">\n",
       "      <th></th>\n",
       "      <th>maxDepth</th>\n",
       "      <th>numTrees</th>\n",
       "      <th>score</th>\n",
       "    </tr>\n",
       "  </thead>\n",
       "  <tbody>\n",
       "    <tr>\n",
       "      <th>0</th>\n",
       "      <td>50</td>\n",
       "      <td>40</td>\n",
       "      <td>0.706607</td>\n",
       "    </tr>\n",
       "  </tbody>\n",
       "</table>\n",
       "</div>"
      ],
      "text/plain": [
       "   maxDepth  numTrees     score\n",
       "0        50        40  0.706607"
      ]
     },
     "execution_count": 250,
     "metadata": {},
     "output_type": "execute_result"
    }
   ],
   "source": [
    "import pandas as pd\n",
    "\n",
    "scores = cv_rf_results.avgMetrics\n",
    "params = [{p.name: v for p, v in m.items()} for m in cv_rf.getEstimatorParamMaps()]\n",
    "params_pd = pd.DataFrame(params)\n",
    "params_pd['score'] = scores\n",
    "params_pd"
   ]
  },
  {
   "cell_type": "code",
   "execution_count": 251,
   "metadata": {
    "ExecuteTime": {
     "end_time": "2020-03-01T00:36:26.502254Z",
     "start_time": "2020-03-01T00:35:54.346054Z"
    }
   },
   "outputs": [
    {
     "data": {
      "text/plain": [
       "0.7489855072463769"
      ]
     },
     "execution_count": 251,
     "metadata": {},
     "output_type": "execute_result"
    }
   ],
   "source": [
    "evaluator = BinaryClassificationEvaluator(labelCol = 'canc', metricName = 'areaUnderROC')\n",
    " \n",
    "best_model_results = cv_rf_results.bestModel.transform(test_df)\n",
    "    \n",
    "evaluator.evaluate(best_model_results)"
   ]
  },
  {
   "cell_type": "code",
   "execution_count": 252,
   "metadata": {
    "ExecuteTime": {
     "end_time": "2020-03-01T00:39:49.645897Z",
     "start_time": "2020-03-01T00:38:10.913242Z"
    }
   },
   "outputs": [
    {
     "name": "stdout",
     "output_type": "stream",
     "text": [
      "accuracy: 0.7959183673469388\n",
      "f1: 0.7674625405717843\n",
      "weightedPrecision: 0.7739108182457936\n",
      "weightedRecall: 0.7959183673469388\n"
     ]
    },
    {
     "data": {
      "text/plain": [
       "{'accuracy': 0.7959183673469388,\n",
       " 'f1': 0.7674625405717843,\n",
       " 'weightedPrecision': 0.7739108182457936,\n",
       " 'weightedRecall': 0.7959183673469388}"
      ]
     },
     "execution_count": 252,
     "metadata": {},
     "output_type": "execute_result"
    }
   ],
   "source": [
    "evaluate_multiclass_classifier(best_model_results, ('canc', 'prediction'))"
   ]
  },
  {
   "cell_type": "code",
   "execution_count": 237,
   "metadata": {
    "ExecuteTime": {
     "end_time": "2020-03-01T00:13:53.940084Z",
     "start_time": "2020-03-01T00:13:40.288881Z"
    }
   },
   "outputs": [
    {
     "name": "stdout",
     "output_type": "stream",
     "text": [
      "+------------------------------------------------------------------------------------------------------------------------------------------------------------------------------------------------------------------------------------------------------------------------------------------------------------------------------------------------------------------------------------------------------------------------------------------------------------------------------------------+----------+----+\n",
      "|features                                                                                                                                                                                                                                                                                                                                                                                                                                                                                  |prediction|canc|\n",
      "+------------------------------------------------------------------------------------------------------------------------------------------------------------------------------------------------------------------------------------------------------------------------------------------------------------------------------------------------------------------------------------------------------------------------------------------------------------------------------------------+----------+----+\n",
      "|[0.0,0.0,-0.21327529767154582,-1.0003297142059608,5.237473302426241,-0.32325824144531073,-1.2152185464429155,-0.3918953130431868,-0.8806187287933033,-0.47116950459202,-1.1486257125583865,-0.7309201040736006,-0.7587439091459671,0.28272594713412136,-0.5717496635871351,-0.4736961161870449,-0.6213112230668308,-0.6820891219093743,-0.775838354978953,-0.8288014271714531,-0.6829244100843936,-0.846618254269763,-0.8063835119707797,-0.733056477440134,-0.900106596721603]           |0.0       |1   |\n",
      "|[0.0,1.0,0.011104018212291329,-0.46770435077568834,0.3417804688060299,-0.04613660715460761,-0.12740896937770188,-0.043455382182442916,-0.48420209680818416,0.16263276256496914,0.8678505383774474,-0.5516543263238293,-0.6185151833943437,-0.28240078790797535,-0.42948754256860383,-0.4736961161870449,-0.6213112230668308,-0.7257826476590931,-0.645223053874345,-0.41449904484735417,-0.532861495269718,-0.6261859265994154,-0.5593479426224847,-0.5546473992797436,0.5079809506250629]|0.0       |1   |\n",
      "|[1.0,1.0,-0.2752467277727962,-0.16334700024410392,-0.7708769933803818,-0.2809572372851721,-0.12740896937770188,-0.2624747672949104,-0.2451943080557031,-0.34016691009857875,0.8678505383774474,-0.5982078422510955,-0.5624236930936944,-0.7961523652189724,-0.7140117846056664,-0.4736961161870449,0.5102988431528727,-0.6820891219093743,-0.775838354978953,-0.5387897595445839,-0.5192194121047475,-0.6261859265994154,-0.5593479426224847,-0.5913296396491696,-0.900106596721603]      |0.0       |1   |\n",
      "|[0.0,1.0,-1.203902345349167,-0.9459801873253209,-0.16686294247918684,-1.1765716590717559,-0.8267151260624821,-1.152774345739097,-1.1593991053205885,-0.5349100847636935,0.8678505383774474,-0.7184131893468724,-0.6746066736949932,-0.3851511033701748,-0.5717496635871351,-0.4736961161870449,-0.6213112230668308,-0.7257826476590931,-0.775838354978953,-0.7666560698228383,-0.6692823269194231,-0.47923104148585044,-0.6828657272966322,-0.7113806081309277,-0.900106596721603]        |0.0       |1   |\n",
      "|[0.0,0.0,-0.2773836736383564,-0.23943633787700008,2.4558296469602117,-0.4257916128460453,-1.2152185464429155,-0.37945102979816026,-0.9308344751617512,0.682937016287347,-1.1486257125583865,-0.7350890756491767,-0.7026524188453178,-0.23102563017687566,-0.5006186030778694,-0.4736961161870449,-0.6213112230668308,-0.8131696991585304,-0.775838354978953,-0.7873711889390432,-0.6419981605894821,-0.846618254269763,-0.8063835119707797,-0.7322227901590107,-0.900106596721603]        |0.0       |0   |\n",
      "|[0.0,1.0,-0.016018756235205562,0.11174522042867407,-0.24022497295301629,0.19503973282921197,0.5629317237598375,0.015894276370760765,1.0114728765400292,-0.7176877881163425,0.8678505383774474,0.5781369706572884,0.6435433483702665,0.693727208982919,0.7797404860889118,-0.4736961161870449,0.5102988431528727,-0.07037976141331274,0.13846875275330287,0.43482083891704876,0.5039368252680402,0.916840367093017,1.2934188274897287,0.5825020521724651,0.5079809506250629]               |0.0       |1   |\n",
      "|[0.0,1.0,0.6742941144206769,0.35091197134374547,-0.17234401372148445,0.732330525823574,0.37898514408369044,0.6697307817221833,0.8899566962297397,-0.570900317096909,0.8678505383774474,1.391086427894624,1.0642295256251366,1.0533533131006168,1.277657909653771,-0.4736961161870449,1.641908909372576,2.638618835069246,1.7058523660085987,1.3877163182624763,1.0769043181968012,1.1372726947633645,1.2934188274897287,1.3786734056452359,0.5079809506250629]                            |0.0       |0   |\n",
      "|[0.0,0.0,-0.23820633276975003,0.07760256892673364,1.0186470916360968,-0.34261706051728147,1.0510514057762796,-0.3110074719505141,-0.33201826551086083,-0.2883517042485669,-1.1486257125583865,-0.26469011620500904,-0.14173751583882432,1.2588539440250157,0.7797404860889118,-0.4736961161870449,-0.6213112230668308,-0.2888473901619062,-0.3839924516651291,-0.2902083301501245,-0.287303998300249,-0.11184382870193796,0.42879433477069584,-0.3003727785371309,0.5079809506250629]     |0.0       |0   |\n",
      "|[0.0,1.0,-1.0039452679288767,-0.6198830260414805,0.3695969053606901,-1.0503102777392035,0.14454342488860145,-1.0078873336720018,-1.1087672646944025,-0.5467918623740899,0.8678505383774474,-0.7385632186288235,-0.6746066736949932,-0.3851511033701748,-0.6428807240964007,-0.4736961161870449,-0.6213112230668308,-0.6383955961596557,-0.775838354978953,-0.8080863080552482,-0.6829244100843936,-0.699663369156198,-0.5593479426224847,-0.735557539283504,-0.900106596721603]           |0.0       |1   |\n",
      "|[1.0,1.0,1.0815929376580913,0.988042599408399,-0.8191621285318675,1.0844970027686998,0.8885641261832052,1.111280183837192,1.3925698309919465,-0.7019144418302652,0.8678505383774474,3.9279056316326684,3.8407582955072797,-0.5392765765634738,3.127065482894677,-0.4736961161870449,2.7735189755922796,4.2989728135585565,3.1426206781592865,3.6456643019288157,3.423342622571728,2.9007313161261443,4.257845659669271,3.976442973625501,0.5079809506250629]                              |0.0       |0   |\n",
      "+------------------------------------------------------------------------------------------------------------------------------------------------------------------------------------------------------------------------------------------------------------------------------------------------------------------------------------------------------------------------------------------------------------------------------------------------------------------------------------------+----------+----+\n",
      "only showing top 10 rows\n",
      "\n"
     ]
    }
   ],
   "source": [
    "best_model_results.select(['features', 'prediction', 'canc']).show(10, False)"
   ]
  },
  {
   "cell_type": "code",
   "execution_count": 204,
   "metadata": {
    "ExecuteTime": {
     "end_time": "2020-02-29T22:56:07.000157Z",
     "start_time": "2020-02-29T22:55:53.705530Z"
    }
   },
   "outputs": [
    {
     "name": "stdout",
     "output_type": "stream",
     "text": [
      "+--------------------+----------+----+\n",
      "|       rawPrediction|prediction|canc|\n",
      "+--------------------+----------+----+\n",
      "|[7.36601764248823...|       1.0|   1|\n",
      "|[17.0575710379575...|       0.0|   1|\n",
      "|[16.4893218608728...|       0.0|   1|\n",
      "|[16.3220158268161...|       0.0|   1|\n",
      "|[10.4271757825937...|       0.0|   0|\n",
      "|[13.8699023989112...|       0.0|   1|\n",
      "|[14.3856274927273...|       0.0|   0|\n",
      "|[16.2067887268884...|       0.0|   0|\n",
      "|[15.0503712183422...|       0.0|   1|\n",
      "|[18.0768931186343...|       0.0|   0|\n",
      "+--------------------+----------+----+\n",
      "only showing top 10 rows\n",
      "\n"
     ]
    }
   ],
   "source": [
    "best_model_results.select(['rawPrediction', 'prediction', 'canc']).show(10, False)"
   ]
  },
  {
   "cell_type": "code",
   "execution_count": 130,
   "metadata": {
    "ExecuteTime": {
     "end_time": "2020-02-29T21:06:14.995253Z",
     "start_time": "2020-02-29T21:05:57.745177Z"
    }
   },
   "outputs": [
    {
     "data": {
      "text/plain": [
       "24"
      ]
     },
     "execution_count": 130,
     "metadata": {},
     "output_type": "execute_result"
    }
   ],
   "source": [
    "test_df.filter('canc = 1').count()"
   ]
  },
  {
   "cell_type": "code",
   "execution_count": 131,
   "metadata": {
    "ExecuteTime": {
     "end_time": "2020-02-29T21:06:44.651611Z",
     "start_time": "2020-02-29T21:06:27.509694Z"
    }
   },
   "outputs": [
    {
     "data": {
      "text/plain": [
       "75"
      ]
     },
     "execution_count": 131,
     "metadata": {},
     "output_type": "execute_result"
    }
   ],
   "source": [
    "train_df.filter('canc = 1').count()"
   ]
  },
  {
   "cell_type": "code",
   "execution_count": 253,
   "metadata": {
    "ExecuteTime": {
     "end_time": "2020-03-01T00:40:50.574360Z",
     "start_time": "2020-03-01T00:40:31.843583Z"
    }
   },
   "outputs": [
    {
     "name": "stdout",
     "output_type": "stream",
     "text": [
      "+----+----------+-----------+\n",
      "|canc|prediction|count(canc)|\n",
      "+----+----------+-----------+\n",
      "|   1|       0.0|         16|\n",
      "|   1|       1.0|          7|\n",
      "+----+----------+-----------+\n",
      "\n"
     ]
    }
   ],
   "source": [
    "best_model_results.select(\"prediction\", \"canc\", \"features\").filter('canc = 1').groupby(['canc', 'prediction']).agg({'canc':'count'}).show(50)"
   ]
  },
  {
   "cell_type": "code",
   "execution_count": 269,
   "metadata": {
    "ExecuteTime": {
     "end_time": "2020-03-01T00:47:05.176261Z",
     "start_time": "2020-03-01T00:47:05.169056Z"
    }
   },
   "outputs": [
    {
     "data": {
      "text/plain": [
       "RandomForestClassificationModel (uid=RandomForestClassifier_18ab5d75a053) with 20 trees"
      ]
     },
     "execution_count": 269,
     "metadata": {},
     "output_type": "execute_result"
    }
   ],
   "source": [
    "cv_rf_results.bestModel.stages[-1]"
   ]
  },
  {
   "cell_type": "code",
   "execution_count": null,
   "metadata": {},
   "outputs": [],
   "source": []
  },
  {
   "cell_type": "markdown",
   "metadata": {},
   "source": [
    "# Final Steps\n",
    "Clean up your code, adding comments and renaming variables to make the code easier to read and maintain. Refer to the Spark Project Overview page and Data Scientist Capstone Project Rubric to make sure you are including all components of the capstone project and meet all expectations. Remember, this includes thorough documentation in a README file in a Github repository, as well as a web app or blog post."
   ]
  },
  {
   "cell_type": "code",
   "execution_count": null,
   "metadata": {},
   "outputs": [],
   "source": []
  }
 ],
 "metadata": {
  "kernelspec": {
   "display_name": "Python 3",
   "language": "python",
   "name": "python3"
  },
  "language_info": {
   "codemirror_mode": {
    "name": "ipython",
    "version": 3
   },
   "file_extension": ".py",
   "mimetype": "text/x-python",
   "name": "python",
   "nbconvert_exporter": "python",
   "pygments_lexer": "ipython3",
   "version": "3.7.4"
  }
 },
 "nbformat": 4,
 "nbformat_minor": 4
}
