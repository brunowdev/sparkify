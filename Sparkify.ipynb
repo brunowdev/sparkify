{
 "cells": [
  {
   "cell_type": "markdown",
   "metadata": {},
   "source": [
    "# Sparkify Project Workspace\n",
    "This workspace contains a tiny subset (128MB) of the full dataset available (12GB). Feel free to use this workspace to build your project, or to explore a smaller subset with Spark before deploying your cluster on the cloud. Instructions for setting up your Spark cluster is included in the last lesson of the Extracurricular Spark Course content.\n",
    "\n",
    "You can follow the steps below to guide your data analysis and model building portion of this project."
   ]
  },
  {
   "cell_type": "code",
   "execution_count": 1,
   "metadata": {
    "ExecuteTime": {
     "end_time": "2020-03-21T20:47:36.697877Z",
     "start_time": "2020-03-21T20:47:29.265702Z"
    }
   },
   "outputs": [
    {
     "data": {
      "text/html": [
       "<style>.container { width:100% !important; }</style>"
      ],
      "text/plain": [
       "<IPython.core.display.HTML object>"
      ]
     },
     "metadata": {},
     "output_type": "display_data"
    }
   ],
   "source": [
    "from datetime import datetime\n",
    "\n",
    "from pyspark.sql import SparkSession\n",
    "\n",
    "from pyspark.sql.functions import min as smin, max as smax, sum as ssum, round as sround\n",
    "from pyspark.sql.functions import isnan, isnull, when, first, avg, last, count, countDistinct, col, lag, lead, coalesce, lit, split, trim\n",
    "\n",
    "from pyspark.sql.window import Window\n",
    "from pyspark.sql.functions import to_date, date_format, from_unixtime, to_timestamp\n",
    "\n",
    "from pyspark.sql.types import DateType, TimestampType, IntegerType\n",
    " \n",
    "import jupyter_utils as j\n",
    "\n",
    "from pyspark import SparkContext\n",
    " \n",
    "SparkContext.setSystemProperty('spark.logConf', 'True')\n",
    "SparkContext.setSystemProperty('spark.default.parallelism', '16')\n",
    "SparkContext.setSystemProperty('spark.executor.memory', '6g')\n",
    "SparkContext.setSystemProperty('spark.driver.memory', '4g')\n",
    "SparkContext.setSystemProperty('spark.reducer.maxSizeInFlight', '96m')\n",
    "SparkContext.setSystemProperty('spark.shuffle.consolidateFiles', 'True') \n",
    "SparkContext.setSystemProperty('spark.shuffle.service.index.cache.size', '500m')"
   ]
  },
  {
   "cell_type": "code",
   "execution_count": 2,
   "metadata": {
    "ExecuteTime": {
     "end_time": "2020-03-14T21:04:04.110826Z",
     "start_time": "2020-03-14T21:04:04.104465Z"
    }
   },
   "outputs": [
    {
     "data": {
      "text/html": [
       "<style>.container { width:100% !important; }</style>"
      ],
      "text/plain": [
       "<IPython.core.display.HTML object>"
      ]
     },
     "metadata": {},
     "output_type": "display_data"
    }
   ],
   "source": [
    "j.reload(j)"
   ]
  },
  {
   "cell_type": "code",
   "execution_count": 2,
   "metadata": {
    "ExecuteTime": {
     "end_time": "2020-03-21T20:47:36.702198Z",
     "start_time": "2020-03-21T20:47:36.699839Z"
    }
   },
   "outputs": [],
   "source": [
    "# filepath = 'sparkify_full_csv_data.csv'\n",
    "filepath = 'medium_sparkify_event_data.json'"
   ]
  },
  {
   "cell_type": "code",
   "execution_count": 3,
   "metadata": {
    "ExecuteTime": {
     "end_time": "2020-03-21T20:47:38.452278Z",
     "start_time": "2020-03-21T20:47:36.703870Z"
    }
   },
   "outputs": [],
   "source": [
    "spark = SparkSession \\\n",
    "    .builder \\\n",
    "    .appName(\"Sparkify\") \\\n",
    "    .getOrCreate()\n",
    "\n",
    "spark.sparkContext.setLogLevel('INFO')"
   ]
  },
  {
   "cell_type": "code",
   "execution_count": 4,
   "metadata": {
    "ExecuteTime": {
     "end_time": "2020-03-21T20:47:42.151895Z",
     "start_time": "2020-03-21T20:47:42.125296Z"
    }
   },
   "outputs": [
    {
     "data": {
      "text/plain": [
       "[('spark.driver.host', '192.168.0.107'),\n",
       " ('spark.driver.memory', '4g'),\n",
       " ('spark.executor.id', 'driver'),\n",
       " ('spark.driver.port', '41563'),\n",
       " ('spark.shuffle.service.index.cache.size', '500m'),\n",
       " ('spark.executor.memory', '6g'),\n",
       " ('spark.reducer.maxSizeInFlight', '96m'),\n",
       " ('spark.shuffle.consolidateFiles', 'True'),\n",
       " ('spark.default.parallelism', '16'),\n",
       " ('spark.logConf', 'True'),\n",
       " ('spark.rdd.compress', 'True'),\n",
       " ('spark.app.name', 'Sparkify'),\n",
       " ('spark.serializer.objectStreamReset', '100'),\n",
       " ('spark.master', 'local[*]'),\n",
       " ('spark.submit.deployMode', 'client'),\n",
       " ('spark.ui.showConsoleProgress', 'true'),\n",
       " ('spark.app.id', 'local-1584823657498')]"
      ]
     },
     "execution_count": 4,
     "metadata": {},
     "output_type": "execute_result"
    }
   ],
   "source": [
    "spark.sparkContext.getConf().getAll()"
   ]
  },
  {
   "cell_type": "markdown",
   "metadata": {},
   "source": [
    "# Load and Clean Dataset\n",
    "In this workspace, the mini-dataset file is `mini_sparkify_event_data.json`. Load and clean the dataset, checking for invalid or missing data - for example, records without userids or sessionids. "
   ]
  },
  {
   "cell_type": "code",
   "execution_count": 5,
   "metadata": {
    "ExecuteTime": {
     "end_time": "2020-03-21T20:47:50.469111Z",
     "start_time": "2020-03-21T20:47:46.744283Z"
    }
   },
   "outputs": [],
   "source": [
    "# df = spark.read.option(\"inferSchema\", \"true\").option(\"header\", \"true\").option(\"encoding\", \"utf-8\").csv(filepath)\n",
    "df = spark.read.option(\"inferSchema\", \"true\").option(\"header\", \"true\").option(\"encoding\", \"utf-8\").json(filepath)"
   ]
  },
  {
   "cell_type": "code",
   "execution_count": 6,
   "metadata": {
    "ExecuteTime": {
     "end_time": "2020-03-21T20:47:50.525898Z",
     "start_time": "2020-03-21T20:47:50.470614Z"
    }
   },
   "outputs": [
    {
     "name": "stdout",
     "output_type": "stream",
     "text": [
      "Serialized 1x Replicated\n",
      "Memory Serialized 1x Replicated\n"
     ]
    }
   ],
   "source": [
    "from pyspark import StorageLevel\n",
    "\n",
    "print(df.storageLevel)\n",
    "\n",
    "df.persist(StorageLevel.MEMORY_ONLY)\n",
    "\n",
    "print(df.storageLevel)"
   ]
  },
  {
   "cell_type": "code",
   "execution_count": 7,
   "metadata": {
    "ExecuteTime": {
     "end_time": "2020-03-21T20:47:53.568936Z",
     "start_time": "2020-03-21T20:47:53.551739Z"
    }
   },
   "outputs": [
    {
     "name": "stdout",
     "output_type": "stream",
     "text": [
      "root\n",
      " |-- artist: string (nullable = true)\n",
      " |-- auth: string (nullable = true)\n",
      " |-- firstName: string (nullable = true)\n",
      " |-- gender: string (nullable = true)\n",
      " |-- itemInSession: long (nullable = true)\n",
      " |-- lastName: string (nullable = true)\n",
      " |-- length: double (nullable = true)\n",
      " |-- level: string (nullable = true)\n",
      " |-- location: string (nullable = true)\n",
      " |-- method: string (nullable = true)\n",
      " |-- page: string (nullable = true)\n",
      " |-- registration: long (nullable = true)\n",
      " |-- sessionId: long (nullable = true)\n",
      " |-- song: string (nullable = true)\n",
      " |-- status: long (nullable = true)\n",
      " |-- ts: long (nullable = true)\n",
      " |-- userAgent: string (nullable = true)\n",
      " |-- userId: string (nullable = true)\n",
      "\n"
     ]
    }
   ],
   "source": [
    "df.printSchema()"
   ]
  },
  {
   "cell_type": "code",
   "execution_count": 35,
   "metadata": {
    "ExecuteTime": {
     "end_time": "2020-03-14T21:44:23.082123Z",
     "start_time": "2020-03-14T21:44:22.438015Z"
    }
   },
   "outputs": [
    {
     "name": "stdout",
     "output_type": "stream",
     "text": [
      "+------+----+---------+------+-------------+--------+------+-----+--------+------+----+------------+---------+------+------+---+---------+------+\n",
      "|artist|auth|firstName|gender|itemInSession|lastName|length|level|location|method|page|registration|sessionId|  song|status| ts|userAgent|userId|\n",
      "+------+----+---------+------+-------------+--------+------+-----+--------+------+----+------------+---------+------+------+---+---------+------+\n",
      "|110828|   0|    15700| 15700|            0|   15700|110828|    0|   15700|     0|   0|       15700|        0|110828|     0|  0|    15700|     0|\n",
      "+------+----+---------+------+-------------+--------+------+-----+--------+------+----+------------+---------+------+------+---+---------+------+\n",
      "\n"
     ]
    }
   ],
   "source": [
    "df.select([count(when(isnull(c), c)).alias(c) for c in df.columns]).show()"
   ]
  },
  {
   "cell_type": "code",
   "execution_count": 38,
   "metadata": {
    "ExecuteTime": {
     "end_time": "2020-03-14T21:46:58.898921Z",
     "start_time": "2020-03-14T21:46:58.481407Z"
    }
   },
   "outputs": [
    {
     "name": "stdout",
     "output_type": "stream",
     "text": [
      "+----------+-----------+\n",
      "|      auth|count(auth)|\n",
      "+----------+-----------+\n",
      "|Logged Out|      15606|\n",
      "| Cancelled|         99|\n",
      "|     Guest|         94|\n",
      "| Logged In|     527906|\n",
      "+----------+-----------+\n",
      "\n"
     ]
    }
   ],
   "source": [
    "df.groupby('auth').agg(count(col('auth'))).show(50)"
   ]
  },
  {
   "cell_type": "code",
   "execution_count": 46,
   "metadata": {
    "ExecuteTime": {
     "end_time": "2020-03-14T22:13:17.244523Z",
     "start_time": "2020-03-14T22:13:17.152911Z"
    }
   },
   "outputs": [
    {
     "name": "stdout",
     "output_type": "stream",
     "text": [
      "+------+----------+---------+------+-------------+--------+------+-----+--------+------+----+------------+---------+----+------+-------------+---------+------+\n",
      "|artist|      auth|firstName|gender|itemInSession|lastName|length|level|location|method|page|registration|sessionId|song|status|           ts|userAgent|userId|\n",
      "+------+----------+---------+------+-------------+--------+------+-----+--------+------+----+------------+---------+----+------+-------------+---------+------+\n",
      "|  null|Logged Out|     null|  null|          186|    null|  null| paid|    null|   GET|Home|        null|      178|null|   200|1538352148000|     null|      |\n",
      "+------+----------+---------+------+-------------+--------+------+-----+--------+------+----+------------+---------+----+------+-------------+---------+------+\n",
      "only showing top 1 row\n",
      "\n"
     ]
    }
   ],
   "source": [
    "df.where(~df.auth.isin(['Logged In', 'Cancelled'])).show(1)"
   ]
  },
  {
   "cell_type": "code",
   "execution_count": 43,
   "metadata": {
    "ExecuteTime": {
     "end_time": "2020-03-14T22:03:26.627411Z",
     "start_time": "2020-03-14T22:03:26.549337Z"
    }
   },
   "outputs": [
    {
     "name": "stdout",
     "output_type": "stream",
     "text": [
      "+------+---------+---------+------+-------------+--------+------+-----+--------------------+------+----+-------------+---------+----+------+-------------+--------------------+------+\n",
      "|artist|     auth|firstName|gender|itemInSession|lastName|length|level|            location|method|page| registration|sessionId|song|status|           ts|           userAgent|userId|\n",
      "+------+---------+---------+------+-------------+--------+------+-----+--------------------+------+----+-------------+---------+----+------+-------------+--------------------+------+\n",
      "|  null|Logged In| Maverick|     M|          190|Santiago|  null| paid|Orlando-Kissimmee...|   GET|Home|1535953455000|      178|null|   200|1538352176000|\"Mozilla/5.0 (Mac...|   179|\n",
      "|  null|Logged In|    Colin|     M|            0|  Larson|  null| free|Dallas-Fort Worth...|   GET|Home|1537982255000|      497|null|   200|1538352241000|Mozilla/5.0 (Wind...|   100|\n",
      "|  null|Logged In|  Gilbert|     M|            7|    Todd|  null| free|Charlotte-Concord...|   GET|Home|1537522781000|      440|null|   200|1538353789000|Mozilla/5.0 (comp...|   147|\n",
      "|  null|Logged In|    Sofia|     F|          279|  Gordon|  null| paid|       Rochester, MN|   GET|Home|1533175710000|      162|null|   200|1538354928000|\"Mozilla/5.0 (Mac...|   163|\n",
      "|  null|Logged In|   Joseph|     M|           39| Morales|  null| free|  Corpus Christi, TX|   GET|Home|1532063507000|      292|null|   200|1538355201000|\"Mozilla/5.0 (Mac...|   293|\n",
      "|  null|Logged In| Maverick|     M|          206|Santiago|  null| paid|Orlando-Kissimmee...|   GET|Home|1535953455000|      178|null|   200|1538355596000|\"Mozilla/5.0 (Mac...|   179|\n",
      "|  null|Logged In|     Joel|     M|            2|  Thomas|  null| free|New York-Newark-J...|   GET|Home|1534248752000|      485|null|   200|1538355882000|\"Mozilla/5.0 (Mac...|   273|\n",
      "|  null|Logged In|      Kee|     M|           21|  Taylor|  null| free|Virginia Beach-No...|   GET|Home|1533764798000|      195|null|   200|1538356790000|\"Mozilla/5.0 (Win...|   196|\n",
      "|  null|Logged In|     Joel|     M|           11|  Thomas|  null| free|New York-Newark-J...|   GET|Home|1534248752000|      485|null|   200|1538357127000|\"Mozilla/5.0 (Mac...|   273|\n",
      "|  null|Logged In|    Colin|     M|           27|  Larson|  null| free|Dallas-Fort Worth...|   GET|Home|1537982255000|      497|null|   200|1538357655000|Mozilla/5.0 (Wind...|   100|\n",
      "+------+---------+---------+------+-------------+--------+------+-----+--------------------+------+----+-------------+---------+----+------+-------------+--------------------+------+\n",
      "only showing top 10 rows\n",
      "\n"
     ]
    }
   ],
   "source": [
    "df.where((df.auth == 'Logged In') & (df.page == 'Home')).show(10)"
   ]
  },
  {
   "cell_type": "code",
   "execution_count": 8,
   "metadata": {
    "ExecuteTime": {
     "end_time": "2020-03-21T20:48:02.213188Z",
     "start_time": "2020-03-21T20:48:02.199435Z"
    }
   },
   "outputs": [
    {
     "name": "stdout",
     "output_type": "stream",
     "text": [
      "Logger instance created\n"
     ]
    }
   ],
   "source": [
    "log4jLogger = spark.sparkContext._jvm.org.apache.log4j\n",
    "\n",
    "LOGGER = log4jLogger.LogManager.getLogger('driver_logger')\n",
    "\n",
    "def info(message, print_on_notebook = True):\n",
    "    LOGGER.info(message)\n",
    "    \n",
    "    if print_on_notebook:\n",
    "        print(message)\n",
    "    \n",
    "info('Logger instance created')"
   ]
  },
  {
   "cell_type": "code",
   "execution_count": 9,
   "metadata": {
    "ExecuteTime": {
     "end_time": "2020-03-21T20:48:05.668990Z",
     "start_time": "2020-03-21T20:48:05.652950Z"
    }
   },
   "outputs": [],
   "source": [
    "CHURN_CANCELLATION_PAGE = 'Cancellation Confirmation'\n",
    "REGISTRATION_PAGE = 'Submit Registration'\n",
    "milliseconds_to_hours = 3600 * 1000\n",
    "minutes_to_hours = 60 * 60\n",
    "TRUE = 1\n",
    "FALSE = 0\n",
    "\n",
    "def clean_dataframe(df):\n",
    "    \n",
    "    info('Starting data cleaning...')\n",
    "    \n",
    "    total_before = df.count()\n",
    "    \n",
    "    # Keep only logged records\n",
    "    df = df.where(df.auth.isin(['Logged In', 'Cancelled']))\n",
    "    \n",
    "    # Records without userId\n",
    "    df = df.where(col('userId').isNotNull())\n",
    "    \n",
    "    # Create a date column for the event\n",
    "    df = df.withColumn('date', from_unixtime(col('ts') / 1000).cast(DateType()))\n",
    "    \n",
    "    # Location\n",
    "    # df = df.withColumn('state', trim(split((split('location', ',').getItem(1)), '-').getItem(0)))\n",
    "    \n",
    "    # Relevant windows\n",
    "    w_session = Window.partitionBy('sessionId').orderBy('ts')\n",
    "    w_user_session = Window.partitionBy('sessionId', 'userId').orderBy('ts').rangeBetween(Window.unboundedPreceding, Window.unboundedFollowing)\n",
    "    w_user = Window.partitionBy('userId').orderBy('ts').rangeBetween(Window.unboundedPreceding, Window.unboundedFollowing)\n",
    "    \n",
    "    # Create features\n",
    "    df = df.withColumn('previous_page', lag(df.page).over(w_session))\n",
    "    df = df.withColumn('last_event_ts', last(col('ts')).over(w_user))\n",
    "    df = df.withColumn('last_page', last(col('page')).over(w_user))\n",
    "    df = df.withColumn('register_page', first(col('previous_page')).over(w_user))\n",
    "    df = df.withColumn('first_ts', first(col('ts')).over(w_user))\n",
    "    df = df.withColumn('ts_elapsed', last(df.ts).over(w_session) - first(df.ts).over(w_user_session))\n",
    "    df = df.withColumn('session_duration', smax(df.ts_elapsed).over(w_user_session))\n",
    "     \n",
    "    info('Finished data cleaning...')\n",
    "    info(f'Number of removed rows: {total_before - df.count()}')\n",
    "    \n",
    "    return df"
   ]
  },
  {
   "cell_type": "code",
   "execution_count": 10,
   "metadata": {
    "ExecuteTime": {
     "end_time": "2020-03-21T20:48:11.252807Z",
     "start_time": "2020-03-21T20:48:08.038640Z"
    }
   },
   "outputs": [
    {
     "name": "stdout",
     "output_type": "stream",
     "text": [
      "Starting data cleaning...\n",
      "Finished data cleaning...\n",
      "Number of removed rows: 15700\n"
     ]
    }
   ],
   "source": [
    "df = clean_dataframe(df)"
   ]
  },
  {
   "cell_type": "markdown",
   "metadata": {},
   "source": [
    "# Exploratory Data Analysis\n",
    "When you're working with the full dataset, perform EDA by loading a small subset of the data and doing basic manipulations within Spark. In this workspace, you are already provided a small subset of data you can explore.\n",
    "\n",
    "### Define Churn\n",
    "\n",
    "Once you've done some preliminary analysis, create a column `Churn` to use as the label for your model. I suggest using the `Cancellation Confirmation` events to define your churn, which happen for both paid and free users. As a bonus task, you can also look into the `Downgrade` events.\n",
    "\n",
    "### Explore Data\n",
    "Once you've defined churn, perform some exploratory data analysis to observe the behavior for users who stayed vs users who churned. You can start by exploring aggregates on these two groups of users, observing how much of a specific action they experienced per a certain time unit or number of songs played."
   ]
  },
  {
   "cell_type": "code",
   "execution_count": 20,
   "metadata": {
    "ExecuteTime": {
     "end_time": "2020-03-08T18:30:01.910759Z",
     "start_time": "2020-03-08T18:30:01.480161Z"
    }
   },
   "outputs": [
    {
     "name": "stdout",
     "output_type": "stream",
     "text": [
      "+--------------------+------+\n",
      "|                page| count|\n",
      "+--------------------+------+\n",
      "|            NextSong|432877|\n",
      "|           Thumbs Up| 23826|\n",
      "|                Home| 19089|\n",
      "|     Add to Playlist| 12349|\n",
      "|          Add Friend|  8087|\n",
      "|         Roll Advert|  7773|\n",
      "|              Logout|  5990|\n",
      "|         Thumbs Down|  4911|\n",
      "|           Downgrade|  3811|\n",
      "|            Settings|  2964|\n",
      "|                Help|  2644|\n",
      "|               About|  1026|\n",
      "|             Upgrade|   968|\n",
      "|       Save Settings|   585|\n",
      "|               Error|   503|\n",
      "|      Submit Upgrade|   287|\n",
      "|    Submit Downgrade|   117|\n",
      "|              Cancel|    99|\n",
      "|Cancellation Conf...|    99|\n",
      "+--------------------+------+\n",
      "\n"
     ]
    }
   ],
   "source": [
    "df.groupBy('page').count().orderBy('count', ascending = False).show(50)"
   ]
  },
  {
   "cell_type": "markdown",
   "metadata": {},
   "source": [
    "Some questions about the data:\n",
    "\n",
    "- Are errors related to downgrading canceling the service?\n",
    "- Having a certain number of friends or a sense of community can decrease the churn?\n",
    "- Thumbs down are related to churn? (could the quality of the songs catalog affect the churn)\n",
    "- The advertising is not annoying the users?\n",
    "- Users with stay connected for more time have less change to churn?\n",
    "- Is the home page relevant?\n",
    "- Users, who access the downgrade page are how much more willing to churn?"
   ]
  },
  {
   "cell_type": "code",
   "execution_count": 21,
   "metadata": {
    "ExecuteTime": {
     "end_time": "2020-03-08T18:30:06.259628Z",
     "start_time": "2020-03-08T18:30:05.841058Z"
    }
   },
   "outputs": [
    {
     "name": "stdout",
     "output_type": "stream",
     "text": [
      "+------+------+\n",
      "|status| count|\n",
      "+------+------+\n",
      "|   200|483600|\n",
      "|   307| 43902|\n",
      "|   404|   503|\n",
      "+------+------+\n",
      "\n"
     ]
    }
   ],
   "source": [
    "df.groupBy('status').count().orderBy('count', ascending = False).show(20)"
   ]
  },
  {
   "cell_type": "code",
   "execution_count": 15,
   "metadata": {
    "ExecuteTime": {
     "end_time": "2020-03-01T22:44:01.657485Z",
     "start_time": "2020-03-01T22:44:01.094695Z"
    }
   },
   "outputs": [
    {
     "name": "stdout",
     "output_type": "stream",
     "text": [
      "+----------------+-----+\n",
      "|            page|count|\n",
      "+----------------+-----+\n",
      "|        NextSong| 8177|\n",
      "|       Thumbs Up|  400|\n",
      "|            Home|  308|\n",
      "| Add to Playlist|  248|\n",
      "|      Add Friend|  158|\n",
      "|          Logout|   96|\n",
      "|       Downgrade|   85|\n",
      "|     Thumbs Down|   80|\n",
      "|            Help|   62|\n",
      "|     Roll Advert|   60|\n",
      "|        Settings|   48|\n",
      "|           About|   17|\n",
      "|           Error|   13|\n",
      "|         Upgrade|    7|\n",
      "|   Save Settings|    5|\n",
      "|  Submit Upgrade|    2|\n",
      "|Submit Downgrade|    1|\n",
      "+----------------+-----+\n",
      "\n"
     ]
    }
   ],
   "source": [
    "df.filter('userId = 92').groupBy('page').count().orderBy('count', ascending = False).show(50)"
   ]
  },
  {
   "cell_type": "code",
   "execution_count": 22,
   "metadata": {
    "ExecuteTime": {
     "end_time": "2020-03-08T18:30:16.616860Z",
     "start_time": "2020-03-08T18:30:16.073824Z"
    }
   },
   "outputs": [
    {
     "name": "stdout",
     "output_type": "stream",
     "text": [
      "+----------------+-----+\n",
      "|            page|count|\n",
      "+----------------+-----+\n",
      "|        NextSong| 8177|\n",
      "|       Thumbs Up|  400|\n",
      "|            Home|  308|\n",
      "| Add to Playlist|  248|\n",
      "|      Add Friend|  158|\n",
      "|          Logout|   96|\n",
      "|       Downgrade|   85|\n",
      "|     Thumbs Down|   80|\n",
      "|            Help|   62|\n",
      "|     Roll Advert|   60|\n",
      "|        Settings|   48|\n",
      "|           About|   17|\n",
      "|           Error|   13|\n",
      "|         Upgrade|    7|\n",
      "|   Save Settings|    5|\n",
      "|  Submit Upgrade|    2|\n",
      "|Submit Downgrade|    1|\n",
      "+----------------+-----+\n",
      "\n"
     ]
    }
   ],
   "source": [
    "df.filter('userId = 92').groupBy('page').count().orderBy('count', ascending = False).show(50)"
   ]
  },
  {
   "cell_type": "code",
   "execution_count": 24,
   "metadata": {
    "ExecuteTime": {
     "end_time": "2020-03-08T18:30:29.650593Z",
     "start_time": "2020-03-08T18:30:29.435808Z"
    }
   },
   "outputs": [
    {
     "name": "stdout",
     "output_type": "stream",
     "text": [
      "+----------------------------------------------------------------------------------------------------------------------------------+-----+\n",
      "|userAgent                                                                                                                         |count|\n",
      "+----------------------------------------------------------------------------------------------------------------------------------+-----+\n",
      "|\"Mozilla/5.0 (iPad; CPU OS 7_1_2 like Mac OS X) AppleWebKit/537.51.2 (KHTML, like Gecko) Version/7.0 Mobile/11D257 Safari/9537.53\"|9767 |\n",
      "+----------------------------------------------------------------------------------------------------------------------------------+-----+\n",
      "\n"
     ]
    }
   ],
   "source": [
    "df.filter('userId = 92').groupBy('userAgent').count().orderBy('count', ascending = False).show(50, False)"
   ]
  },
  {
   "cell_type": "code",
   "execution_count": 25,
   "metadata": {
    "ExecuteTime": {
     "end_time": "2020-03-08T18:30:37.323100Z",
     "start_time": "2020-03-08T18:30:36.828209Z"
    }
   },
   "outputs": [
    {
     "name": "stdout",
     "output_type": "stream",
     "text": [
      "+-------------------------------------------------------------------+-----+\n",
      "|song                                                               |count|\n",
      "+-------------------------------------------------------------------+-----+\n",
      "|You're The One                                                     |49   |\n",
      "|Undo                                                               |34   |\n",
      "|Revelry                                                            |28   |\n",
      "|Horn Concerto No. 4 in E flat K495: II. Romance (Andante cantabile)|27   |\n",
      "|Ain't Misbehavin                                                   |23   |\n",
      "|Secrets                                                            |20   |\n",
      "|Invalid                                                            |20   |\n",
      "|Dog Days Are Over (Radio Edit)                                     |19   |\n",
      "|Tive Sim                                                           |18   |\n",
      "|Use Somebody                                                       |16   |\n",
      "|Marry Me                                                           |16   |\n",
      "|Canada                                                             |16   |\n",
      "|ReprÃÂ©sente                                                      |15   |\n",
      "|Sayonara-Nostalgia                                                 |14   |\n",
      "|Sehr kosmisch                                                      |14   |\n",
      "|Bring Me To Life                                                   |14   |\n",
      "|Bulletproof                                                        |13   |\n",
      "|Catch You Baby (Steve Pitron & Max Sanna Radio Edit)               |13   |\n",
      "|I CAN'T GET STARTED                                                |12   |\n",
      "|Home                                                               |11   |\n",
      "|Kryptonite                                                         |10   |\n",
      "|Fireflies                                                          |10   |\n",
      "|Hey_ Soul Sister                                                   |10   |\n",
      "|Yellow                                                             |10   |\n",
      "|The Maestro                                                        |10   |\n",
      "|Don't Stop The Music                                               |10   |\n",
      "|Make Love To Your Mind                                             |10   |\n",
      "|Bubble Toes                                                        |9    |\n",
      "|Times Like These                                                   |9    |\n",
      "|Drop The World                                                     |9    |\n",
      "|SinceritÃÂ© Et Jalousie                                           |9    |\n",
      "|Day 'N' Nite                                                       |9    |\n",
      "|Tighten Up                                                         |8    |\n",
      "|Nothin' On You [feat. Bruno Mars] (Album Version)                  |8    |\n",
      "|Hotel California                                                   |8    |\n",
      "|Party In The U.S.A.                                                |8    |\n",
      "|Greece 2000                                                        |8    |\n",
      "|Sugar Ray (LP Version)                                             |8    |\n",
      "|Who Can Compare                                                    |8    |\n",
      "|Mercy:The Laundromat                                               |8    |\n",
      "|The Gift                                                           |8    |\n",
      "|Fuck Kitty                                                         |8    |\n",
      "|The Real Slim Shady                                                |8    |\n",
      "|Bleed It Out [Live At Milton Keynes]                               |8    |\n",
      "|Hochmah (Interlude)                                                |8    |\n",
      "|Sinisten tÃÂ¤htien alla                                           |7    |\n",
      "|16 Candles                                                         |7    |\n",
      "|OMG                                                                |7    |\n",
      "|My Name Is                                                         |7    |\n",
      "|Everlong                                                           |7    |\n",
      "+-------------------------------------------------------------------+-----+\n",
      "only showing top 50 rows\n",
      "\n"
     ]
    }
   ],
   "source": [
    "df.filter('userId = 92 and song != \\'null\\' ').groupBy('song').count().orderBy('count', ascending = False).show(50, False)"
   ]
  },
  {
   "cell_type": "markdown",
   "metadata": {},
   "source": [
    "# Feature Engineering\n",
    "Once you've familiarized yourself with the data, build out the features you find promising to train your model on. To work with the full dataset, you can follow the following steps.\n",
    "- Write a script to extract the necessary features from the smaller subset of data\n",
    "- Ensure that your script is scalable, using the best practices discussed in Lesson 3\n",
    "- Try your script on the full data set, debugging your script if necessary\n",
    "\n",
    "If you are working in the classroom workspace, you can just extract features based on the small subset of data contained here. Be sure to transfer over this work to the larger dataset when you work on your Spark cluster."
   ]
  },
  {
   "cell_type": "code",
   "execution_count": 11,
   "metadata": {
    "ExecuteTime": {
     "end_time": "2020-03-21T20:48:34.695716Z",
     "start_time": "2020-03-21T20:48:34.664329Z"
    }
   },
   "outputs": [],
   "source": [
    "def create_session_dimension(df):\n",
    "    \n",
    "    # sessions from the user\n",
    "    df_sessions = df.orderBy(df.sessionId).groupBy('sessionId', 'userId').agg(\n",
    "        smax(df.ts).alias('max_event_ts'),\n",
    "        smin(df.ts).alias('min_event_ts'),\n",
    "        ssum(df.length).alias('session_n_total_playback'), # Based on songs length\n",
    "        count(when(df.page == 'Thumbs Up', True)).alias(\"session_n_likes\"),\n",
    "        count(when(df.page == 'Thumbs Down', True)).alias(\"session_n_dislikes\"),\n",
    "        count(when(df.page == 'NextSong', True)).alias(\"session_n_songs\"),\n",
    "        count(when(df.page == 'Add Friend', True)).alias(\"session_n_friends\"),\n",
    "        count(when(df.page == 'Add to Playlist', True)).alias(\"session_n_add_playlist\"),\n",
    "        count(when(df.page == 'Home', True)).alias(\"session_n_home\"),\n",
    "        count(when(df.page == 'Roll Advert', True)).alias(\"session_n_ads\"),\n",
    "        count(when(df.page == 'Help', True)).alias(\"session_n_help\"),\n",
    "        count(when(df.page == 'Error', True)).alias(\"session_n_error\"),\n",
    "        count(when(df.page == 'Settings', True)).alias(\"session_n_sets\"),\n",
    "        count(col('page')).alias('session_n_actions'),\n",
    "        first(col('session_duration')).alias('session_duration')\n",
    "    ) \n",
    "    \n",
    "    # Calculate the interval until the next session\n",
    "    w_user_sessions_interval = Window.partitionBy('userId').orderBy('min_event_ts')\n",
    "    df_sessions = df_sessions.withColumn('interval_to_session', col('min_event_ts') - lag(col('max_event_ts')).over(w_user_sessions_interval))\n",
    "    \n",
    "    # Calculate average time in hours for each session\n",
    "    df_session_time = df_sessions.groupBy('userId').agg(\n",
    "       (avg(df_sessions.session_duration) / milliseconds_to_hours).alias('session_hours')\n",
    "    )\n",
    "    df_sessions = df_sessions.join(df_session_time, on = 'userId')\n",
    "    \n",
    "    # We should remove the null lines before count/group to not account 2 times the mean interval\n",
    "    df_sessions = df_sessions.groupBy('userId').agg(  \n",
    "        (avg(df_sessions.interval_to_session) / milliseconds_to_hours).alias('session_avg_time_away'),\n",
    "        ((avg(df_sessions.session_n_total_playback) / minutes_to_hours) / first(col('session_hours'))).alias('session_avg_playback'), \n",
    "        (avg(df_sessions.session_n_likes) / first(col('session_hours'))).alias('session_avg_likes'),\n",
    "        (avg(df_sessions.session_n_dislikes) / first(col('session_hours'))).alias('session_avg_dislikes'),\n",
    "        (avg(df_sessions.session_n_songs) / first(col('session_hours'))).alias('session_avg_songs'),\n",
    "        (avg(df_sessions.session_n_friends) / first(col('session_hours'))).alias('session_avg_friends'),\n",
    "        (avg(df_sessions.session_n_add_playlist) / first(col('session_hours'))).alias('session_avg_added_playlist'),\n",
    "        (avg(df_sessions.session_n_home) / first(col('session_hours'))).alias('session_avg_home'),\n",
    "        (avg(df_sessions.session_n_ads) / first(col('session_hours'))).alias('session_avg_ads'),\n",
    "        (avg(df_sessions.session_n_help) / first(col('session_hours'))).alias('session_avg_help'),\n",
    "        (avg(df_sessions.session_n_error) / first(col('session_hours'))).alias('session_avg_errors'),\n",
    "        (avg(df_sessions.session_n_sets) / first(col('session_hours'))).alias('session_avg_settings'),\n",
    "        (avg(df_sessions.session_n_actions) / first(col('session_hours'))).alias('session_avg_actions')\n",
    "    )\n",
    "    \n",
    "    return df_sessions\n",
    "\n",
    "def create_user_dimension(df):\n",
    "    \n",
    "    df_user_profile = df.groupby('userId')\\\n",
    "        .agg( \n",
    "\n",
    "            # first(col('state')).alias('state'),\n",
    "            first(when(col('gender') == 'M', TRUE).otherwise(FALSE)).alias('male'),\n",
    "\n",
    "            smin(col('first_ts')).alias('ts_start'),\n",
    "            smax(col('last_event_ts')).alias('ts_end'),        \n",
    "        \n",
    "            ((smax(col('last_event_ts')) - smin(col('first_ts'))) / milliseconds_to_hours).alias('time_window'),\n",
    "        \n",
    "            # Subscription\n",
    "            count(when(col('page') == 'Submit Downgrade', True)).alias('n_downgrades'),\n",
    "            count(when(col('page') == 'Submit Upgrade', True)).alias('n_upgrades'),\n",
    "            last(when(col('level') == 'paid', TRUE).otherwise(FALSE)).alias('paid'),\n",
    "            first(when(col('last_page') == CHURN_CANCELLATION_PAGE, TRUE).otherwise(FALSE)).alias('canceled'),\n",
    "\n",
    "            # Streaming\n",
    "            count(when(col('page') == 'NextSong', True)).alias('n_songs'),\n",
    "            count(when(col('page') == 'Thumbs Up', True)).alias('n_likes'),\n",
    "            count(when(col('page') == 'Thumbs Down', True)).alias('n_dislikes'),\n",
    "            countDistinct(col('sessionId')).alias('n_sess'),\n",
    "            (avg(col('session_duration')) / milliseconds_to_hours).alias('avg_session_duration'),\n",
    "\n",
    "            # Community\n",
    "            count(when(col('page') == 'Add Friend', True)).alias('n_friends'),\n",
    "            count(when(col('page') == 'Add to Playlist', True)).alias('n_added_to_playlist'),\n",
    "\n",
    "            # Other\n",
    "            count(when(col('page') == 'Home', True)).alias('n_home'),\n",
    "            count(when(col('page') == 'Roll Advert', True)).alias('n_ads'),\n",
    "            count(when(col('page') == 'Help', True)).alias('n_help'),\n",
    "            count(when(col('page') == 'Error', True)).alias('n_errors'),\n",
    "            count(when(col('page') == 'Settings', True)).alias('n_settings'),\n",
    "            count(col('page')).alias('n_actions')\n",
    "        )\n",
    "    \n",
    "    \n",
    "    # Location\n",
    "    # states = list(map(lambda c: c[0].strip(), df.select(['state']).distinct().rdd.collect()))\n",
    "    # for state in states:\n",
    "    #    df_user_profile = df_user_profile.withColumn(state.lower(), when(df_user_profile.state == state, 1).otherwise(0))\n",
    "    \n",
    "    return df_user_profile\n",
    "\n",
    "def create_days_dimension(df):\n",
    "    \n",
    "    df_unique_days = df.groupby('userId').agg(countDistinct('date').alias('n_days'))\n",
    "    \n",
    "    df_daily_actions = df.groupby('userId', 'date').agg(count('page').alias('total'))\n",
    "    df_daily_actions = df_daily_actions.groupby('userId').agg(avg('total').alias('avg_daily_actions')) \n",
    "\n",
    "    df_days = df_unique_days.join(df_daily_actions, df_unique_days.userId == df_daily_actions.userId)\n",
    "    \n",
    "    # Remove duplicated column after join\n",
    "    df_days = df_days.drop(df_daily_actions.userId)\n",
    "    \n",
    "    return df_days\n",
    "\n",
    "def sort_features(df, columns_order):\n",
    "    _columns = df.columns\n",
    "    _columns.sort()\n",
    "    \n",
    "    for _idx, _val in list(enumerate(columns_order)):\n",
    "        _columns.pop(_columns.index(_val))\n",
    "        _columns.insert(_idx, _val)\n",
    "        \n",
    "    assert len(_columns) == len(df.columns)\n",
    "\n",
    "    return _columns"
   ]
  },
  {
   "cell_type": "code",
   "execution_count": 12,
   "metadata": {
    "ExecuteTime": {
     "end_time": "2020-03-21T20:48:38.808116Z",
     "start_time": "2020-03-21T20:48:38.055995Z"
    }
   },
   "outputs": [],
   "source": [
    "df_sessions = create_session_dimension(df)\n",
    "df_days = create_days_dimension(df)\n",
    "\n",
    "df_users = create_user_dimension(df)\n",
    "df_users = df_users.orderBy(df_users.userId).join(df_days, on = 'userId')\n",
    "\n",
    "_columns = sort_features(df_users, [ 'userId', 'male', 'paid', 'canceled'])\n",
    "_columns = list(set(df_users.schema.names + df_sessions.schema.names) - set(['ts_start', 'ts_end', 'state']))\n",
    "\n",
    "df_users = df_users.orderBy(df_users.userId).join(df_sessions, on = 'userId').select(_columns) "
   ]
  },
  {
   "cell_type": "code",
   "execution_count": 13,
   "metadata": {
    "ExecuteTime": {
     "end_time": "2020-03-21T20:48:42.386121Z",
     "start_time": "2020-03-21T20:48:42.376902Z"
    }
   },
   "outputs": [
    {
     "data": {
      "text/plain": [
       "['session_avg_ads',\n",
       " 'avg_daily_actions',\n",
       " 'session_avg_friends',\n",
       " 'n_dislikes',\n",
       " 'n_home',\n",
       " 'male',\n",
       " 'n_actions',\n",
       " 'session_avg_playback',\n",
       " 'n_added_to_playlist',\n",
       " 'userId',\n",
       " 'n_downgrades',\n",
       " 'n_sess',\n",
       " 'session_avg_errors',\n",
       " 'avg_session_duration',\n",
       " 'session_avg_actions',\n",
       " 'session_avg_settings',\n",
       " 'n_days',\n",
       " 'n_upgrades',\n",
       " 'session_avg_time_away',\n",
       " 'session_avg_added_playlist',\n",
       " 'session_avg_dislikes',\n",
       " 'n_likes',\n",
       " 'n_settings',\n",
       " 'time_window',\n",
       " 'session_avg_help',\n",
       " 'session_avg_songs',\n",
       " 'n_songs',\n",
       " 'session_avg_home',\n",
       " 'n_friends',\n",
       " 'n_ads',\n",
       " 'canceled',\n",
       " 'paid',\n",
       " 'n_help',\n",
       " 'n_errors',\n",
       " 'session_avg_likes']"
      ]
     },
     "execution_count": 13,
     "metadata": {},
     "output_type": "execute_result"
    }
   ],
   "source": [
    "df_users.columns"
   ]
  },
  {
   "cell_type": "code",
   "execution_count": 14,
   "metadata": {
    "ExecuteTime": {
     "end_time": "2020-03-21T20:49:03.344898Z",
     "start_time": "2020-03-21T20:48:49.766564Z"
    }
   },
   "outputs": [
    {
     "name": "stdout",
     "output_type": "stream",
     "text": [
      "-RECORD 0----------------------------\n",
      " session_avg_ads            | 3      \n",
      " avg_daily_actions          | 69     \n",
      " session_avg_friends        | 0      \n",
      " n_dislikes                 | 3      \n",
      " n_home                     | 3      \n",
      " male                       | 0      \n",
      " n_actions                  | 137    \n",
      " session_avg_playback       | 1      \n",
      " n_added_to_playlist        | 1      \n",
      " userId                     | 100010 \n",
      " n_downgrades               | 0      \n",
      " n_sess                     | 2      \n",
      " session_avg_errors         | 0      \n",
      " avg_session_duration       | 4      \n",
      " session_avg_actions        | 20     \n",
      " session_avg_settings       | 0      \n",
      " n_days                     | 2      \n",
      " n_upgrades                 | 0      \n",
      " session_avg_time_away      | 66     \n",
      " session_avg_added_playlist | 0      \n",
      " session_avg_dislikes       | 0      \n",
      " n_likes                    | 4      \n",
      " n_settings                 | 0      \n",
      " time_window                | 73     \n",
      " session_avg_help           | 0      \n",
      " session_avg_songs          | 14     \n",
      " n_songs                    | 96     \n",
      " session_avg_home           | 0      \n",
      " n_friends                  | 3      \n",
      " n_ads                      | 22     \n",
      " canceled                   | 1      \n",
      " paid                       | 0      \n",
      " n_help                     | 0      \n",
      " n_errors                   | 0      \n",
      " session_avg_likes          | 1      \n",
      "-RECORD 1----------------------------\n",
      " session_avg_ads            | 1      \n",
      " avg_daily_actions          | 66     \n",
      " session_avg_friends        | 0      \n",
      " n_dislikes                 | 5      \n",
      " n_home                     | 23     \n",
      " male                       | 1      \n",
      " n_actions                  | 395    \n",
      " session_avg_playback       | 1      \n",
      " n_added_to_playlist        | 6      \n",
      " userId                     | 200002 \n",
      " n_downgrades               | 0      \n",
      " n_sess                     | 5      \n",
      " session_avg_errors         | 0      \n",
      " avg_session_duration       | 6      \n",
      " session_avg_actions        | 18     \n",
      " session_avg_settings       | 0      \n",
      " n_days                     | 6      \n",
      " n_upgrades                 | 1      \n",
      " session_avg_time_away      | 167    \n",
      " session_avg_added_playlist | 0      \n",
      " session_avg_dislikes       | 0      \n",
      " n_likes                    | 15     \n",
      " n_settings                 | 2      \n",
      " time_window                | 690    \n",
      " session_avg_help           | 0      \n",
      " session_avg_songs          | 14     \n",
      " n_songs                    | 310    \n",
      " session_avg_home           | 1      \n",
      " n_friends                  | 2      \n",
      " n_ads                      | 11     \n",
      " canceled                   | 1      \n",
      " paid                       | 0      \n",
      " n_help                     | 1      \n",
      " n_errors                   | 0      \n",
      " session_avg_likes          | 1      \n",
      "only showing top 2 rows\n",
      "\n"
     ]
    }
   ],
   "source": [
    "### WARN: Only round to display\n",
    "# Enforces the order for some columns\n",
    "df_users.select([sround(c, 0).cast(dataType = IntegerType()).alias(c) for c in _columns]).fillna(0).show(2, True, vertical = True)"
   ]
  },
  {
   "cell_type": "code",
   "execution_count": 15,
   "metadata": {
    "ExecuteTime": {
     "end_time": "2020-03-21T20:49:25.483187Z",
     "start_time": "2020-03-21T20:49:15.575158Z"
    }
   },
   "outputs": [],
   "source": [
    "df_users.select(_columns).fillna(0).toPandas().to_csv('sparkify_data_final.csv', index = False)"
   ]
  },
  {
   "cell_type": "code",
   "execution_count": 16,
   "metadata": {
    "ExecuteTime": {
     "end_time": "2020-03-21T20:49:53.790091Z",
     "start_time": "2020-03-21T20:49:53.293466Z"
    }
   },
   "outputs": [
    {
     "name": "stdout",
     "output_type": "stream",
     "text": [
      "+------------+\n",
      "|unique_users|\n",
      "+------------+\n",
      "|         448|\n",
      "+------------+\n",
      "\n"
     ]
    }
   ],
   "source": [
    "df.agg(countDistinct(df.userId).alias('unique_users')).show()"
   ]
  },
  {
   "cell_type": "code",
   "execution_count": 544,
   "metadata": {},
   "outputs": [
    {
     "data": {
      "text/plain": [
       "425"
      ]
     },
     "execution_count": 544,
     "metadata": {},
     "output_type": "execute_result"
    }
   ],
   "source": [
    "df_users.orderBy(df_users.userId).join(df_sessions, on = 'userId').select(_columns).count()"
   ]
  },
  {
   "cell_type": "code",
   "execution_count": 548,
   "metadata": {},
   "outputs": [
    {
     "name": "stdout",
     "output_type": "stream",
     "text": [
      "+--------+-----+\n",
      "|canceled|total|\n",
      "+--------+-----+\n",
      "|       1|   90|\n",
      "|       0|  335|\n",
      "+--------+-----+\n",
      "\n"
     ]
    }
   ],
   "source": [
    "df_users.orderBy(df_users.userId).join(df_sessions, on = 'userId').select(_columns).groupBy('canceled').agg(count(df_users.canceled).alias('total')).show()"
   ]
  },
  {
   "cell_type": "markdown",
   "metadata": {},
   "source": [
    "- Advertises number (per session and all)\n",
    "    - The user **100010** returned after some idle time and received a considerable amount of advertises;\n",
    "    - Also, after thumbs down, I received two advertisements on four sounds. Then canceled the service.\n",
    "- Number of sessions\n",
    "- Paid subscription time\n",
    "- Avg songs before an ad\n",
    "- Number of skipped songs"
   ]
  },
  {
   "cell_type": "code",
   "execution_count": 553,
   "metadata": {},
   "outputs": [
    {
     "data": {
      "text/plain": [
       "['artist',\n",
       " 'auth',\n",
       " 'firstName',\n",
       " 'gender',\n",
       " 'itemInSession',\n",
       " 'lastName',\n",
       " 'length',\n",
       " 'level',\n",
       " 'location',\n",
       " 'method',\n",
       " 'page',\n",
       " 'registration',\n",
       " 'sessionId',\n",
       " 'song',\n",
       " 'status',\n",
       " 'ts',\n",
       " 'userAgent',\n",
       " 'userId']"
      ]
     },
     "execution_count": 553,
     "metadata": {},
     "output_type": "execute_result"
    }
   ],
   "source": [
    "df.schema.names"
   ]
  },
  {
   "cell_type": "code",
   "execution_count": null,
   "metadata": {},
   "outputs": [],
   "source": [
    "to_date(df.ts.cast(dataType=TimestampType()))"
   ]
  },
  {
   "cell_type": "code",
   "execution_count": 581,
   "metadata": {},
   "outputs": [
    {
     "name": "stdout",
     "output_type": "stream",
     "text": [
      "+--------------------+---------+---------+------+-------------+---------+---------+-----+--------------------+---------+--------------------+-------------+------+-------------------+\n",
      "|              artist|     auth|firstName|gender|itemInSession| lastName|   length|level|                page|sessionId|                song|           ts|userId|           datetime|\n",
      "+--------------------+---------+---------+------+-------------+---------+---------+-----+--------------------+---------+--------------------+-------------+------+-------------------+\n",
      "|              Darude|Logged In| Darianna|     F|            0|Carpenter|226.08934| free|            NextSong|       62|           Sandstorm|1538991392000|100010|06:36:32 08-10-2018|\n",
      "|             Justice|Logged In| Darianna|     F|            1|Carpenter|285.41342| free|            NextSong|       62|Phantom Part 1.5 ...|1538991618000|100010|06:40:18 08-10-2018|\n",
      "|    Five Iron Frenzy|Logged In| Darianna|     F|            2|Carpenter|236.09424| free|            NextSong|       62|              Canada|1538991903000|100010|06:45:03 08-10-2018|\n",
      "|          Carpenters|Logged In| Darianna|     F|            3|Carpenter|250.25261| free|            NextSong|       62|      Ticket To Ride|1538992139000|100010|06:48:59 08-10-2018|\n",
      "|               Uffie|Logged In| Darianna|     F|            4|Carpenter|227.52608| free|            NextSong|       62|   Dismissed (Uffie)|1538992389000|100010|06:53:09 08-10-2018|\n",
      "|       Lonnie Gordon|Logged In| Darianna|     F|            5|Carpenter|181.21098| free|            NextSong|       62|Catch You Baby (S...|1538992616000|100010|06:56:56 08-10-2018|\n",
      "|            Calle 13|Logged In| Darianna|     F|            6|Carpenter|267.67628| free|            NextSong|       62|     Fiesta De Locos|1538992797000|100010|06:59:57 08-10-2018|\n",
      "|            Ice Cube|Logged In| Darianna|     F|            7|Carpenter|248.29342| free|            NextSong|       62|U Ain't Gonna Tak...|1538993064000|100010|07:04:24 08-10-2018|\n",
      "|                null|Logged In| Darianna|     F|            8|Carpenter|     null| free|         Roll Advert|       62|                null|1538993076000|100010|07:04:36 08-10-2018|\n",
      "|        Wakey!Wakey!|Logged In| Darianna|     F|            9|Carpenter|173.40036| free|            NextSong|       62|       Dance So Good|1538993312000|100010|07:08:32 08-10-2018|\n",
      "|Mick Abrahams fro...|Logged In| Darianna|     F|           10|Carpenter| 202.9971| free|            NextSong|       62|    Sonf For Jeffery|1538993485000|100010|07:11:25 08-10-2018|\n",
      "|                null|Logged In| Darianna|     F|           11|Carpenter|     null| free|                Home|       62|                null|1538993496000|100010|07:11:36 08-10-2018|\n",
      "|      Colbie Caillat|Logged In| Darianna|     F|           12|Carpenter|355.57832| free|            NextSong|       62|Turn Your Lights ...|1538993687000|100010|07:14:47 08-10-2018|\n",
      "|                  LU|Logged In| Darianna|     F|           13|Carpenter|258.84689| free|            NextSong|       62|               Maria|1538994042000|100010|07:20:42 08-10-2018|\n",
      "|                null|Logged In| Darianna|     F|           14|Carpenter|     null| free|         Roll Advert|       62|                null|1538994047000|100010|07:20:47 08-10-2018|\n",
      "|         Linkin Park|Logged In| Darianna|     F|           15|Carpenter|259.86567| free|            NextSong|       62|         My December|1538994300000|100010|07:25:00 08-10-2018|\n",
      "|   Alanis Morissette|Logged In| Darianna|     F|           16|Carpenter|239.41179| free|            NextSong|       62|You Learn (Album ...|1538994559000|100010|07:29:19 08-10-2018|\n",
      "|              G-Unit|Logged In| Darianna|     F|           17|Carpenter|287.00689| free|            NextSong|       62|              G'D Up|1538994798000|100010|07:33:18 08-10-2018|\n",
      "|       Billy Stewart|Logged In| Darianna|     F|           18|Carpenter|160.70485| free|            NextSong|       62|          Summertime|1538995085000|100010|07:38:05 08-10-2018|\n",
      "|      Zac Brown Band|Logged In| Darianna|     F|           19|Carpenter|237.08689| free|            NextSong|       62|Chicken Fried (Al...|1538995245000|100010|07:40:45 08-10-2018|\n",
      "|          Strung Out|Logged In| Darianna|     F|           20|Carpenter|210.70322| free|            NextSong|       62|           Swan Dive|1538995482000|100010|07:44:42 08-10-2018|\n",
      "|                null|Logged In| Darianna|     F|           21|Carpenter|     null| free|         Roll Advert|       62|                null|1538995563000|100010|07:46:03 08-10-2018|\n",
      "|                null|Logged In| Darianna|     F|           22|Carpenter|     null| free|         Roll Advert|       62|                null|1538995571000|100010|07:46:11 08-10-2018|\n",
      "|   Gonzalo Rubalcaba|Logged In| Darianna|     F|           23|Carpenter|359.20934| free|            NextSong|       62|              Smooch|1538995692000|100010|07:48:12 08-10-2018|\n",
      "|      PlayRadioPlay!|Logged In| Darianna|     F|           24|Carpenter|255.03302| free|            NextSong|       62|Bad Cops Bad Char...|1538996051000|100010|07:54:11 08-10-2018|\n",
      "|                null|Logged In| Darianna|     F|           25|Carpenter|     null| free|         Roll Advert|       62|                null|1538996055000|100010|07:54:15 08-10-2018|\n",
      "|       Kings Of Leon|Logged In| Darianna|     F|           26|Carpenter|201.79546| free|            NextSong|       62|             Revelry|1538996306000|100010|07:58:26 08-10-2018|\n",
      "|            System 7|Logged In| Darianna|     F|           27|Carpenter|358.71302| free|            NextSong|       62|            Altitude|1538996507000|100010|08:01:47 08-10-2018|\n",
      "|           Fela Kuti|Logged In| Darianna|     F|           28|Carpenter|694.67383| free|            NextSong|       62|       Monkey Banana|1538996865000|100010|08:07:45 08-10-2018|\n",
      "|   3 Inches Of Blood|Logged In| Darianna|     F|           29|Carpenter|221.09995| free|            NextSong|       62|Trial Of Champion...|1538997559000|100010|08:19:19 08-10-2018|\n",
      "|                null|Logged In| Darianna|     F|           30|Carpenter|     null| free|         Roll Advert|       62|                null|1538997565000|100010|08:19:25 08-10-2018|\n",
      "|            Amr Diab|Logged In| Darianna|     F|           31|Carpenter| 304.8224| free|            NextSong|       62|         Nour El Ain|1538997780000|100010|08:23:00 08-10-2018|\n",
      "|             Inverse|Logged In| Darianna|     F|           32|Carpenter|225.69751| free|            NextSong|       62|Spark My Soul (fe...|1538998084000|100010|08:28:04 08-10-2018|\n",
      "|                null|Logged In| Darianna|     F|           33|Carpenter|     null| free|           Thumbs Up|       62|                null|1538998085000|100010|08:28:05 08-10-2018|\n",
      "|        Tift Merritt|Logged In| Darianna|     F|           34|Carpenter|386.95138| free|            NextSong|       62|Ain't Looking Clo...|1538998309000|100010|08:31:49 08-10-2018|\n",
      "|          Jamie Foxx|Logged In| Darianna|     F|           35|Carpenter|202.57914| free|            NextSong|       62|        I Don't Know|1538998695000|100010|08:38:15 08-10-2018|\n",
      "|                 M83|Logged In| Darianna|     F|           36|Carpenter|249.46893| free|            NextSong|       62|    Run Into Flowers|1538998897000|100010|08:41:37 08-10-2018|\n",
      "|                null|Logged In| Darianna|     F|           37|Carpenter|     null| free|         Roll Advert|       62|                null|1538998897000|100010|08:41:37 08-10-2018|\n",
      "|        The Jayhawks|Logged In| Darianna|     F|           38|Carpenter|258.79465| free|            NextSong|       62|        Pretty Thing|1538999146000|100010|08:45:46 08-10-2018|\n",
      "|     Dominik Eulberg|Logged In| Darianna|     F|           39|Carpenter|504.37179| free|            NextSong|       62|              Bionik|1538999404000|100010|08:50:04 08-10-2018|\n",
      "|                null|Logged In| Darianna|     F|           40|Carpenter|     null| free|         Thumbs Down|       62|                null|1538999405000|100010|08:50:05 08-10-2018|\n",
      "|Selena Gomez & Th...|Logged In| Darianna|     F|           41|Carpenter|241.91955| free|            NextSong|       62|           Naturally|1538999908000|100010|08:58:28 08-10-2018|\n",
      "|       Dwight Yoakam|Logged In| Darianna|     F|           42|Carpenter| 239.3073| free|            NextSong|       62|      You're The One|1539000149000|100010|09:02:29 08-10-2018|\n",
      "|                null|Logged In| Darianna|     F|           43|Carpenter|     null| free|          Add Friend|       62|                null|1539000150000|100010|09:02:30 08-10-2018|\n",
      "|         John Legend|Logged In| Darianna|     F|           44|Carpenter|228.96281| free|            NextSong|       62|       Stay With You|1539000388000|100010|09:06:28 08-10-2018|\n",
      "|                null|Logged In| Darianna|     F|           45|Carpenter|     null| free|         Roll Advert|       62|                null|1539000413000|100010|09:06:53 08-10-2018|\n",
      "|     Nine Inch Nails|Logged In| Darianna|     F|           46|Carpenter|213.86404| free|            NextSong|       62|    In This Twilight|1539000616000|100010|09:10:16 08-10-2018|\n",
      "|         The Strokes|Logged In| Darianna|     F|           47|Carpenter|151.32689| free|            NextSong|       62|          Is This It|1539000829000|100010|09:13:49 08-10-2018|\n",
      "|                null|Logged In| Darianna|     F|           48|Carpenter|     null| free|         Thumbs Down|       62|                null|1539000830000|100010|09:13:50 08-10-2018|\n",
      "|   Dustin O'Halloran|Logged In| Darianna|     F|           49|Carpenter| 190.1971| free|            NextSong|       62|         Opus No. 12|1539000980000|100010|09:16:20 08-10-2018|\n",
      "|           Underoath|Logged In| Darianna|     F|           50|Carpenter|203.88526| free|            NextSong|       62|The Impact Of Reason|1539001170000|100010|09:19:30 08-10-2018|\n",
      "|                null|Logged In| Darianna|     F|           51|Carpenter|     null| free|     Add to Playlist|       62|                null|1539001173000|100010|09:19:33 08-10-2018|\n",
      "|          Belleruche|Logged In| Darianna|     F|           52|Carpenter| 221.6224| free|            NextSong|       62|      Northern Girls|1539001373000|100010|09:22:53 08-10-2018|\n",
      "|           Buddy Guy|Logged In| Darianna|     F|           53|Carpenter|982.96118| free|            NextSong|       62|The Dollar Done Fell|1539001594000|100010|09:26:34 08-10-2018|\n",
      "|                Muse|Logged In| Darianna|     F|           54|Carpenter|301.73995| free|            NextSong|       62|Butterflies and H...|1539002576000|100010|09:42:56 08-10-2018|\n",
      "|                null|Logged In| Darianna|     F|           55|Carpenter|     null| free|         Roll Advert|       62|                null|1539002587000|100010|09:43:07 08-10-2018|\n",
      "|    Fear My Thoughts|Logged In| Darianna|     F|           56|Carpenter|233.63873| free|            NextSong|       62|  Bound And Weakened|1539002877000|100010|09:47:57 08-10-2018|\n",
      "|Shakira Featuring...|Logged In| Darianna|     F|           57|Carpenter|217.36444| free|            NextSong|       62|Hips Don't Lie (f...|1539003110000|100010|09:51:50 08-10-2018|\n",
      "|    Slightly Stoopid|Logged In| Darianna|     F|           58|Carpenter|204.59057| free|            NextSong|       62|           Bandelero|1539003327000|100010|09:55:27 08-10-2018|\n",
      "|                null|Logged In| Darianna|     F|           59|Carpenter|     null| free|           Thumbs Up|       62|                null|1539003328000|100010|09:55:28 08-10-2018|\n",
      "|   Infected Mushroom|Logged In| Darianna|     F|           60|Carpenter|549.22404| free|            NextSong|       62|         Bust a Move|1539003531000|100010|09:58:51 08-10-2018|\n",
      "|             Genesis|Logged In| Darianna|     F|           61|Carpenter|284.49914| free|            NextSong|       62|   Land Of Confusion|1539004080000|100010|10:08:00 08-10-2018|\n",
      "|                null|Logged In| Darianna|     F|           62|Carpenter|     null| free|              Logout|       62|                null|1539004081000|100010|10:08:01 08-10-2018|\n",
      "|                null|Logged In| Darianna|     F|           65|Carpenter|     null| free|                Home|       62|                null|1539004113000|100010|10:08:33 08-10-2018|\n",
      "|      The Grip Weeds|Logged In| Darianna|     F|           66|Carpenter|180.58404| free|            NextSong|       62|Walking in the Crowd|1539004364000|100010|10:12:44 08-10-2018|\n",
      "|                null|Logged In| Darianna|     F|           67|Carpenter|     null| free|         Roll Advert|       62|                null|1539004373000|100010|10:12:53 08-10-2018|\n",
      "|Sean Kingston and...|Logged In| Darianna|     F|           68|Carpenter| 201.9522| free|            NextSong|       62|        Eenie Meenie|1539004544000|100010|10:15:44 08-10-2018|\n",
      "|          The Winans|Logged In| Darianna|     F|           69|Carpenter| 344.5024| free|            NextSong|       62|Ain't No Need To ...|1539004745000|100010|10:19:05 08-10-2018|\n",
      "|                null|Logged In| Darianna|     F|           70|Carpenter|     null| free|           Thumbs Up|       62|                null|1539004746000|100010|10:19:06 08-10-2018|\n",
      "|                null|Logged In| Darianna|     F|            0|Carpenter|     null| free|                Home|      166|                null|1539242427000|100010|04:20:27 11-10-2018|\n",
      "|               Lange|Logged In| Darianna|     F|            1|Carpenter|463.62077| free|            NextSong|      166|           Wind Farm|1539242431000|100010|04:20:31 11-10-2018|\n",
      "|                null|Logged In| Darianna|     F|            2|Carpenter|     null| free|         Roll Advert|      166|                null|1539242448000|100010|04:20:48 11-10-2018|\n",
      "|                null|Logged In| Darianna|     F|            3|Carpenter|     null| free|         Roll Advert|      166|                null|1539242452000|100010|04:20:52 11-10-2018|\n",
      "|            Harmonia|Logged In| Darianna|     F|            4|Carpenter|655.77751| free|            NextSong|      166|       Sehr kosmisch|1539242894000|100010|04:28:14 11-10-2018|\n",
      "|      Colbie Caillat|Logged In| Darianna|     F|            5|Carpenter|227.02975| free|            NextSong|      166|      It Stops Today|1539243549000|100010|04:39:09 11-10-2018|\n",
      "|        Hayko Cepkin|Logged In| Darianna|     F|            6|Carpenter|307.87873| free|            NextSong|      166|    Hangimiz Masumuz|1539243776000|100010|04:42:56 11-10-2018|\n",
      "|        Sanctus Real|Logged In| Darianna|     F|            7|Carpenter|242.46812| free|            NextSong|      166|Things Like You (...|1539244083000|100010|04:48:03 11-10-2018|\n",
      "|Shaggy / Ricardo ...|Logged In| Darianna|     F|            8|Carpenter|226.76853| free|            NextSong|      166|        It Wasn't Me|1539244325000|100010|04:52:05 11-10-2018|\n",
      "|               Train|Logged In| Darianna|     F|            9|Carpenter|205.45261| free|            NextSong|      166|            Marry Me|1539244551000|100010|04:55:51 11-10-2018|\n",
      "|                null|Logged In| Darianna|     F|           10|Carpenter|     null| free|         Roll Advert|      166|                null|1539244556000|100010|04:55:56 11-10-2018|\n",
      "|                Guts|Logged In| Darianna|     F|           11|Carpenter|229.43302| free|            NextSong|      166|      Everybody Know|1539244756000|100010|04:59:16 11-10-2018|\n",
      "|       The Dreamside|Logged In| Darianna|     F|           12|Carpenter|280.86812| free|            NextSong|      166| Dreaming All of You|1539244985000|100010|05:03:05 11-10-2018|\n",
      "|                null|Logged In| Darianna|     F|           13|Carpenter|     null| free|         Roll Advert|      166|                null|1539245000000|100010|05:03:20 11-10-2018|\n",
      "|      Chavela Vargas|Logged In| Darianna|     F|           14|Carpenter|199.26159| free|            NextSong|      166|        Piensa En Mi|1539245265000|100010|05:07:45 11-10-2018|\n",
      "|            Kid Cudi|Logged In| Darianna|     F|           15|Carpenter|227.34322| free|            NextSong|      166|        Up Up & Away|1539245464000|100010|05:11:04 11-10-2018|\n",
      "|         Beach House|Logged In| Darianna|     F|           16|Carpenter| 265.1424| free|            NextSong|      166|   Heart of Chambers|1539245691000|100010|05:14:51 11-10-2018|\n",
      "|       Radney Foster|Logged In| Darianna|     F|           17|Carpenter|288.96608| free|            NextSong|      166|      Sweet And Wild|1539245956000|100010|05:19:16 11-10-2018|\n",
      "|          John Mayer|Logged In| Darianna|     F|           18|Carpenter|269.71383| free|            NextSong|      166|  Heartbreak Warfare|1539246244000|100010|05:24:04 11-10-2018|\n",
      "|   The Academy Is...|Logged In| Darianna|     F|           19|Carpenter|207.01995| free|            NextSong|      166|Bulls In Brooklyn...|1539246513000|100010|05:28:33 11-10-2018|\n",
      "|                null|Logged In| Darianna|     F|           20|Carpenter|     null| free|         Roll Advert|      166|                null|1539246540000|100010|05:29:00 11-10-2018|\n",
      "|           DJ Khaled|Logged In| Darianna|     F|           21|Carpenter|347.37587| free|            NextSong|      166|On My Way (feat. ...|1539246720000|100010|05:32:00 11-10-2018|\n",
      "|         White Denim|Logged In| Darianna|     F|           22|Carpenter|148.55791| free|            NextSong|      166|        Transparency|1539247067000|100010|05:37:47 11-10-2018|\n",
      "|        Rise Against|Logged In| Darianna|     F|           23|Carpenter|241.50159| free|            NextSong|      166| Whereabouts Unknown|1539247215000|100010|05:40:15 11-10-2018|\n",
      "|      Frankie Avalon|Logged In| Darianna|     F|           24|Carpenter|158.61506| free|            NextSong|      166|Bobby Sox To Stoc...|1539247456000|100010|05:44:16 11-10-2018|\n",
      "|                null|Logged In| Darianna|     F|           25|Carpenter|     null| free|         Roll Advert|      166|                null|1539247477000|100010|05:44:37 11-10-2018|\n",
      "|         Linkin Park|Logged In| Darianna|     F|           26|Carpenter|  439.562| free|            NextSong|      166|The Little Things...|1539247614000|100010|05:46:54 11-10-2018|\n",
      "|                null|Logged In| Darianna|     F|           27|Carpenter|     null| free|         Roll Advert|      166|                null|1539247620000|100010|05:47:00 11-10-2018|\n",
      "|        Starflyer 59|Logged In| Darianna|     F|           28|Carpenter|376.86812| free|            NextSong|      166|When You Feel The...|1539248053000|100010|05:54:13 11-10-2018|\n",
      "|                null|Logged In| Darianna|     F|           29|Carpenter|     null| free|         Roll Advert|      166|                null|1539248078000|100010|05:54:38 11-10-2018|\n",
      "|            Pavement|Logged In| Darianna|     F|           30|Carpenter| 99.16036| free|            NextSong|      166|Mercy:The Laundromat|1539248429000|100010|06:00:29 11-10-2018|\n",
      "|            Coldplay|Logged In| Darianna|     F|           31|Carpenter|225.85424| free|            NextSong|      166|              Sparks|1539248528000|100010|06:02:08 11-10-2018|\n",
      "|                null|Logged In| Darianna|     F|           32|Carpenter|     null| free|             Upgrade|      166|                null|1539248563000|100010|06:02:43 11-10-2018|\n",
      "|                null|Logged In| Darianna|     F|           33|Carpenter|     null| free|             Upgrade|      166|                null|1539248570000|100010|06:02:50 11-10-2018|\n",
      "|                null|Logged In| Darianna|     F|           34|Carpenter|     null| free|          Add Friend|      166|                null|1539248571000|100010|06:02:51 11-10-2018|\n",
      "|                null|Logged In| Darianna|     F|           35|Carpenter|     null| free|          Add Friend|      166|                null|1539248572000|100010|06:02:52 11-10-2018|\n",
      "|              Leo Ku|Logged In| Darianna|     F|           36|Carpenter| 289.2273| free|            NextSong|      166|Shi Wen Ji Liu La...|1539248753000|100010|06:05:53 11-10-2018|\n",
      "|                null|Logged In| Darianna|     F|           37|Carpenter|     null| free|         Roll Advert|      166|                null|1539248788000|100010|06:06:28 11-10-2018|\n",
      "|Kings Of Convenience|Logged In| Darianna|     F|           38|Carpenter|228.41424| free|            NextSong|      166|Love Is No Big Truth|1539249042000|100010|06:10:42 11-10-2018|\n",
      "|           autoKratz|Logged In| Darianna|     F|           39|Carpenter|277.05424| free|            NextSong|      166|Pardon GarÃÂ§on ...|1539249270000|100010|06:14:30 11-10-2018|\n",
      "|      Bebel Gilberto|Logged In| Darianna|     F|           40|Carpenter|288.86159| free|            NextSong|      166|Bananeira - Rae &...|1539249547000|100010|06:19:07 11-10-2018|\n",
      "|                null|Logged In| Darianna|     F|           41|Carpenter|     null| free|         Roll Advert|      166|                null|1539249597000|100010|06:19:57 11-10-2018|\n",
      "|          Nickelback|Logged In| Darianna|     F|           42|Carpenter|224.13016| free|            NextSong|      166|   How You Remind Me|1539249835000|100010|06:23:55 11-10-2018|\n",
      "| My Chemical Romance|Logged In| Darianna|     F|           43|Carpenter|203.04934| free|            NextSong|      166|Helena (So Long &...|1539250059000|100010|06:27:39 11-10-2018|\n",
      "|         Salt-N-Pepa|Logged In| Darianna|     F|           44|Carpenter|207.62077| free|            NextSong|      166|             Push It|1539250262000|100010|06:31:02 11-10-2018|\n",
      "|Tom Petty And The...|Logged In| Darianna|     F|           45|Carpenter|238.21016| free|            NextSong|      166|         The Waiting|1539250469000|100010|06:34:29 11-10-2018|\n",
      "|                null|Logged In| Darianna|     F|           46|Carpenter|     null| free|           Thumbs Up|      166|                null|1539250470000|100010|06:34:30 11-10-2018|\n",
      "|         Darwin Deez|Logged In| Darianna|     F|           47|Carpenter|189.83138| free|            NextSong|      166|      Radar Detector|1539250707000|100010|06:38:27 11-10-2018|\n",
      "|          Fly Pan Am|Logged In| Darianna|     F|           48|Carpenter| 221.1522| free|            NextSong|      166|     Arcades-Pamelor|1539250896000|100010|06:41:36 11-10-2018|\n",
      "|       Faith No More|Logged In| Darianna|     F|           49|Carpenter|  257.802| free|            NextSong|      166|      Midlife Crisis|1539251117000|100010|06:45:17 11-10-2018|\n",
      "|    Carlos Y JosÃÂ©|Logged In| Darianna|     F|           50|Carpenter|181.34159| free|            NextSong|      166|   Corrido Al Torero|1539251374000|100010|06:49:34 11-10-2018|\n",
      "|Eliades Ochoa Y E...|Logged In| Darianna|     F|           51|Carpenter|356.33587| free|            NextSong|      166|Me Voy Pa Sibanic...|1539251555000|100010|06:52:35 11-10-2018|\n",
      "|       Brooks & Dunn|Logged In| Darianna|     F|           52|Carpenter|238.52363| free|            NextSong|      166|If You See Him / ...|1539251911000|100010|06:58:31 11-10-2018|\n",
      "|           Silentium|Logged In| Darianna|     F|           53|Carpenter|267.49342| free|            NextSong|      166|  With Blood Adorned|1539252149000|100010|07:02:29 11-10-2018|\n",
      "|        Dar Williams|Logged In| Darianna|     F|           54|Carpenter|227.23873| free|            NextSong|      166|              Empire|1539252416000|100010|07:06:56 11-10-2018|\n",
      "|         Spice Girls|Logged In| Darianna|     F|           55|Carpenter|271.59465| free|            NextSong|      166|            Too Much|1539252643000|100010|07:10:43 11-10-2018|\n",
      "|           Santogold|Logged In| Darianna|     F|           56|Carpenter|224.44363| free|            NextSong|      166|Shove It [feat. S...|1539252914000|100010|07:15:14 11-10-2018|\n",
      "|                 JET|Logged In| Darianna|     F|           57|Carpenter|213.81179| free|            NextSong|      166|Are You Gonna Be ...|1539253138000|100010|07:18:58 11-10-2018|\n",
      "|       Alison Krauss|Logged In| Darianna|     F|           58|Carpenter|210.28526| free|            NextSong|      166|Tonight I'll Be L...|1539253351000|100010|07:22:31 11-10-2018|\n",
      "|                null|Logged In| Darianna|     F|           59|Carpenter|     null| free|         Thumbs Down|      166|                null|1539253352000|100010|07:22:32 11-10-2018|\n",
      "|            Ill Nino|Logged In| Darianna|     F|           60|Carpenter| 188.9171| free|            NextSong|      166|How Can I Live (S...|1539253561000|100010|07:26:01 11-10-2018|\n",
      "|            BjÃÂ¶rk|Logged In| Darianna|     F|           61|Carpenter|348.57751| free|            NextSong|      166|                Undo|1539253749000|100010|07:29:09 11-10-2018|\n",
      "|                null|Logged In| Darianna|     F|           62|Carpenter|     null| free|         Roll Advert|      166|                null|1539253766000|100010|07:29:26 11-10-2018|\n",
      "|        The Features|Logged In| Darianna|     F|           63|Carpenter|182.12526| free|            NextSong|      166|         Blow It Out|1539254097000|100010|07:34:57 11-10-2018|\n",
      "|Barry Tuckwell/Ac...|Logged In| Darianna|     F|           64|Carpenter|277.15873| free|            NextSong|      166|Horn Concerto No....|1539254279000|100010|07:37:59 11-10-2018|\n",
      "|                null|Logged In| Darianna|     F|           65|Carpenter|     null| free|         Roll Advert|      166|                null|1539254304000|100010|07:38:24 11-10-2018|\n",
      "|                null|Logged In| Darianna|     F|           66|Carpenter|     null| free|              Cancel|      166|                null|1539254305000|100010|07:38:25 11-10-2018|\n",
      "|                null|Cancelled| Darianna|     F|           67|Carpenter|     null| free|Cancellation Conf...|      166|                null|1539254318000|100010|07:38:38 11-10-2018|\n",
      "+--------------------+---------+---------+------+-------------+---------+---------+-----+--------------------+---------+--------------------+-------------+------+-------------------+\n",
      "\n"
     ]
    }
   ],
   "source": [
    "df.where(df.userId == user_id).select(['artist',\n",
    " 'auth',\n",
    " 'firstName',\n",
    " 'gender',\n",
    " 'itemInSession',\n",
    " 'lastName',\n",
    " 'length',\n",
    " 'level', \n",
    " 'page',\n",
    " 'sessionId',\n",
    " 'song', \n",
    " 'ts', \n",
    " 'userId']).orderBy('sessionId', 'itemInSession').withColumn('datetime', date_format((df.ts/1000).cast(dataType=TimestampType()), 'HH:mm:ss dd-MM-YYYY')).show(350, True)"
   ]
  },
  {
   "cell_type": "markdown",
   "metadata": {},
   "source": [
    "# Modeling\n",
    "Split the full dataset into train, test, and validation sets. Test out several of the machine learning methods you learned. Evaluate the accuracy of the various models, tuning parameters as necessary. Determine your winning model based on test accuracy and report results on the validation set. Since the churned users are a fairly small subset, I suggest using F1 score as the metric to optimize."
   ]
  },
  {
   "cell_type": "code",
   "execution_count": 17,
   "metadata": {
    "ExecuteTime": {
     "end_time": "2020-03-01T15:01:33.361968Z",
     "start_time": "2020-03-01T15:01:33.311321Z"
    }
   },
   "outputs": [],
   "source": [
    "from pyspark.ml.classification import DecisionTreeClassifier\n",
    "\n",
    "from pyspark.ml.feature import StringIndexer, VectorAssembler"
   ]
  },
  {
   "cell_type": "code",
   "execution_count": 18,
   "metadata": {
    "ExecuteTime": {
     "end_time": "2020-03-01T15:01:34.745712Z",
     "start_time": "2020-03-01T15:01:34.737694Z"
    }
   },
   "outputs": [
    {
     "name": "stdout",
     "output_type": "stream",
     "text": [
      "Columns: ['a_acti', 'a_adde', 'a_ads', 'a_disl', 'a_erro', 'a_frie', 'a_help', 'a_home', 'a_like', 'a_play', 'a_sett', 'a_song', 'a_stim', 'a_tiaw', 'canc', 'male', 'n_acti', 'n_adde', 'n_ads', 'n_disl', 'n_down', 'n_erro', 'n_frie', 'n_help', 'n_home', 'n_like', 'n_sess', 'n_sett', 'n_song', 'n_upgr', 'paid']\n",
      "\n",
      "Columns to train: ['a_acti', 'a_adde', 'a_ads', 'a_disl', 'a_erro', 'a_frie', 'a_help', 'a_home', 'a_like', 'a_play', 'a_sett', 'a_song', 'a_stim', 'a_tiaw', 'male', 'n_acti', 'n_adde', 'n_ads', 'n_disl', 'n_down', 'n_erro', 'n_frie', 'n_help', 'n_home', 'n_like', 'n_sess', 'n_sett', 'n_song', 'n_upgr', 'paid']\n"
     ]
    }
   ],
   "source": [
    "columns_to_exclude = set(['userId'])\n",
    "\n",
    "columns_to_use = list(set(df_users.columns) - columns_to_exclude)\n",
    "\n",
    "columns_to_train = list(set(columns_to_use) - set(['canc']))\n",
    "\n",
    "columns_to_use.sort()\n",
    "columns_to_train.sort()\n",
    "\n",
    "print(f'Columns: {columns_to_use}\\n')\n",
    "print(f'Columns to train: {columns_to_train}')"
   ]
  },
  {
   "cell_type": "code",
   "execution_count": 55,
   "metadata": {
    "ExecuteTime": {
     "end_time": "2020-03-21T21:35:56.285672Z",
     "start_time": "2020-03-21T21:35:56.281724Z"
    }
   },
   "outputs": [],
   "source": [
    "CHURN_LABEL = 'canceled'\n",
    "TRAIN_SPLIT_RATIO = .7\n",
    "TEST_SPLIT_RATIO = .3\n",
    "\n",
    "SPLIT_RATIO = [TRAIN_SPLIT_RATIO, TEST_SPLIT_RATIO]"
   ]
  },
  {
   "cell_type": "code",
   "execution_count": 117,
   "metadata": {
    "ExecuteTime": {
     "end_time": "2020-03-21T23:00:27.552585Z",
     "start_time": "2020-03-21T23:00:27.540050Z"
    }
   },
   "outputs": [],
   "source": [
    "binary_features = [ 'paid', 'male' ]\n",
    "\n",
    "numeric_features = [\n",
    "    'avg_daily_actions',\n",
    "    'avg_session_duration', \n",
    "    'n_actions',\n",
    "    'n_added_to_playlist',\n",
    "    'n_ads',\n",
    "    'n_days',\n",
    "    'n_dislikes',\n",
    "    'n_downgrades',\n",
    "    'n_errors',\n",
    "    'n_friends',\n",
    "    'n_help',\n",
    "    'n_home',\n",
    "    'n_likes',\n",
    "    'n_sess',\n",
    "    'n_settings',\n",
    "    'n_songs',\n",
    "    'n_upgrades', \n",
    "    'session_avg_actions',\n",
    "    'session_avg_added_playlist',\n",
    "    'session_avg_ads',\n",
    "    'session_avg_dislikes',\n",
    "    'session_avg_errors',\n",
    "    'session_avg_friends',\n",
    "    'session_avg_help',\n",
    "    'session_avg_home',\n",
    "    'session_avg_likes',\n",
    "    'session_avg_playback',\n",
    "    'session_avg_settings',\n",
    "    'session_avg_songs',\n",
    "    'session_avg_time_away',\n",
    "    'time_window'\n",
    "]\n",
    "\n",
    "columns_all = [\n",
    "    'canceled',\n",
    "    'male',\n",
    "    'paid',\n",
    "    'avg_daily_actions',\n",
    "    'avg_session_duration', \n",
    "    'n_actions',\n",
    "    'n_added_to_playlist',\n",
    "    'n_ads',\n",
    "    'n_days',\n",
    "    'n_dislikes',\n",
    "    'n_downgrades',\n",
    "    'n_errors',\n",
    "    'n_friends',\n",
    "    'n_help',\n",
    "    'n_home',\n",
    "    'n_likes',\n",
    "    'n_sess',\n",
    "    'n_settings',\n",
    "    'n_songs',\n",
    "    'n_upgrades', \n",
    "    'session_avg_actions',\n",
    "    'session_avg_added_playlist',\n",
    "    'session_avg_ads',\n",
    "    'session_avg_dislikes',\n",
    "    'session_avg_errors',\n",
    "    'session_avg_friends',\n",
    "    'session_avg_help',\n",
    "    'session_avg_home',\n",
    "    'session_avg_likes',\n",
    "    'session_avg_playback',\n",
    "    'session_avg_settings',\n",
    "    'session_avg_songs',\n",
    "    'session_avg_time_away',\n",
    "    'time_window'\n",
    "]\n",
    "\n",
    "columns_to_train = [\n",
    "    'male',\n",
    "    'paid',\n",
    "    'avg_daily_actions',\n",
    "    'avg_session_duration', \n",
    "    'n_actions',\n",
    "    'n_added_to_playlist',\n",
    "    'n_ads',\n",
    "    'n_days',\n",
    "    'n_dislikes',\n",
    "    'n_downgrades',\n",
    "    'n_errors',\n",
    "    'n_friends',\n",
    "    'n_help',\n",
    "    'n_home',\n",
    "    'n_likes',\n",
    "    'n_sess',\n",
    "    'n_settings',\n",
    "    'n_songs',\n",
    "    'n_upgrades', \n",
    "    'session_avg_actions',\n",
    "    'session_avg_added_playlist',\n",
    "    'session_avg_ads',\n",
    "    'session_avg_dislikes',\n",
    "    'session_avg_errors',\n",
    "    'session_avg_friends',\n",
    "    'session_avg_help',\n",
    "    'session_avg_home',\n",
    "    'session_avg_likes',\n",
    "    'session_avg_playback',\n",
    "    'session_avg_settings',\n",
    "    'session_avg_songs',\n",
    "    'session_avg_time_away',\n",
    "    'time_window'\n",
    "]"
   ]
  },
  {
   "cell_type": "code",
   "execution_count": 138,
   "metadata": {
    "ExecuteTime": {
     "end_time": "2020-03-21T23:13:22.270389Z",
     "start_time": "2020-03-21T23:13:22.247433Z"
    }
   },
   "outputs": [],
   "source": [
    "from pyspark.ml import Pipeline\n",
    "from pyspark.ml.classification import RandomForestClassifier, GBTClassifier\n",
    "from pyspark.ml.feature import IndexToString, StringIndexer, VectorIndexer, VectorAssembler\n",
    "from pyspark.ml.evaluation import MulticlassClassificationEvaluator\n",
    "\n",
    "def evaluate_multiclass_classifier(predictions, columns):\n",
    "    metrics_to_evaluate = [ 'accuracy', 'f1', 'weightedPrecision', 'weightedRecall' ]\n",
    "    \n",
    "    result = {}\n",
    "    for metric in metrics_to_evaluate:\n",
    "        evaluator = MulticlassClassificationEvaluator(labelCol = columns[0], predictionCol = columns[1], metricName = metric)\n",
    "        value = evaluator.evaluate(predictions)\n",
    "        result[metric] = value\n",
    "        print(f'{metric}: {value}') \n",
    "    \n",
    "    return result\n",
    "\n",
    "# f_scaler = StandardScaler(inputCol = 'num_features', outputCol = 'num_features_escaled', withStd = True, withMean = True)\n",
    "#    f_all = VectorAssembler(inputCols = [ 'bin_features' , 'num_features_escaled' ], outputCol = 'features')\n",
    "\n",
    "def train_random_forest_classifier(data, columns, train_cloumns):\n",
    "    \n",
    "    # Split train/test\n",
    "    (train_df, test_df) = data.randomSplit(SPLIT_RATIO, seed = 42)\n",
    "    \n",
    "    # Create the indexer for labels\n",
    "    l_indexer = StringIndexer(inputCol = CHURN_LABEL, outputCol = 'idx_labels')\n",
    "    f_binaries = VectorAssembler(inputCols = binary_features, outputCol = 'bin_features')\n",
    "    f_numeric = VectorAssembler(inputCols = numeric_features, outputCol = 'num_features')\n",
    "    \n",
    "    f_scaler = StandardScaler(inputCol = 'num_features', outputCol = 'num_features_escaled', withStd = True, withMean = True)\n",
    "    \n",
    "    f_all = VectorAssembler(inputCols = [ 'bin_features' , 'num_features_escaled' ], outputCol = 'features')\n",
    "    \n",
    "    l_translator = IndexToString(inputCol = 'prediction', outputCol = 'predictedLabel', labels = [ 'Not churn', 'Churn' ])\n",
    "    \n",
    "    rf_classifier = RandomForestClassifier(labelCol = 'idx_labels', featuresCol = 'features', numTrees = 10, maxBins = 5, impurity = 'entropy', minInstancesPerNode = 3, seed = 42)\n",
    "    \n",
    "    pipeline = Pipeline(stages = [ l_indexer, f_binaries, f_numeric, f_scaler, f_all, rf_classifier, l_translator ])\n",
    "    \n",
    "    # Train the model\n",
    "    model = pipeline.fit(train_df)\n",
    "\n",
    "    # Test the model\n",
    "    predictions = model.transform(test_df)\n",
    "\n",
    "    return model.stages[2], predictions\n",
    "    \n",
    "from pyspark.ml.feature import StandardScaler\n",
    "\n",
    "def create_pipeline(model):\n",
    "    \n",
    "    l_indexer = StringIndexer(inputCol = CHURN_LABEL, outputCol = 'idx_labels')\n",
    "    f_binaries = VectorAssembler(inputCols = binary_features, outputCol = 'bin_features')\n",
    "    f_numeric = VectorAssembler(inputCols = numeric_features, outputCol = 'num_features')\n",
    "    f_scaler = StandardScaler(inputCol = 'num_features', outputCol = 'num_features_escaled', withStd = True, withMean = True)\n",
    "    f_all = VectorAssembler(inputCols = [ 'bin_features' , 'num_features_escaled' ], outputCol = 'features')\n",
    "    pipeline = Pipeline(stages = [ l_indexer, f_binaries, f_numeric, f_scaler, f_all, model ])\n",
    "    \n",
    "    return pipeline\n",
    "\n",
    "def create_random_forest_pipeline():\n",
    "    rf_classifier = RandomForestClassifier(labelCol = 'canceled', featuresCol = 'features', seed = 42)\n",
    "    return create_pipeline(rf_classifier)\n",
    "\n",
    "def create_gradient_boost_pipeline():\n",
    "    gbt_classifier = GBTClassifier(labelCol = 'canceled', maxDepth = 5, maxIter = 100)\n",
    "    return create_pipeline(gbt_classifier)"
   ]
  },
  {
   "cell_type": "code",
   "execution_count": 27,
   "metadata": {
    "ExecuteTime": {
     "end_time": "2020-03-21T21:06:32.714838Z",
     "start_time": "2020-03-21T21:06:32.602035Z"
    }
   },
   "outputs": [],
   "source": [
    "# Create the new dataframe\n",
    "df_users = df_users.select(columns_all).fillna(0)"
   ]
  },
  {
   "cell_type": "code",
   "execution_count": 29,
   "metadata": {
    "ExecuteTime": {
     "end_time": "2020-03-21T21:07:01.999691Z",
     "start_time": "2020-03-21T21:06:53.158970Z"
    }
   },
   "outputs": [
    {
     "name": "stdout",
     "output_type": "stream",
     "text": [
      "+--------+----+----+-----------------+--------------------+---------+-------------------+-----+------+----------+------------+--------+---------+------+------+-------+------+----------+-------+----------+-------------------+--------------------------+------------------+--------------------+------------------+-------------------+----------------+-------------------+------------------+--------------------+--------------------+------------------+---------------------+-----------+\n",
      "|canceled|male|paid|avg_daily_actions|avg_session_duration|n_actions|n_added_to_playlist|n_ads|n_days|n_dislikes|n_downgrades|n_errors|n_friends|n_help|n_home|n_likes|n_sess|n_settings|n_songs|n_upgrades|session_avg_actions|session_avg_added_playlist|session_avg_ads   |session_avg_dislikes|session_avg_errors|session_avg_friends|session_avg_help|session_avg_home   |session_avg_likes |session_avg_playback|session_avg_settings|session_avg_songs |session_avg_time_away|time_window|\n",
      "+--------+----+----+-----------------+--------------------+---------+-------------------+-----+------+----------+------------+--------+---------+------+------+-------+------+----------+-------+----------+-------------------+--------------------------+------------------+--------------------+------------------+-------------------+----------------+-------------------+------------------+--------------------+--------------------+------------------+---------------------+-----------+\n",
      "|1       |0   |0   |68.5             |3.507733171127332   |137      |1                  |22   |2     |3         |0           |0       |3        |0     |3     |4      |2     |0         |96     |0         |19.536541889483065 |0.14260249554367202       |3.1372549019607843|0.42780748663101603 |0.0               |0.42780748663101603|0.0             |0.42780748663101603|0.5704099821746881|1.0247950382253912  |0.0                 |13.689839572192513|66.0225              |73.035     |\n",
      "+--------+----+----+-----------------+--------------------+---------+-------------------+-----+------+----------+------------+--------+---------+------+------+-------+------+----------+-------+----------+-------------------+--------------------------+------------------+--------------------+------------------+-------------------+----------------+-------------------+------------------+--------------------+--------------------+------------------+---------------------+-----------+\n",
      "only showing top 1 row\n",
      "\n"
     ]
    }
   ],
   "source": [
    "df_users.show(1, False)"
   ]
  },
  {
   "cell_type": "code",
   "execution_count": 139,
   "metadata": {
    "ExecuteTime": {
     "end_time": "2020-03-21T23:14:23.154867Z",
     "start_time": "2020-03-21T23:13:27.220280Z"
    }
   },
   "outputs": [],
   "source": [
    "model, predictions = train_random_forest_classifier(df_users, columns_all, columns_to_train)"
   ]
  },
  {
   "cell_type": "code",
   "execution_count": 140,
   "metadata": {
    "ExecuteTime": {
     "end_time": "2020-03-21T23:15:33.676310Z",
     "start_time": "2020-03-21T23:14:48.782886Z"
    }
   },
   "outputs": [
    {
     "name": "stdout",
     "output_type": "stream",
     "text": [
      "accuracy: 0.8257575757575758\n",
      "f1: 0.7947522154088501\n",
      "weightedPrecision: 0.8269570707070706\n",
      "weightedRecall: 0.8257575757575758\n"
     ]
    },
    {
     "data": {
      "text/plain": [
       "{'accuracy': 0.8257575757575758,\n",
       " 'f1': 0.7947522154088501,\n",
       " 'weightedPrecision': 0.8269570707070706,\n",
       " 'weightedRecall': 0.8257575757575758}"
      ]
     },
     "execution_count": 140,
     "metadata": {},
     "output_type": "execute_result"
    }
   ],
   "source": [
    "evaluate_multiclass_classifier(predictions, ('canceled', 'prediction'))"
   ]
  },
  {
   "cell_type": "code",
   "execution_count": 141,
   "metadata": {
    "ExecuteTime": {
     "end_time": "2020-03-21T23:15:59.264578Z",
     "start_time": "2020-03-21T23:15:49.342154Z"
    }
   },
   "outputs": [
    {
     "name": "stdout",
     "output_type": "stream",
     "text": [
      "[[10 21]\n",
      " [ 2 99]]\n"
     ]
    }
   ],
   "source": [
    "df_results = predictions.select(['canceled', 'prediction', 'predictedLabel']).toPandas()\n",
    "df_results['prediction'] = df_results.prediction.apply(int)\n",
    "plot_confusion_matrix(df_results['canceled'], df_results['prediction'])"
   ]
  },
  {
   "cell_type": "code",
   "execution_count": 71,
   "metadata": {
    "ExecuteTime": {
     "end_time": "2020-03-21T21:54:56.121279Z",
     "start_time": "2020-03-21T21:54:56.113194Z"
    }
   },
   "outputs": [
    {
     "name": "stdout",
     "output_type": "stream",
     "text": [
      "[[11 20]\n",
      " [ 7 94]]\n"
     ]
    }
   ],
   "source": [
    "plot_confusion_matrix(df_results['canceled'], df_results['prediction'])"
   ]
  },
  {
   "cell_type": "code",
   "execution_count": null,
   "metadata": {},
   "outputs": [],
   "source": []
  },
  {
   "cell_type": "code",
   "execution_count": 61,
   "metadata": {
    "ExecuteTime": {
     "end_time": "2020-03-21T21:38:50.323684Z",
     "start_time": "2020-03-21T21:38:50.316950Z"
    }
   },
   "outputs": [
    {
     "name": "stdout",
     "output_type": "stream",
     "text": [
      "[[12 19]\n",
      " [ 6 95]]\n"
     ]
    }
   ],
   "source": [
    "plot_confusion_matrix(df_results['canceled'], df_results['prediction'])"
   ]
  },
  {
   "cell_type": "code",
   "execution_count": 51,
   "metadata": {
    "ExecuteTime": {
     "end_time": "2020-03-21T21:33:56.261503Z",
     "start_time": "2020-03-21T21:33:55.472160Z"
    }
   },
   "outputs": [],
   "source": [
    "from sklearn.metrics import confusion_matrix"
   ]
  },
  {
   "cell_type": "code",
   "execution_count": 60,
   "metadata": {
    "ExecuteTime": {
     "end_time": "2020-03-21T21:38:39.228859Z",
     "start_time": "2020-03-21T21:38:39.213960Z"
    }
   },
   "outputs": [
    {
     "data": {
      "text/html": [
       "<div>\n",
       "<style scoped>\n",
       "    .dataframe tbody tr th:only-of-type {\n",
       "        vertical-align: middle;\n",
       "    }\n",
       "\n",
       "    .dataframe tbody tr th {\n",
       "        vertical-align: top;\n",
       "    }\n",
       "\n",
       "    .dataframe thead th {\n",
       "        text-align: right;\n",
       "    }\n",
       "</style>\n",
       "<table border=\"1\" class=\"dataframe\">\n",
       "  <thead>\n",
       "    <tr style=\"text-align: right;\">\n",
       "      <th></th>\n",
       "      <th>canceled</th>\n",
       "      <th>prediction</th>\n",
       "      <th>predictedLabel</th>\n",
       "    </tr>\n",
       "  </thead>\n",
       "  <tbody>\n",
       "    <tr>\n",
       "      <th>0</th>\n",
       "      <td>1</td>\n",
       "      <td>1</td>\n",
       "      <td>Churn</td>\n",
       "    </tr>\n",
       "    <tr>\n",
       "      <th>1</th>\n",
       "      <td>1</td>\n",
       "      <td>0</td>\n",
       "      <td>Not churn</td>\n",
       "    </tr>\n",
       "    <tr>\n",
       "      <th>2</th>\n",
       "      <td>1</td>\n",
       "      <td>0</td>\n",
       "      <td>Not churn</td>\n",
       "    </tr>\n",
       "    <tr>\n",
       "      <th>3</th>\n",
       "      <td>1</td>\n",
       "      <td>0</td>\n",
       "      <td>Not churn</td>\n",
       "    </tr>\n",
       "    <tr>\n",
       "      <th>4</th>\n",
       "      <td>0</td>\n",
       "      <td>0</td>\n",
       "      <td>Not churn</td>\n",
       "    </tr>\n",
       "    <tr>\n",
       "      <th>5</th>\n",
       "      <td>0</td>\n",
       "      <td>0</td>\n",
       "      <td>Not churn</td>\n",
       "    </tr>\n",
       "    <tr>\n",
       "      <th>6</th>\n",
       "      <td>1</td>\n",
       "      <td>0</td>\n",
       "      <td>Not churn</td>\n",
       "    </tr>\n",
       "    <tr>\n",
       "      <th>7</th>\n",
       "      <td>0</td>\n",
       "      <td>0</td>\n",
       "      <td>Not churn</td>\n",
       "    </tr>\n",
       "    <tr>\n",
       "      <th>8</th>\n",
       "      <td>1</td>\n",
       "      <td>0</td>\n",
       "      <td>Not churn</td>\n",
       "    </tr>\n",
       "    <tr>\n",
       "      <th>9</th>\n",
       "      <td>1</td>\n",
       "      <td>0</td>\n",
       "      <td>Not churn</td>\n",
       "    </tr>\n",
       "  </tbody>\n",
       "</table>\n",
       "</div>"
      ],
      "text/plain": [
       "   canceled  prediction predictedLabel\n",
       "0         1           1          Churn\n",
       "1         1           0      Not churn\n",
       "2         1           0      Not churn\n",
       "3         1           0      Not churn\n",
       "4         0           0      Not churn\n",
       "5         0           0      Not churn\n",
       "6         1           0      Not churn\n",
       "7         0           0      Not churn\n",
       "8         1           0      Not churn\n",
       "9         1           0      Not churn"
      ]
     },
     "execution_count": 60,
     "metadata": {},
     "output_type": "execute_result"
    }
   ],
   "source": []
  },
  {
   "cell_type": "code",
   "execution_count": 54,
   "metadata": {
    "ExecuteTime": {
     "end_time": "2020-03-21T21:34:57.823584Z",
     "start_time": "2020-03-21T21:34:57.817689Z"
    }
   },
   "outputs": [
    {
     "name": "stdout",
     "output_type": "stream",
     "text": [
      "[[ 9 12]\n",
      " [ 5 60]]\n"
     ]
    }
   ],
   "source": [
    "import numpy as np\n",
    "\n",
    "plot_confusion_matrix(df_results['canceled'], df_results['prediction'])"
   ]
  },
  {
   "cell_type": "code",
   "execution_count": 52,
   "metadata": {
    "ExecuteTime": {
     "end_time": "2020-03-21T21:34:10.817762Z",
     "start_time": "2020-03-21T21:34:10.808986Z"
    }
   },
   "outputs": [],
   "source": [
    "def plot_confusion_matrix(y_test, y_predictions):\n",
    "    \n",
    "    # auc = roc_auc_score(y_test, y_predictions)\n",
    "    cm = confusion_matrix(y_test, y_predictions, labels = [1, 0])\n",
    "    \n",
    "    tn = cm[0, 0]\n",
    "    tp = cm[1, 1]\n",
    "    fn = cm[1, 0]\n",
    "    fp = cm[0, 1]\n",
    "    \n",
    "    total = np.sum(cm) # tn + tp + fn + fp\n",
    "    accuracy = (tp + tn) / total\n",
    "    precision = (tp) / (tp + fp)\n",
    "    recall = (tp) / (tp + fn) \n",
    "    \n",
    "    print(cm)"
   ]
  },
  {
   "cell_type": "code",
   "execution_count": 145,
   "metadata": {
    "ExecuteTime": {
     "end_time": "2020-02-29T21:27:07.966315Z",
     "start_time": "2020-02-29T21:26:10.470241Z"
    }
   },
   "outputs": [],
   "source": [
    "model, predictions = train_random_forest_classifier(df_users, columns_to_use, columns_to_train)"
   ]
  },
  {
   "cell_type": "code",
   "execution_count": 150,
   "metadata": {
    "ExecuteTime": {
     "end_time": "2020-02-29T21:49:02.428480Z",
     "start_time": "2020-02-29T21:47:25.148792Z"
    }
   },
   "outputs": [
    {
     "name": "stdout",
     "output_type": "stream",
     "text": [
      "accuracy: 0.8181818181818182\n",
      "f1: 0.7823601642884364\n",
      "weightedPrecision: 0.8007451564828614\n",
      "weightedRecall: 0.8181818181818181\n"
     ]
    }
   ],
   "source": [
    "evaluate_multiclass_classifier(predictions, ('canc', 'prediction'))"
   ]
  },
  {
   "cell_type": "code",
   "execution_count": 151,
   "metadata": {
    "ExecuteTime": {
     "end_time": "2020-02-29T21:49:40.743405Z",
     "start_time": "2020-02-29T21:49:22.720697Z"
    }
   },
   "outputs": [
    {
     "data": {
      "text/plain": [
       "0.7091346153846155"
      ]
     },
     "execution_count": 151,
     "metadata": {},
     "output_type": "execute_result"
    }
   ],
   "source": [
    "evaluator = BinaryClassificationEvaluator(labelCol = 'canc', metricName = 'areaUnderROC')\n",
    "\n",
    "evaluator.evaluate(predictions)"
   ]
  },
  {
   "cell_type": "code",
   "execution_count": 93,
   "metadata": {
    "ExecuteTime": {
     "end_time": "2020-03-21T22:21:19.802534Z",
     "start_time": "2020-03-21T22:21:19.786447Z"
    }
   },
   "outputs": [],
   "source": [
    "from pyspark.ml.tuning import CrossValidator, ParamGridBuilder\n",
    "from pyspark.ml.evaluation import BinaryClassificationEvaluator\n",
    "\n",
    "def create_grid_search(pipeline, param_grid, evaluator = BinaryClassificationEvaluator(labelCol = 'canceled')):\n",
    "    \n",
    "    return CrossValidator(estimator = pipeline, estimatorParamMaps = param_grid, evaluator = evaluator, numFolds = 2, parallelism = 10)\n",
    "\n",
    "def random_forest_grid_search(pipeline):\n",
    "    \n",
    "    model = pipeline.getStages()[-1]\n",
    "\n",
    "    grid_rf = ParamGridBuilder().addGrid(model.maxDepth, [5, 10, 15, 20, 25]) \n",
    "    grid_rf = grid_rf.addGrid(model.numTrees, [10, 20, 40, 60, 70])\n",
    "    grid_rf = grid_rf.build()\n",
    "        \n",
    "    return create_grid_search(pipeline, grid_rf)\n",
    "\n",
    "def gradient_boost_grid_search(pipeline):\n",
    "    \n",
    "    model = pipeline.getStages()[-1]\n",
    "\n",
    "    grid_gbt = ParamGridBuilder().addGrid(model.maxDepth, [5]) #, 10, 15, 20, 25])\n",
    "    grid_gbt = grid_gbt.addGrid(model.maxIter, [20])#, 25, 40, 50, 100])\n",
    "    grid_gbt = grid_gbt.build()\n",
    "   \n",
    "    return create_grid_search(pipeline, grid_gbt)"
   ]
  },
  {
   "cell_type": "code",
   "execution_count": 136,
   "metadata": {
    "ExecuteTime": {
     "end_time": "2020-03-21T23:10:53.471129Z",
     "start_time": "2020-03-21T23:10:53.465251Z"
    }
   },
   "outputs": [
    {
     "data": {
      "text/plain": [
       "[5,\n",
       " 10,\n",
       " 15,\n",
       " 20,\n",
       " 25,\n",
       " 30,\n",
       " 35,\n",
       " 40,\n",
       " 45,\n",
       " 50,\n",
       " 55,\n",
       " 60,\n",
       " 65,\n",
       " 70,\n",
       " 75,\n",
       " 80,\n",
       " 85,\n",
       " 90,\n",
       " 95,\n",
       " 100]"
      ]
     },
     "execution_count": 136,
     "metadata": {},
     "output_type": "execute_result"
    }
   ],
   "source": [
    "list(range(5, 105, 5))"
   ]
  },
  {
   "cell_type": "code",
   "execution_count": 116,
   "metadata": {
    "ExecuteTime": {
     "end_time": "2020-03-21T22:54:38.113717Z",
     "start_time": "2020-03-21T22:54:38.106941Z"
    }
   },
   "outputs": [
    {
     "data": {
      "text/plain": [
       "[10, 20, 30, 40, 50, 60, 70, 80, 90, 100]"
      ]
     },
     "execution_count": 116,
     "metadata": {},
     "output_type": "execute_result"
    }
   ],
   "source": [
    "[int(x) for x in np.linspace(start = 10, stop = 100, num = 10)]"
   ]
  },
  {
   "cell_type": "code",
   "execution_count": 77,
   "metadata": {
    "ExecuteTime": {
     "end_time": "2020-03-21T22:02:25.586545Z",
     "start_time": "2020-03-21T22:02:25.570112Z"
    }
   },
   "outputs": [],
   "source": [
    "# Create the new dataframe\n",
    "# data = df_users.select(columns_to_use).fillna(0)\n",
    "\n",
    "# Split train/test\n",
    "(train_df, test_df) = df_users.randomSplit(SPLIT_RATIO, seed = 42)"
   ]
  },
  {
   "cell_type": "code",
   "execution_count": 23,
   "metadata": {
    "ExecuteTime": {
     "end_time": "2020-03-01T15:01:50.804573Z",
     "start_time": "2020-03-01T15:01:50.217634Z"
    }
   },
   "outputs": [
    {
     "data": {
      "text/plain": [
       "DataFrame[a_acti: double, a_adde: double, a_ads: double, a_disl: double, a_erro: double, a_frie: double, a_help: double, a_home: double, a_like: double, a_play: double, a_sett: double, a_song: double, a_stim: double, a_tiaw: double, canc: int, male: int, n_acti: bigint, n_adde: bigint, n_ads: bigint, n_disl: bigint, n_down: bigint, n_erro: bigint, n_frie: bigint, n_help: bigint, n_home: bigint, n_like: bigint, n_sess: bigint, n_sett: bigint, n_song: bigint, n_upgr: bigint, paid: int]"
      ]
     },
     "execution_count": 23,
     "metadata": {},
     "output_type": "execute_result"
    }
   ],
   "source": [
    "train_df.cache()\n",
    "test_df.cache()"
   ]
  },
  {
   "cell_type": "code",
   "execution_count": 94,
   "metadata": {
    "ExecuteTime": {
     "end_time": "2020-03-21T22:28:10.323649Z",
     "start_time": "2020-03-21T22:21:38.004170Z"
    }
   },
   "outputs": [],
   "source": [
    "pipeline = create_random_forest_pipeline()\n",
    "cv_rf = random_forest_grid_search(pipeline)\n",
    "cv_rf_results = cv_rf.fit(train_df)"
   ]
  },
  {
   "cell_type": "code",
   "execution_count": 99,
   "metadata": {
    "ExecuteTime": {
     "end_time": "2020-03-21T22:48:51.783153Z",
     "start_time": "2020-03-21T22:48:51.778273Z"
    }
   },
   "outputs": [
    {
     "data": {
      "text/plain": [
       "[StringIndexer_05ae8daf57b5,\n",
       " VectorAssembler_7625ed8cec1f,\n",
       " VectorAssembler_e1b71c0695dd,\n",
       " StandardScaler_10024bc8865d,\n",
       " VectorAssembler_502dbff20393,\n",
       " RandomForestClassifier_b4b06084b356]"
      ]
     },
     "execution_count": 99,
     "metadata": {},
     "output_type": "execute_result"
    }
   ],
   "source": [
    "pipeline.getStages()"
   ]
  },
  {
   "cell_type": "code",
   "execution_count": null,
   "metadata": {},
   "outputs": [],
   "source": []
  },
  {
   "cell_type": "code",
   "execution_count": 125,
   "metadata": {
    "ExecuteTime": {
     "end_time": "2020-03-21T23:04:06.345577Z",
     "start_time": "2020-03-21T23:04:06.331164Z"
    }
   },
   "outputs": [
    {
     "data": {
      "text/plain": [
       "['__class__',\n",
       " '__del__',\n",
       " '__delattr__',\n",
       " '__dict__',\n",
       " '__dir__',\n",
       " '__doc__',\n",
       " '__eq__',\n",
       " '__format__',\n",
       " '__ge__',\n",
       " '__getattribute__',\n",
       " '__gt__',\n",
       " '__hash__',\n",
       " '__init__',\n",
       " '__init_subclass__',\n",
       " '__le__',\n",
       " '__lt__',\n",
       " '__metaclass__',\n",
       " '__module__',\n",
       " '__ne__',\n",
       " '__new__',\n",
       " '__reduce__',\n",
       " '__reduce_ex__',\n",
       " '__repr__',\n",
       " '__setattr__',\n",
       " '__sizeof__',\n",
       " '__slotnames__',\n",
       " '__str__',\n",
       " '__subclasshook__',\n",
       " '__weakref__',\n",
       " '_call_java',\n",
       " '_clear',\n",
       " '_copyValues',\n",
       " '_copy_params',\n",
       " '_create_from_java_class',\n",
       " '_create_model',\n",
       " '_create_params_from_java',\n",
       " '_defaultParamMap',\n",
       " '_dummy',\n",
       " '_empty_java_param_map',\n",
       " '_fit',\n",
       " '_fit_java',\n",
       " '_from_java',\n",
       " '_input_kwargs',\n",
       " '_java_obj',\n",
       " '_make_java_param_pair',\n",
       " '_new_java_array',\n",
       " '_new_java_obj',\n",
       " '_paramMap',\n",
       " '_params',\n",
       " '_randomUID',\n",
       " '_resetUid',\n",
       " '_resolveParam',\n",
       " '_set',\n",
       " '_setDefault',\n",
       " '_shouldOwn',\n",
       " '_to_java',\n",
       " '_transfer_param_map_from_java',\n",
       " '_transfer_param_map_to_java',\n",
       " '_transfer_params_from_java',\n",
       " '_transfer_params_to_java',\n",
       " 'cacheNodeIds',\n",
       " 'checkpointInterval',\n",
       " 'copy',\n",
       " 'explainParam',\n",
       " 'explainParams',\n",
       " 'extractParamMap',\n",
       " 'featureSubsetStrategy',\n",
       " 'featuresCol',\n",
       " 'fit',\n",
       " 'fitMultiple',\n",
       " 'getCacheNodeIds',\n",
       " 'getCheckpointInterval',\n",
       " 'getFeatureSubsetStrategy',\n",
       " 'getFeaturesCol',\n",
       " 'getImpurity',\n",
       " 'getLabelCol',\n",
       " 'getMaxBins',\n",
       " 'getMaxDepth',\n",
       " 'getMaxMemoryInMB',\n",
       " 'getMinInfoGain',\n",
       " 'getMinInstancesPerNode',\n",
       " 'getNumTrees',\n",
       " 'getOrDefault',\n",
       " 'getParam',\n",
       " 'getPredictionCol',\n",
       " 'getProbabilityCol',\n",
       " 'getRawPredictionCol',\n",
       " 'getSeed',\n",
       " 'getSubsamplingRate',\n",
       " 'hasDefault',\n",
       " 'hasParam',\n",
       " 'impurity',\n",
       " 'isDefined',\n",
       " 'isSet',\n",
       " 'labelCol',\n",
       " 'load',\n",
       " 'maxBins',\n",
       " 'maxDepth',\n",
       " 'maxMemoryInMB',\n",
       " 'minInfoGain',\n",
       " 'minInstancesPerNode',\n",
       " 'numTrees',\n",
       " 'params',\n",
       " 'predictionCol',\n",
       " 'probabilityCol',\n",
       " 'rawPredictionCol',\n",
       " 'read',\n",
       " 'save',\n",
       " 'seed',\n",
       " 'set',\n",
       " 'setCacheNodeIds',\n",
       " 'setCheckpointInterval',\n",
       " 'setFeatureSubsetStrategy',\n",
       " 'setFeaturesCol',\n",
       " 'setImpurity',\n",
       " 'setLabelCol',\n",
       " 'setMaxBins',\n",
       " 'setMaxDepth',\n",
       " 'setMaxMemoryInMB',\n",
       " 'setMinInfoGain',\n",
       " 'setMinInstancesPerNode',\n",
       " 'setNumTrees',\n",
       " 'setParams',\n",
       " 'setPredictionCol',\n",
       " 'setProbabilityCol',\n",
       " 'setRawPredictionCol',\n",
       " 'setSeed',\n",
       " 'setSubsamplingRate',\n",
       " 'subsamplingRate',\n",
       " 'supportedFeatureSubsetStrategies',\n",
       " 'supportedImpurities',\n",
       " 'uid',\n",
       " 'write']"
      ]
     },
     "execution_count": 125,
     "metadata": {},
     "output_type": "execute_result"
    }
   ],
   "source": [
    "rf = RandomForestClassifier(labelCol = 'idx_labels', featuresCol = 'features', numTrees = 10)\n",
    "dir(rf)"
   ]
  },
  {
   "cell_type": "code",
   "execution_count": null,
   "metadata": {},
   "outputs": [],
   "source": []
  },
  {
   "cell_type": "code",
   "execution_count": 95,
   "metadata": {
    "ExecuteTime": {
     "end_time": "2020-03-21T22:43:55.011960Z",
     "start_time": "2020-03-21T22:43:45.931376Z"
    }
   },
   "outputs": [],
   "source": [
    "predictions = cv_rf_results.bestModel.transform(test_df)"
   ]
  },
  {
   "cell_type": "code",
   "execution_count": 96,
   "metadata": {
    "ExecuteTime": {
     "end_time": "2020-03-21T22:44:06.060150Z",
     "start_time": "2020-03-21T22:43:56.785468Z"
    }
   },
   "outputs": [
    {
     "name": "stdout",
     "output_type": "stream",
     "text": [
      "[[15 16]\n",
      " [ 7 94]]\n"
     ]
    }
   ],
   "source": [
    "df_results = predictions.select(['canceled', 'prediction']).toPandas()\n",
    "df_results['prediction'] = df_results.prediction.apply(int)\n",
    "plot_confusion_matrix(df_results['canceled'], df_results['prediction'])"
   ]
  },
  {
   "cell_type": "code",
   "execution_count": 88,
   "metadata": {
    "ExecuteTime": {
     "end_time": "2020-03-21T22:11:05.946121Z",
     "start_time": "2020-03-21T22:10:56.684420Z"
    }
   },
   "outputs": [
    {
     "name": "stdout",
     "output_type": "stream",
     "text": [
      "[[14 17]\n",
      " [ 3 98]]\n"
     ]
    }
   ],
   "source": [
    "df_results = predictions.select(['canceled', 'prediction']).toPandas()\n",
    "df_results['prediction'] = df_results.prediction.apply(int)\n",
    "plot_confusion_matrix(df_results['canceled'], df_results['prediction'])"
   ]
  },
  {
   "cell_type": "code",
   "execution_count": 79,
   "metadata": {
    "ExecuteTime": {
     "end_time": "2020-03-21T22:07:09.309168Z",
     "start_time": "2020-03-21T22:07:09.304265Z"
    }
   },
   "outputs": [
    {
     "data": {
      "text/plain": [
       "CrossValidatorModel_55579d940ef1"
      ]
     },
     "execution_count": 79,
     "metadata": {},
     "output_type": "execute_result"
    }
   ],
   "source": [
    "evaluator = BinaryClassificationEvaluator(labelCol = 'canc', metricName = 'areaUnderROC')\n",
    " \n",
    "best_model_results = cv_gbt_results.bestModel.transform(test_df)\n",
    "    \n",
    "evaluator.evaluate(best_model_results)"
   ]
  },
  {
   "cell_type": "code",
   "execution_count": null,
   "metadata": {},
   "outputs": [],
   "source": []
  },
  {
   "cell_type": "code",
   "execution_count": 24,
   "metadata": {
    "ExecuteTime": {
     "end_time": "2020-03-01T15:02:01.341210Z",
     "start_time": "2020-03-01T15:02:01.298441Z"
    }
   },
   "outputs": [],
   "source": [
    "pipeline = create_gradient_boost_pipeline()\n",
    "cv_gbt = gradient_boost_grid_search(pipeline)"
   ]
  },
  {
   "cell_type": "code",
   "execution_count": 25,
   "metadata": {
    "ExecuteTime": {
     "end_time": "2020-03-01T18:08:34.371481Z",
     "start_time": "2020-03-01T15:02:03.210992Z"
    }
   },
   "outputs": [
    {
     "ename": "KeyboardInterrupt",
     "evalue": "",
     "output_type": "error",
     "traceback": [
      "\u001b[0;31m---------------------------------------------------------------------------\u001b[0m",
      "\u001b[0;31mIndexError\u001b[0m                                Traceback (most recent call last)",
      "\u001b[0;32m~/anaconda3/lib/python3.7/multiprocessing/pool.py\u001b[0m in \u001b[0;36mnext\u001b[0;34m(self, timeout)\u001b[0m\n\u001b[1;32m    732\u001b[0m             \u001b[0;32mtry\u001b[0m\u001b[0;34m:\u001b[0m\u001b[0;34m\u001b[0m\u001b[0;34m\u001b[0m\u001b[0m\n\u001b[0;32m--> 733\u001b[0;31m                 \u001b[0mitem\u001b[0m \u001b[0;34m=\u001b[0m \u001b[0mself\u001b[0m\u001b[0;34m.\u001b[0m\u001b[0m_items\u001b[0m\u001b[0;34m.\u001b[0m\u001b[0mpopleft\u001b[0m\u001b[0;34m(\u001b[0m\u001b[0;34m)\u001b[0m\u001b[0;34m\u001b[0m\u001b[0;34m\u001b[0m\u001b[0m\n\u001b[0m\u001b[1;32m    734\u001b[0m             \u001b[0;32mexcept\u001b[0m \u001b[0mIndexError\u001b[0m\u001b[0;34m:\u001b[0m\u001b[0;34m\u001b[0m\u001b[0;34m\u001b[0m\u001b[0m\n",
      "\u001b[0;31mIndexError\u001b[0m: pop from an empty deque",
      "\nDuring handling of the above exception, another exception occurred:\n",
      "\u001b[0;31mKeyboardInterrupt\u001b[0m                         Traceback (most recent call last)",
      "\u001b[0;32m<ipython-input-25-b3acb763feea>\u001b[0m in \u001b[0;36m<module>\u001b[0;34m\u001b[0m\n\u001b[0;32m----> 1\u001b[0;31m \u001b[0mcv_gbt_results\u001b[0m \u001b[0;34m=\u001b[0m \u001b[0mcv_gbt\u001b[0m\u001b[0;34m.\u001b[0m\u001b[0mfit\u001b[0m\u001b[0;34m(\u001b[0m\u001b[0mtrain_df\u001b[0m\u001b[0;34m)\u001b[0m\u001b[0;34m\u001b[0m\u001b[0;34m\u001b[0m\u001b[0m\n\u001b[0m",
      "\u001b[0;32m~/.local/lib/python3.7/site-packages/pyspark/ml/base.py\u001b[0m in \u001b[0;36mfit\u001b[0;34m(self, dataset, params)\u001b[0m\n\u001b[1;32m    130\u001b[0m                 \u001b[0;32mreturn\u001b[0m \u001b[0mself\u001b[0m\u001b[0;34m.\u001b[0m\u001b[0mcopy\u001b[0m\u001b[0;34m(\u001b[0m\u001b[0mparams\u001b[0m\u001b[0;34m)\u001b[0m\u001b[0;34m.\u001b[0m\u001b[0m_fit\u001b[0m\u001b[0;34m(\u001b[0m\u001b[0mdataset\u001b[0m\u001b[0;34m)\u001b[0m\u001b[0;34m\u001b[0m\u001b[0;34m\u001b[0m\u001b[0m\n\u001b[1;32m    131\u001b[0m             \u001b[0;32melse\u001b[0m\u001b[0;34m:\u001b[0m\u001b[0;34m\u001b[0m\u001b[0;34m\u001b[0m\u001b[0m\n\u001b[0;32m--> 132\u001b[0;31m                 \u001b[0;32mreturn\u001b[0m \u001b[0mself\u001b[0m\u001b[0;34m.\u001b[0m\u001b[0m_fit\u001b[0m\u001b[0;34m(\u001b[0m\u001b[0mdataset\u001b[0m\u001b[0;34m)\u001b[0m\u001b[0;34m\u001b[0m\u001b[0;34m\u001b[0m\u001b[0m\n\u001b[0m\u001b[1;32m    133\u001b[0m         \u001b[0;32melse\u001b[0m\u001b[0;34m:\u001b[0m\u001b[0;34m\u001b[0m\u001b[0;34m\u001b[0m\u001b[0m\n\u001b[1;32m    134\u001b[0m             raise ValueError(\"Params must be either a param map or a list/tuple of param maps, \"\n",
      "\u001b[0;32m~/.local/lib/python3.7/site-packages/pyspark/ml/tuning.py\u001b[0m in \u001b[0;36m_fit\u001b[0;34m(self, dataset)\u001b[0m\n\u001b[1;32m    302\u001b[0m \u001b[0;34m\u001b[0m\u001b[0m\n\u001b[1;32m    303\u001b[0m             \u001b[0mtasks\u001b[0m \u001b[0;34m=\u001b[0m \u001b[0m_parallelFitTasks\u001b[0m\u001b[0;34m(\u001b[0m\u001b[0mest\u001b[0m\u001b[0;34m,\u001b[0m \u001b[0mtrain\u001b[0m\u001b[0;34m,\u001b[0m \u001b[0meva\u001b[0m\u001b[0;34m,\u001b[0m \u001b[0mvalidation\u001b[0m\u001b[0;34m,\u001b[0m \u001b[0mepm\u001b[0m\u001b[0;34m,\u001b[0m \u001b[0mcollectSubModelsParam\u001b[0m\u001b[0;34m)\u001b[0m\u001b[0;34m\u001b[0m\u001b[0;34m\u001b[0m\u001b[0m\n\u001b[0;32m--> 304\u001b[0;31m             \u001b[0;32mfor\u001b[0m \u001b[0mj\u001b[0m\u001b[0;34m,\u001b[0m \u001b[0mmetric\u001b[0m\u001b[0;34m,\u001b[0m \u001b[0msubModel\u001b[0m \u001b[0;32min\u001b[0m \u001b[0mpool\u001b[0m\u001b[0;34m.\u001b[0m\u001b[0mimap_unordered\u001b[0m\u001b[0;34m(\u001b[0m\u001b[0;32mlambda\u001b[0m \u001b[0mf\u001b[0m\u001b[0;34m:\u001b[0m \u001b[0mf\u001b[0m\u001b[0;34m(\u001b[0m\u001b[0;34m)\u001b[0m\u001b[0;34m,\u001b[0m \u001b[0mtasks\u001b[0m\u001b[0;34m)\u001b[0m\u001b[0;34m:\u001b[0m\u001b[0;34m\u001b[0m\u001b[0;34m\u001b[0m\u001b[0m\n\u001b[0m\u001b[1;32m    305\u001b[0m                 \u001b[0mmetrics\u001b[0m\u001b[0;34m[\u001b[0m\u001b[0mj\u001b[0m\u001b[0;34m]\u001b[0m \u001b[0;34m+=\u001b[0m \u001b[0;34m(\u001b[0m\u001b[0mmetric\u001b[0m \u001b[0;34m/\u001b[0m \u001b[0mnFolds\u001b[0m\u001b[0;34m)\u001b[0m\u001b[0;34m\u001b[0m\u001b[0;34m\u001b[0m\u001b[0m\n\u001b[1;32m    306\u001b[0m                 \u001b[0;32mif\u001b[0m \u001b[0mcollectSubModelsParam\u001b[0m\u001b[0;34m:\u001b[0m\u001b[0;34m\u001b[0m\u001b[0;34m\u001b[0m\u001b[0m\n",
      "\u001b[0;32m~/anaconda3/lib/python3.7/multiprocessing/pool.py\u001b[0m in \u001b[0;36mnext\u001b[0;34m(self, timeout)\u001b[0m\n\u001b[1;32m    735\u001b[0m                 \u001b[0;32mif\u001b[0m \u001b[0mself\u001b[0m\u001b[0;34m.\u001b[0m\u001b[0m_index\u001b[0m \u001b[0;34m==\u001b[0m \u001b[0mself\u001b[0m\u001b[0;34m.\u001b[0m\u001b[0m_length\u001b[0m\u001b[0;34m:\u001b[0m\u001b[0;34m\u001b[0m\u001b[0;34m\u001b[0m\u001b[0m\n\u001b[1;32m    736\u001b[0m                     \u001b[0;32mraise\u001b[0m \u001b[0mStopIteration\u001b[0m \u001b[0;32mfrom\u001b[0m \u001b[0;32mNone\u001b[0m\u001b[0;34m\u001b[0m\u001b[0;34m\u001b[0m\u001b[0m\n\u001b[0;32m--> 737\u001b[0;31m                 \u001b[0mself\u001b[0m\u001b[0;34m.\u001b[0m\u001b[0m_cond\u001b[0m\u001b[0;34m.\u001b[0m\u001b[0mwait\u001b[0m\u001b[0;34m(\u001b[0m\u001b[0mtimeout\u001b[0m\u001b[0;34m)\u001b[0m\u001b[0;34m\u001b[0m\u001b[0;34m\u001b[0m\u001b[0m\n\u001b[0m\u001b[1;32m    738\u001b[0m                 \u001b[0;32mtry\u001b[0m\u001b[0;34m:\u001b[0m\u001b[0;34m\u001b[0m\u001b[0;34m\u001b[0m\u001b[0m\n\u001b[1;32m    739\u001b[0m                     \u001b[0mitem\u001b[0m \u001b[0;34m=\u001b[0m \u001b[0mself\u001b[0m\u001b[0;34m.\u001b[0m\u001b[0m_items\u001b[0m\u001b[0;34m.\u001b[0m\u001b[0mpopleft\u001b[0m\u001b[0;34m(\u001b[0m\u001b[0;34m)\u001b[0m\u001b[0;34m\u001b[0m\u001b[0;34m\u001b[0m\u001b[0m\n",
      "\u001b[0;32m~/anaconda3/lib/python3.7/threading.py\u001b[0m in \u001b[0;36mwait\u001b[0;34m(self, timeout)\u001b[0m\n\u001b[1;32m    294\u001b[0m         \u001b[0;32mtry\u001b[0m\u001b[0;34m:\u001b[0m    \u001b[0;31m# restore state no matter what (e.g., KeyboardInterrupt)\u001b[0m\u001b[0;34m\u001b[0m\u001b[0;34m\u001b[0m\u001b[0m\n\u001b[1;32m    295\u001b[0m             \u001b[0;32mif\u001b[0m \u001b[0mtimeout\u001b[0m \u001b[0;32mis\u001b[0m \u001b[0;32mNone\u001b[0m\u001b[0;34m:\u001b[0m\u001b[0;34m\u001b[0m\u001b[0;34m\u001b[0m\u001b[0m\n\u001b[0;32m--> 296\u001b[0;31m                 \u001b[0mwaiter\u001b[0m\u001b[0;34m.\u001b[0m\u001b[0macquire\u001b[0m\u001b[0;34m(\u001b[0m\u001b[0;34m)\u001b[0m\u001b[0;34m\u001b[0m\u001b[0;34m\u001b[0m\u001b[0m\n\u001b[0m\u001b[1;32m    297\u001b[0m                 \u001b[0mgotit\u001b[0m \u001b[0;34m=\u001b[0m \u001b[0;32mTrue\u001b[0m\u001b[0;34m\u001b[0m\u001b[0;34m\u001b[0m\u001b[0m\n\u001b[1;32m    298\u001b[0m             \u001b[0;32melse\u001b[0m\u001b[0;34m:\u001b[0m\u001b[0;34m\u001b[0m\u001b[0;34m\u001b[0m\u001b[0m\n",
      "\u001b[0;31mKeyboardInterrupt\u001b[0m: "
     ]
    }
   ],
   "source": [
    "cv_gbt_results = cv_gbt.fit(train_df)"
   ]
  },
  {
   "cell_type": "code",
   "execution_count": 65,
   "metadata": {
    "ExecuteTime": {
     "end_time": "2020-03-01T14:06:39.482836Z",
     "start_time": "2020-03-01T14:06:39.477907Z"
    }
   },
   "outputs": [
    {
     "data": {
      "text/plain": [
       "PipelineModel_441706ed8036"
      ]
     },
     "execution_count": 65,
     "metadata": {},
     "output_type": "execute_result"
    }
   ],
   "source": [
    "cv_gbt_results.bestModel"
   ]
  },
  {
   "cell_type": "code",
   "execution_count": null,
   "metadata": {},
   "outputs": [],
   "source": []
  },
  {
   "cell_type": "code",
   "execution_count": null,
   "metadata": {},
   "outputs": [],
   "source": []
  },
  {
   "cell_type": "code",
   "execution_count": null,
   "metadata": {},
   "outputs": [],
   "source": []
  },
  {
   "cell_type": "code",
   "execution_count": null,
   "metadata": {
    "ExecuteTime": {
     "end_time": "2020-03-01T14:06:56.517560Z",
     "start_time": "2020-03-01T14:06:56.488834Z"
    }
   },
   "outputs": [],
   "source": [
    "import pandas as pd\n",
    "\n",
    "scores = cv_gbt_results.avgMetrics\n",
    "params = [{p.name: v for p, v in m.items()} for m in cv_gbt.getEstimatorParamMaps()]\n",
    "params_pd = pd.DataFrame(params)\n",
    "params_pd['score'] = scores\n",
    "params_pd"
   ]
  },
  {
   "cell_type": "code",
   "execution_count": 24,
   "metadata": {
    "ExecuteTime": {
     "end_time": "2020-03-01T03:00:50.268594Z",
     "start_time": "2020-03-01T03:00:44.103376Z"
    }
   },
   "outputs": [
    {
     "data": {
      "text/plain": [
       "0.7385507246376812"
      ]
     },
     "execution_count": 24,
     "metadata": {},
     "output_type": "execute_result"
    }
   ],
   "source": [
    "evaluator = BinaryClassificationEvaluator(labelCol = 'canc', metricName = 'areaUnderROC')\n",
    " \n",
    "best_model_results = cv_gbt_results.bestModel.transform(test_df)\n",
    "    \n",
    "evaluator.evaluate(best_model_results)"
   ]
  },
  {
   "cell_type": "code",
   "execution_count": null,
   "metadata": {},
   "outputs": [],
   "source": []
  },
  {
   "cell_type": "code",
   "execution_count": null,
   "metadata": {},
   "outputs": [],
   "source": []
  },
  {
   "cell_type": "code",
   "execution_count": 251,
   "metadata": {
    "ExecuteTime": {
     "end_time": "2020-03-01T00:36:26.502254Z",
     "start_time": "2020-03-01T00:35:54.346054Z"
    }
   },
   "outputs": [
    {
     "data": {
      "text/plain": [
       "0.7489855072463769"
      ]
     },
     "execution_count": 251,
     "metadata": {},
     "output_type": "execute_result"
    }
   ],
   "source": [
    "evaluator = BinaryClassificationEvaluator(labelCol = 'canc', metricName = 'areaUnderROC')\n",
    " \n",
    "best_model_results = cv_rf_results.bestModel.transform(test_df)\n",
    "    \n",
    "evaluator.evaluate(best_model_results)"
   ]
  },
  {
   "cell_type": "code",
   "execution_count": 25,
   "metadata": {
    "ExecuteTime": {
     "end_time": "2020-03-01T03:01:23.359069Z",
     "start_time": "2020-03-01T03:01:19.905831Z"
    }
   },
   "outputs": [
    {
     "name": "stdout",
     "output_type": "stream",
     "text": [
      "accuracy: 0.7653061224489796\n",
      "f1: 0.7547809052810739\n",
      "weightedPrecision: 0.7487244897959183\n",
      "weightedRecall: 0.7653061224489796\n"
     ]
    },
    {
     "data": {
      "text/plain": [
       "{'accuracy': 0.7653061224489796,\n",
       " 'f1': 0.7547809052810739,\n",
       " 'weightedPrecision': 0.7487244897959183,\n",
       " 'weightedRecall': 0.7653061224489796}"
      ]
     },
     "execution_count": 25,
     "metadata": {},
     "output_type": "execute_result"
    }
   ],
   "source": [
    "evaluate_multiclass_classifier(best_model_results, ('canc', 'prediction'))"
   ]
  },
  {
   "cell_type": "code",
   "execution_count": 252,
   "metadata": {
    "ExecuteTime": {
     "end_time": "2020-03-01T00:39:49.645897Z",
     "start_time": "2020-03-01T00:38:10.913242Z"
    }
   },
   "outputs": [
    {
     "name": "stdout",
     "output_type": "stream",
     "text": [
      "accuracy: 0.7959183673469388\n",
      "f1: 0.7674625405717843\n",
      "weightedPrecision: 0.7739108182457936\n",
      "weightedRecall: 0.7959183673469388\n"
     ]
    },
    {
     "data": {
      "text/plain": [
       "{'accuracy': 0.7959183673469388,\n",
       " 'f1': 0.7674625405717843,\n",
       " 'weightedPrecision': 0.7739108182457936,\n",
       " 'weightedRecall': 0.7959183673469388}"
      ]
     },
     "execution_count": 252,
     "metadata": {},
     "output_type": "execute_result"
    }
   ],
   "source": [
    "evaluate_multiclass_classifier(best_model_results, ('canc', 'prediction'))"
   ]
  },
  {
   "cell_type": "code",
   "execution_count": 237,
   "metadata": {
    "ExecuteTime": {
     "end_time": "2020-03-01T00:13:53.940084Z",
     "start_time": "2020-03-01T00:13:40.288881Z"
    }
   },
   "outputs": [
    {
     "name": "stdout",
     "output_type": "stream",
     "text": [
      "+------------------------------------------------------------------------------------------------------------------------------------------------------------------------------------------------------------------------------------------------------------------------------------------------------------------------------------------------------------------------------------------------------------------------------------------------------------------------------------------+----------+----+\n",
      "|features                                                                                                                                                                                                                                                                                                                                                                                                                                                                                  |prediction|canc|\n",
      "+------------------------------------------------------------------------------------------------------------------------------------------------------------------------------------------------------------------------------------------------------------------------------------------------------------------------------------------------------------------------------------------------------------------------------------------------------------------------------------------+----------+----+\n",
      "|[0.0,0.0,-0.21327529767154582,-1.0003297142059608,5.237473302426241,-0.32325824144531073,-1.2152185464429155,-0.3918953130431868,-0.8806187287933033,-0.47116950459202,-1.1486257125583865,-0.7309201040736006,-0.7587439091459671,0.28272594713412136,-0.5717496635871351,-0.4736961161870449,-0.6213112230668308,-0.6820891219093743,-0.775838354978953,-0.8288014271714531,-0.6829244100843936,-0.846618254269763,-0.8063835119707797,-0.733056477440134,-0.900106596721603]           |0.0       |1   |\n",
      "|[0.0,1.0,0.011104018212291329,-0.46770435077568834,0.3417804688060299,-0.04613660715460761,-0.12740896937770188,-0.043455382182442916,-0.48420209680818416,0.16263276256496914,0.8678505383774474,-0.5516543263238293,-0.6185151833943437,-0.28240078790797535,-0.42948754256860383,-0.4736961161870449,-0.6213112230668308,-0.7257826476590931,-0.645223053874345,-0.41449904484735417,-0.532861495269718,-0.6261859265994154,-0.5593479426224847,-0.5546473992797436,0.5079809506250629]|0.0       |1   |\n",
      "|[1.0,1.0,-0.2752467277727962,-0.16334700024410392,-0.7708769933803818,-0.2809572372851721,-0.12740896937770188,-0.2624747672949104,-0.2451943080557031,-0.34016691009857875,0.8678505383774474,-0.5982078422510955,-0.5624236930936944,-0.7961523652189724,-0.7140117846056664,-0.4736961161870449,0.5102988431528727,-0.6820891219093743,-0.775838354978953,-0.5387897595445839,-0.5192194121047475,-0.6261859265994154,-0.5593479426224847,-0.5913296396491696,-0.900106596721603]      |0.0       |1   |\n",
      "|[0.0,1.0,-1.203902345349167,-0.9459801873253209,-0.16686294247918684,-1.1765716590717559,-0.8267151260624821,-1.152774345739097,-1.1593991053205885,-0.5349100847636935,0.8678505383774474,-0.7184131893468724,-0.6746066736949932,-0.3851511033701748,-0.5717496635871351,-0.4736961161870449,-0.6213112230668308,-0.7257826476590931,-0.775838354978953,-0.7666560698228383,-0.6692823269194231,-0.47923104148585044,-0.6828657272966322,-0.7113806081309277,-0.900106596721603]        |0.0       |1   |\n",
      "|[0.0,0.0,-0.2773836736383564,-0.23943633787700008,2.4558296469602117,-0.4257916128460453,-1.2152185464429155,-0.37945102979816026,-0.9308344751617512,0.682937016287347,-1.1486257125583865,-0.7350890756491767,-0.7026524188453178,-0.23102563017687566,-0.5006186030778694,-0.4736961161870449,-0.6213112230668308,-0.8131696991585304,-0.775838354978953,-0.7873711889390432,-0.6419981605894821,-0.846618254269763,-0.8063835119707797,-0.7322227901590107,-0.900106596721603]        |0.0       |0   |\n",
      "|[0.0,1.0,-0.016018756235205562,0.11174522042867407,-0.24022497295301629,0.19503973282921197,0.5629317237598375,0.015894276370760765,1.0114728765400292,-0.7176877881163425,0.8678505383774474,0.5781369706572884,0.6435433483702665,0.693727208982919,0.7797404860889118,-0.4736961161870449,0.5102988431528727,-0.07037976141331274,0.13846875275330287,0.43482083891704876,0.5039368252680402,0.916840367093017,1.2934188274897287,0.5825020521724651,0.5079809506250629]               |0.0       |1   |\n",
      "|[0.0,1.0,0.6742941144206769,0.35091197134374547,-0.17234401372148445,0.732330525823574,0.37898514408369044,0.6697307817221833,0.8899566962297397,-0.570900317096909,0.8678505383774474,1.391086427894624,1.0642295256251366,1.0533533131006168,1.277657909653771,-0.4736961161870449,1.641908909372576,2.638618835069246,1.7058523660085987,1.3877163182624763,1.0769043181968012,1.1372726947633645,1.2934188274897287,1.3786734056452359,0.5079809506250629]                            |0.0       |0   |\n",
      "|[0.0,0.0,-0.23820633276975003,0.07760256892673364,1.0186470916360968,-0.34261706051728147,1.0510514057762796,-0.3110074719505141,-0.33201826551086083,-0.2883517042485669,-1.1486257125583865,-0.26469011620500904,-0.14173751583882432,1.2588539440250157,0.7797404860889118,-0.4736961161870449,-0.6213112230668308,-0.2888473901619062,-0.3839924516651291,-0.2902083301501245,-0.287303998300249,-0.11184382870193796,0.42879433477069584,-0.3003727785371309,0.5079809506250629]     |0.0       |0   |\n",
      "|[0.0,1.0,-1.0039452679288767,-0.6198830260414805,0.3695969053606901,-1.0503102777392035,0.14454342488860145,-1.0078873336720018,-1.1087672646944025,-0.5467918623740899,0.8678505383774474,-0.7385632186288235,-0.6746066736949932,-0.3851511033701748,-0.6428807240964007,-0.4736961161870449,-0.6213112230668308,-0.6383955961596557,-0.775838354978953,-0.8080863080552482,-0.6829244100843936,-0.699663369156198,-0.5593479426224847,-0.735557539283504,-0.900106596721603]           |0.0       |1   |\n",
      "|[1.0,1.0,1.0815929376580913,0.988042599408399,-0.8191621285318675,1.0844970027686998,0.8885641261832052,1.111280183837192,1.3925698309919465,-0.7019144418302652,0.8678505383774474,3.9279056316326684,3.8407582955072797,-0.5392765765634738,3.127065482894677,-0.4736961161870449,2.7735189755922796,4.2989728135585565,3.1426206781592865,3.6456643019288157,3.423342622571728,2.9007313161261443,4.257845659669271,3.976442973625501,0.5079809506250629]                              |0.0       |0   |\n",
      "+------------------------------------------------------------------------------------------------------------------------------------------------------------------------------------------------------------------------------------------------------------------------------------------------------------------------------------------------------------------------------------------------------------------------------------------------------------------------------------------+----------+----+\n",
      "only showing top 10 rows\n",
      "\n"
     ]
    }
   ],
   "source": [
    "best_model_results.select(['features', 'prediction', 'canc']).show(10, False)"
   ]
  },
  {
   "cell_type": "code",
   "execution_count": 204,
   "metadata": {
    "ExecuteTime": {
     "end_time": "2020-02-29T22:56:07.000157Z",
     "start_time": "2020-02-29T22:55:53.705530Z"
    }
   },
   "outputs": [
    {
     "name": "stdout",
     "output_type": "stream",
     "text": [
      "+--------------------+----------+----+\n",
      "|       rawPrediction|prediction|canc|\n",
      "+--------------------+----------+----+\n",
      "|[7.36601764248823...|       1.0|   1|\n",
      "|[17.0575710379575...|       0.0|   1|\n",
      "|[16.4893218608728...|       0.0|   1|\n",
      "|[16.3220158268161...|       0.0|   1|\n",
      "|[10.4271757825937...|       0.0|   0|\n",
      "|[13.8699023989112...|       0.0|   1|\n",
      "|[14.3856274927273...|       0.0|   0|\n",
      "|[16.2067887268884...|       0.0|   0|\n",
      "|[15.0503712183422...|       0.0|   1|\n",
      "|[18.0768931186343...|       0.0|   0|\n",
      "+--------------------+----------+----+\n",
      "only showing top 10 rows\n",
      "\n"
     ]
    }
   ],
   "source": [
    "best_model_results.select(['rawPrediction', 'prediction', 'canc']).show(10, False)"
   ]
  },
  {
   "cell_type": "code",
   "execution_count": 130,
   "metadata": {
    "ExecuteTime": {
     "end_time": "2020-02-29T21:06:14.995253Z",
     "start_time": "2020-02-29T21:05:57.745177Z"
    }
   },
   "outputs": [
    {
     "data": {
      "text/plain": [
       "24"
      ]
     },
     "execution_count": 130,
     "metadata": {},
     "output_type": "execute_result"
    }
   ],
   "source": [
    "test_df.filter('canc = 1').count()"
   ]
  },
  {
   "cell_type": "code",
   "execution_count": 131,
   "metadata": {
    "ExecuteTime": {
     "end_time": "2020-02-29T21:06:44.651611Z",
     "start_time": "2020-02-29T21:06:27.509694Z"
    }
   },
   "outputs": [
    {
     "data": {
      "text/plain": [
       "75"
      ]
     },
     "execution_count": 131,
     "metadata": {},
     "output_type": "execute_result"
    }
   ],
   "source": [
    "train_df.filter('canc = 1').count()"
   ]
  },
  {
   "cell_type": "code",
   "execution_count": 26,
   "metadata": {
    "ExecuteTime": {
     "end_time": "2020-03-01T03:01:53.168730Z",
     "start_time": "2020-03-01T03:01:52.310500Z"
    }
   },
   "outputs": [
    {
     "name": "stdout",
     "output_type": "stream",
     "text": [
      "+----+----------+-----------+\n",
      "|canc|prediction|count(canc)|\n",
      "+----+----------+-----------+\n",
      "|   1|       0.0|         14|\n",
      "|   1|       1.0|          9|\n",
      "+----+----------+-----------+\n",
      "\n"
     ]
    }
   ],
   "source": [
    "best_model_results.select(\"prediction\", \"canc\", \"features\").filter('canc = 1').groupby(['canc', 'prediction']).agg({'canc':'count'}).show(50)"
   ]
  },
  {
   "cell_type": "code",
   "execution_count": 269,
   "metadata": {
    "ExecuteTime": {
     "end_time": "2020-03-01T00:47:05.176261Z",
     "start_time": "2020-03-01T00:47:05.169056Z"
    }
   },
   "outputs": [
    {
     "data": {
      "text/plain": [
       "RandomForestClassificationModel (uid=RandomForestClassifier_18ab5d75a053) with 20 trees"
      ]
     },
     "execution_count": 269,
     "metadata": {},
     "output_type": "execute_result"
    }
   ],
   "source": [
    "cv_rf_results.bestModel.stages[-1]"
   ]
  },
  {
   "cell_type": "code",
   "execution_count": null,
   "metadata": {},
   "outputs": [],
   "source": []
  },
  {
   "cell_type": "markdown",
   "metadata": {},
   "source": [
    "# Final Steps\n",
    "Clean up your code, adding comments and renaming variables to make the code easier to read and maintain. Refer to the Spark Project Overview page and Data Scientist Capstone Project Rubric to make sure you are including all components of the capstone project and meet all expectations. Remember, this includes thorough documentation in a README file in a Github repository, as well as a web app or blog post."
   ]
  },
  {
   "cell_type": "code",
   "execution_count": null,
   "metadata": {},
   "outputs": [],
   "source": []
  }
 ],
 "metadata": {
  "kernelspec": {
   "display_name": "Python 3",
   "language": "python",
   "name": "python3"
  },
  "language_info": {
   "codemirror_mode": {
    "name": "ipython",
    "version": 3
   },
   "file_extension": ".py",
   "mimetype": "text/x-python",
   "name": "python",
   "nbconvert_exporter": "python",
   "pygments_lexer": "ipython3",
   "version": "3.7.4"
  }
 },
 "nbformat": 4,
 "nbformat_minor": 4
}
