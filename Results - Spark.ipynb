{
 "cells": [
  {
   "cell_type": "code",
   "execution_count": 22,
   "metadata": {
    "ExecuteTime": {
     "end_time": "2020-05-21T23:59:20.121187Z",
     "start_time": "2020-05-21T23:59:20.117096Z"
    }
   },
   "outputs": [],
   "source": [
    "import os\n",
    "import pandas as pd\n",
    "\n",
    "import re\n"
   ]
  },
  {
   "cell_type": "code",
   "execution_count": 21,
   "metadata": {
    "ExecuteTime": {
     "end_time": "2020-05-21T23:59:07.482891Z",
     "start_time": "2020-05-21T23:59:07.476596Z"
    }
   },
   "outputs": [
    {
     "data": {
      "text/plain": [
       "['spark_GBTClassificationModel.csv',\n",
       " 'spark_LogisticRegressionModel.csv',\n",
       " 'spark_DecisionTreeClassificationModel.csv',\n",
       " 'spark_RandomForestClassificationModel.csv']"
      ]
     },
     "execution_count": 21,
     "metadata": {},
     "output_type": "execute_result"
    }
   ],
   "source": [
    "is_resultfile = lambda filename: re.search(r'^spark_.*\\.csv$', filename) is not None\n",
    "files = list(filter(is_resultfile, os.listdir()))\n",
    "files"
   ]
  },
  {
   "cell_type": "code",
   "execution_count": 23,
   "metadata": {
    "ExecuteTime": {
     "end_time": "2020-05-21T23:59:34.742344Z",
     "start_time": "2020-05-21T23:59:34.716988Z"
    }
   },
   "outputs": [
    {
     "data": {
      "text/html": [
       "<div>\n",
       "<style scoped>\n",
       "    .dataframe tbody tr th:only-of-type {\n",
       "        vertical-align: middle;\n",
       "    }\n",
       "\n",
       "    .dataframe tbody tr th {\n",
       "        vertical-align: top;\n",
       "    }\n",
       "\n",
       "    .dataframe thead th {\n",
       "        text-align: right;\n",
       "    }\n",
       "</style>\n",
       "<table border=\"1\" class=\"dataframe\">\n",
       "  <thead>\n",
       "    <tr style=\"text-align: right;\">\n",
       "      <th></th>\n",
       "      <th>accuracy</th>\n",
       "      <th>precision</th>\n",
       "      <th>recall</th>\n",
       "      <th>auc</th>\n",
       "      <th>f1_macro</th>\n",
       "      <th>f1_micro</th>\n",
       "      <th>f1_weighted</th>\n",
       "      <th>binary</th>\n",
       "      <th>beta</th>\n",
       "      <th>tp</th>\n",
       "      <th>fn</th>\n",
       "      <th>fp</th>\n",
       "      <th>tn</th>\n",
       "      <th>y_test</th>\n",
       "      <th>y_predictions</th>\n",
       "      <th>model_name</th>\n",
       "      <th>hyperparameters</th>\n",
       "    </tr>\n",
       "  </thead>\n",
       "  <tbody>\n",
       "    <tr>\n",
       "      <th>0</th>\n",
       "      <td>0.899611</td>\n",
       "      <td>0.819457</td>\n",
       "      <td>0.685983</td>\n",
       "      <td>0.822194</td>\n",
       "      <td>0.842099</td>\n",
       "      <td>0.899611</td>\n",
       "      <td>0.896261</td>\n",
       "      <td>0.746803</td>\n",
       "      <td>0.709082</td>\n",
       "      <td>876</td>\n",
       "      <td>401</td>\n",
       "      <td>193</td>\n",
       "      <td>4447</td>\n",
       "      <td>[0, 0, 0, 0, 0, 0, 0, 0, 0, 0, 0, 0, 0, 0, 0, ...</td>\n",
       "      <td>[1, 0, 0, 0, 0, 0, 0, 0, 0, 0, 0, 0, 0, 0, 0, ...</td>\n",
       "      <td>GBTClassificationModel</td>\n",
       "      <td>[('cacheNodeIds', False), ('checkpointInterval...</td>\n",
       "    </tr>\n",
       "  </tbody>\n",
       "</table>\n",
       "</div>"
      ],
      "text/plain": [
       "   accuracy  precision    recall       auc  f1_macro  f1_micro  f1_weighted  \\\n",
       "0  0.899611   0.819457  0.685983  0.822194  0.842099  0.899611     0.896261   \n",
       "\n",
       "     binary      beta   tp   fn   fp    tn  \\\n",
       "0  0.746803  0.709082  876  401  193  4447   \n",
       "\n",
       "                                              y_test  \\\n",
       "0  [0, 0, 0, 0, 0, 0, 0, 0, 0, 0, 0, 0, 0, 0, 0, ...   \n",
       "\n",
       "                                       y_predictions              model_name  \\\n",
       "0  [1, 0, 0, 0, 0, 0, 0, 0, 0, 0, 0, 0, 0, 0, 0, ...  GBTClassificationModel   \n",
       "\n",
       "                                     hyperparameters  \n",
       "0  [('cacheNodeIds', False), ('checkpointInterval...  "
      ]
     },
     "execution_count": 23,
     "metadata": {},
     "output_type": "execute_result"
    }
   ],
   "source": [
    "pd.read_csv(files[0])"
   ]
  },
  {
   "cell_type": "code",
   "execution_count": null,
   "metadata": {},
   "outputs": [],
   "source": []
  }
 ],
 "metadata": {
  "kernelspec": {
   "display_name": "Python 3",
   "language": "python",
   "name": "python3"
  },
  "language_info": {
   "codemirror_mode": {
    "name": "ipython",
    "version": 3
   },
   "file_extension": ".py",
   "mimetype": "text/x-python",
   "name": "python",
   "nbconvert_exporter": "python",
   "pygments_lexer": "ipython3",
   "version": "3.7.4"
  }
 },
 "nbformat": 4,
 "nbformat_minor": 4
}
