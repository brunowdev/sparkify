{
 "cells": [
  {
   "cell_type": "code",
   "execution_count": 4,
   "metadata": {
    "ExecuteTime": {
     "end_time": "2020-03-01T19:13:46.043387Z",
     "start_time": "2020-03-01T19:13:46.036511Z"
    }
   },
   "outputs": [
    {
     "data": {
      "text/html": [
       "<style>.container { width:100% !important; }</style>"
      ],
      "text/plain": [
       "<IPython.core.display.HTML object>"
      ]
     },
     "metadata": {},
     "output_type": "display_data"
    }
   ],
   "source": [
    "import jupyter_utils as j\n",
    "\n",
    "j.reload(j)"
   ]
  },
  {
   "cell_type": "code",
   "execution_count": 179,
   "metadata": {
    "ExecuteTime": {
     "end_time": "2020-03-01T20:53:59.062640Z",
     "start_time": "2020-03-01T20:53:59.053039Z"
    }
   },
   "outputs": [],
   "source": [
    "import pandas as pd\n",
    "import numpy as np\n",
    "\n",
    "from sklearn.ensemble import RandomForestClassifier\n",
    "from sklearn.linear_model import LogisticRegression\n",
    "\n",
    "from sklearn.model_selection import train_test_split as split\n",
    "from sklearn import metrics\n",
    "\n",
    "from sklearn.metrics import f1_score\n",
    "from sklearn.metrics import roc_auc_score, roc_curve, auc, classification_report\n",
    "from sklearn.metrics import confusion_matrix, accuracy_score, average_precision_score\n",
    "\n",
    "from matplotlib import pyplot as plt\n",
    "\n",
    "import matplotlib\n",
    "\n",
    "matplotlib.style.use('ggplot')\n",
    "\n",
    "%matplotlib inline"
   ]
  },
  {
   "cell_type": "code",
   "execution_count": 38,
   "metadata": {
    "ExecuteTime": {
     "end_time": "2020-03-01T19:28:40.283970Z",
     "start_time": "2020-03-01T19:28:40.281493Z"
    }
   },
   "outputs": [],
   "source": [
    "j.apply_options(pd)"
   ]
  },
  {
   "cell_type": "code",
   "execution_count": 220,
   "metadata": {
    "ExecuteTime": {
     "end_time": "2020-03-01T21:31:14.864021Z",
     "start_time": "2020-03-01T21:31:14.840408Z"
    }
   },
   "outputs": [],
   "source": [
    "data = pd.read_csv('sparkify_data.csv')\n",
    "data = data.drop(['userId'] ,axis = 1)"
   ]
  },
  {
   "cell_type": "code",
   "execution_count": 221,
   "metadata": {
    "ExecuteTime": {
     "end_time": "2020-03-01T21:31:16.740757Z",
     "start_time": "2020-03-01T21:31:16.707933Z"
    }
   },
   "outputs": [
    {
     "data": {
      "text/html": [
       "<div>\n",
       "<style scoped>\n",
       "    .dataframe tbody tr th:only-of-type {\n",
       "        vertical-align: middle;\n",
       "    }\n",
       "\n",
       "    .dataframe tbody tr th {\n",
       "        vertical-align: top;\n",
       "    }\n",
       "\n",
       "    .dataframe thead th {\n",
       "        text-align: right;\n",
       "    }\n",
       "</style>\n",
       "<table border=\"1\" class=\"dataframe\">\n",
       "  <thead>\n",
       "    <tr style=\"text-align: right;\">\n",
       "      <th></th>\n",
       "      <th>male</th>\n",
       "      <th>paid</th>\n",
       "      <th>canc</th>\n",
       "      <th>a_acti</th>\n",
       "      <th>a_adde</th>\n",
       "      <th>a_ads</th>\n",
       "      <th>a_disl</th>\n",
       "      <th>a_erro</th>\n",
       "      <th>a_frie</th>\n",
       "      <th>a_help</th>\n",
       "      <th>a_home</th>\n",
       "      <th>a_like</th>\n",
       "      <th>a_play</th>\n",
       "      <th>a_sett</th>\n",
       "      <th>a_song</th>\n",
       "      <th>a_stim</th>\n",
       "      <th>a_tiaw</th>\n",
       "      <th>n_acti</th>\n",
       "      <th>n_adde</th>\n",
       "      <th>n_ads</th>\n",
       "      <th>n_disl</th>\n",
       "      <th>n_down</th>\n",
       "      <th>n_erro</th>\n",
       "      <th>n_frie</th>\n",
       "      <th>n_help</th>\n",
       "      <th>n_home</th>\n",
       "      <th>n_like</th>\n",
       "      <th>n_sess</th>\n",
       "      <th>n_sett</th>\n",
       "      <th>n_song</th>\n",
       "      <th>n_upgr</th>\n",
       "    </tr>\n",
       "  </thead>\n",
       "  <tbody>\n",
       "    <tr>\n",
       "      <th>0</th>\n",
       "      <td>0</td>\n",
       "      <td>0</td>\n",
       "      <td>1</td>\n",
       "      <td>68.500000</td>\n",
       "      <td>0.500000</td>\n",
       "      <td>11.000000</td>\n",
       "      <td>1.500000</td>\n",
       "      <td>0.0</td>\n",
       "      <td>1.500000</td>\n",
       "      <td>0.000000</td>\n",
       "      <td>1.500000</td>\n",
       "      <td>2.0</td>\n",
       "      <td>3.593188</td>\n",
       "      <td>0.000000</td>\n",
       "      <td>48.000000</td>\n",
       "      <td>3.507733</td>\n",
       "      <td>73.035000</td>\n",
       "      <td>137</td>\n",
       "      <td>1</td>\n",
       "      <td>22</td>\n",
       "      <td>3</td>\n",
       "      <td>0</td>\n",
       "      <td>0</td>\n",
       "      <td>3</td>\n",
       "      <td>0</td>\n",
       "      <td>3</td>\n",
       "      <td>4</td>\n",
       "      <td>2</td>\n",
       "      <td>0</td>\n",
       "      <td>96</td>\n",
       "      <td>0</td>\n",
       "    </tr>\n",
       "    <tr>\n",
       "      <th>1</th>\n",
       "      <td>1</td>\n",
       "      <td>0</td>\n",
       "      <td>1</td>\n",
       "      <td>79.000000</td>\n",
       "      <td>1.200000</td>\n",
       "      <td>2.200000</td>\n",
       "      <td>1.000000</td>\n",
       "      <td>0.0</td>\n",
       "      <td>0.400000</td>\n",
       "      <td>0.200000</td>\n",
       "      <td>4.600000</td>\n",
       "      <td>3.0</td>\n",
       "      <td>4.371990</td>\n",
       "      <td>0.400000</td>\n",
       "      <td>62.000000</td>\n",
       "      <td>5.758219</td>\n",
       "      <td>175.430139</td>\n",
       "      <td>395</td>\n",
       "      <td>6</td>\n",
       "      <td>11</td>\n",
       "      <td>5</td>\n",
       "      <td>0</td>\n",
       "      <td>0</td>\n",
       "      <td>2</td>\n",
       "      <td>1</td>\n",
       "      <td>23</td>\n",
       "      <td>15</td>\n",
       "      <td>5</td>\n",
       "      <td>2</td>\n",
       "      <td>310</td>\n",
       "      <td>1</td>\n",
       "    </tr>\n",
       "    <tr>\n",
       "      <th>2</th>\n",
       "      <td>0</td>\n",
       "      <td>1</td>\n",
       "      <td>1</td>\n",
       "      <td>30.400000</td>\n",
       "      <td>0.600000</td>\n",
       "      <td>1.800000</td>\n",
       "      <td>0.000000</td>\n",
       "      <td>0.0</td>\n",
       "      <td>0.400000</td>\n",
       "      <td>0.400000</td>\n",
       "      <td>1.400000</td>\n",
       "      <td>1.6</td>\n",
       "      <td>1.573008</td>\n",
       "      <td>0.200000</td>\n",
       "      <td>22.400000</td>\n",
       "      <td>2.761294</td>\n",
       "      <td>50.922292</td>\n",
       "      <td>152</td>\n",
       "      <td>3</td>\n",
       "      <td>9</td>\n",
       "      <td>0</td>\n",
       "      <td>0</td>\n",
       "      <td>0</td>\n",
       "      <td>2</td>\n",
       "      <td>2</td>\n",
       "      <td>7</td>\n",
       "      <td>8</td>\n",
       "      <td>5</td>\n",
       "      <td>1</td>\n",
       "      <td>112</td>\n",
       "      <td>1</td>\n",
       "    </tr>\n",
       "    <tr>\n",
       "      <th>3</th>\n",
       "      <td>1</td>\n",
       "      <td>0</td>\n",
       "      <td>0</td>\n",
       "      <td>28.000000</td>\n",
       "      <td>0.666667</td>\n",
       "      <td>2.000000</td>\n",
       "      <td>0.333333</td>\n",
       "      <td>0.0</td>\n",
       "      <td>1.000000</td>\n",
       "      <td>0.666667</td>\n",
       "      <td>0.666667</td>\n",
       "      <td>1.0</td>\n",
       "      <td>1.464238</td>\n",
       "      <td>1.000000</td>\n",
       "      <td>20.666667</td>\n",
       "      <td>2.938208</td>\n",
       "      <td>526.337917</td>\n",
       "      <td>84</td>\n",
       "      <td>2</td>\n",
       "      <td>6</td>\n",
       "      <td>1</td>\n",
       "      <td>0</td>\n",
       "      <td>0</td>\n",
       "      <td>3</td>\n",
       "      <td>2</td>\n",
       "      <td>2</td>\n",
       "      <td>3</td>\n",
       "      <td>3</td>\n",
       "      <td>3</td>\n",
       "      <td>62</td>\n",
       "      <td>0</td>\n",
       "    </tr>\n",
       "    <tr>\n",
       "      <th>4</th>\n",
       "      <td>0</td>\n",
       "      <td>1</td>\n",
       "      <td>1</td>\n",
       "      <td>126.823529</td>\n",
       "      <td>2.647059</td>\n",
       "      <td>0.058824</td>\n",
       "      <td>0.882353</td>\n",
       "      <td>0.0</td>\n",
       "      <td>1.529412</td>\n",
       "      <td>0.588235</td>\n",
       "      <td>4.117647</td>\n",
       "      <td>6.0</td>\n",
       "      <td>7.928195</td>\n",
       "      <td>0.882353</td>\n",
       "      <td>107.411765</td>\n",
       "      <td>14.717388</td>\n",
       "      <td>67.978194</td>\n",
       "      <td>2156</td>\n",
       "      <td>45</td>\n",
       "      <td>1</td>\n",
       "      <td>15</td>\n",
       "      <td>0</td>\n",
       "      <td>0</td>\n",
       "      <td>26</td>\n",
       "      <td>10</td>\n",
       "      <td>70</td>\n",
       "      <td>102</td>\n",
       "      <td>17</td>\n",
       "      <td>15</td>\n",
       "      <td>1826</td>\n",
       "      <td>0</td>\n",
       "    </tr>\n",
       "  </tbody>\n",
       "</table>\n",
       "</div>"
      ],
      "text/plain": [
       "   male  paid  canc      a_acti    a_adde      a_ads    a_disl  a_erro    a_frie    a_help    a_home  a_like    a_play    a_sett      a_song     a_stim      a_tiaw  n_acti  n_adde  n_ads  n_disl  n_down  n_erro  n_frie  n_help  n_home  n_like  n_sess  n_sett  n_song  n_upgr\n",
       "0     0     0     1   68.500000  0.500000  11.000000  1.500000     0.0  1.500000  0.000000  1.500000     2.0  3.593188  0.000000   48.000000   3.507733   73.035000     137       1     22       3       0       0       3       0       3       4       2       0      96       0\n",
       "1     1     0     1   79.000000  1.200000   2.200000  1.000000     0.0  0.400000  0.200000  4.600000     3.0  4.371990  0.400000   62.000000   5.758219  175.430139     395       6     11       5       0       0       2       1      23      15       5       2     310       1\n",
       "2     0     1     1   30.400000  0.600000   1.800000  0.000000     0.0  0.400000  0.400000  1.400000     1.6  1.573008  0.200000   22.400000   2.761294   50.922292     152       3      9       0       0       0       2       2       7       8       5       1     112       1\n",
       "3     1     0     0   28.000000  0.666667   2.000000  0.333333     0.0  1.000000  0.666667  0.666667     1.0  1.464238  1.000000   20.666667   2.938208  526.337917      84       2      6       1       0       0       3       2       2       3       3       3      62       0\n",
       "4     0     1     1  126.823529  2.647059   0.058824  0.882353     0.0  1.529412  0.588235  4.117647     6.0  7.928195  0.882353  107.411765  14.717388   67.978194    2156      45      1      15       0       0      26      10      70     102      17      15    1826       0"
      ]
     },
     "execution_count": 221,
     "metadata": {},
     "output_type": "execute_result"
    }
   ],
   "source": [
    "data.head(5)"
   ]
  },
  {
   "cell_type": "code",
   "execution_count": 256,
   "metadata": {
    "ExecuteTime": {
     "end_time": "2020-03-01T21:54:11.262236Z",
     "start_time": "2020-03-01T21:54:11.183891Z"
    }
   },
   "outputs": [],
   "source": [
    "def plot_roc_curve(y_test, y_predictions, model):\n",
    "    \n",
    "    fp, tp, _ = roc_curve(y_test, y_predictions)\n",
    "    auc = roc_auc_score(y_test, y_predictions)\n",
    "    \n",
    "    plt.figure()\n",
    "    plt.plot([0, 1], [0, 1], 'k--')\n",
    "    plt.plot(fp, tp, color = 'darkorange', label = model.__class__.__name__)\n",
    "    \n",
    "    plt.xlabel('False positive rate')\n",
    "    plt.ylabel('True positive rate')\n",
    "    plt.title(f'ROC curve (area = {np.around(auc, 4)})')\n",
    "    plt.legend(loc = 'best')\n",
    "    plt.show()\n",
    "    \n",
    "def plot_metrics(y_test, y_predictions):\n",
    "    \n",
    "    auc = roc_auc_score(y_test, y_predictions)\n",
    "    cm = confusion_matrix(y_test, y_predictions)\n",
    "    \n",
    "    tn = cm[0, 0]\n",
    "    tp = cm[1, 1]\n",
    "    fn = cm[1, 0]\n",
    "    fp = cm[0, 1]\n",
    "    \n",
    "    total = np.sum(cm) # tn + tp + fn + fp\n",
    "    accuracy = (tp + tn) / total\n",
    "    precision = (tp) / (tp + fp)\n",
    "    recall = (tp) / (tp + fn) \n",
    "    \n",
    "    print(cm)\n",
    "    print('')\n",
    "    print('accuracy.................%7.4f' % accuracy)\n",
    "    print('precision................%7.4f' % precision)\n",
    "    print('recall...................%7.4f' % recall)\n",
    "    print('auc......................%7.4f' % auc)\n",
    "    print('F1 macro.................%7.4f' % f1_score(y_test, y_predictions, average = 'macro'))\n",
    "    print('F1 micro.................%7.4f' % f1_score(y_test, y_predictions, average = 'micro'))\n",
    "    print('F1 weighted..............%7.4f' % f1_score(y_test, y_predictions, average = 'weighted'))\n",
    "    # f1 = (2 * tp ) / (2 * tp + fp + fn) - f1_score with average 'binary'\n",
    "    print('F1 binary................%7.4f' % f1_score(y_test, y_predictions, average = 'binary'))\n",
    "    \n",
    "def train_model(df, label, classifier): \n",
    "\n",
    "    x = df.drop([label], axis = 1)\n",
    "    y = df[label]\n",
    "\n",
    "    X_train, X_test, y_train, y_test = split(x, y, test_size = .3, random_state = 42)\n",
    "    \n",
    "    model = classifier.fit(X_train, y_train)\n",
    "    \n",
    "    y_predicted = model.predict(X_test)\n",
    "    \n",
    "    plot_roc_curve(y_test, y_predicted, model)\n",
    "    \n",
    "    plot_metrics(y_test, y_predicted)\n",
    "    \n",
    "    return model\n",
    "\n",
    "def train_random_forest(df, label):\n",
    "    \n",
    "    cl = RandomForestClassifier(n_estimators = 100, n_jobs = -1, class_weight = 'balanced', criterion = 'gini', random_state = 42)\n",
    "    return train_model(df, label, cl)\n",
    "\n",
    "def train_logistic_regression(df, label):\n",
    "    \n",
    "    lr = LogisticRegression(solver = 'lbfgs', n_jobs = -1, class_weight = 'balanced', random_state = 42)\n",
    "    return train_model(df, label, lr)"
   ]
  },
  {
   "cell_type": "code",
   "execution_count": 244,
   "metadata": {
    "ExecuteTime": {
     "end_time": "2020-03-01T21:43:11.123683Z",
     "start_time": "2020-03-01T21:43:11.101776Z"
    }
   },
   "outputs": [],
   "source": [
    "from sklearn.preprocessing import Normalizer, RobustScaler, StandardScaler\n",
    "\n",
    "# Filter average or absolute columns\n",
    "features_to_normalize = list(filter(lambda column_name: '_' in column_name, data.columns))\n",
    "\n",
    "_x = data.copy()\n",
    "_x[features_to_normalize] = Normalizer().fit_transform(_x[features_to_normalize])\n",
    "_x = _x.drop(list(filter(lambda column_name: 'n_' in column_name, _x.columns)), axis = 1)"
   ]
  },
  {
   "cell_type": "code",
   "execution_count": 257,
   "metadata": {
    "ExecuteTime": {
     "end_time": "2020-03-01T21:54:16.825447Z",
     "start_time": "2020-03-01T21:54:16.247584Z"
    }
   },
   "outputs": [
    {
     "data": {
      "image/png": "[encoded data removed]",
      "text/plain": [
       "<Figure size 432x288 with 1 Axes>"
      ]
     },
     "metadata": {
      "needs_background": "light"
     },
     "output_type": "display_data"
    },
    {
     "name": "stdout",
     "output_type": "stream",
     "text": [
      "[[101   3]\n",
      " [ 24   7]]\n",
      "\n",
      "accuracy................. 0.8000\n",
      "precision................ 0.7000\n",
      "recall................... 0.2258\n",
      "auc...................... 0.5985\n",
      "F1 macro................. 0.6118\n",
      "F1 micro................. 0.8000\n",
      "F1 weighted.............. 0.7580\n",
      "F1 binary................ 0.3415\n"
     ]
    }
   ],
   "source": [
    "model = train_random_forest(_x, 'canc')"
   ]
  },
  {
   "cell_type": "code",
   "execution_count": 178,
   "metadata": {
    "ExecuteTime": {
     "end_time": "2020-03-01T20:36:46.183125Z",
     "start_time": "2020-03-01T20:36:46.068614Z"
    }
   },
   "outputs": [
    {
     "data": {
      "text/html": [
       "<div>\n",
       "<style scoped>\n",
       "    .dataframe tbody tr th:only-of-type {\n",
       "        vertical-align: middle;\n",
       "    }\n",
       "\n",
       "    .dataframe tbody tr th {\n",
       "        vertical-align: top;\n",
       "    }\n",
       "\n",
       "    .dataframe thead th {\n",
       "        text-align: right;\n",
       "    }\n",
       "</style>\n",
       "<table border=\"1\" class=\"dataframe\">\n",
       "  <thead>\n",
       "    <tr style=\"text-align: right;\">\n",
       "      <th></th>\n",
       "      <th>feature</th>\n",
       "      <th>importance</th>\n",
       "    </tr>\n",
       "  </thead>\n",
       "  <tbody>\n",
       "    <tr>\n",
       "      <th>15</th>\n",
       "      <td>a_tiaw</td>\n",
       "      <td>0.226655</td>\n",
       "    </tr>\n",
       "    <tr>\n",
       "      <th>4</th>\n",
       "      <td>a_ads</td>\n",
       "      <td>0.091113</td>\n",
       "    </tr>\n",
       "    <tr>\n",
       "      <th>7</th>\n",
       "      <td>a_frie</td>\n",
       "      <td>0.074206</td>\n",
       "    </tr>\n",
       "    <tr>\n",
       "      <th>12</th>\n",
       "      <td>a_sett</td>\n",
       "      <td>0.070699</td>\n",
       "    </tr>\n",
       "    <tr>\n",
       "      <th>14</th>\n",
       "      <td>a_stim</td>\n",
       "      <td>0.062887</td>\n",
       "    </tr>\n",
       "    <tr>\n",
       "      <th>2</th>\n",
       "      <td>a_acti</td>\n",
       "      <td>0.059257</td>\n",
       "    </tr>\n",
       "    <tr>\n",
       "      <th>9</th>\n",
       "      <td>a_home</td>\n",
       "      <td>0.058633</td>\n",
       "    </tr>\n",
       "    <tr>\n",
       "      <th>13</th>\n",
       "      <td>a_song</td>\n",
       "      <td>0.058118</td>\n",
       "    </tr>\n",
       "    <tr>\n",
       "      <th>10</th>\n",
       "      <td>a_like</td>\n",
       "      <td>0.053512</td>\n",
       "    </tr>\n",
       "    <tr>\n",
       "      <th>11</th>\n",
       "      <td>a_play</td>\n",
       "      <td>0.053166</td>\n",
       "    </tr>\n",
       "    <tr>\n",
       "      <th>8</th>\n",
       "      <td>a_help</td>\n",
       "      <td>0.048008</td>\n",
       "    </tr>\n",
       "    <tr>\n",
       "      <th>3</th>\n",
       "      <td>a_adde</td>\n",
       "      <td>0.046336</td>\n",
       "    </tr>\n",
       "    <tr>\n",
       "      <th>5</th>\n",
       "      <td>a_disl</td>\n",
       "      <td>0.040714</td>\n",
       "    </tr>\n",
       "    <tr>\n",
       "      <th>6</th>\n",
       "      <td>a_erro</td>\n",
       "      <td>0.035723</td>\n",
       "    </tr>\n",
       "    <tr>\n",
       "      <th>0</th>\n",
       "      <td>male</td>\n",
       "      <td>0.011990</td>\n",
       "    </tr>\n",
       "    <tr>\n",
       "      <th>1</th>\n",
       "      <td>paid</td>\n",
       "      <td>0.008982</td>\n",
       "    </tr>\n",
       "  </tbody>\n",
       "</table>\n",
       "</div>"
      ],
      "text/plain": [
       "   feature  importance\n",
       "15  a_tiaw    0.226655\n",
       "4    a_ads    0.091113\n",
       "7   a_frie    0.074206\n",
       "12  a_sett    0.070699\n",
       "14  a_stim    0.062887\n",
       "2   a_acti    0.059257\n",
       "9   a_home    0.058633\n",
       "13  a_song    0.058118\n",
       "10  a_like    0.053512\n",
       "11  a_play    0.053166\n",
       "8   a_help    0.048008\n",
       "3   a_adde    0.046336\n",
       "5   a_disl    0.040714\n",
       "6   a_erro    0.035723\n",
       "0     male    0.011990\n",
       "1     paid    0.008982"
      ]
     },
     "execution_count": 178,
     "metadata": {},
     "output_type": "execute_result"
    }
   ],
   "source": [
    "importances = pd.Series(model.feature_importances_, index = average_columns).to_frame().reset_index()\n",
    "importances.columns = ['feature', 'importance']\n",
    "importances.sort_values(by = 'importance', ascending = False)"
   ]
  },
  {
   "cell_type": "code",
   "execution_count": 258,
   "metadata": {
    "ExecuteTime": {
     "end_time": "2020-03-01T21:54:25.312790Z",
     "start_time": "2020-03-01T21:54:24.289525Z"
    }
   },
   "outputs": [
    {
     "data": {
      "image/png": "[encoded data removed]",
      "text/plain": [
       "<Figure size 432x288 with 1 Axes>"
      ]
     },
     "metadata": {
      "needs_background": "light"
     },
     "output_type": "display_data"
    },
    {
     "name": "stdout",
     "output_type": "stream",
     "text": [
      "[[42 62]\n",
      " [ 8 23]]\n",
      "\n",
      "accuracy................. 0.4815\n",
      "precision................ 0.2706\n",
      "recall................... 0.7419\n",
      "auc...................... 0.5729\n",
      "F1 macro................. 0.4710\n",
      "F1 micro................. 0.4815\n",
      "F1 weighted.............. 0.5113\n",
      "F1 binary................ 0.3966\n"
     ]
    }
   ],
   "source": [
    "model = train_logistic_regression(_x, 'canc')"
   ]
  }
 ],
 "metadata": {
  "kernelspec": {
   "display_name": "Python 3",
   "language": "python",
   "name": "python3"
  },
  "language_info": {
   "codemirror_mode": {
    "name": "ipython",
    "version": 3
   },
   "file_extension": ".py",
   "mimetype": "text/x-python",
   "name": "python",
   "nbconvert_exporter": "python",
   "pygments_lexer": "ipython3",
   "version": "3.7.4"
  }
 },
 "nbformat": 4,
 "nbformat_minor": 4
}
